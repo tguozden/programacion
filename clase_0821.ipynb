{
 "cells": [
  {
   "cell_type": "code",
   "execution_count": 5,
   "id": "fa80a201-e005-4237-9f88-cf764c4bf6e3",
   "metadata": {},
   "outputs": [
    {
     "data": {
      "text/plain": [
       "'/home/atom/Documents/IntroCom/Practicas'"
      ]
     },
     "execution_count": 5,
     "metadata": {},
     "output_type": "execute_result"
    }
   ],
   "source": [
    "## repaso archivos csv\n",
    "import os\n",
    "os.getcwd()"
   ]
  },
  {
   "cell_type": "code",
   "execution_count": 7,
   "id": "c661809d-d220-4c6b-a0af-32bebf8fbcae",
   "metadata": {},
   "outputs": [],
   "source": [
    "xx = os.listdir()"
   ]
  },
  {
   "cell_type": "code",
   "execution_count": 8,
   "id": "e5745751-08bf-432a-9213-50c002e1ff5e",
   "metadata": {},
   "outputs": [
    {
     "data": {
      "text/plain": [
       "list"
      ]
     },
     "execution_count": 8,
     "metadata": {},
     "output_type": "execute_result"
    }
   ],
   "source": [
    "type(xx)"
   ]
  },
  {
   "cell_type": "code",
   "execution_count": 12,
   "id": "238f0c33-fd7d-4087-b80b-471ad5b310a3",
   "metadata": {
    "collapsed": true,
    "jupyter": {
     "outputs_hidden": true
    }
   },
   "outputs": [
    {
     "name": "stdout",
     "output_type": "stream",
     "text": [
      "24, \t13, \t13, \t21, \t20, \t18, \t20, \t21, \t14, \t12, \t\n",
      "\n",
      "20, \t30, \t12, \t19, \t20, \t16, \t20, \t20, \t21, \t30, \t\n",
      "\n",
      "11, \t15, \t28, \t27, \t15, \t20, \t10, \t24, \t21, \t14, \t\n",
      "\n",
      "18, \t19, \t20, \t18, \t17, \t27, \t14, \t13, \t29, \t15, \t\n",
      "\n",
      "25, \t21, \t19, \t25, \t12, \t16, \t18, \t2, \t21, \t21, \t\n",
      "\n",
      "20, \t13, \t21, \t13, \t16, \t17, \t10, \t17, \t32, \t7, \t\n",
      "\n",
      "20, \t10, \t8, \t19, \t14, \t24, \t21, \t13, \t28, \t19, \t\n",
      "\n",
      "22, \t27, \t5, \t30, \t21, \t23, \t16, \t19, \t13, \t31, \t\n",
      "\n",
      "29, \t4, \t17, \t15, \t11, \t22, \t30, \t26, \t19, \t10, \t\n",
      "\n",
      "14, \t23, \t8, \t18, \t16, \t3, \t19, \t12, \t22, \t14, \t\n",
      "\n",
      "14, \t15, \t14, \t32, \t21, \t21, \t13, \t23, \t8, \t21, \t\n",
      "\n",
      "24, \t21, \t22, \t19, \t7, \t31, \t24, \t19, \t24, \t16, \t\n",
      "\n",
      "21, \t25, \t23, \t24, \t32, \t18, \t20, \t21, \t19, \t24, \t\n",
      "\n",
      "18, \t22, \t12, \t21, \t18, \t22, \t22, \t22, \t22, \t15, \t\n",
      "\n",
      "11, \t7, \t19, \t27, \t15, \t26, \t15, \t22, \t18, \t24, \t\n",
      "\n",
      "20, \t25, \t11, \t16, \t16, \t5, \t22, \t18, \t22, \t19, \t\n",
      "\n",
      "6, \t28, \t22, \t19, \t23, \t14, \t14, \t23, \t34, \t21, \t\n",
      "\n",
      "10, \t10, \t21, \t14, \t34, \t34, \t9, \t14, \t15, \t4, \t\n",
      "\n",
      "17, \t24, \t12, \t26, \t18, \t23, \t27, \t19, \t18, \t15, \t\n",
      "\n",
      "12, \t21, \t23, \t23, \t19, \t15, \t22, \t9, \t36, \t15, \t\n",
      "\n",
      "14, \t12, \t26, \t29, \t32, \t15, \t11, \t26, \t25, \t14, \t\n",
      "\n",
      "12, \t33, \t15, \t12, \t24, \t20, \t27, \t26, \t1, \t16, \t\n",
      "\n",
      "17, \t19, \t24, \t21, \t22, \t28, \t27, \t22, \t28, \t31, \t\n",
      "\n",
      "14, \t22, \t20, \t17, \t6, \t21, \t23, \t22, \t21, \t19, \t\n",
      "\n",
      "14, \t31, \t29, \t11, \t22, \t19, \t12, \t20, \t24, \t13, \t\n",
      "\n",
      "32, \t23, \t30, \t27, \t12, \t19, \t18, \t21, \t23, \t16, \t\n",
      "\n",
      "18, \t4, \t28, \t26, \t17, \t16, \t24, \t19, \t17, \t17, \t\n",
      "\n",
      "19, \t31, \t17, \t17, \t19, \t24, \t11, \t13, \t12, \t12, \t\n",
      "\n",
      "25, \t24, \t7, \t11, \t13, \t21, \t8, \t22, \t28, \t29, \t\n",
      "\n",
      "23, \t18, \t23, \t13, \t16, \t19, \t23, \t9, \t20, \t27, \t\n",
      "\n",
      "17, \t27, \t16, \t15, \t2, \t29, \t9, \t19, \t17, \t16, \t\n",
      "\n",
      "22, \t26, \t16, \t10, \t24, \t25, \t18, \t30, \t15, \t27, \t\n",
      "\n",
      "17, \t18, \t16, \t24, \t15, \t19, \t26, \t20, \t19, \t10, \t\n",
      "\n",
      "12, \t13, \t27, \t22, \t33, \t18, \t24, \t21, \t25, \t18, \t\n",
      "\n",
      "29, \t27, \t15, \t12, \t14, \t17, \t29, \t9, \t26, \t17, \t\n",
      "\n",
      "29, \t29, \t4, \t21, \t24, \t10, \t22, \t17, \t7, \t17, \t\n",
      "\n",
      "34, \t22, \t18, \t17, \t19, \t25, \t24, \t5, \t32, \t21, \t\n",
      "\n",
      "17, \t25, \t19, \t31, \t10, \t23, \t18, \t22, \t22, \t26, \t\n",
      "\n",
      "13, \t23, \t29, \t17, \t25, \t5, \t24, \t38, \t29, \t28, \t\n",
      "\n",
      "24, \t29, \t24, \t17, \t16, \t25, \t14, \t21, \t32, \t33, \t\n",
      "\n",
      "19, \t24, \t22, \t14, \t23, \t24, \t9, \t23, \t12, \t25, \t\n",
      "\n",
      "24, \t13, \t25, \t22, \t11, \t5, \t22, \t9, \t14, \t19, \t\n",
      "\n",
      "34, \t20, \t26, \t23, \t21, \t13, \t29, \t24, \t13, \t24, \t\n",
      "\n",
      "23, \t18, \t12, \t18, \t24, \t21, \t27, \t17, \t21, \t16, \t\n",
      "\n",
      "23, \t12, \t11, \t15, \t20, \t21, \t21, \t21, \t25, \t21, \t\n",
      "\n",
      "18, \t14, \t18, \t27, \t19, \t17, \t29, \t31, \t18, \t25, \t\n",
      "\n",
      "15, \t24, \t4, \t24, \t9, \t17, \t18, \t10, \t23, \t27, \t\n",
      "\n",
      "12, \t26, \t16, \t19, \t18, \t19, \t13, \t10, \t12, \t16, \t\n",
      "\n",
      "24, \t17, \t19, \t10, \t14, \t26, \t24, \t27, \t22, \t8, \t\n",
      "\n",
      "17, \t28, \t25, \t15, \t12, \t11, \t19, \t14, \t23, \t18, \t\n",
      "\n",
      "22, \t12, \t34, \t26, \t15, \t18, \t24, \t6, \t21, \t15, \t\n",
      "\n",
      "16, \t16, \t22, \t35, \t25, \t24, \t14, \t25, \t9, \t19, \t\n",
      "\n",
      "21, \t11, \t33, \t19, \t11, \t18, \t25, \t24, \t20, \t11, \t\n",
      "\n",
      "21, \t31, \t25, \t11, \t13, \t23, \t15, \t24, \t16, \t28, \t\n",
      "\n",
      "31, \t21, \t10, \t22, \t7, \t14, \t38, \t22, \t13, \t33, \t\n",
      "\n",
      "23, \t29, \t22, \t23, \t17, \t32, \t21, \t10, \t7, \t12, \t\n",
      "\n",
      "15, \t17, \t27, \t16, \t19, \t28, \t27, \t5, \t19, \t14, \t\n",
      "\n",
      "13, \t14, \t26, \t22, \t23, \t23, \t17, \t19, \t26, \t21, \t\n",
      "\n",
      "13, \t16, \t15, \t33, \t32, \t25, \t29, \t26, \t17, \t27, \t\n",
      "\n",
      "24, \t13, \t24, \t18, \t26, \t24, \t18, \t22, \t28, \t22, \t\n",
      "\n",
      "20, \t17, \t25, \t17, \t17, \t23, \t13, \t10, \t17, \t23, \t\n",
      "\n",
      "29, \t20, \t20, \t27, \t18, \t25, \t13, \t23, \t13, \t8, \t\n",
      "\n",
      "14, \t13, \t20, \t23, \t27, \t25, \t17, \t26, \t25, \t15, \t\n",
      "\n",
      "11, \t22, \t23, \t35, \t18, \t20, \t16, \t17, \t5, \t31, \t\n",
      "\n",
      "11, \t23, \t17, \t16, \t10, \t16, \t17, \t22, \t24, \t23, \t\n",
      "\n",
      "23, \t18, \t25, \t23, \t19, \t16, \t16, \t23, \t12, \t14, \t\n",
      "\n",
      "23, \t22, \t30, \t23, \t21, \t26, \t15, \t20, \t29, \t19, \t\n",
      "\n",
      "34, \t16, \t21, \t26, \t23, \t13, \t26, \t24, \t14, \t16, \t\n",
      "\n",
      "16, \t18, \t13, \t21, \t20, \t13, \t5, \t22, \t16, \t27, \t\n",
      "\n",
      "37, \t25, \t21, \t17, \t3, \t12, \t18, \t23, \t17, \t19, \t\n",
      "\n",
      "18, \t15, \t15, \t25, \t20, \t14, \t20, \t10, \t13, \t21, \t\n",
      "\n",
      "15, \t22, \t11, \t10, \t8, \t26, \t23, \t14, \t9, \t4, \t\n",
      "\n",
      "20, \t11, \t28, \t11, \t23, \t21, \t16, \t23, \t24, \t18, \t\n",
      "\n",
      "14, \t29, \t27, \t29, \t14, \t16, \t6, \t29, \t25, \t26, \t\n",
      "\n",
      "25, \t22, \t17, \t23, \t29, \t18, \t21, \t14, \t18, \t29, \t\n",
      "\n",
      "22, \t11, \t26, \t19, \t30, \t14, \t31, \t11, \t25, \t18, \t\n",
      "\n",
      "15, \t14, \t29, \t25, \t17, \t17, \t21, \t26, \t23, \t23, \t\n",
      "\n",
      "26, \t14, \t21, \t18, \t28, \t14, \t6, \t19, \t26, \t17, \t\n",
      "\n",
      "20, \t19, \t17, \t18, \t6, \t11, \t15, \t18, \t23, \t5, \t\n",
      "\n",
      "19, \t22, \t21, \t20, \t34, \t16, \t23, \t27, \t21, \t27, \t\n",
      "\n",
      "16, \t14, \t13, \t29, \t18, \t9, \t22, \t15, \t22, \t22, \t\n",
      "\n",
      "19, \t20, \t16, \t21, \t22, \t10, \t12, \t22, \t23, \t14, \t\n",
      "\n",
      "29, \t23, \t19, \t22, \t18, \t9, \t22, \t14, \t22, \t22, \t\n",
      "\n",
      "28, \t15, \t10, \t23, \t26, \t18, \t13, \t11, \t15, \t16, \t\n",
      "\n",
      "16, \t32, \t17, \t18, \t10, \t27, \t17, \t18, \t24, \t21, \t\n",
      "\n",
      "17, \t38, \t17, \t27, \t17, \t13, \t11, \t21, \t23, \t15, \t\n",
      "\n",
      "16, \t15, \t15, \t31, \t23, \t23, \t19, \t27, \t25, \t16, \t\n",
      "\n",
      "23, \t28, \t24, \t21, \t30, \t17, \t21, \t12, \t34, \t8, \t\n",
      "\n",
      "25, \t26, \t26, \t13, \t20, \t26, \t26, \t23, \t18, \t19, \t\n",
      "\n",
      "15, \t26, \t27, \t25, \t17, \t19, \t18, \t32, \t10, \t17, \t\n",
      "\n",
      "29, \t24, \t9, \t24, \t23, \t20, \t25, \t11, \t24, \t30, \t\n",
      "\n",
      "24, \t19, \t15, \t23, \t20, \t31, \t18, \t24, \t17, \t9, \t\n",
      "\n",
      "22, \t8, \t21, \t19, \t14, \t28, \t15, \t17, \t26, \t35, \t\n",
      "\n",
      "12, \t19, \t29, \t17, \t25, \t23, \t18, \t25, \t23, \t17, \t\n",
      "\n",
      "23, \t20, \t18, \t27, \t14, \t22, \t22, \t11, \t22, \t17, \t\n",
      "\n",
      "21, \t16, \t26, \t13, \t0, \t24, \t10, \t3, \t14, \t22, \t\n",
      "\n",
      "20, \t24, \t22, \t34, \t24, \t10, \t30, \t27, \t20, \t15, \t\n",
      "\n",
      "24, \t27, \t15, \t30, \t11, \t13, \t14, \t20, \t21, \t27, \t\n",
      "\n",
      "20, \t16, \t16, \t17, \t20, \t17, \t11, \t23, \t25, \t10, \t\n",
      "\n",
      "20, \t38, \t27, \t23, \t19, \t25, \t19, \t28, \t37, \t3, \t\n",
      "\n"
     ]
    }
   ],
   "source": [
    "try:\n",
    "    with open('tp6_eje4.csv') as file:\n",
    "        for i in file:   #recorremos renglones de file\n",
    "            print(i)\n",
    "except Exception as e:\n",
    "    print(e)"
   ]
  },
  {
   "cell_type": "code",
   "execution_count": 13,
   "id": "f54af707-1e46-4874-bed0-78e468bfd035",
   "metadata": {},
   "outputs": [
    {
     "data": {
      "text/plain": [
       "'20, \\t38, \\t27, \\t23, \\t19, \\t25, \\t19, \\t28, \\t37, \\t3, \\t\\n'"
      ]
     },
     "execution_count": 13,
     "metadata": {},
     "output_type": "execute_result"
    }
   ],
   "source": [
    "i"
   ]
  },
  {
   "cell_type": "code",
   "execution_count": 14,
   "id": "33753413-cd1f-420d-a216-4b415f76c8e7",
   "metadata": {},
   "outputs": [
    {
     "data": {
      "text/plain": [
       "'hoy Es martEs'"
      ]
     },
     "execution_count": 14,
     "metadata": {},
     "output_type": "execute_result"
    }
   ],
   "source": [
    "'hoy es martes'.replace('e', 'E')"
   ]
  },
  {
   "cell_type": "code",
   "execution_count": 17,
   "id": "23eff08f-3c37-4b39-8b72-a7040c1875b7",
   "metadata": {},
   "outputs": [],
   "source": [
    "linealimpia = i.replace(' ', '').replace('\\t', '').replace('\\n','')"
   ]
  },
  {
   "cell_type": "code",
   "execution_count": 21,
   "id": "5df152bf-ef7e-4598-bc69-6472d7769730",
   "metadata": {},
   "outputs": [
    {
     "name": "stdout",
     "output_type": "stream",
     "text": [
      "['20', '38', '27', '23', '19', '25', '19', '28', '37', '3']\n"
     ]
    }
   ],
   "source": [
    "lista_linea = linealimpia.split(',')[:-1]\n",
    "print(lista_linea)"
   ]
  },
  {
   "cell_type": "code",
   "execution_count": 24,
   "id": "4b902e9b-28e1-4110-98aa-74a377177a81",
   "metadata": {},
   "outputs": [
    {
     "name": "stdout",
     "output_type": "stream",
     "text": [
      "[20, 38, 27, 23, 19, 25, 19, 28, 37, 3, 'NaN']\n"
     ]
    }
   ],
   "source": [
    "fila_i = []\n",
    "lista_linea.append('hola')\n",
    "for elem in lista_linea:\n",
    "    try:\n",
    "        fila_i.append(int(elem))\n",
    "    except ValueError as e:\n",
    "        fila_i.append('NaN')\n",
    "print(fila_i)"
   ]
  },
  {
   "cell_type": "code",
   "execution_count": 30,
   "id": "df6f5cc5-7c91-44e9-a5f3-2a951277a701",
   "metadata": {},
   "outputs": [],
   "source": [
    "try:\n",
    "    with open('tp6_eje4.csv') as file:\n",
    "        matriz = []\n",
    "        for linea in file:   #recorremos renglones de file\n",
    "            linealimpia = linea.replace(' ', '').replace('\\t', '').replace('\\n','')\n",
    "            lista_linea = linealimpia.split(',')[:-1]\n",
    "            fila_i = []\n",
    "            for elem in lista_linea:\n",
    "                try:\n",
    "                    nelem = int(elem)\n",
    "                except ValueError as e:\n",
    "                    nelem = 'NaN'\n",
    "                fila_i.append(nelem)\n",
    "            matriz.append(fila_i)\n",
    "except Exception as e:\n",
    "    print(e)\n",
    "    print('Usted está en el directorio', os.getcwd())"
   ]
  },
  {
   "cell_type": "code",
   "execution_count": 37,
   "id": "58f526b6-b0ff-4dfa-b4dd-252abbba74e8",
   "metadata": {},
   "outputs": [
    {
     "name": "stdout",
     "output_type": "stream",
     "text": [
      "<_csv.reader object at 0x7f27a0604430>\n"
     ]
    }
   ],
   "source": [
    "import csv\n",
    "try:\n",
    "    with open('tp6_eje4.csv') as file:\n",
    "        print(csv.\n",
    "except Exception as e:\n",
    "    print(e)"
   ]
  },
  {
   "cell_type": "code",
   "execution_count": null,
   "id": "5fb513f8-cacd-49af-8cac-2f834d6cf7ae",
   "metadata": {},
   "outputs": [],
   "source": []
  }
 ],
 "metadata": {
  "kernelspec": {
   "display_name": "Python 3 (ipykernel)",
   "language": "python",
   "name": "python3"
  },
  "language_info": {
   "codemirror_mode": {
    "name": "ipython",
    "version": 3
   },
   "file_extension": ".py",
   "mimetype": "text/x-python",
   "name": "python",
   "nbconvert_exporter": "python",
   "pygments_lexer": "ipython3",
   "version": "3.12.3"
  }
 },
 "nbformat": 4,
 "nbformat_minor": 5
}
