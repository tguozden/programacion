{
 "cells": [
  {
   "cell_type": "code",
   "execution_count": 1,
   "id": "0d6e6154-d161-4fe3-b9b5-7e4f4ca715cb",
   "metadata": {},
   "outputs": [
    {
     "data": {
      "text/plain": [
       "6"
      ]
     },
     "execution_count": 1,
     "metadata": {},
     "output_type": "execute_result"
    }
   ],
   "source": [
    "# funciones recursivas\n",
    "\n",
    "def suma_1_n(n:int)->int:\n",
    "    ''' la función devuelve\n",
    "    n + n-1 + n-2 + ... +1\n",
    "    suma_1_n(3) -> 1+2+3 = 6 '''\n",
    "    acum = 0\n",
    "    for i in range(n + 1):\n",
    "        acum = acum + i\n",
    "    return acum\n",
    "\n",
    "suma_1_n(3)"
   ]
  },
  {
   "cell_type": "code",
   "execution_count": 9,
   "id": "f4bc9eee-1906-4a40-a9e6-6a497fd8825a",
   "metadata": {},
   "outputs": [],
   "source": [
    "def suma_1_n_recur(n:int)->int:\n",
    "    # if n < 1: return -1\n",
    "    if n == 1: return 1\n",
    "    print('me llamaron con', n)\n",
    "    return n + suma_1_n_recur(n-1)\n",
    "\n",
    "# suma_1_n_recur(10)"
   ]
  },
  {
   "cell_type": "code",
   "execution_count": 15,
   "id": "155f3dd2-f8c8-4428-adb6-5e97ed67a8de",
   "metadata": {},
   "outputs": [
    {
     "data": {
      "text/plain": [
       "120"
      ]
     },
     "execution_count": 15,
     "metadata": {},
     "output_type": "execute_result"
    }
   ],
   "source": [
    "# otro ejemplo: el factorial\n",
    "# n! = n*(n-1)*(n-2)*....*1\n",
    "# 0! = 1\n",
    "def factorial(n):\n",
    "    if n == 0: return 1\n",
    "    # print('me llamaron con', n)\n",
    "    return n * factorial(n-1)\n",
    "\n",
    "factorial(5)\n",
    "\n",
    "    "
   ]
  },
  {
   "cell_type": "code",
   "execution_count": 16,
   "id": "895c5661-629a-41db-8619-3f1c5eb15ffb",
   "metadata": {},
   "outputs": [
    {
     "name": "stdout",
     "output_type": "stream",
     "text": [
      "0 damian\n",
      "1 bautista\n",
      "2 alfredo\n"
     ]
    }
   ],
   "source": [
    "# jueves 12 parcialito\n",
    "# 2 problemas sencillos\n",
    "# enumerate, zip, listas, conjuntos y/o diccionarios por comprensión\n",
    "\n",
    "lista = ['damian', 'bautista', 'alfredo']\n",
    "for i, nombre in enumerate(lista):\n",
    "    print(i, nombre)"
   ]
  },
  {
   "cell_type": "code",
   "execution_count": 19,
   "id": "e475c4b6-ddf8-4673-bf1a-b124bbe42e3e",
   "metadata": {},
   "outputs": [
    {
     "name": "stdout",
     "output_type": "stream",
     "text": [
      "banana té\n",
      "manzana café\n",
      "pera matecocido\n"
     ]
    }
   ],
   "source": [
    "lista1 = ['banana', 'manzana', 'pera']\n",
    "lista2 = ['té', 'café', 'matecocido']\n",
    "\n",
    "for i, j in zip(lista1, lista2):\n",
    "    print(i, j)"
   ]
  },
  {
   "cell_type": "code",
   "execution_count": 24,
   "id": "43fbec17-747e-4e8b-87a6-0fe71fb9c5a2",
   "metadata": {},
   "outputs": [
    {
     "data": {
      "text/plain": [
       "[1, 2, 3, 4, 5, 6, 7, 8, 9, 10]"
      ]
     },
     "execution_count": 24,
     "metadata": {},
     "output_type": "execute_result"
    }
   ],
   "source": [
    "\n",
    "# listas por comprensión\n",
    "[ i for i in range(1, 11) ]"
   ]
  },
  {
   "cell_type": "code",
   "execution_count": 23,
   "id": "a2f7488a-31fe-4036-add3-169af7d067cd",
   "metadata": {},
   "outputs": [
    {
     "data": {
      "text/plain": [
       "[2, 4, 6, 8, 10]"
      ]
     },
     "execution_count": 23,
     "metadata": {},
     "output_type": "execute_result"
    }
   ],
   "source": [
    "# si quisiera sólo los números pares\n",
    "[ i for i in range(1,11) if i%2 == 0]"
   ]
  },
  {
   "cell_type": "code",
   "execution_count": 27,
   "id": "c26ff049-06b2-43e0-85b7-7d4c6535c0c3",
   "metadata": {},
   "outputs": [
    {
     "data": {
      "text/plain": [
       "{0, 1}"
      ]
     },
     "execution_count": 27,
     "metadata": {},
     "output_type": "execute_result"
    }
   ],
   "source": [
    "# contenedores:\n",
    "# -listas\n",
    "# -tuplas\n",
    "# -conjuntos\n",
    "# -diccionarios\n",
    "\n",
    "{i for i in range(2)}"
   ]
  },
  {
   "cell_type": "code",
   "execution_count": 33,
   "id": "ab1cea14-2aab-4128-9cd6-f012d1a73a62",
   "metadata": {},
   "outputs": [
    {
     "name": "stdout",
     "output_type": "stream",
     "text": [
      "{0, 1}\n"
     ]
    }
   ],
   "source": [
    "conjunto = set()\n",
    "for i in range(2):\n",
    "    conjunto.add(i)\n",
    "\n",
    "print(conjunto)"
   ]
  },
  {
   "cell_type": "code",
   "execution_count": 37,
   "id": "18503b0d-0d48-4bcd-b616-b32db5a8dfd8",
   "metadata": {},
   "outputs": [],
   "source": [
    "lista1 = ['banana', 'manzana', 'pera']\n",
    "lista2 = ['té', 'café', 'matecocido']\n",
    "\n",
    "dicc = dict()\n",
    "for fruta, bebida in zip(lista1, lista2):\n",
    "    dicc.update( {fruta:bebida} )"
   ]
  },
  {
   "cell_type": "code",
   "execution_count": 38,
   "id": "3c0f1646-0bd8-4663-b19f-ae1b0b78fdf3",
   "metadata": {},
   "outputs": [
    {
     "name": "stdout",
     "output_type": "stream",
     "text": [
      "{'banana': 'té', 'manzana': 'café', 'pera': 'matecocido'}\n"
     ]
    }
   ],
   "source": [
    "print(dicc)"
   ]
  },
  {
   "cell_type": "code",
   "execution_count": 39,
   "id": "e412ead9-affa-4a96-a019-e7396cebde00",
   "metadata": {},
   "outputs": [
    {
     "data": {
      "text/plain": [
       "{'banana': 'té', 'manzana': 'café', 'pera': 'matecocido'}"
      ]
     },
     "execution_count": 39,
     "metadata": {},
     "output_type": "execute_result"
    }
   ],
   "source": [
    "{fruta:bebida for fruta, bebida in zip(lista1, lista2)}"
   ]
  },
  {
   "cell_type": "code",
   "execution_count": 47,
   "id": "a6092d8b-be2b-4d4f-90b2-df591b5a58c2",
   "metadata": {},
   "outputs": [
    {
     "name": "stdout",
     "output_type": "stream",
     "text": [
      "[45, 2, 21, 14, 20, 29, 83, 1]\n",
      "[2, 21, 14, 20, 29, 45, 1, 83]\n",
      "[2, 14, 20, 21, 29, 1, 45, 83]\n",
      "[2, 14, 20, 21, 1, 29, 45, 83]\n",
      "[2, 14, 20, 1, 21, 29, 45, 83]\n",
      "[2, 14, 1, 20, 21, 29, 45, 83]\n",
      "[2, 1, 14, 20, 21, 29, 45, 83]\n",
      "[1, 2, 14, 20, 21, 29, 45, 83]\n",
      "[1, 2, 14, 20, 21, 29, 45, 83]\n"
     ]
    }
   ],
   "source": [
    "# a pedido: burbuja revisited\n",
    "lista = [45, 2, 21, 14, 20, 29, 83, 1]\n",
    "\n",
    "def burbuja(lista):\n",
    "    for n in range(len(lista)-1):\n",
    "        for i in range(len(lista)-1):   # también puede ser - n):\n",
    "            if lista[i] > lista[i+1]:\n",
    "                # swap(lista, i, i+1)\n",
    "                aux = lista[i]\n",
    "                lista[i] = lista[i+1]\n",
    "                lista[i+1] = aux\n",
    "        print(lista)\n",
    "\n",
    "print(lista)            \n",
    "burbuja(lista)\n",
    "print(lista)"
   ]
  },
  {
   "cell_type": "code",
   "execution_count": 65,
   "id": "8dc03735-0b56-424c-af25-a3cacaecab18",
   "metadata": {},
   "outputs": [],
   "source": [
    "def burbuja_r(lista):\n",
    "    desordenado = False\n",
    "    for i in range(len(lista)-1):   # también puede ser - n):\n",
    "        if lista[i] > lista[i+1]:\n",
    "            desordenado = True\n",
    "            aux = lista[i]\n",
    "            lista[i] = lista[i+1]\n",
    "            lista[i+1] = aux\n",
    "    print(lista)\n",
    "    if desordenado: burbuja_r(lista)"
   ]
  },
  {
   "cell_type": "code",
   "execution_count": 67,
   "id": "378948b2-aaa5-40fb-96c3-c3ccd96ab1f8",
   "metadata": {},
   "outputs": [
    {
     "name": "stdout",
     "output_type": "stream",
     "text": [
      "[2, 21, 14, 20, 29, 45, 1, 83]\n",
      "[2, 14, 20, 21, 29, 1, 45, 83]\n",
      "[2, 14, 20, 21, 1, 29, 45, 83]\n",
      "[2, 14, 20, 1, 21, 29, 45, 83]\n",
      "[2, 14, 1, 20, 21, 29, 45, 83]\n",
      "[2, 1, 14, 20, 21, 29, 45, 83]\n",
      "[1, 2, 14, 20, 21, 29, 45, 83]\n",
      "[1, 2, 14, 20, 21, 29, 45, 83]\n"
     ]
    }
   ],
   "source": [
    "lista = [45, 2, 21, 14, 20, 29, 83, 1]\n",
    "burbuja_r(lista)\n"
   ]
  },
  {
   "cell_type": "code",
   "execution_count": null,
   "id": "5947a511-d712-4f2b-905d-2f627340db43",
   "metadata": {},
   "outputs": [],
   "source": []
  }
 ],
 "metadata": {
  "kernelspec": {
   "display_name": "Python 3 (ipykernel)",
   "language": "python",
   "name": "python3"
  },
  "language_info": {
   "codemirror_mode": {
    "name": "ipython",
    "version": 3
   },
   "file_extension": ".py",
   "mimetype": "text/x-python",
   "name": "python",
   "nbconvert_exporter": "python",
   "pygments_lexer": "ipython3",
   "version": "3.12.3"
  }
 },
 "nbformat": 4,
 "nbformat_minor": 5
}
