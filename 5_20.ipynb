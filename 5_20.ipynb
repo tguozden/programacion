{
 "cells": [
  {
   "cell_type": "code",
   "execution_count": null,
   "id": "0cacc4e9-eafa-46d7-b026-33e48ae85fa5",
   "metadata": {},
   "outputs": [],
   "source": [
    "def cambia_tipo(cadena:str,/) -> str:\n",
    "    cadena2=''\n",
    "    for i in cadena:\n",
    "        if 65 <= ord(i) and ord(i) <= 90: #mayuscula a minuscula\n",
    "            letra=chr(ord(i)+32)\n",
    "            cadena2 += letra        \n",
    "        elif 97 <= ord(i) <= 122: #minuscula a mayuscula\n",
    "            letra=chr(ord(i)-32)\n",
    "            cadena2 = cadena2 + letra\n",
    "        else:\n",
    "            cadena2 += i\n",
    "            \n",
    "    return cadena2"
   ]
  },
  {
   "cell_type": "code",
   "execution_count": null,
   "id": "93575421-69eb-40f6-8ff8-1a18d81478e4",
   "metadata": {},
   "outputs": [],
   "source": [
    "def promedio_ponderado(notas: list[float], pesos: list[float]) -> float:\n",
    "    \"\"\"\n",
    "    Calcula el promedio ponderado de una lista de notas según sus pesos correspondientes.\n",
    "    \n",
    "    Parámetros:\n",
    "    notas -- lista de valores numéricos (float)\n",
    "    pesos -- lista de factores de ponderación (float), entre 0 y 1,\n",
    "             de igual longitud que notas y con suma 1\n",
    "    \n",
    "    Retorna:\n",
    "    El promedio ponderado (como float)\n",
    "    \n",
    "    Ejemplo:\n",
    "    >>> promedio_ponderado([7.5, 8.0, 6.5], [0.3, 0.4, 0.3])\n",
    "    7.25\n",
    "    \"\"\"\n",
    "    # Tu código aquí\n",
    "    pond = 0.0\n",
    "    for i, j in enumerate(notas):\n",
    "        pond += j*pesos[i]\n",
    "        print(i, j, pond)\n",
    "    return pond"
   ]
  },
  {
   "cell_type": "code",
   "execution_count": 11,
   "id": "f562cae9-acc4-43fb-ac04-4eee43272464",
   "metadata": {},
   "outputs": [
    {
     "name": "stdout",
     "output_type": "stream",
     "text": [
      "0 10 5.0\n",
      "1 9 7.699999999999999\n",
      "2 8 9.299999999999999\n"
     ]
    },
    {
     "data": {
      "text/plain": [
       "9.299999999999999"
      ]
     },
     "execution_count": 11,
     "metadata": {},
     "output_type": "execute_result"
    }
   ],
   "source": [
    "promedio_ponderado([5, 5, 5], [0.5, 0.3, 0.2])"
   ]
  },
  {
   "cell_type": "code",
   "execution_count": 29,
   "id": "8dd33179-d66b-4716-bc70-cfa5d0dbd6d7",
   "metadata": {},
   "outputs": [
    {
     "data": {
      "text/plain": [
       "7.0"
      ]
     },
     "execution_count": 29,
     "metadata": {},
     "output_type": "execute_result"
    }
   ],
   "source": [
    "def promedio_ponderado(notas: list[float], pesos: list[float]) -> float | None:\n",
    "    if len(notas) != len(pesos):\n",
    "        print('las listas deben contener la misma cantidad de elementos')\n",
    "        return None\n",
    "    \n",
    "    # lista_aux = []\n",
    "    # for i, nota in enumerate(notas):\n",
    "    #     lista_aux.append( nota*pesos[i] )\n",
    "\n",
    "    lista_aux = [n * p for n, p in zip(notas, pesos)]\n",
    "    \n",
    "    suma_ponderada = sum(lista_aux)\n",
    "    suma_pesos = sum(pesos)\n",
    "\n",
    "    return suma_ponderada #/ suma_pesos if suma_pesos != 0 else 0.0\n",
    "promedio_ponderado([10, 5], [0.4, 0.6])\n",
    "# notafinal = 5 * 0.4 + 10 * 0.6"
   ]
  },
  {
   "cell_type": "code",
   "execution_count": 12,
   "id": "755f5af7-e235-4d51-a529-4a68c0eecb6d",
   "metadata": {},
   "outputs": [
    {
     "data": {
      "text/plain": [
       "45"
      ]
     },
     "execution_count": 12,
     "metadata": {},
     "output_type": "execute_result"
    }
   ],
   "source": [
    "sum(range(10))"
   ]
  },
  {
   "cell_type": "code",
   "execution_count": 27,
   "id": "f4e8924f-68f4-4e46-949e-b9e92e9236fd",
   "metadata": {},
   "outputs": [],
   "source": [
    "lista1 = [10, 5, 8]\n",
    "lista2 = [0.3, .3, .4]"
   ]
  },
  {
   "cell_type": "code",
   "execution_count": 26,
   "id": "3d08dba9-26b9-41f0-9505-a81ae641e0ce",
   "metadata": {},
   "outputs": [
    {
     "name": "stdout",
     "output_type": "stream",
     "text": [
      "la iteración número 1 tiene los elementos 10 0.3\n",
      "la iteración número 2 tiene los elementos 5 0.3\n",
      "la iteración número 3 tiene los elementos 8 0.4\n"
     ]
    },
    {
     "ename": "ValueError",
     "evalue": "zip() argument 2 is shorter than argument 1",
     "output_type": "error",
     "traceback": [
      "\u001b[0;31m---------------------------------------------------------------------------\u001b[0m",
      "\u001b[0;31mValueError\u001b[0m                                Traceback (most recent call last)",
      "Cell \u001b[0;32mIn[26], line 2\u001b[0m\n\u001b[1;32m      1\u001b[0m cont \u001b[38;5;241m=\u001b[39m \u001b[38;5;241m0\u001b[39m\n\u001b[0;32m----> 2\u001b[0m \u001b[38;5;28;43;01mfor\u001b[39;49;00m\u001b[43m \u001b[49m\u001b[43mi\u001b[49m\u001b[43m,\u001b[49m\u001b[43m \u001b[49m\u001b[43mj\u001b[49m\u001b[43m \u001b[49m\u001b[38;5;129;43;01min\u001b[39;49;00m\u001b[43m \u001b[49m\u001b[38;5;28;43mzip\u001b[39;49m\u001b[43m(\u001b[49m\u001b[43mlista1\u001b[49m\u001b[43m,\u001b[49m\u001b[43m \u001b[49m\u001b[43mlista2\u001b[49m\u001b[43m,\u001b[49m\u001b[43m \u001b[49m\u001b[43mstrict\u001b[49m\u001b[43m \u001b[49m\u001b[38;5;241;43m=\u001b[39;49m\u001b[43m \u001b[49m\u001b[38;5;28;43;01mTrue\u001b[39;49;00m\u001b[43m)\u001b[49m\u001b[43m:\u001b[49m\n\u001b[1;32m      3\u001b[0m \u001b[43m    \u001b[49m\u001b[43mcont\u001b[49m\u001b[43m \u001b[49m\u001b[38;5;241;43m+\u001b[39;49m\u001b[38;5;241;43m=\u001b[39;49m\u001b[43m \u001b[49m\u001b[38;5;241;43m1\u001b[39;49m\n\u001b[1;32m      4\u001b[0m \u001b[43m    \u001b[49m\u001b[38;5;28;43mprint\u001b[39;49m\u001b[43m(\u001b[49m\u001b[38;5;124;43mf\u001b[39;49m\u001b[38;5;124;43m'\u001b[39;49m\u001b[38;5;124;43mla iteración número \u001b[39;49m\u001b[38;5;132;43;01m{\u001b[39;49;00m\u001b[43mcont\u001b[49m\u001b[38;5;132;43;01m}\u001b[39;49;00m\u001b[38;5;124;43m tiene los elementos\u001b[39;49m\u001b[38;5;124;43m'\u001b[39;49m\u001b[43m,\u001b[49m\u001b[43m \u001b[49m\u001b[43mi\u001b[49m\u001b[43m,\u001b[49m\u001b[43m \u001b[49m\u001b[43mj\u001b[49m\u001b[43m)\u001b[49m\n",
      "\u001b[0;31mValueError\u001b[0m: zip() argument 2 is shorter than argument 1"
     ]
    }
   ],
   "source": [
    "cont = 0\n",
    "for i, j in zip(lista1, lista2, strict = True):\n",
    "    cont += 1\n",
    "    print(f'la iteración número {cont} tiene los elementos', i, j)"
   ]
  },
  {
   "cell_type": "code",
   "execution_count": 20,
   "id": "5e2b8e22-7507-4799-898c-3a7e041c8a9f",
   "metadata": {},
   "outputs": [
    {
     "data": {
      "text/plain": [
       "[10, 5, 8, 0.3, 0.3, 0.4]"
      ]
     },
     "execution_count": 20,
     "metadata": {},
     "output_type": "execute_result"
    }
   ],
   "source": [
    "lista1+lista2"
   ]
  },
  {
   "cell_type": "code",
   "execution_count": 25,
   "id": "8872ed55-8694-4baa-8c35-a7f7c47cef4e",
   "metadata": {},
   "outputs": [
    {
     "name": "stdout",
     "output_type": "stream",
     "text": [
      "Help on class zip in module builtins:\n",
      "\n",
      "class zip(object)\n",
      " |  zip(*iterables, strict=False) --> Yield tuples until an input is exhausted.\n",
      " |\n",
      " |     >>> list(zip('abcdefg', range(3), range(4)))\n",
      " |     [('a', 0, 0), ('b', 1, 1), ('c', 2, 2)]\n",
      " |\n",
      " |  The zip object yields n-length tuples, where n is the number of iterables\n",
      " |  passed as positional arguments to zip().  The i-th element in every tuple\n",
      " |  comes from the i-th iterable argument to zip().  This continues until the\n",
      " |  shortest argument is exhausted.\n",
      " |\n",
      " |  If strict is true and one of the arguments is exhausted before the others,\n",
      " |  raise a ValueError.\n",
      " |\n",
      " |  Methods defined here:\n",
      " |\n",
      " |  __getattribute__(self, name, /)\n",
      " |      Return getattr(self, name).\n",
      " |\n",
      " |  __iter__(self, /)\n",
      " |      Implement iter(self).\n",
      " |\n",
      " |  __next__(self, /)\n",
      " |      Implement next(self).\n",
      " |\n",
      " |  __reduce__(...)\n",
      " |      Return state information for pickling.\n",
      " |\n",
      " |  __setstate__(...)\n",
      " |      Set state information for unpickling.\n",
      " |\n",
      " |  ----------------------------------------------------------------------\n",
      " |  Static methods defined here:\n",
      " |\n",
      " |  __new__(*args, **kwargs)\n",
      " |      Create and return a new object.  See help(type) for accurate signature.\n",
      "\n"
     ]
    }
   ],
   "source": [
    "zip"
   ]
  },
  {
   "cell_type": "code",
   "execution_count": null,
   "id": "a8f905f1-6e6e-438c-9899-e3d075363a6d",
   "metadata": {},
   "outputs": [],
   "source": []
  }
 ],
 "metadata": {
  "kernelspec": {
   "display_name": "Python 3 (ipykernel)",
   "language": "python",
   "name": "python3"
  },
  "language_info": {
   "codemirror_mode": {
    "name": "ipython",
    "version": 3
   },
   "file_extension": ".py",
   "mimetype": "text/x-python",
   "name": "python",
   "nbconvert_exporter": "python",
   "pygments_lexer": "ipython3",
   "version": "3.12.3"
  }
 },
 "nbformat": 4,
 "nbformat_minor": 5
}
