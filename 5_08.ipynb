{
 "cells": [
  {
   "cell_type": "code",
   "execution_count": 1,
   "id": "4fe20d7e-875b-460d-878e-dbcdcf6b2ccc",
   "metadata": {},
   "outputs": [],
   "source": [
    "# más sobre funciones\n",
    "def holamundo():\n",
    "    print('hola mundo')"
   ]
  },
  {
   "cell_type": "code",
   "execution_count": 2,
   "id": "7b90fc98-8cd5-4a4c-a295-7929068e8856",
   "metadata": {},
   "outputs": [
    {
     "name": "stdout",
     "output_type": "stream",
     "text": [
      "hola mundo\n"
     ]
    }
   ],
   "source": [
    "holamundo()"
   ]
  },
  {
   "cell_type": "code",
   "execution_count": 3,
   "id": "24723f0d-70da-4bef-993f-8dc9a9a6896c",
   "metadata": {},
   "outputs": [],
   "source": [
    "#argumentos posicionales\n",
    "def hola123(a1, a2, a3):\n",
    "    print(a1, a2, a3)"
   ]
  },
  {
   "cell_type": "code",
   "execution_count": 14,
   "id": "ac5c9192-d4d8-4b9b-accb-cedc1f4be5b6",
   "metadata": {},
   "outputs": [
    {
     "name": "stdout",
     "output_type": "stream",
     "text": [
      "123 234 345\n"
     ]
    }
   ],
   "source": [
    "hola123(123, 234, 345)"
   ]
  },
  {
   "cell_type": "code",
   "execution_count": 15,
   "id": "1764e171-b5a2-4a50-b06b-302395629663",
   "metadata": {},
   "outputs": [],
   "source": [
    "def losquequieras(*a):\n",
    "    print('me llegaron', len(a), 'argumentos')\n",
    "    # for i in a:\n",
    "        # print(i)\n",
    "    for i in range(len(a)):\n",
    "        print(a[i])\n",
    "    print('en este scope a es: ', type(a))"
   ]
  },
  {
   "cell_type": "code",
   "execution_count": 16,
   "id": "20d684f4-d449-4818-93a1-3ad3049de4f5",
   "metadata": {},
   "outputs": [
    {
     "name": "stdout",
     "output_type": "stream",
     "text": [
      "me llegaron 4 argumentos\n",
      "1\n",
      "2\n",
      "3\n",
      "4\n",
      "en este scope a es:  <class 'tuple'>\n"
     ]
    }
   ],
   "source": [
    "losquequieras(1, 2, 3, 4)"
   ]
  },
  {
   "cell_type": "code",
   "execution_count": 17,
   "id": "2c00a0a4-6fb2-45aa-9fb4-7e84d867eaa7",
   "metadata": {},
   "outputs": [
    {
     "name": "stdout",
     "output_type": "stream",
     "text": [
      "hola123\t holamundo\t losquequieras\t \n"
     ]
    }
   ],
   "source": [
    "who"
   ]
  },
  {
   "cell_type": "code",
   "execution_count": 18,
   "id": "ccd0126a-6762-4b75-866d-7589cd15c69d",
   "metadata": {},
   "outputs": [
    {
     "name": "stdout",
     "output_type": "stream",
     "text": [
      "1 2 3\n"
     ]
    }
   ],
   "source": [
    "hola123(1, 2, 3)"
   ]
  },
  {
   "cell_type": "code",
   "execution_count": 19,
   "id": "6a684a53-362b-448f-8597-f69de528776d",
   "metadata": {},
   "outputs": [
    {
     "name": "stdout",
     "output_type": "stream",
     "text": [
      "1 10 100\n"
     ]
    }
   ],
   "source": [
    "# argumentos por nombre\n",
    "hola123(a3=100, a2=10, a1=1)"
   ]
  },
  {
   "cell_type": "code",
   "execution_count": 20,
   "id": "a6075b3b-1813-4188-9f9b-638fd65015c3",
   "metadata": {},
   "outputs": [
    {
     "name": "stdout",
     "output_type": "stream",
     "text": [
      "1 10 100\n"
     ]
    }
   ],
   "source": [
    "hola123(1, 10, 100)"
   ]
  },
  {
   "cell_type": "code",
   "execution_count": 23,
   "id": "a385912b-bf9e-4bcc-b79d-03d839b87420",
   "metadata": {},
   "outputs": [],
   "source": [
    "def nombrados_comodin(**nargs):\n",
    "    print('nargs es de tipo', type(nargs))\n",
    "    for clave, valor in nargs.items():\n",
    "        print(clave, valor)\n",
    "    "
   ]
  },
  {
   "cell_type": "code",
   "execution_count": 24,
   "id": "58b6a6bf-c1fb-4b81-bb42-51e02fd8c7dc",
   "metadata": {},
   "outputs": [
    {
     "name": "stdout",
     "output_type": "stream",
     "text": [
      "nargs es de tipo <class 'dict'>\n",
      "damian 1\n",
      "maty 2\n",
      "bautista 3\n"
     ]
    }
   ],
   "source": [
    "nombrados_comodin(damian=1, maty=2, bautista=3)"
   ]
  },
  {
   "cell_type": "code",
   "execution_count": 28,
   "id": "7bf704ce-2c7e-4851-b8bc-e3ce4f18300a",
   "metadata": {},
   "outputs": [],
   "source": [
    "def forzar_posicionales(x, y, z, / , unrn):\n",
    "    print(x, y, z, unrn)"
   ]
  },
  {
   "cell_type": "code",
   "execution_count": 31,
   "id": "9e9c9079-03b8-4f83-be24-641417200356",
   "metadata": {},
   "outputs": [
    {
     "name": "stdout",
     "output_type": "stream",
     "text": [
      "1 2 3 4\n",
      "1 2 3 4\n"
     ]
    }
   ],
   "source": [
    "forzar_posicionales(1, 2, 3, unrn=4)\n",
    "forzar_posicionales(1, 2, 3, 4)\n"
   ]
  },
  {
   "cell_type": "code",
   "execution_count": 61,
   "id": "80b94aac-600d-47b4-a2d5-644c542715db",
   "metadata": {},
   "outputs": [
    {
     "name": "stdout",
     "output_type": "stream",
     "text": [
      "11 10\n"
     ]
    }
   ],
   "source": [
    "#argumentos por defecto\n",
    "#def pordefecto(x = 10, y ): mal, las var con valores por defecto van al final\n",
    "def pordefecto(x, y = 10 ): \n",
    "    print(x, y)\n",
    "pordefecto(11)\n"
   ]
  },
  {
   "cell_type": "code",
   "execution_count": 33,
   "id": "dbfaf748-932a-4109-97ce-a67d76c201f1",
   "metadata": {},
   "outputs": [
    {
     "name": "stdout",
     "output_type": "stream",
     "text": [
      "0 10\n"
     ]
    }
   ],
   "source": [
    "pordefecto()"
   ]
  },
  {
   "cell_type": "code",
   "execution_count": 35,
   "id": "8e5ae591-228d-4443-a44b-e25233e89c07",
   "metadata": {},
   "outputs": [],
   "source": [
    "# documentación de la función\n",
    "def hoyllueve():\n",
    "    '''Acá vendría a venir una\n",
    "    pequeña descripción de lo\n",
    "    que se supone que tiene que\n",
    "    hacer esta función, cómo se \n",
    "    utiliza, etc'''\n",
    "    print('hoy llueve')"
   ]
  },
  {
   "cell_type": "code",
   "execution_count": 36,
   "id": "1d2804bf-3788-449b-9713-0aad018f3a23",
   "metadata": {},
   "outputs": [
    {
     "name": "stdout",
     "output_type": "stream",
     "text": [
      "hoy llueve\n"
     ]
    }
   ],
   "source": [
    "hoyllueve()"
   ]
  },
  {
   "cell_type": "code",
   "execution_count": 37,
   "id": "40ea6da8-68a9-4952-9706-272ba1732c37",
   "metadata": {},
   "outputs": [
    {
     "name": "stdout",
     "output_type": "stream",
     "text": [
      "Help on function hoyllueve in module __main__:\n",
      "\n",
      "hoyllueve()\n",
      "    Acá vendría a venir una\n",
      "    pequeña descripción de lo\n",
      "    que se supone que tiene que\n",
      "    hacer esta función, cómo se\n",
      "    utiliza, etc\n",
      "\n"
     ]
    }
   ],
   "source": [
    "help(hoyllueve)"
   ]
  },
  {
   "cell_type": "code",
   "execution_count": 38,
   "id": "d687b86d-fbaf-4b03-8650-b4679b48d511",
   "metadata": {},
   "outputs": [
    {
     "name": "stdout",
     "output_type": "stream",
     "text": [
      "Help on built-in function print in module builtins:\n",
      "\n",
      "print(*args, sep=' ', end='\\n', file=None, flush=False)\n",
      "    Prints the values to a stream, or to sys.stdout by default.\n",
      "\n",
      "    sep\n",
      "      string inserted between values, default a space.\n",
      "    end\n",
      "      string appended after the last value, default a newline.\n",
      "    file\n",
      "      a file-like object (stream); defaults to the current sys.stdout.\n",
      "    flush\n",
      "      whether to forcibly flush the stream.\n",
      "\n"
     ]
    }
   ],
   "source": [
    "help(print)"
   ]
  },
  {
   "cell_type": "code",
   "execution_count": 39,
   "id": "22c47f7a-874e-4d31-8c92-bb1abc0d6b17",
   "metadata": {},
   "outputs": [
    {
     "name": "stdout",
     "output_type": "stream",
     "text": [
      "1---2---3\n"
     ]
    }
   ],
   "source": [
    "print(1, 2, 3, sep='---')"
   ]
  },
  {
   "cell_type": "code",
   "execution_count": 41,
   "id": "77b3c4ed-4f67-4320-9f8a-e77845c8c4fa",
   "metadata": {},
   "outputs": [
    {
     "name": "stdout",
     "output_type": "stream",
     "text": [
      " askjdfhaksdjh kjlasdh \n",
      "fkljasd klhjsd fhlkasjd l\n",
      "ksajdhfkjasdfg\n",
      " sakjdhfkjas sdfa kjfahs dfjh asd\n",
      " s adfkjf hl\n",
      " as djkfh\n",
      " \n"
     ]
    }
   ],
   "source": [
    "cadenalarga = ''' askjdfhaksdjh kjlasdh \n",
    "fkljasd klhjsd fhlkasjd l\n",
    "ksajdhfkjasdfg\n",
    " sakjdhfkjas sdfa kjfahs dfjh asd\n",
    " s adfkjf hl\n",
    " as djkfh\n",
    " '''\n",
    "print(cadenalarga)"
   ]
  },
  {
   "cell_type": "code",
   "execution_count": 63,
   "id": "f29ff724-5572-46da-84e0-619f1f9e0a0c",
   "metadata": {},
   "outputs": [
    {
     "name": "stdout",
     "output_type": "stream",
     "text": [
      "123456 hola!\n"
     ]
    },
    {
     "data": {
      "text/plain": [
       "0"
      ]
     },
     "execution_count": 63,
     "metadata": {},
     "output_type": "execute_result"
    }
   ],
   "source": [
    "def alcahuete_de_tipos(nombre:str, x: int = 123456) -> int:\n",
    "    ''' en esta función decimos el tipo\n",
    "    de los argumentos y el tipo\n",
    "    de lo que devuelve'''\n",
    "    print(x, nombre)\n",
    "    return 0\n",
    "alcahuete_de_tipos('hola!')"
   ]
  },
  {
   "cell_type": "code",
   "execution_count": 44,
   "id": "987c7e67-c77b-4444-ae4b-8d61bcd0581a",
   "metadata": {},
   "outputs": [
    {
     "name": "stdout",
     "output_type": "stream",
     "text": [
      "Help on function alcahuete_de_tipos in module __main__:\n",
      "\n",
      "alcahuete_de_tipos(x: int, nombre: str) -> int\n",
      "    en esta función decimos el tipo\n",
      "    de los argumentos y el tipo\n",
      "    de lo que devuelve\n",
      "\n"
     ]
    }
   ],
   "source": [
    "help()"
   ]
  },
  {
   "cell_type": "code",
   "execution_count": 46,
   "id": "c17e5273-92d8-47d1-9d91-9a77a8a6be3d",
   "metadata": {},
   "outputs": [
    {
     "name": "stdout",
     "output_type": "stream",
     "text": [
      "hola 1\n"
     ]
    },
    {
     "data": {
      "text/plain": [
       "0"
      ]
     },
     "execution_count": 46,
     "metadata": {},
     "output_type": "execute_result"
    }
   ],
   "source": [
    "alcahuete_de_tipos('hola', 1)"
   ]
  },
  {
   "cell_type": "code",
   "execution_count": 70,
   "id": "eb94f9a3-a205-4085-8a87-888d10b51673",
   "metadata": {},
   "outputs": [
    {
     "data": {
      "text/plain": [
       "{1: 1, 2: 3, 3333: 1, 3: 4}"
      ]
     },
     "execution_count": 70,
     "metadata": {},
     "output_type": "execute_result"
    }
   ],
   "source": [
    "#pregunta damián\n",
    "\n",
    "def frecuencia(lista:list) -> dict:\n",
    "    '''devuelve un diccionario\n",
    "    con la cantidad de veces\n",
    "    que cada cosa está en la lista'''\n",
    "    frec = dict.fromkeys(lista, 0)\n",
    "    for i in lista:\n",
    "        frec[i] += 1\n",
    "    return frec\n",
    "\n",
    "frecuencia([1, 2, 3333, 3, 3, 3, 3, 2, 2])\n",
    "        "
   ]
  },
  {
   "cell_type": "code",
   "execution_count": 82,
   "id": "90ed0bed-c970-4603-9708-6aa0b685770b",
   "metadata": {},
   "outputs": [],
   "source": [
    "def sinohagonada(x):\n",
    "    if not isinstance(x, str):\n",
    "        pass\n",
    "    else:\n",
    "        print(x)\n",
    "        \n",
    "    "
   ]
  },
  {
   "cell_type": "code",
   "execution_count": 84,
   "id": "4493ec3a-0530-47da-8564-bac7265ef86e",
   "metadata": {},
   "outputs": [
    {
     "name": "stdout",
     "output_type": "stream",
     "text": [
      "asdf\n"
     ]
    }
   ],
   "source": [
    "  \n",
    "sinohagonada('asdf')"
   ]
  },
  {
   "cell_type": "code",
   "execution_count": null,
   "id": "70026d4e-c929-4ff1-bef0-1ebdb4fd7854",
   "metadata": {},
   "outputs": [],
   "source": []
  }
 ],
 "metadata": {
  "kernelspec": {
   "display_name": "Python 3 (ipykernel)",
   "language": "python",
   "name": "python3"
  },
  "language_info": {
   "codemirror_mode": {
    "name": "ipython",
    "version": 3
   },
   "file_extension": ".py",
   "mimetype": "text/x-python",
   "name": "python",
   "nbconvert_exporter": "python",
   "pygments_lexer": "ipython3",
   "version": "3.12.3"
  }
 },
 "nbformat": 4,
 "nbformat_minor": 5
}
