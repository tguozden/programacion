{
 "cells": [
  {
   "cell_type": "code",
   "execution_count": 3,
   "id": "070d78d5-a106-44f0-98a8-34daae4f3620",
   "metadata": {},
   "outputs": [],
   "source": [
    "# algunas cosas más de datetime"
   ]
  },
  {
   "cell_type": "code",
   "execution_count": 1,
   "id": "0cacb39a-b41d-432e-a80b-1acc4fba7efd",
   "metadata": {},
   "outputs": [],
   "source": [
    "import datetime\n",
    "import numpy as np"
   ]
  },
  {
   "cell_type": "code",
   "execution_count": 2,
   "id": "2d4b8ece-97db-401f-85c3-f87f4a647288",
   "metadata": {},
   "outputs": [],
   "source": [
    "# queremos hacer una lista de los días 1 de cada mes\n",
    "# ['2025-01-01', '2025-02-01', ..]"
   ]
  },
  {
   "cell_type": "code",
   "execution_count": 3,
   "id": "fedc2c1b-bfc7-46ea-9674-684b9bbd1432",
   "metadata": {},
   "outputs": [
    {
     "name": "stdout",
     "output_type": "stream",
     "text": [
      "2025-01-01\n"
     ]
    }
   ],
   "source": [
    "primer_dia = datetime.date(2025, 1, 1)\n",
    "print(primer_dia)"
   ]
  },
  {
   "cell_type": "code",
   "execution_count": 4,
   "id": "b6c4ed5a-ba1b-4ad2-b8cc-32a481e112ad",
   "metadata": {},
   "outputs": [
    {
     "name": "stdout",
     "output_type": "stream",
     "text": [
      "[datetime.date(2025, 1, 1), datetime.date(2025, 2, 1), datetime.date(2025, 3, 1), datetime.date(2025, 4, 1), datetime.date(2025, 5, 1), datetime.date(2025, 6, 1), datetime.date(2025, 7, 1), datetime.date(2025, 8, 1), datetime.date(2025, 9, 1), datetime.date(2025, 10, 1), datetime.date(2025, 11, 1), datetime.date(2025, 12, 1)]\n"
     ]
    }
   ],
   "source": [
    "lista_1eromes = []\n",
    "for mes in range(1, 13):\n",
    "    lista_1eromes.append(datetime.date(2025, mes, 1))\n",
    "print(lista_1eromes)"
   ]
  },
  {
   "cell_type": "code",
   "execution_count": 5,
   "id": "0cad0722-d24b-4cf5-9607-20521a7d40ea",
   "metadata": {},
   "outputs": [
    {
     "name": "stdout",
     "output_type": "stream",
     "text": [
      "[0 1 2 3 4 5 6 7 8 9]\n"
     ]
    }
   ],
   "source": [
    "miprimerarray = np.arange(10)\n",
    "print(miprimerarray)"
   ]
  },
  {
   "cell_type": "code",
   "execution_count": 6,
   "id": "f0bbc62f-e79a-4956-9028-709248b5cf0c",
   "metadata": {},
   "outputs": [
    {
     "data": {
      "text/plain": [
       "dtype('int64')"
      ]
     },
     "execution_count": 6,
     "metadata": {},
     "output_type": "execute_result"
    }
   ],
   "source": [
    "miprimerarray.dtype"
   ]
  },
  {
   "cell_type": "code",
   "execution_count": 7,
   "id": "1ecd662b-1a7c-42e3-a9b0-eb65d023aa6d",
   "metadata": {},
   "outputs": [
    {
     "data": {
      "text/plain": [
       "array([0, 1, 2, 3, 4, 5, 6, 7, 8, 9], dtype=int8)"
      ]
     },
     "execution_count": 7,
     "metadata": {},
     "output_type": "execute_result"
    }
   ],
   "source": [
    "miprimerarray.astype('int8')"
   ]
  },
  {
   "cell_type": "code",
   "execution_count": 8,
   "id": "11c43c7a-6860-4343-8c1d-f7808c43a7e8",
   "metadata": {},
   "outputs": [
    {
     "data": {
      "text/plain": [
       "array([ 125,  126,  127, -128, -127, -126, -125, -124, -123, -122],\n",
       "      dtype=int8)"
      ]
     },
     "execution_count": 8,
     "metadata": {},
     "output_type": "execute_result"
    }
   ],
   "source": [
    "(miprimerarray + 125).astype('int8')"
   ]
  },
  {
   "cell_type": "code",
   "execution_count": 9,
   "id": "a9ba3263-1b7d-49cc-a276-b6fb6a9aadbd",
   "metadata": {},
   "outputs": [
    {
     "data": {
      "text/plain": [
       "np.datetime64('2025-01-01')"
      ]
     },
     "execution_count": 9,
     "metadata": {},
     "output_type": "execute_result"
    }
   ],
   "source": [
    "np.datetime64( datetime.date(2025, 1, 1) )"
   ]
  },
  {
   "cell_type": "code",
   "execution_count": 10,
   "id": "c5c02d33-d33b-43fa-bbc3-b6cb326a7c63",
   "metadata": {},
   "outputs": [
    {
     "name": "stdout",
     "output_type": "stream",
     "text": [
      "2025-01-01\n"
     ]
    }
   ],
   "source": [
    "fecha_numpy = np.datetime64('2025-01-01')\n",
    "print(fecha_numpy)"
   ]
  },
  {
   "cell_type": "code",
   "execution_count": 11,
   "id": "53c15773-69eb-4486-8983-e70d0929cdb9",
   "metadata": {},
   "outputs": [
    {
     "data": {
      "text/plain": [
       "dtype('<M8[D]')"
      ]
     },
     "execution_count": 11,
     "metadata": {},
     "output_type": "execute_result"
    }
   ],
   "source": [
    "fecha_numpy.dtype"
   ]
  },
  {
   "cell_type": "code",
   "execution_count": 12,
   "id": "1c2a00e2-9c20-4f61-800c-c4f70583ca73",
   "metadata": {},
   "outputs": [
    {
     "data": {
      "text/plain": [
       "array(['2025-01-01', '2025-01-02', '2025-01-03', '2025-01-04',\n",
       "       '2025-01-05', '2025-01-06', '2025-01-07', '2025-01-08',\n",
       "       '2025-01-09', '2025-01-10', '2025-01-11', '2025-01-12',\n",
       "       '2025-01-13', '2025-01-14', '2025-01-15', '2025-01-16',\n",
       "       '2025-01-17', '2025-01-18', '2025-01-19', '2025-01-20',\n",
       "       '2025-01-21', '2025-01-22', '2025-01-23', '2025-01-24',\n",
       "       '2025-01-25', '2025-01-26', '2025-01-27', '2025-01-28',\n",
       "       '2025-01-29', '2025-01-30', '2025-01-31'], dtype='datetime64[D]')"
      ]
     },
     "execution_count": 12,
     "metadata": {},
     "output_type": "execute_result"
    }
   ],
   "source": [
    "np.arange(np.datetime64('2025-01-01'), np.datetime64('2025-02-01'))"
   ]
  },
  {
   "cell_type": "code",
   "execution_count": 13,
   "id": "054973f9-61fd-49a9-bafa-4f56c72d0cb8",
   "metadata": {},
   "outputs": [
    {
     "name": "stdout",
     "output_type": "stream",
     "text": [
      "['2025-01' '2025-02' '2025-03' '2025-04' '2025-05' '2025-06' '2025-07'\n",
      " '2025-08' '2025-09' '2025-10' '2025-11' '2025-12']\n"
     ]
    }
   ],
   "source": [
    "lista_meses = np.arange(np.datetime64('2025-01'), np.datetime64('2026-01'))\n",
    "print(lista_meses)"
   ]
  },
  {
   "cell_type": "code",
   "execution_count": 14,
   "id": "3b7c9d45-878c-45eb-be61-2bcb6ffefb56",
   "metadata": {},
   "outputs": [
    {
     "data": {
      "text/plain": [
       "dtype('<M8[M]')"
      ]
     },
     "execution_count": 14,
     "metadata": {},
     "output_type": "execute_result"
    }
   ],
   "source": [
    "np.datetime64('2025-01').dtype"
   ]
  },
  {
   "cell_type": "code",
   "execution_count": 15,
   "id": "c8fb2134-064f-4e46-a160-214a0ab44811",
   "metadata": {},
   "outputs": [
    {
     "name": "stdout",
     "output_type": "stream",
     "text": [
      "datetime64[M]\n"
     ]
    }
   ],
   "source": [
    "print(lista_meses.dtype)"
   ]
  },
  {
   "cell_type": "code",
   "execution_count": 16,
   "id": "2da53f6b-aa81-4a0b-a52f-8797b37fbd15",
   "metadata": {},
   "outputs": [
    {
     "data": {
      "text/plain": [
       "array(['2025-01-01', '2025-02-01', '2025-03-01', '2025-04-01',\n",
       "       '2025-05-01', '2025-06-01', '2025-07-01', '2025-08-01',\n",
       "       '2025-09-01', '2025-10-01', '2025-11-01', '2025-12-01'],\n",
       "      dtype='datetime64[D]')"
      ]
     },
     "execution_count": 16,
     "metadata": {},
     "output_type": "execute_result"
    }
   ],
   "source": [
    "lista_meses.astype('datetime64[D]')"
   ]
  },
  {
   "cell_type": "code",
   "execution_count": 17,
   "id": "2583d646-125b-43a0-b4ec-e359a911ebb3",
   "metadata": {},
   "outputs": [
    {
     "data": {
      "text/plain": [
       "array(['2025-01-01T00', '2025-02-01T00', '2025-03-01T00', '2025-04-01T00',\n",
       "       '2025-05-01T00', '2025-06-01T00', '2025-07-01T00', '2025-08-01T00',\n",
       "       '2025-09-01T00', '2025-10-01T00', '2025-11-01T00', '2025-12-01T00'],\n",
       "      dtype='datetime64[h]')"
      ]
     },
     "execution_count": 17,
     "metadata": {},
     "output_type": "execute_result"
    }
   ],
   "source": [
    "lista_meses.astype('datetime64[h]')"
   ]
  },
  {
   "cell_type": "code",
   "execution_count": 18,
   "id": "7988a00e-522d-437c-b1a3-3867c6b5f202",
   "metadata": {},
   "outputs": [
    {
     "name": "stdout",
     "output_type": "stream",
     "text": [
      "[1 2 3 4 6]\n"
     ]
    }
   ],
   "source": [
    "# cumsum y diff en numpy\n",
    "array = np.array([1, 2, 3, 4, 6])\n",
    "print(array)"
   ]
  },
  {
   "cell_type": "code",
   "execution_count": 19,
   "id": "3a0761e1-f4b0-44fb-b3ad-aa7eb03646d8",
   "metadata": {},
   "outputs": [
    {
     "data": {
      "text/plain": [
       "array([ 1,  3,  6, 10, 16])"
      ]
     },
     "execution_count": 19,
     "metadata": {},
     "output_type": "execute_result"
    }
   ],
   "source": [
    "array.cumsum() # como método"
   ]
  },
  {
   "cell_type": "code",
   "execution_count": 20,
   "id": "342962cb-b9d0-4860-836c-d5c6c3a0040f",
   "metadata": {},
   "outputs": [
    {
     "data": {
      "text/plain": [
       "array([ 1,  3,  6, 10, 16])"
      ]
     },
     "execution_count": 20,
     "metadata": {},
     "output_type": "execute_result"
    }
   ],
   "source": [
    "np.cumsum(array) # como función"
   ]
  },
  {
   "cell_type": "code",
   "execution_count": 21,
   "id": "50ff1db7-a96c-4c62-985b-2d6145b0c729",
   "metadata": {},
   "outputs": [
    {
     "name": "stdout",
     "output_type": "stream",
     "text": [
      "[1 2 3 4 6] \n",
      " [1 1 1 2]\n"
     ]
    }
   ],
   "source": [
    "print(array, '\\n', np.diff(array))   # devuelve un array de tamaño N-1"
   ]
  },
  {
   "cell_type": "code",
   "execution_count": 22,
   "id": "3ae3c9cc-ed30-4c48-93bf-043d83516713",
   "metadata": {},
   "outputs": [
    {
     "name": "stdout",
     "output_type": "stream",
     "text": [
      "['2025-01' '2025-02' '2025-03' '2025-04' '2025-05' '2025-06' '2025-07'\n",
      " '2025-08' '2025-09' '2025-10' '2025-11' '2025-12']\n"
     ]
    },
    {
     "data": {
      "text/plain": [
       "array([31, 28, 31, 30, 31, 30, 31, 31, 30, 31, 30], dtype='timedelta64[D]')"
      ]
     },
     "execution_count": 22,
     "metadata": {},
     "output_type": "execute_result"
    }
   ],
   "source": [
    "print(lista_meses)\n",
    "np.diff(lista_meses.astype('datetime64[D]'))"
   ]
  },
  {
   "cell_type": "code",
   "execution_count": 23,
   "id": "d74ea06c-3d9e-497a-8fc8-239d7cf6d1d0",
   "metadata": {},
   "outputs": [
    {
     "data": {
      "text/plain": [
       "array(['2025-02-01', '2025-03-01', '2025-04-01', '2025-05-01',\n",
       "       '2025-06-01', '2025-07-01', '2025-08-01', '2025-09-01',\n",
       "       '2025-10-01', '2025-11-01', '2025-12-01'], dtype='datetime64[D]')"
      ]
     },
     "execution_count": 23,
     "metadata": {},
     "output_type": "execute_result"
    }
   ],
   "source": [
    "lista_meses[:-1] + np.diff(lista_meses.astype('datetime64[D]'))"
   ]
  },
  {
   "cell_type": "code",
   "execution_count": 24,
   "id": "8b367396-aafa-4bf6-a9e1-cc6d65104241",
   "metadata": {},
   "outputs": [
    {
     "ename": "ValueError",
     "evalue": "operands could not be broadcast together with shapes (3,) (4,) ",
     "output_type": "error",
     "traceback": [
      "\u001b[0;31m---------------------------------------------------------------------------\u001b[0m",
      "\u001b[0;31mValueError\u001b[0m                                Traceback (most recent call last)",
      "Cell \u001b[0;32mIn[24], line 1\u001b[0m\n\u001b[0;32m----> 1\u001b[0m \u001b[43mnp\u001b[49m\u001b[38;5;241;43m.\u001b[39;49m\u001b[43marray\u001b[49m\u001b[43m(\u001b[49m\u001b[43m[\u001b[49m\u001b[38;5;241;43m0\u001b[39;49m\u001b[43m,\u001b[49m\u001b[43m \u001b[49m\u001b[38;5;241;43m1\u001b[39;49m\u001b[43m,\u001b[49m\u001b[43m \u001b[49m\u001b[38;5;241;43m2\u001b[39;49m\u001b[43m]\u001b[49m\u001b[43m)\u001b[49m\u001b[43m  \u001b[49m\u001b[38;5;241;43m+\u001b[39;49m\u001b[43m \u001b[49m\u001b[43mnp\u001b[49m\u001b[38;5;241;43m.\u001b[39;49m\u001b[43marray\u001b[49m\u001b[43m(\u001b[49m\u001b[43m[\u001b[49m\u001b[38;5;241;43m0\u001b[39;49m\u001b[43m,\u001b[49m\u001b[43m \u001b[49m\u001b[38;5;241;43m1\u001b[39;49m\u001b[43m,\u001b[49m\u001b[43m \u001b[49m\u001b[38;5;241;43m2\u001b[39;49m\u001b[43m,\u001b[49m\u001b[43m \u001b[49m\u001b[38;5;241;43m3\u001b[39;49m\u001b[43m]\u001b[49m\u001b[43m)\u001b[49m\n",
      "\u001b[0;31mValueError\u001b[0m: operands could not be broadcast together with shapes (3,) (4,) "
     ]
    }
   ],
   "source": [
    "np.array([0, 1, 2])  + np.array([0, 1, 2, 3])"
   ]
  },
  {
   "cell_type": "code",
   "execution_count": null,
   "id": "0b7c3fad-c39d-44d2-b1cd-2e383888d510",
   "metadata": {},
   "outputs": [],
   "source": [
    "np.ones((5, 5)).cumsum(axis=0)"
   ]
  },
  {
   "cell_type": "code",
   "execution_count": 25,
   "id": "7a0c4880-cccd-4f42-a431-7104e02ddfb4",
   "metadata": {},
   "outputs": [
    {
     "data": {
      "text/plain": [
       "array([[1., 2., 3., 4., 5.],\n",
       "       [1., 2., 3., 4., 5.],\n",
       "       [1., 2., 3., 4., 5.],\n",
       "       [1., 2., 3., 4., 5.],\n",
       "       [1., 2., 3., 4., 5.]])"
      ]
     },
     "execution_count": 25,
     "metadata": {},
     "output_type": "execute_result"
    }
   ],
   "source": [
    "np.ones((5, 5)).cumsum(axis=1)"
   ]
  },
  {
   "cell_type": "code",
   "execution_count": 26,
   "id": "389bca89-a94e-4e88-9c5d-63f7de0b6103",
   "metadata": {},
   "outputs": [],
   "source": [
    "# propuesta: lista de lunes de 2025\n",
    "# primer lunes: '2025-01-06'"
   ]
  },
  {
   "cell_type": "code",
   "execution_count": 27,
   "id": "758feb68-826d-49c6-aeaa-2d763cc6d87e",
   "metadata": {},
   "outputs": [
    {
     "data": {
      "text/plain": [
       "array([1., 1., 1., 1., 1., 1., 1., 1., 1., 1., 1., 1., 1., 1., 1., 1., 1.,\n",
       "       1., 1., 1., 1., 1., 1., 1., 1., 1., 1., 1., 1., 1., 1., 1., 1., 1.,\n",
       "       1., 1., 1., 1., 1., 1., 1., 1., 1., 1., 1., 1., 1., 1., 1., 1.])"
      ]
     },
     "execution_count": 27,
     "metadata": {},
     "output_type": "execute_result"
    }
   ],
   "source": [
    "np.reshape(np.ones((5, 2, 5)),-1)"
   ]
  },
  {
   "cell_type": "code",
   "execution_count": 28,
   "id": "fc382267-d284-4a5a-a303-f770aac42da2",
   "metadata": {},
   "outputs": [],
   "source": [
    "from matplotlib import pyplot as plt"
   ]
  },
  {
   "cell_type": "code",
   "execution_count": 29,
   "id": "16a45053-f3dc-45d7-bc0e-f88465f660c8",
   "metadata": {},
   "outputs": [],
   "source": [
    "x=np.linspace(-10, 10, 100)\n",
    "y1=np.sin(x)\n",
    "y2=np.cos(x)\n",
    "y3=np.tan(x)\n"
   ]
  },
  {
   "cell_type": "code",
   "execution_count": 30,
   "id": "9df5956e-facd-4886-bb99-654124b4f382",
   "metadata": {},
   "outputs": [
    {
     "data": {
      "image/png": "[encoded data removed]",
      "text/plain": [
       "<Figure size 1000x400 with 3 Axes>"
      ]
     },
     "metadata": {},
     "output_type": "display_data"
    }
   ],
   "source": [
    "fig, axes = plt.subplots(1, 3, figsize=(10,4), sharey=True)\n",
    "# axes[0], axes[1]\n",
    "axes[0].plot(x, y1)\n",
    "axes[1].plot(x, y2)\n",
    "axes[2].plot(x, y3, '-')\n",
    "axes[0].set_ylim(-4,4)\n",
    "plt.show()"
   ]
  },
  {
   "cell_type": "code",
   "execution_count": 31,
   "id": "e7d1c931-0e1b-4495-b6d2-fde632f466d6",
   "metadata": {},
   "outputs": [],
   "source": [
    "mat=[y1, y2, y3]"
   ]
  },
  {
   "cell_type": "code",
   "execution_count": 32,
   "id": "de516afb-ae5d-48f1-bf61-42615c12a5df",
   "metadata": {},
   "outputs": [
    {
     "data": {
      "image/png": "[encoded data removed]",
      "text/plain": [
       "<Figure size 1000x400 with 3 Axes>"
      ]
     },
     "metadata": {},
     "output_type": "display_data"
    }
   ],
   "source": [
    "fig, axes = plt.subplots(1, 3, figsize=(10,4), sharey=True)\n",
    "for i, ax in enumerate(axes):\n",
    "    ax.plot(x, mat[i])\n",
    "plt.show()"
   ]
  },
  {
   "cell_type": "code",
   "execution_count": 33,
   "id": "65cb9a97-4c55-4676-8a0f-f08e8de075ed",
   "metadata": {},
   "outputs": [
    {
     "name": "stdout",
     "output_type": "stream",
     "text": [
      "1970-01-01T00:00:00\n"
     ]
    }
   ],
   "source": [
    "print(np.datetime64(0,'s'))"
   ]
  },
  {
   "cell_type": "code",
   "execution_count": 34,
   "id": "551bf4ba-53fd-4f23-a920-e06981bbdc82",
   "metadata": {},
   "outputs": [
    {
     "data": {
      "text/plain": [
       "datetime.datetime(1969, 12, 31, 21, 0)"
      ]
     },
     "execution_count": 34,
     "metadata": {},
     "output_type": "execute_result"
    }
   ],
   "source": [
    "datetime.datetime.fromtimestamp(0)"
   ]
  },
  {
   "cell_type": "code",
   "execution_count": 35,
   "id": "75270d7b-7bdf-45da-a216-86152afab534",
   "metadata": {},
   "outputs": [
    {
     "data": {
      "text/plain": [
       "datetime.datetime(1969, 12, 31, 21, 0)"
      ]
     },
     "execution_count": 35,
     "metadata": {},
     "output_type": "execute_result"
    }
   ],
   "source": [
    "datetime.datetime.fromtimestamp(0)"
   ]
  },
  {
   "cell_type": "code",
   "execution_count": 36,
   "id": "70eb3b15-0e35-4e2f-a8c1-903b655b29ce",
   "metadata": {},
   "outputs": [],
   "source": [
    "t_desde_epoch = datetime.datetime.now() - datetime.datetime.fromtimestamp(0)"
   ]
  },
  {
   "cell_type": "code",
   "execution_count": 37,
   "id": "b86ee567-00c3-4225-99b9-aba457efc7c3",
   "metadata": {},
   "outputs": [
    {
     "data": {
      "text/plain": [
       "datetime.timedelta(days=365)"
      ]
     },
     "execution_count": 37,
     "metadata": {},
     "output_type": "execute_result"
    }
   ],
   "source": [
    "datetime.timedelta(days=365)"
   ]
  },
  {
   "cell_type": "code",
   "execution_count": 38,
   "id": "08e4fe8a-483d-485a-a1e5-926ec85e02b0",
   "metadata": {},
   "outputs": [
    {
     "data": {
      "text/plain": [
       "55.74662200314206"
      ]
     },
     "execution_count": 38,
     "metadata": {},
     "output_type": "execute_result"
    }
   ],
   "source": [
    "t_desde_epoch/datetime.timedelta(days=365)"
   ]
  },
  {
   "cell_type": "code",
   "execution_count": 39,
   "id": "d078dc6d-642b-4043-a163-e3522e92e9c6",
   "metadata": {},
   "outputs": [
    {
     "data": {
      "text/plain": [
       "datetime.datetime(2025, 1, 1, 0, 0)"
      ]
     },
     "execution_count": 39,
     "metadata": {},
     "output_type": "execute_result"
    }
   ],
   "source": [
    "datetime.datetime.strptime('20250101','%Y%m%d')"
   ]
  },
  {
   "cell_type": "code",
   "execution_count": 69,
   "id": "e3349885-4486-4e69-85b6-0c621fc30b30",
   "metadata": {},
   "outputs": [
    {
     "name": "stdout",
     "output_type": "stream",
     "text": [
      "20332 days\n",
      "55 years\n",
      "55.0\n"
     ]
    }
   ],
   "source": [
    "intervalo =  np.datetime64('2025-09-01')-np.datetime64(0,'Y')\n",
    "print(intervalo)\n",
    "años = intervalo.astype('timedelta64[Y]')\n",
    "print(años)\n",
    "años_num = años.astype(float)\n",
    "print(años_num)"
   ]
  },
  {
   "cell_type": "code",
   "execution_count": 70,
   "id": "74cff3cd-1ef1-41ae-b6d3-03d3cd9a9dd3",
   "metadata": {},
   "outputs": [
    {
     "name": "stdout",
     "output_type": "stream",
     "text": [
      "1756684800 seconds\n",
      "55 years\n"
     ]
    }
   ],
   "source": [
    "intervalo = np.datetime64('2025-09-01').astype('datetime64[s]')-np.datetime64(0,'s')\n",
    "print(intervalo)\n",
    "años = intervalo.astype('timedelta64[Y]')\n",
    "print(años)\n"
   ]
  },
  {
   "cell_type": "code",
   "execution_count": null,
   "id": "0d388b41-c15d-4b71-a848-ed6484fc6dc9",
   "metadata": {},
   "outputs": [],
   "source": []
  }
 ],
 "metadata": {
  "kernelspec": {
   "display_name": "Python 3 (ipykernel)",
   "language": "python",
   "name": "python3"
  },
  "language_info": {
   "codemirror_mode": {
    "name": "ipython",
    "version": 3
   },
   "file_extension": ".py",
   "mimetype": "text/x-python",
   "name": "python",
   "nbconvert_exporter": "python",
   "pygments_lexer": "ipython3",
   "version": "3.12.3"
  }
 },
 "nbformat": 4,
 "nbformat_minor": 5
}
