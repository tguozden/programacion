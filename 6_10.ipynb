{
 "cells": [
  {
   "cell_type": "code",
   "execution_count": 6,
   "id": "c4410d6f-4327-48f0-aebf-edf559fa087d",
   "metadata": {},
   "outputs": [
    {
     "name": "stdout",
     "output_type": "stream",
     "text": [
      "1\n",
      "2\n",
      "3\n",
      "hola\n",
      "mundo\n",
      "\n"
     ]
    }
   ],
   "source": [
    "archivo = open('holamundo.txt', 'r') \n",
    "print(archivo.read())\n",
    "archivo.close()"
   ]
  },
  {
   "cell_type": "code",
   "execution_count": 7,
   "id": "5670f8de-c818-4d04-afa6-496dd1cb16d4",
   "metadata": {},
   "outputs": [
    {
     "name": "stdout",
     "output_type": "stream",
     "text": [
      "1\n",
      "2\n",
      "3\n",
      "hola\n",
      "mundo\n",
      "\n"
     ]
    }
   ],
   "source": [
    "with open('holamundo.txt','r') as martes:\n",
    "    print(martes.read())\n",
    "\n"
   ]
  },
  {
   "cell_type": "code",
   "execution_count": 9,
   "id": "166fed50-65b1-44a0-ae4f-3494ef2d5e84",
   "metadata": {},
   "outputs": [
    {
     "ename": "ValueError",
     "evalue": "I/O operation on closed file.",
     "output_type": "error",
     "traceback": [
      "\u001b[0;31m---------------------------------------------------------------------------\u001b[0m",
      "\u001b[0;31mValueError\u001b[0m                                Traceback (most recent call last)",
      "Cell \u001b[0;32mIn[9], line 1\u001b[0m\n\u001b[0;32m----> 1\u001b[0m \u001b[43mmartes\u001b[49m\u001b[38;5;241;43m.\u001b[39;49m\u001b[43mread\u001b[49m\u001b[43m(\u001b[49m\u001b[43m)\u001b[49m\n",
      "\u001b[0;31mValueError\u001b[0m: I/O operation on closed file."
     ]
    }
   ],
   "source": [
    "martes.read()"
   ]
  },
  {
   "cell_type": "code",
   "execution_count": 13,
   "id": "26e55a4e-b7dc-47dd-a58f-43e0871ef612",
   "metadata": {},
   "outputs": [
    {
     "name": "stdout",
     "output_type": "stream",
     "text": [
      "falló\n"
     ]
    }
   ],
   "source": [
    "try:        \n",
    "    with open('noesta.txt', 'r') as martes:\n",
    "        print(martes.read())\n",
    "except FileNotFoundError:\n",
    "    print('falló')"
   ]
  },
  {
   "cell_type": "code",
   "execution_count": 16,
   "id": "0ca46907-0f3b-402b-882f-50ae7f174b2f",
   "metadata": {},
   "outputs": [],
   "source": [
    "a = [1, 2, 3, 4]"
   ]
  },
  {
   "cell_type": "code",
   "execution_count": 18,
   "id": "9db4ab60-eb60-44f8-91d6-9bcfdb5d421f",
   "metadata": {},
   "outputs": [
    {
     "ename": "IndexError",
     "evalue": "list index out of range",
     "output_type": "error",
     "traceback": [
      "\u001b[0;31m---------------------------------------------------------------------------\u001b[0m",
      "\u001b[0;31mIndexError\u001b[0m                                Traceback (most recent call last)",
      "Cell \u001b[0;32mIn[18], line 1\u001b[0m\n\u001b[0;32m----> 1\u001b[0m \u001b[43ma\u001b[49m\u001b[43m[\u001b[49m\u001b[38;5;241;43m5\u001b[39;49m\u001b[43m]\u001b[49m\n",
      "\u001b[0;31mIndexError\u001b[0m: list index out of range"
     ]
    }
   ],
   "source": [
    "a[5]"
   ]
  },
  {
   "cell_type": "code",
   "execution_count": 25,
   "id": "febf79a3-d3a5-4601-b989-a77eb31d4bc7",
   "metadata": {},
   "outputs": [
    {
     "name": "stdout",
     "output_type": "stream",
     "text": [
      "fallon error: [Errno 2] No such file or directory: 'noesta.txt'\n"
     ]
    }
   ],
   "source": [
    "try:        \n",
    "    with open('noesta.txt', 'r') as martes:\n",
    "        print(martes.read())\n",
    "except Exception as martin:\n",
    "    print('fallon error:', martin)"
   ]
  },
  {
   "cell_type": "code",
   "execution_count": 26,
   "id": "e0683e6f-4f82-46e5-b93a-a3f8479e75de",
   "metadata": {},
   "outputs": [
    {
     "name": "stdout",
     "output_type": "stream",
     "text": [
      "El error es\n",
      " list index out of range\n"
     ]
    }
   ],
   "source": [
    "listita = [1, 2, 3]\n",
    "try:\n",
    "    print(listita[6])\n",
    "except Exception as error:\n",
    "    print('El error es\\n', error)"
   ]
  },
  {
   "cell_type": "code",
   "execution_count": null,
   "id": "f63b5e81-b033-4440-bc9e-79077ad80859",
   "metadata": {},
   "outputs": [],
   "source": [
    "help(listita)"
   ]
  },
  {
   "cell_type": "code",
   "execution_count": 29,
   "id": "ca86b836-523b-499b-8fef-2bbebf18f1ad",
   "metadata": {},
   "outputs": [
    {
     "name": "stdout",
     "output_type": "stream",
     "text": [
      "<class 'tuple'>\n",
      "1\n",
      "2\n",
      "3\n",
      "hola\n",
      "chau\n"
     ]
    }
   ],
   "source": [
    "def damian(*args):\n",
    "    print(type(args))\n",
    "    for i in args:\n",
    "        print(i)\n",
    "damian(1, 2, 3, 'hola', 'chau')\n"
   ]
  },
  {
   "cell_type": "code",
   "execution_count": 30,
   "id": "6212411a-b2ac-4c02-949b-36dd6e6777f6",
   "metadata": {},
   "outputs": [
    {
     "name": "stdout",
     "output_type": "stream",
     "text": [
      "a 1\n",
      "b 2\n",
      "c funciona?\n"
     ]
    }
   ],
   "source": [
    "def maty(**kwargs):\n",
    "    for clave in kwargs:\n",
    "        print(clave, kwargs[clave])\n",
    "\n",
    "maty(a=1, b=2, c='funciona?')"
   ]
  },
  {
   "cell_type": "code",
   "execution_count": 32,
   "id": "d2aa746b-c0d9-49b1-a02d-138d9304a144",
   "metadata": {},
   "outputs": [],
   "source": [
    "def sublista_menores(datos:list[int], referencia:int)->list[int]:\n",
    "    '''la función devuelve una lista con los valores\n",
    "    dentro de la lista datos menores al valor referencia\n",
    "    usar listas por comprensión'''\n",
    "\n",
    "\n",
    "    "
   ]
  },
  {
   "cell_type": "code",
   "execution_count": 33,
   "id": "f8ae2773-21f1-408c-9558-fa423ddc0bcc",
   "metadata": {},
   "outputs": [
    {
     "name": "stdout",
     "output_type": "stream",
     "text": [
      "h m f\n",
      "o u e\n",
      "l n l\n",
      "a d i\n",
      "! o z\n",
      "('h', 'm', 'f')\n",
      "('o', 'u', 'e')\n",
      "('l', 'n', 'l')\n",
      "('a', 'd', 'i')\n",
      "('!', 'o', 'z')\n"
     ]
    }
   ],
   "source": [
    "a = 'hola!'\n",
    "b = 'mundo'\n",
    "c = 'feliz'\n",
    "for i, j , k in zip(a,b,c):\n",
    "    print(i, j, k)\n",
    "for i in zip(a,b,c):\n",
    "    print(i)"
   ]
  },
  {
   "cell_type": "code",
   "execution_count": 34,
   "id": "c2630cd8-c5fa-4d95-9ff1-a9dcbf3b11f7",
   "metadata": {},
   "outputs": [
    {
     "name": "stdout",
     "output_type": "stream",
     "text": [
      "(0, 'h')\n",
      "(1, 'o')\n",
      "(2, 'l')\n",
      "(3, 'a')\n"
     ]
    }
   ],
   "source": [
    "for i in enumerate('hola'):\n",
    "    print(i)"
   ]
  },
  {
   "cell_type": "code",
   "execution_count": 35,
   "id": "efa6c139-89c2-49a3-b05a-03e30e43c6a8",
   "metadata": {},
   "outputs": [
    {
     "name": "stdout",
     "output_type": "stream",
     "text": [
      "0 h\n",
      "1 o\n",
      "2 l\n",
      "3 a\n"
     ]
    }
   ],
   "source": [
    "for i, j in enumerate('hola'):\n",
    "    print(i, j)"
   ]
  },
  {
   "cell_type": "code",
   "execution_count": 39,
   "id": "d3546584-8d3f-4ec1-b9ca-9ce6c98bc5e0",
   "metadata": {},
   "outputs": [
    {
     "data": {
      "text/plain": [
       "'et su esj'"
      ]
     },
     "execution_count": 39,
     "metadata": {},
     "output_type": "execute_result"
    }
   ],
   "source": [
    "''.join([j for i, j in enumerate('este es un mensaje') if not i%2])"
   ]
  },
  {
   "cell_type": "code",
   "execution_count": 63,
   "id": "7e1011d8-0aea-42a8-8285-86be89501518",
   "metadata": {},
   "outputs": [
    {
     "data": {
      "image/png": "[encoded data removed]",
      "text/plain": [
       "<Figure size 640x480 with 1 Axes>"
      ]
     },
     "metadata": {},
     "output_type": "display_data"
    }
   ],
   "source": [
    "import matplotlib.pyplot as plt\n",
    "import math\n",
    "\n",
    "\n",
    "n = 100\n",
    "x = [4*math.pi*i/n for i in range(n)]\n",
    "y = [math.sin(i) for i in x]\n",
    "\n",
    "plt.plot(x, y, 'o')\n",
    "plt.show()"
   ]
  },
  {
   "cell_type": "code",
   "execution_count": 78,
   "id": "71e0c34d-6a9d-4063-8904-290a600f9c06",
   "metadata": {},
   "outputs": [
    {
     "data": {
      "text/plain": [
       "[5, 4, 3, 2, 1, 0]"
      ]
     },
     "execution_count": 78,
     "metadata": {},
     "output_type": "execute_result"
    }
   ],
   "source": [
    "a = [0, 1, 2, 3, 4, 5]\n",
    "a[::-1]\n"
   ]
  },
  {
   "cell_type": "code",
   "execution_count": 83,
   "id": "a8426852-25ca-40a4-a3be-60a6515b56d7",
   "metadata": {},
   "outputs": [
    {
     "name": "stdout",
     "output_type": "stream",
     "text": [
      "odnum aloh\n"
     ]
    }
   ],
   "source": [
    "cadena = 'hola mundo'\n",
    "list_cadena = list(cadena)\n",
    "list_cadena.reverse()\n",
    "print(''.join(list_cadena))"
   ]
  },
  {
   "cell_type": "code",
   "execution_count": 80,
   "id": "795f1ba2-dc59-4afb-8b03-cf026b7ebdef",
   "metadata": {},
   "outputs": [
    {
     "data": {
      "text/plain": [
       "[5, 4, 3, 2, 1, 0]"
      ]
     },
     "execution_count": 80,
     "metadata": {},
     "output_type": "execute_result"
    }
   ],
   "source": [
    "a"
   ]
  },
  {
   "cell_type": "code",
   "execution_count": 90,
   "id": "d29944f2-f246-4b84-8a2f-b32ef35763c4",
   "metadata": {},
   "outputs": [
    {
     "data": {
      "text/plain": [
       "[1, 2, 4, 6, 12, 34]"
      ]
     },
     "execution_count": 90,
     "metadata": {},
     "output_type": "execute_result"
    }
   ],
   "source": [
    "def ordenar(lista):   #quicksort\n",
    "    n = len(lista)\n",
    "    if n < 2: return lista\n",
    "    pivot = lista[0]\n",
    "    menores = [i for i in lista if i < pivot]\n",
    "    mayores = [i for i in lista if i > pivot]\n",
    "    return ordenar(menores) + [pivot] + ordenar(mayores)\n",
    "ordenar([4, 2, 6, 34, 1, 12])\n",
    "#tip: chusmear el insert sort inplace, \n",
    "#     es decir sólo swapeando elementos"
   ]
  },
  {
   "cell_type": "code",
   "execution_count": null,
   "id": "7212efe8-75dc-4b35-b964-a8db313e76b8",
   "metadata": {},
   "outputs": [],
   "source": []
  }
 ],
 "metadata": {
  "kernelspec": {
   "display_name": "Python 3 (ipykernel)",
   "language": "python",
   "name": "python3"
  },
  "language_info": {
   "codemirror_mode": {
    "name": "ipython",
    "version": 3
   },
   "file_extension": ".py",
   "mimetype": "text/x-python",
   "name": "python",
   "nbconvert_exporter": "python",
   "pygments_lexer": "ipython3",
   "version": "3.12.3"
  }
 },
 "nbformat": 4,
 "nbformat_minor": 5
}
