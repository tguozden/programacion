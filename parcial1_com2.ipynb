{
 "cells": [
  {
   "cell_type": "raw",
   "id": "18b9b67f-fa6f-43a4-8a49-b44da9f4881b",
   "metadata": {},
   "source": [
    "Primer parcial comisión 2:\n",
    "\n",
    "Decimos que, en una lista de enteros, una escalera sucesión\n",
    "de elementos en la diferencia entre elementos sucesivos\n",
    "es la misma:\n",
    "\n",
    "delta = lista[n+1] - lista[n]\n",
    "\n",
    "Por ejemplo en \n",
    "lista = [4 3 -1 0 2 4 6 7]\n",
    "a partir de lista[3] (=0) los siguientes 3 números van de dos en dos\n",
    "\n",
    "\n",
    "\n",
    "\n",
    "Escriba un programa que dado una lista de números enteros retorne los\n",
    "índices de comienzo y final de la escalera más larga. Por ejemplo:\n",
    "`[2,5,3,-1,3,5,7,9,1,2,4,3,5,9] —> [3,7]`\n",
    "\n",
    "\n",
    "\n",
    "\n",
    "para ello, resuelva los siguientes problemas como funciones:\n",
    "\n",
    "\n",
    "1. Escriba una función que dada una lista de números enteros (supongamos lista1), y un índice\n",
    "de esa lista ( supongamos n), retorne el largo de la escalera que comienza en el índice n.\n",
    "Por ejemplo: [2,5,3,-1,3,5,7,9,1,2,4,3,5,9] - 5 —> 3\n",
    "\n",
    "\n",
    "2. Escriba una función que dada una lista de números enteros (lista1), cree una\n",
    "nueva lista (lista2) de la misma longitud que lista1 que contenga en cada posición el\n",
    "largo de la escalera que comienza en esa posición en lista1. Por ejemplo:\n",
    "[2,5,3,-1,3,5,7,9,1,2,4,3,5,9] —> [2,1,1,5,4,3,2,1,3,2,1,3,2,1]\n",
    "\n",
    "\n",
    "3. Usando A. y B. resuelva el problema planteado originalmente"
   ]
  },
  {
   "cell_type": "code",
   "execution_count": null,
   "id": "762c9bce-c20e-4cc4-bed5-2ef12dc1f8cf",
   "metadata": {},
   "outputs": [],
   "source": []
  }
 ],
 "metadata": {
  "kernelspec": {
   "display_name": "Python 3 (ipykernel)",
   "language": "python",
   "name": "python3"
  },
  "language_info": {
   "codemirror_mode": {
    "name": "ipython",
    "version": 3
   },
   "file_extension": ".py",
   "mimetype": "text/x-python",
   "name": "python",
   "nbconvert_exporter": "python",
   "pygments_lexer": "ipython3",
   "version": "3.12.3"
  },
  "panel-cell-order": [
   "b8fbb321-1e4f-4c57-8cc8-95766fff2618"
  ]
 },
 "nbformat": 4,
 "nbformat_minor": 5
}
