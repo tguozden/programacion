{
 "cells": [
  {
   "cell_type": "markdown",
   "id": "baf09470-4c3e-4481-8e77-04d42f58206d",
   "metadata": {},
   "source": [
    "# Solución parcial 4 jueves 18 de septiembre"
   ]
  },
  {
   "cell_type": "code",
   "execution_count": 1,
   "id": "0857d5fa-1049-4f14-aee1-d3d350f77782",
   "metadata": {},
   "outputs": [
    {
     "data": {
      "text/plain": [
       "'Martes 23 de septiembre de 2025'"
      ]
     },
     "execution_count": 1,
     "metadata": {},
     "output_type": "execute_result"
    }
   ],
   "source": [
    "import datetime\n",
    "def fecha_str(fecha):\n",
    "    dias = ['lunes', 'martes', 'miércoles', 'jueves' 'viernes','sábado','domingo']  # se puede   \n",
    "    #  pasar a mayúscula la primera letra con el método `.capitalize()`            \n",
    "    meses = ['enero', 'febrero', 'marzo', 'abril', 'mayo', 'junio', 'julio',  \n",
    "      'agosto', 'septiembre', 'octubre', 'noviembre', 'diciembre']\n",
    "    str_dia = dias[fecha.weekday()]\n",
    "    str_dia = str_dia.capitalize()\n",
    "    str_mes = meses[fecha.month - 1]\n",
    "    str_fecha = str_dia + ' ' + str(fecha.day) + \\\n",
    "                ' de ' + str_mes + ' de ' + str(fecha.year) \n",
    "    return str_fecha\n",
    "\n",
    "fecha_str(datetime.date(2025,1,1))\n",
    "fecha_str(datetime.date.today())"
   ]
  },
  {
   "cell_type": "code",
   "execution_count": 2,
   "id": "d20dfc79-4080-4d14-ae6c-11d8ab09df65",
   "metadata": {},
   "outputs": [
    {
     "data": {
      "image/png": "[encoded data removed]",
      "text/plain": [
       "<Figure size 400x200 with 1 Axes>"
      ]
     },
     "metadata": {},
     "output_type": "display_data"
    }
   ],
   "source": [
    "import numpy as np\n",
    "from matplotlib import pyplot as plt\n",
    "mat = np.genfromtxt('Examenes/entregas/datos.csv', delimiter = ',')\n",
    "x = mat[:, 0]\n",
    "y = mat[:, 1]\n",
    "plt.figure(figsize=(4,2))\n",
    "plt.plot(x, y)\n",
    "plt.show()\n"
   ]
  },
  {
   "cell_type": "code",
   "execution_count": 3,
   "id": "0203320e-3e5b-4f8d-a88c-52e8ea70e269",
   "metadata": {},
   "outputs": [],
   "source": [
    "import pandas as pd"
   ]
  },
  {
   "cell_type": "code",
   "execution_count": 4,
   "id": "3ec3dbe6-2e73-4634-8e82-b46deb4d82bb",
   "metadata": {},
   "outputs": [],
   "source": [
    "# nuestro primer objeto en pandas: las series\n",
    "mi1erserie = pd.Series(list(range(1, 10)))"
   ]
  },
  {
   "cell_type": "code",
   "execution_count": 5,
   "id": "44948566-1092-4dd4-8666-841266d7cbd1",
   "metadata": {},
   "outputs": [
    {
     "data": {
      "text/plain": [
       "RangeIndex(start=0, stop=9, step=1)"
      ]
     },
     "execution_count": 5,
     "metadata": {},
     "output_type": "execute_result"
    }
   ],
   "source": [
    "mi1erserie.index"
   ]
  },
  {
   "cell_type": "code",
   "execution_count": 6,
   "id": "3833654c-5ffc-421d-8dbb-fd7f6b207340",
   "metadata": {},
   "outputs": [
    {
     "name": "stdout",
     "output_type": "stream",
     "text": [
      "['a', 'b', 'c', 'd', 'e', 'f', 'g', 'h', 'i']\n"
     ]
    }
   ],
   "source": [
    "lista_letras = [chr(ord('a')+i ) for i in range(9)  ]\n",
    "print(lista_letras)"
   ]
  },
  {
   "cell_type": "code",
   "execution_count": 7,
   "id": "72f15dea-f855-4590-92d5-ff7acd422888",
   "metadata": {},
   "outputs": [],
   "source": [
    "mi1erserie.index = lista_letras"
   ]
  },
  {
   "cell_type": "code",
   "execution_count": 8,
   "id": "f3c189c1-525d-4f85-a73d-a90f3d1cce68",
   "metadata": {},
   "outputs": [
    {
     "data": {
      "text/plain": [
       "a    1\n",
       "b    2\n",
       "c    3\n",
       "d    4\n",
       "e    5\n",
       "f    6\n",
       "g    7\n",
       "h    8\n",
       "i    9\n",
       "dtype: int64"
      ]
     },
     "execution_count": 8,
     "metadata": {},
     "output_type": "execute_result"
    }
   ],
   "source": [
    "mi1erserie"
   ]
  },
  {
   "cell_type": "code",
   "execution_count": 9,
   "id": "240019a2-f31d-47fa-84f7-165e7ca7fd3a",
   "metadata": {},
   "outputs": [
    {
     "data": {
      "text/plain": [
       "np.int64(6)"
      ]
     },
     "execution_count": 9,
     "metadata": {},
     "output_type": "execute_result"
    }
   ],
   "source": [
    "mi1erserie['f']"
   ]
  },
  {
   "cell_type": "code",
   "execution_count": 10,
   "id": "0c1568fc-8f3a-4d33-b4f7-084f86535f23",
   "metadata": {},
   "outputs": [
    {
     "name": "stdout",
     "output_type": "stream",
     "text": [
      "a     2\n",
      "b     2\n",
      "c     7\n",
      "d     4\n",
      "e     5\n",
      "f     6\n",
      "g     7\n",
      "h     8\n",
      "i    29\n",
      "dtype: int64\n"
     ]
    }
   ],
   "source": [
    "# otra manera de asignar un índice: al instaciar la serie\n",
    "\n",
    "mi2daserie = pd.Series(index = lista_letras, data = [2, 2, 7, 4, 5, 6, 7, 8, 29] )\n",
    "print(mi2daserie)"
   ]
  },
  {
   "cell_type": "code",
   "execution_count": 11,
   "id": "4af3e999-b641-4936-96b9-6367d057b8cd",
   "metadata": {},
   "outputs": [
    {
     "data": {
      "text/plain": [
       "Index(['a', 'b', 'c', 'd', 'e', 'f', 'g', 'h', 'i'], dtype='object')"
      ]
     },
     "execution_count": 11,
     "metadata": {},
     "output_type": "execute_result"
    }
   ],
   "source": [
    "mi2daserie.index"
   ]
  },
  {
   "cell_type": "code",
   "execution_count": 12,
   "id": "25354f7c-772c-415a-bef3-357052bf5d3c",
   "metadata": {},
   "outputs": [
    {
     "name": "stdout",
     "output_type": "stream",
     "text": [
      "DatetimeIndex(['2000-03-01', '2000-04-01', '2000-05-01', '2000-06-01',\n",
      "               '2000-07-01', '2000-08-01', '2000-09-01', '2000-10-01',\n",
      "               '2000-11-01'],\n",
      "              dtype='datetime64[ns]', freq='MS')\n"
     ]
    }
   ],
   "source": [
    "fechas = pd.date_range(start = '2000-02-04', periods= 9, freq = 'MS')\n",
    "print(fechas)"
   ]
  },
  {
   "cell_type": "code",
   "execution_count": 13,
   "id": "bb06e6d6-e7c0-44e4-80d7-608cf80d941b",
   "metadata": {},
   "outputs": [
    {
     "name": "stdout",
     "output_type": "stream",
     "text": [
      "2000-03-01    0\n",
      "2000-04-01    1\n",
      "2000-05-01    2\n",
      "2000-06-01    3\n",
      "2000-07-01    4\n",
      "2000-08-01    5\n",
      "2000-09-01    6\n",
      "2000-10-01    7\n",
      "2000-11-01    8\n",
      "Freq: MS, dtype: int64\n"
     ]
    }
   ],
   "source": [
    "mi3erserie = pd.Series(index = fechas, data=list(range(9)))\n",
    "print(mi3erserie)"
   ]
  },
  {
   "cell_type": "code",
   "execution_count": 14,
   "id": "b265be96-62e7-4527-acec-7099059f90a8",
   "metadata": {},
   "outputs": [
    {
     "data": {
      "text/plain": [
       "np.int64(0)"
      ]
     },
     "execution_count": 14,
     "metadata": {},
     "output_type": "execute_result"
    }
   ],
   "source": [
    "mi3erserie['2000-03-01']"
   ]
  },
  {
   "cell_type": "code",
   "execution_count": 15,
   "id": "4fba848d-f647-46b9-bbb8-bd2ae3972a04",
   "metadata": {},
   "outputs": [
    {
     "data": {
      "text/plain": [
       "np.int64(0)"
      ]
     },
     "execution_count": 15,
     "metadata": {},
     "output_type": "execute_result"
    }
   ],
   "source": [
    "mi3erserie.iloc[0]"
   ]
  },
  {
   "cell_type": "code",
   "execution_count": 16,
   "id": "d787a991-2f92-452c-a3db-ea1e11b80f35",
   "metadata": {},
   "outputs": [
    {
     "data": {
      "text/plain": [
       "np.int64(8)"
      ]
     },
     "execution_count": 16,
     "metadata": {},
     "output_type": "execute_result"
    }
   ],
   "source": [
    "mi3erserie.iloc[-1]"
   ]
  },
  {
   "cell_type": "code",
   "execution_count": 17,
   "id": "1a9f204b-2b9f-4903-b559-c6c30c493a30",
   "metadata": {},
   "outputs": [
    {
     "data": {
      "image/png": "[encoded data removed]",
      "text/plain": [
       "<Figure size 400x200 with 1 Axes>"
      ]
     },
     "metadata": {},
     "output_type": "display_data"
    }
   ],
   "source": [
    "plt.figure(figsize= (4,2))\n",
    "mi3erserie.plot()\n",
    "plt.show()"
   ]
  },
  {
   "cell_type": "code",
   "execution_count": 2,
   "id": "78d59e58-be6c-4dd4-8326-aa1435d69c2d",
   "metadata": {},
   "outputs": [],
   "source": [
    "import pandas as pd\n",
    "mi1erdataframe = pd.read_csv('/home/atom/Downloads/DATOS_PS_202509.csv')"
   ]
  },
  {
   "cell_type": "code",
   "execution_count": 3,
   "id": "ec758609-1815-440d-b9f4-15349af31be7",
   "metadata": {},
   "outputs": [
    {
     "name": "stdout",
     "output_type": "stream",
     "text": [
      "                Fecha-hora       PARQUE  Potencia posible  Potencia real  \\\n",
      "0      2025-09-01 00:00:00     MALARGUE               0.0            0.0   \n",
      "1      2025-09-01 00:10:00     MALARGUE               0.0            0.0   \n",
      "2      2025-09-01 00:20:00     MALARGUE               0.0            0.0   \n",
      "3      2025-09-01 00:30:00     MALARGUE               0.0            0.0   \n",
      "4      2025-09-01 00:40:00     MALARGUE               0.0            0.0   \n",
      "...                    ...          ...               ...            ...   \n",
      "16130  2025-09-16 23:20:00  SIERRAS ULL               0.0            0.0   \n",
      "16131  2025-09-16 23:30:00  SIERRAS ULL               0.0            0.0   \n",
      "16132  2025-09-16 23:40:00  SIERRAS ULL               0.0            0.0   \n",
      "16133  2025-09-16 23:50:00  SIERRAS ULL               0.0            0.0   \n",
      "16134  2025-09-17 00:00:00  SIERRAS ULL               0.0            0.0   \n",
      "\n",
      "       Temperatura ambiente  Irradiancia panel [kWh/m2]  \\\n",
      "0                         1                           8   \n",
      "1                         1                           8   \n",
      "2                         1                           8   \n",
      "3                         1                           8   \n",
      "4                         1                           8   \n",
      "...                     ...                         ...   \n",
      "16130                    20                           0   \n",
      "16131                    20                           0   \n",
      "16132                    21                           0   \n",
      "16133                    20                           0   \n",
      "16134                    20                           0   \n",
      "\n",
      "       Irradiancia horizontal [kWh/m2]  \n",
      "0                                  0.0  \n",
      "1                                  0.0  \n",
      "2                                  0.0  \n",
      "3                                  0.0  \n",
      "4                                  0.0  \n",
      "...                                ...  \n",
      "16130                              0.0  \n",
      "16131                              0.0  \n",
      "16132                              0.0  \n",
      "16133                              0.0  \n",
      "16134                              0.0  \n",
      "\n",
      "[16135 rows x 7 columns]\n"
     ]
    }
   ],
   "source": [
    "# el dataframe es un conjunto de ps.Series nombrados todos en un solo objeto\n",
    "print(mi1erdataframe)"
   ]
  },
  {
   "cell_type": "code",
   "execution_count": 4,
   "id": "050550e3-d37b-4f2d-aca9-485c3c97f5fc",
   "metadata": {},
   "outputs": [
    {
     "data": {
      "text/plain": [
       "RangeIndex(start=0, stop=16135, step=1)"
      ]
     },
     "execution_count": 4,
     "metadata": {},
     "output_type": "execute_result"
    }
   ],
   "source": [
    "mi1erdataframe.index"
   ]
  },
  {
   "cell_type": "code",
   "execution_count": 5,
   "id": "a6893df6-fbe5-4c06-8eb5-1c7771628deb",
   "metadata": {},
   "outputs": [
    {
     "data": {
      "text/plain": [
       "pandas.core.frame.DataFrame"
      ]
     },
     "execution_count": 5,
     "metadata": {},
     "output_type": "execute_result"
    }
   ],
   "source": [
    "type(mi1erdataframe)"
   ]
  },
  {
   "cell_type": "code",
   "execution_count": 6,
   "id": "18bebf72-dc6a-43a3-b446-9846ce7b4ef9",
   "metadata": {},
   "outputs": [
    {
     "data": {
      "text/plain": [
       "'MALARGUE'"
      ]
     },
     "execution_count": 6,
     "metadata": {},
     "output_type": "execute_result"
    }
   ],
   "source": [
    "mi1erdataframe.iloc[0,1]  # accedo a los datos como en un array"
   ]
  },
  {
   "cell_type": "code",
   "execution_count": 7,
   "id": "9446fd86-651e-4fc5-b769-7168c925400b",
   "metadata": {},
   "outputs": [
    {
     "data": {
      "text/plain": [
       "(16135, 7)"
      ]
     },
     "execution_count": 7,
     "metadata": {},
     "output_type": "execute_result"
    }
   ],
   "source": [
    "mi1erdataframe.shape"
   ]
  },
  {
   "cell_type": "code",
   "execution_count": 8,
   "id": "785f911c-f9ec-40e2-88ad-d0089cb09c43",
   "metadata": {},
   "outputs": [
    {
     "data": {
      "text/plain": [
       "0        2025-09-01 00:00:00\n",
       "1        2025-09-01 00:10:00\n",
       "2        2025-09-01 00:20:00\n",
       "3        2025-09-01 00:30:00\n",
       "4        2025-09-01 00:40:00\n",
       "                ...         \n",
       "16130    2025-09-16 23:20:00\n",
       "16131    2025-09-16 23:30:00\n",
       "16132    2025-09-16 23:40:00\n",
       "16133    2025-09-16 23:50:00\n",
       "16134    2025-09-17 00:00:00\n",
       "Name: Fecha-hora, Length: 16135, dtype: object"
      ]
     },
     "execution_count": 8,
     "metadata": {},
     "output_type": "execute_result"
    }
   ],
   "source": [
    "mi1erdataframe['PARQUE']\n",
    "mi1erdataframe['Fecha-hora']\n"
   ]
  },
  {
   "cell_type": "code",
   "execution_count": 9,
   "id": "2453a766-10d4-4e6d-be52-38b35c9ac264",
   "metadata": {},
   "outputs": [],
   "source": [
    "#mi1erdataframe = mi1erdataframe.set_index('Fecha-hora') # opción 1\n",
    "mi1erdataframe.set_index(mi1erdataframe['Fecha-hora'], inplace=True) # opción 2\n"
   ]
  },
  {
   "cell_type": "code",
   "execution_count": 10,
   "id": "f75f63b6-6bf7-4d9d-a340-5a7b59c6ea68",
   "metadata": {},
   "outputs": [
    {
     "data": {
      "text/plain": [
       "pandas.core.series.Series"
      ]
     },
     "execution_count": 10,
     "metadata": {},
     "output_type": "execute_result"
    }
   ],
   "source": [
    "type(mi1erdataframe['PARQUE'])"
   ]
  },
  {
   "cell_type": "code",
   "execution_count": 11,
   "id": "cf8c7de2-3de5-4d84-8090-09be66b20f09",
   "metadata": {},
   "outputs": [
    {
     "data": {
      "text/html": [
       "<div>\n",
       "<style scoped>\n",
       "    .dataframe tbody tr th:only-of-type {\n",
       "        vertical-align: middle;\n",
       "    }\n",
       "\n",
       "    .dataframe tbody tr th {\n",
       "        vertical-align: top;\n",
       "    }\n",
       "\n",
       "    .dataframe thead th {\n",
       "        text-align: right;\n",
       "    }\n",
       "</style>\n",
       "<table border=\"1\" class=\"dataframe\">\n",
       "  <thead>\n",
       "    <tr style=\"text-align: right;\">\n",
       "      <th></th>\n",
       "      <th>Potencia posible</th>\n",
       "      <th>Potencia real</th>\n",
       "      <th>Temperatura ambiente</th>\n",
       "      <th>Irradiancia panel [kWh/m2]</th>\n",
       "      <th>Irradiancia horizontal [kWh/m2]</th>\n",
       "    </tr>\n",
       "  </thead>\n",
       "  <tbody>\n",
       "    <tr>\n",
       "      <th>count</th>\n",
       "      <td>16135.000000</td>\n",
       "      <td>16135.000000</td>\n",
       "      <td>16135.000000</td>\n",
       "      <td>16135.000000</td>\n",
       "      <td>16135.000000</td>\n",
       "    </tr>\n",
       "    <tr>\n",
       "      <th>mean</th>\n",
       "      <td>24.767906</td>\n",
       "      <td>21.804508</td>\n",
       "      <td>13.653796</td>\n",
       "      <td>302.809854</td>\n",
       "      <td>245.342175</td>\n",
       "    </tr>\n",
       "    <tr>\n",
       "      <th>std</th>\n",
       "      <td>43.636281</td>\n",
       "      <td>38.471152</td>\n",
       "      <td>8.435715</td>\n",
       "      <td>372.866417</td>\n",
       "      <td>326.713955</td>\n",
       "    </tr>\n",
       "    <tr>\n",
       "      <th>min</th>\n",
       "      <td>0.000000</td>\n",
       "      <td>0.000000</td>\n",
       "      <td>-4.000000</td>\n",
       "      <td>-2.000000</td>\n",
       "      <td>-7.000000</td>\n",
       "    </tr>\n",
       "    <tr>\n",
       "      <th>25%</th>\n",
       "      <td>0.000000</td>\n",
       "      <td>0.000000</td>\n",
       "      <td>8.000000</td>\n",
       "      <td>4.000000</td>\n",
       "      <td>0.000000</td>\n",
       "    </tr>\n",
       "    <tr>\n",
       "      <th>50%</th>\n",
       "      <td>0.061000</td>\n",
       "      <td>0.012000</td>\n",
       "      <td>13.000000</td>\n",
       "      <td>8.000000</td>\n",
       "      <td>2.000000</td>\n",
       "    </tr>\n",
       "    <tr>\n",
       "      <th>75%</th>\n",
       "      <td>25.035000</td>\n",
       "      <td>25.500000</td>\n",
       "      <td>18.000000</td>\n",
       "      <td>756.000000</td>\n",
       "      <td>538.000000</td>\n",
       "    </tr>\n",
       "    <tr>\n",
       "      <th>max</th>\n",
       "      <td>191.741000</td>\n",
       "      <td>179.301000</td>\n",
       "      <td>45.000000</td>\n",
       "      <td>1027.000000</td>\n",
       "      <td>985.000000</td>\n",
       "    </tr>\n",
       "  </tbody>\n",
       "</table>\n",
       "</div>"
      ],
      "text/plain": [
       "       Potencia posible  Potencia real  Temperatura ambiente  \\\n",
       "count      16135.000000   16135.000000          16135.000000   \n",
       "mean          24.767906      21.804508             13.653796   \n",
       "std           43.636281      38.471152              8.435715   \n",
       "min            0.000000       0.000000             -4.000000   \n",
       "25%            0.000000       0.000000              8.000000   \n",
       "50%            0.061000       0.012000             13.000000   \n",
       "75%           25.035000      25.500000             18.000000   \n",
       "max          191.741000     179.301000             45.000000   \n",
       "\n",
       "       Irradiancia panel [kWh/m2]  Irradiancia horizontal [kWh/m2]  \n",
       "count                16135.000000                     16135.000000  \n",
       "mean                   302.809854                       245.342175  \n",
       "std                    372.866417                       326.713955  \n",
       "min                     -2.000000                        -7.000000  \n",
       "25%                      4.000000                         0.000000  \n",
       "50%                      8.000000                         2.000000  \n",
       "75%                    756.000000                       538.000000  \n",
       "max                   1027.000000                       985.000000  "
      ]
     },
     "execution_count": 11,
     "metadata": {},
     "output_type": "execute_result"
    }
   ],
   "source": [
    "mi1erdataframe.describe()"
   ]
  },
  {
   "cell_type": "code",
   "execution_count": 12,
   "id": "01aca966-dceb-43b4-afec-3cc0ccec0e14",
   "metadata": {},
   "outputs": [
    {
     "data": {
      "text/plain": [
       "Index(['Fecha-hora', 'PARQUE', 'Potencia posible', 'Potencia real',\n",
       "       'Temperatura ambiente', 'Irradiancia panel [kWh/m2]',\n",
       "       'Irradiancia horizontal [kWh/m2]'],\n",
       "      dtype='object')"
      ]
     },
     "execution_count": 12,
     "metadata": {},
     "output_type": "execute_result"
    }
   ],
   "source": [
    "mi1erdataframe.columns"
   ]
  },
  {
   "cell_type": "code",
   "execution_count": 13,
   "id": "201635d5-217a-4c0a-b4d5-efe25927e71b",
   "metadata": {},
   "outputs": [],
   "source": [
    "unrnsosvos = {'biyou':['cadenitas', 'pulseras', 'macramé'], 'kiosco':[1, 2, 3] }"
   ]
  },
  {
   "cell_type": "code",
   "execution_count": 14,
   "id": "2fbb63a1-a1db-4991-bcf2-9d0d5ad15e99",
   "metadata": {},
   "outputs": [
    {
     "data": {
      "text/plain": [
       "{'biyou': ['cadenitas', 'pulseras', 'macramé'], 'kiosco': [1, 2, 3]}"
      ]
     },
     "execution_count": 14,
     "metadata": {},
     "output_type": "execute_result"
    }
   ],
   "source": [
    "unrnsosvos"
   ]
  },
  {
   "cell_type": "code",
   "execution_count": 15,
   "id": "d00fe4c6-74f7-4e45-bcba-be9df820e80e",
   "metadata": {},
   "outputs": [
    {
     "data": {
      "text/html": [
       "<div>\n",
       "<style scoped>\n",
       "    .dataframe tbody tr th:only-of-type {\n",
       "        vertical-align: middle;\n",
       "    }\n",
       "\n",
       "    .dataframe tbody tr th {\n",
       "        vertical-align: top;\n",
       "    }\n",
       "\n",
       "    .dataframe thead th {\n",
       "        text-align: right;\n",
       "    }\n",
       "</style>\n",
       "<table border=\"1\" class=\"dataframe\">\n",
       "  <thead>\n",
       "    <tr style=\"text-align: right;\">\n",
       "      <th></th>\n",
       "      <th>biyou</th>\n",
       "      <th>kiosco</th>\n",
       "    </tr>\n",
       "  </thead>\n",
       "  <tbody>\n",
       "    <tr>\n",
       "      <th>0</th>\n",
       "      <td>cadenitas</td>\n",
       "      <td>1</td>\n",
       "    </tr>\n",
       "    <tr>\n",
       "      <th>1</th>\n",
       "      <td>pulseras</td>\n",
       "      <td>2</td>\n",
       "    </tr>\n",
       "    <tr>\n",
       "      <th>2</th>\n",
       "      <td>macramé</td>\n",
       "      <td>3</td>\n",
       "    </tr>\n",
       "  </tbody>\n",
       "</table>\n",
       "</div>"
      ],
      "text/plain": [
       "       biyou  kiosco\n",
       "0  cadenitas       1\n",
       "1   pulseras       2\n",
       "2    macramé       3"
      ]
     },
     "execution_count": 15,
     "metadata": {},
     "output_type": "execute_result"
    }
   ],
   "source": [
    "pd.DataFrame(data = unrnsosvos )"
   ]
  },
  {
   "cell_type": "code",
   "execution_count": 16,
   "id": "bb5e6a48-c240-4b8c-b54f-88e983827f51",
   "metadata": {},
   "outputs": [],
   "source": [
    "# ojo tamaños iguales\n",
    "# pd.DataFrame({'biyou': ['cadenitas', 'pulseras', 'macramé'], 'kiosco': [1, 2]}) "
   ]
  },
  {
   "cell_type": "code",
   "execution_count": 19,
   "id": "aa0b2abe-d62f-482e-9431-edda5d1bf165",
   "metadata": {},
   "outputs": [
    {
     "data": {
      "text/plain": [
       "<Axes: xlabel='Fecha-hora'>"
      ]
     },
     "execution_count": 19,
     "metadata": {},
     "output_type": "execute_result"
    },
    {
     "data": {
      "image/png": "[encoded data removed]",
      "text/plain": [
       "<Figure size 640x480 with 1 Axes>"
      ]
     },
     "metadata": {},
     "output_type": "display_data"
    }
   ],
   "source": [
    "mi1erdataframe['Irradiancia horizontal [kWh/m2]'].iloc[0:140].plot()"
   ]
  },
  {
   "cell_type": "code",
   "execution_count": 24,
   "id": "1f8ec7ab-cf50-4de3-873d-ffcc782e3851",
   "metadata": {},
   "outputs": [],
   "source": [
    "mi1erdataframe.index = pd.DatetimeIndex(mi1erdataframe.index)"
   ]
  },
  {
   "cell_type": "code",
   "execution_count": 30,
   "id": "49dfdfa4-b73f-4b2c-89e4-3cadf09a5dfb",
   "metadata": {},
   "outputs": [
    {
     "data": {
      "text/plain": [
       "<Axes: xlabel='Fecha-hora'>"
      ]
     },
     "execution_count": 30,
     "metadata": {},
     "output_type": "execute_result"
    },
    {
     "data": {
      "image/png": "[encoded data removed]",
      "text/plain": [
       "<Figure size 640x480 with 1 Axes>"
      ]
     },
     "metadata": {},
     "output_type": "display_data"
    }
   ],
   "source": [
    "mi1erdataframe['Irradiancia horizontal [kWh/m2]'].resample('d').mean().plot()"
   ]
  },
  {
   "cell_type": "code",
   "execution_count": 33,
   "id": "88ac56c6-2f5a-4eaf-ab8c-e07b4a5b9c5e",
   "metadata": {},
   "outputs": [
    {
     "data": {
      "text/plain": [
       "90"
      ]
     },
     "execution_count": 33,
     "metadata": {},
     "output_type": "execute_result"
    }
   ],
   "source": [
    "ord('Z')\n"
   ]
  },
  {
   "cell_type": "code",
   "execution_count": null,
   "id": "dd41afb4-b5ae-481b-8415-6d445f50ed6b",
   "metadata": {},
   "outputs": [],
   "source": []
  }
 ],
 "metadata": {
  "kernelspec": {
   "display_name": "Python 3 (ipykernel)",
   "language": "python",
   "name": "python3"
  },
  "language_info": {
   "codemirror_mode": {
    "name": "ipython",
    "version": 3
   },
   "file_extension": ".py",
   "mimetype": "text/x-python",
   "name": "python",
   "nbconvert_exporter": "python",
   "pygments_lexer": "ipython3",
   "version": "3.12.3"
  }
 },
 "nbformat": 4,
 "nbformat_minor": 5
}
