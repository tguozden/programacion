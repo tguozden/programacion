{
 "cells": [
  {
   "cell_type": "code",
   "execution_count": 1,
   "id": "b92f7ebe-4fb4-480d-9579-8d6cf9414ba8",
   "metadata": {},
   "outputs": [],
   "source": [
    "import pandas as pd\n"
   ]
  },
  {
   "cell_type": "code",
   "execution_count": 2,
   "id": "0e0c3a5f-9593-452d-b96e-ca82dfd02772",
   "metadata": {},
   "outputs": [],
   "source": [
    "df = pd.read_csv('Practicas/datos_solares.csv')"
   ]
  },
  {
   "cell_type": "code",
   "execution_count": 3,
   "id": "6c4152c0-8db6-4765-b11f-c72b746da81d",
   "metadata": {},
   "outputs": [
    {
     "data": {
      "text/html": [
       "<div>\n",
       "<style scoped>\n",
       "    .dataframe tbody tr th:only-of-type {\n",
       "        vertical-align: middle;\n",
       "    }\n",
       "\n",
       "    .dataframe tbody tr th {\n",
       "        vertical-align: top;\n",
       "    }\n",
       "\n",
       "    .dataframe thead th {\n",
       "        text-align: right;\n",
       "    }\n",
       "</style>\n",
       "<table border=\"1\" class=\"dataframe\">\n",
       "  <thead>\n",
       "    <tr style=\"text-align: right;\">\n",
       "      <th></th>\n",
       "      <th>Potencia posible</th>\n",
       "      <th>Potencia real</th>\n",
       "      <th>Temperatura ambiente</th>\n",
       "      <th>Irradiancia panel [kWh/m2]</th>\n",
       "      <th>Irradiancia horizontal [kWh/m2]</th>\n",
       "    </tr>\n",
       "  </thead>\n",
       "  <tbody>\n",
       "    <tr>\n",
       "      <th>count</th>\n",
       "      <td>16135.000000</td>\n",
       "      <td>16135.000000</td>\n",
       "      <td>16135.000000</td>\n",
       "      <td>16135.000000</td>\n",
       "      <td>16135.000000</td>\n",
       "    </tr>\n",
       "    <tr>\n",
       "      <th>mean</th>\n",
       "      <td>24.767906</td>\n",
       "      <td>21.804508</td>\n",
       "      <td>13.653796</td>\n",
       "      <td>302.809854</td>\n",
       "      <td>245.342175</td>\n",
       "    </tr>\n",
       "    <tr>\n",
       "      <th>std</th>\n",
       "      <td>43.636281</td>\n",
       "      <td>38.471152</td>\n",
       "      <td>8.435715</td>\n",
       "      <td>372.866417</td>\n",
       "      <td>326.713955</td>\n",
       "    </tr>\n",
       "    <tr>\n",
       "      <th>min</th>\n",
       "      <td>0.000000</td>\n",
       "      <td>0.000000</td>\n",
       "      <td>-4.000000</td>\n",
       "      <td>-2.000000</td>\n",
       "      <td>-7.000000</td>\n",
       "    </tr>\n",
       "    <tr>\n",
       "      <th>25%</th>\n",
       "      <td>0.000000</td>\n",
       "      <td>0.000000</td>\n",
       "      <td>8.000000</td>\n",
       "      <td>4.000000</td>\n",
       "      <td>0.000000</td>\n",
       "    </tr>\n",
       "    <tr>\n",
       "      <th>50%</th>\n",
       "      <td>0.061000</td>\n",
       "      <td>0.012000</td>\n",
       "      <td>13.000000</td>\n",
       "      <td>8.000000</td>\n",
       "      <td>2.000000</td>\n",
       "    </tr>\n",
       "    <tr>\n",
       "      <th>75%</th>\n",
       "      <td>25.035000</td>\n",
       "      <td>25.500000</td>\n",
       "      <td>18.000000</td>\n",
       "      <td>756.000000</td>\n",
       "      <td>538.000000</td>\n",
       "    </tr>\n",
       "    <tr>\n",
       "      <th>max</th>\n",
       "      <td>191.741000</td>\n",
       "      <td>179.301000</td>\n",
       "      <td>45.000000</td>\n",
       "      <td>1027.000000</td>\n",
       "      <td>985.000000</td>\n",
       "    </tr>\n",
       "  </tbody>\n",
       "</table>\n",
       "</div>"
      ],
      "text/plain": [
       "       Potencia posible  Potencia real  Temperatura ambiente  \\\n",
       "count      16135.000000   16135.000000          16135.000000   \n",
       "mean          24.767906      21.804508             13.653796   \n",
       "std           43.636281      38.471152              8.435715   \n",
       "min            0.000000       0.000000             -4.000000   \n",
       "25%            0.000000       0.000000              8.000000   \n",
       "50%            0.061000       0.012000             13.000000   \n",
       "75%           25.035000      25.500000             18.000000   \n",
       "max          191.741000     179.301000             45.000000   \n",
       "\n",
       "       Irradiancia panel [kWh/m2]  Irradiancia horizontal [kWh/m2]  \n",
       "count                16135.000000                     16135.000000  \n",
       "mean                   302.809854                       245.342175  \n",
       "std                    372.866417                       326.713955  \n",
       "min                     -2.000000                        -7.000000  \n",
       "25%                      4.000000                         0.000000  \n",
       "50%                      8.000000                         2.000000  \n",
       "75%                    756.000000                       538.000000  \n",
       "max                   1027.000000                       985.000000  "
      ]
     },
     "execution_count": 3,
     "metadata": {},
     "output_type": "execute_result"
    }
   ],
   "source": [
    "df.describe()"
   ]
  },
  {
   "cell_type": "code",
   "execution_count": 4,
   "id": "864fb3b7-35fe-4501-b602-fb399bc36582",
   "metadata": {},
   "outputs": [
    {
     "data": {
      "text/plain": [
       "Index(['Fecha-hora', 'PARQUE', 'Potencia posible', 'Potencia real',\n",
       "       'Temperatura ambiente', 'Irradiancia panel [kWh/m2]',\n",
       "       'Irradiancia horizontal [kWh/m2]'],\n",
       "      dtype='object')"
      ]
     },
     "execution_count": 4,
     "metadata": {},
     "output_type": "execute_result"
    }
   ],
   "source": [
    "df.columns   #atributo del dataframe"
   ]
  },
  {
   "cell_type": "code",
   "execution_count": 11,
   "id": "e436708f-9f4d-4d0c-88ac-35c917069038",
   "metadata": {},
   "outputs": [
    {
     "data": {
      "text/plain": [
       "'MALARGUE'"
      ]
     },
     "execution_count": 11,
     "metadata": {},
     "output_type": "execute_result"
    }
   ],
   "source": [
    "parques_unicos = df['PARQUE'].unique()\n",
    "parques_unicos[0]"
   ]
  },
  {
   "cell_type": "code",
   "execution_count": 18,
   "id": "5e2e4d83-e4a1-4f72-88f8-9c8d0fdf00e6",
   "metadata": {},
   "outputs": [
    {
     "name": "stdout",
     "output_type": "stream",
     "text": [
      "-4 23\n"
     ]
    }
   ],
   "source": [
    "filas_malargue = df['PARQUE'] == 'MALARGUE'\n",
    "minimo = df[filas_malargue]['Temperatura ambiente'].min()\n",
    "maximo = df[filas_malargue]['Temperatura ambiente'].max()\n",
    "print(minimo, maximo)"
   ]
  },
  {
   "cell_type": "markdown",
   "id": "190e0f0a-1d67-4675-b96a-ff8257512103",
   "metadata": {},
   "source": [
    "# objetivo: \n",
    "tener un dataframse cuyas columnas sean los parques\n",
    "sin repetir y las filas los valores estadísticos de\n",
    "la temperatura indicados por el índice del datarame\n",
    "\n",
    "`df_nuevo.index` -> minimo, maximo, etc.."
   ]
  },
  {
   "cell_type": "code",
   "execution_count": 20,
   "id": "e3837499-5eed-4e8d-a4f4-8cd55b3ffaa1",
   "metadata": {},
   "outputs": [
    {
     "data": {
      "text/html": [
       "<div>\n",
       "<style scoped>\n",
       "    .dataframe tbody tr th:only-of-type {\n",
       "        vertical-align: middle;\n",
       "    }\n",
       "\n",
       "    .dataframe tbody tr th {\n",
       "        vertical-align: top;\n",
       "    }\n",
       "\n",
       "    .dataframe thead th {\n",
       "        text-align: right;\n",
       "    }\n",
       "</style>\n",
       "<table border=\"1\" class=\"dataframe\">\n",
       "  <thead>\n",
       "    <tr style=\"text-align: right;\">\n",
       "      <th></th>\n",
       "      <th>MALARGUE</th>\n",
       "    </tr>\n",
       "  </thead>\n",
       "  <tbody>\n",
       "    <tr>\n",
       "      <th>tmin</th>\n",
       "      <td>-4</td>\n",
       "    </tr>\n",
       "    <tr>\n",
       "      <th>tmax</th>\n",
       "      <td>23</td>\n",
       "    </tr>\n",
       "  </tbody>\n",
       "</table>\n",
       "</div>"
      ],
      "text/plain": [
       "      MALARGUE\n",
       "tmin        -4\n",
       "tmax        23"
      ]
     },
     "execution_count": 20,
     "metadata": {},
     "output_type": "execute_result"
    }
   ],
   "source": [
    "pd.DataFrame( {'MALARGUE':[-4, 23]}, index = ['tmin', 'tmax'])"
   ]
  },
  {
   "cell_type": "code",
   "execution_count": 26,
   "id": "fa63eaff-2331-4adb-8c4d-a0bf6e9f22d5",
   "metadata": {},
   "outputs": [
    {
     "data": {
      "text/html": [
       "<div>\n",
       "<style scoped>\n",
       "    .dataframe tbody tr th:only-of-type {\n",
       "        vertical-align: middle;\n",
       "    }\n",
       "\n",
       "    .dataframe tbody tr th {\n",
       "        vertical-align: top;\n",
       "    }\n",
       "\n",
       "    .dataframe thead th {\n",
       "        text-align: right;\n",
       "    }\n",
       "</style>\n",
       "<table border=\"1\" class=\"dataframe\">\n",
       "  <thead>\n",
       "    <tr style=\"text-align: right;\">\n",
       "      <th></th>\n",
       "      <th>MALARGUE</th>\n",
       "      <th>PSANCH</th>\n",
       "      <th>PSTOC III</th>\n",
       "      <th>PSULLUM I</th>\n",
       "      <th>PSULLUM II</th>\n",
       "      <th>PSULLUM III</th>\n",
       "      <th>SIERRAS ULL</th>\n",
       "    </tr>\n",
       "  </thead>\n",
       "  <tbody>\n",
       "    <tr>\n",
       "      <th>tmin</th>\n",
       "      <td>-4</td>\n",
       "      <td>-3</td>\n",
       "      <td>0</td>\n",
       "      <td>3</td>\n",
       "      <td>3</td>\n",
       "      <td>3</td>\n",
       "      <td>4</td>\n",
       "    </tr>\n",
       "    <tr>\n",
       "      <th>tmax</th>\n",
       "      <td>23</td>\n",
       "      <td>45</td>\n",
       "      <td>25</td>\n",
       "      <td>34</td>\n",
       "      <td>34</td>\n",
       "      <td>34</td>\n",
       "      <td>35</td>\n",
       "    </tr>\n",
       "  </tbody>\n",
       "</table>\n",
       "</div>"
      ],
      "text/plain": [
       "      MALARGUE  PSANCH  PSTOC III  PSULLUM I  PSULLUM II  PSULLUM III  \\\n",
       "tmin        -4      -3          0          3           3            3   \n",
       "tmax        23      45         25         34          34           34   \n",
       "\n",
       "      SIERRAS ULL  \n",
       "tmin            4  \n",
       "tmax           35  "
      ]
     },
     "execution_count": 26,
     "metadata": {},
     "output_type": "execute_result"
    }
   ],
   "source": [
    "# manera maty\n",
    "diccio = {}\n",
    "for parque in parques_unicos:\n",
    "    filas = df['PARQUE'] == parque\n",
    "    minimo = df[filas]['Temperatura ambiente'].min()\n",
    "    maximo = df[filas]['Temperatura ambiente'].max()\n",
    "    diccio[parque] = [minimo, maximo]\n",
    "df_obj = pd.DataFrame(diccio, index = ['tmin','tmax'])\n",
    "\n",
    "df_obj"
   ]
  },
  {
   "cell_type": "code",
   "execution_count": 29,
   "id": "4ed5d5a2-5328-439c-8193-728c6f0e6b1a",
   "metadata": {},
   "outputs": [],
   "source": [
    "df_obj = pd.DataFrame()\n",
    "for parque in parques_unicos:\n",
    "    filas = df['PARQUE'] == parque\n",
    "    minimo = df[filas]['Temperatura ambiente'].min()\n",
    "    maximo = df[filas]['Temperatura ambiente'].max()\n",
    "    df_obj[parque] = pd.Series([minimo, maximo], index = ['tmin','tmax'])"
   ]
  },
  {
   "cell_type": "code",
   "execution_count": 30,
   "id": "b0908e63-0a65-4ed2-9ffc-01cc82aa3a80",
   "metadata": {},
   "outputs": [
    {
     "data": {
      "text/html": [
       "<div>\n",
       "<style scoped>\n",
       "    .dataframe tbody tr th:only-of-type {\n",
       "        vertical-align: middle;\n",
       "    }\n",
       "\n",
       "    .dataframe tbody tr th {\n",
       "        vertical-align: top;\n",
       "    }\n",
       "\n",
       "    .dataframe thead th {\n",
       "        text-align: right;\n",
       "    }\n",
       "</style>\n",
       "<table border=\"1\" class=\"dataframe\">\n",
       "  <thead>\n",
       "    <tr style=\"text-align: right;\">\n",
       "      <th></th>\n",
       "      <th>MALARGUE</th>\n",
       "      <th>PSANCH</th>\n",
       "      <th>PSTOC III</th>\n",
       "      <th>PSULLUM I</th>\n",
       "      <th>PSULLUM II</th>\n",
       "      <th>PSULLUM III</th>\n",
       "      <th>SIERRAS ULL</th>\n",
       "    </tr>\n",
       "  </thead>\n",
       "  <tbody>\n",
       "    <tr>\n",
       "      <th>tmin</th>\n",
       "      <td>-4</td>\n",
       "      <td>-3</td>\n",
       "      <td>0</td>\n",
       "      <td>3</td>\n",
       "      <td>3</td>\n",
       "      <td>3</td>\n",
       "      <td>4</td>\n",
       "    </tr>\n",
       "    <tr>\n",
       "      <th>tmax</th>\n",
       "      <td>23</td>\n",
       "      <td>45</td>\n",
       "      <td>25</td>\n",
       "      <td>34</td>\n",
       "      <td>34</td>\n",
       "      <td>34</td>\n",
       "      <td>35</td>\n",
       "    </tr>\n",
       "  </tbody>\n",
       "</table>\n",
       "</div>"
      ],
      "text/plain": [
       "      MALARGUE  PSANCH  PSTOC III  PSULLUM I  PSULLUM II  PSULLUM III  \\\n",
       "tmin        -4      -3          0          3           3            3   \n",
       "tmax        23      45         25         34          34           34   \n",
       "\n",
       "      SIERRAS ULL  \n",
       "tmin            4  \n",
       "tmax           35  "
      ]
     },
     "execution_count": 30,
     "metadata": {},
     "output_type": "execute_result"
    }
   ],
   "source": [
    "df_obj"
   ]
  },
  {
   "cell_type": "code",
   "execution_count": null,
   "id": "de8d5574-b326-45c0-b283-c45b5c43e790",
   "metadata": {},
   "outputs": [],
   "source": []
  }
 ],
 "metadata": {
  "kernelspec": {
   "display_name": "Python 3 (ipykernel)",
   "language": "python",
   "name": "python3"
  },
  "language_info": {
   "codemirror_mode": {
    "name": "ipython",
    "version": 3
   },
   "file_extension": ".py",
   "mimetype": "text/x-python",
   "name": "python",
   "nbconvert_exporter": "python",
   "pygments_lexer": "ipython3",
   "version": "3.12.3"
  }
 },
 "nbformat": 4,
 "nbformat_minor": 5
}
