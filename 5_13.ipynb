{
 "cells": [
  {
   "cell_type": "code",
   "execution_count": 6,
   "id": "e38538b7-3f6a-46d1-b1c9-00319846c37a",
   "metadata": {},
   "outputs": [],
   "source": [
    "# eje 1 tp 4\n",
    "\n",
    "def saludar(name = \"usuario\"):\n",
    "    if not isinstance(name, str):\n",
    "        print('error: debe ingresar un string')\n",
    "        return\n",
    "    print('hola', name)"
   ]
  },
  {
   "cell_type": "code",
   "execution_count": 7,
   "id": "b5eee8e6-057b-4911-bc4b-ad72e3aa13fa",
   "metadata": {},
   "outputs": [
    {
     "name": "stdout",
     "output_type": "stream",
     "text": [
      "hola juan\n"
     ]
    }
   ],
   "source": [
    "saludar('juan') #argumento posicional"
   ]
  },
  {
   "cell_type": "code",
   "execution_count": 9,
   "id": "56c5dca5-ce0c-4867-b934-434ffaf59d72",
   "metadata": {},
   "outputs": [
    {
     "name": "stdout",
     "output_type": "stream",
     "text": [
      "hola roberto\n"
     ]
    }
   ],
   "source": [
    "saludar(name = 'roberto') # nombrado"
   ]
  },
  {
   "cell_type": "code",
   "execution_count": 10,
   "id": "178ebee3-b8ef-45f3-8684-43a1aee437c8",
   "metadata": {},
   "outputs": [
    {
     "name": "stdout",
     "output_type": "stream",
     "text": [
      "hola usuario\n"
     ]
    }
   ],
   "source": [
    "saludar() # por defecto"
   ]
  },
  {
   "cell_type": "code",
   "execution_count": 11,
   "id": "7c08d1ad-4488-4e9b-b9d5-eaff6e6bb004",
   "metadata": {},
   "outputs": [
    {
     "name": "stdout",
     "output_type": "stream",
     "text": [
      "error: debe ingresar un string\n"
     ]
    }
   ],
   "source": [
    "saludar([1, 2, 3])"
   ]
  },
  {
   "cell_type": "code",
   "execution_count": 2,
   "id": "972c8f1f-0f0f-4aa2-a753-6a03d8df357e",
   "metadata": {},
   "outputs": [],
   "source": [
    "# eje 3 tp 3\n",
    "# por método\n",
    "dic_a = {'lucas':8, 'juan':7}\n",
    "dic_b = {'lucas':9, 'tomas':9}\n",
    "dic_a.update(dic_b) # sobreescribe dic_a\n",
    "dic_a"
   ]
  },
  {
   "cell_type": "code",
   "execution_count": 12,
   "id": "ceba9526-a56b-4ed1-af39-d46ee2fa3769",
   "metadata": {},
   "outputs": [
    {
     "data": {
      "text/plain": [
       "{'lucas': 9, 'juan': 7, 'tomas': 9}"
      ]
     },
     "execution_count": 12,
     "metadata": {},
     "output_type": "execute_result"
    }
   ],
   "source": [
    "# versión 3.10 o superior\n",
    "dic_a = {'lucas':8, 'juan':7}\n",
    "dic_b = {'lucas':9, 'tomas':9}\n",
    "dic_c = dic_a | dic_b\n",
    "dic_c"
   ]
  },
  {
   "cell_type": "code",
   "execution_count": 11,
   "id": "ae5a4c76-fa8c-4e81-8f7f-6cdf000a9e9b",
   "metadata": {},
   "outputs": [
    {
     "data": {
      "text/plain": [
       "{'lucas': 9, 'juan': 7, 'tomas': 9}"
      ]
     },
     "execution_count": 11,
     "metadata": {},
     "output_type": "execute_result"
    }
   ],
   "source": [
    "#unpacking\n",
    "dic_c = {**dic_a, **dic_b}\n",
    "dic_c"
   ]
  },
  {
   "cell_type": "code",
   "execution_count": 9,
   "id": "f471e3eb-712a-428b-aa12-b2d0ea57e2df",
   "metadata": {},
   "outputs": [
    {
     "name": "stdout",
     "output_type": "stream",
     "text": [
      "a 1\n",
      "b 2\n"
     ]
    }
   ],
   "source": [
    "def funcion(**kwargs):\n",
    "    for key, valor in kwargs.items():\n",
    "        print(key, valor)\n",
    "\n",
    "funcion(a=1, b=2)\n",
    "    "
   ]
  },
  {
   "cell_type": "code",
   "execution_count": 10,
   "id": "df06ba56-3a94-4a7e-94b2-b7296d3cac7c",
   "metadata": {},
   "outputs": [
    {
     "data": {
      "text/plain": [
       "{'lucas': 9, 'juan': 7, 'tomas': 9}"
      ]
     },
     "execution_count": 10,
     "metadata": {},
     "output_type": "execute_result"
    }
   ],
   "source": [
    "# a mano\n",
    "dic_a = {'lucas':8, 'juan':7}\n",
    "dic_b = {'lucas':9, 'tomas':9}\n",
    "\n",
    "for key, valor in dic_b.items():\n",
    "    dic_a[key] = valor\n",
    "\n",
    "dic_a\n"
   ]
  },
  {
   "cell_type": "code",
   "execution_count": null,
   "id": "a9b133be-00f1-4f97-b8b6-f0bcbbad7657",
   "metadata": {},
   "outputs": [],
   "source": [
    "# eje integrados 2 - tp 3"
   ]
  },
  {
   "cell_type": "code",
   "execution_count": 35,
   "id": "3bed4d35-3a4b-474c-a148-21a17b6e05fe",
   "metadata": {},
   "outputs": [
    {
     "name": "stdout",
     "output_type": "stream",
     "text": [
      "a 1\n",
      "b 2\n"
     ]
    }
   ],
   "source": [
    "lista_dic = [{\"id\": 1, \"nombre\": \"Ana\"}, {\"id\": 2, \"nombre\": \"Luis\"}, {\"id\": 1, \"nombre\": \"Ana\"}]"
   ]
  },
  {
   "cell_type": "code",
   "execution_count": 29,
   "id": "3f51b827-8ac3-4038-8096-c2c96c910ddc",
   "metadata": {},
   "outputs": [
    {
     "data": {
      "text/plain": [
       "{(('id', 1), ('nombre', 'Ana')), (('id', 2), ('nombre', 'Luis'))}"
      ]
     },
     "execution_count": 29,
     "metadata": {},
     "output_type": "execute_result"
    }
   ],
   "source": [
    "conjunto = set()\n",
    "for dic in lista_dic:\n",
    "    conjunto.add(tuple(dic.items()))\n",
    "conjunto"
   ]
  },
  {
   "cell_type": "code",
   "execution_count": 36,
   "id": "a6170804-a228-4ea4-80ad-140ff0c8490f",
   "metadata": {},
   "outputs": [
    {
     "name": "stdout",
     "output_type": "stream",
     "text": [
      "(('id', 2), ('nombre', 'Luis'))\n",
      "(('id', 1), ('nombre', 'Ana'))\n"
     ]
    }
   ],
   "source": [
    "# volviendo conjunto de tuplas a lista de diccionarios\n",
    "for i in conjunto:\n",
    "    print(i)"
   ]
  },
  {
   "cell_type": "code",
   "execution_count": 52,
   "id": "f6ae5efb-1bca-4741-8ca4-055297eb7826",
   "metadata": {},
   "outputs": [
    {
     "data": {
      "text/plain": [
       "[{'id': 2, 'nombre': 'Luis'}, {'id': 1, 'nombre': 'Ana'}]"
      ]
     },
     "execution_count": 52,
     "metadata": {},
     "output_type": "execute_result"
    }
   ],
   "source": [
    "conj = { tuple(i.items()) for i in lista_dic}   # mega archi difícil conjunto por comprensión\n",
    "[dict(i) for i in conj]              # nivel ninja lista por comprensión"
   ]
  },
  {
   "cell_type": "code",
   "execution_count": null,
   "id": "45f3b9c9-063e-4c7f-9dc4-cc234606073b",
   "metadata": {},
   "outputs": [],
   "source": [
    "# algunas pruebas\n",
    "tupla_dic = tuple({'a':1, 'b':2}.items())  # --> transforma todo el diccionario en una tupla\n",
    "#\n",
    "for i in tupla_dic:\n",
    "    print(i[0], i[1])"
   ]
  },
  {
   "cell_type": "code",
   "execution_count": 44,
   "id": "77151f94-cd5a-4f31-9406-f9fd814a4ea4",
   "metadata": {},
   "outputs": [
    {
     "data": {
      "text/plain": [
       "[{'id': 2, 'nombre': 'Luis'}, {'id': 1, 'nombre': 'Ana'}]"
      ]
     },
     "execution_count": 44,
     "metadata": {},
     "output_type": "execute_result"
    }
   ],
   "source": [
    "lista_dic_nueva = []\n",
    "\n",
    "for i in conjunto:\n",
    "    lista_dic_nueva.append(dict(i))\n",
    "lista_dic_nueva"
   ]
  },
  {
   "cell_type": "code",
   "execution_count": 46,
   "id": "e43073a8-2790-45de-bdfe-433df1820891",
   "metadata": {},
   "outputs": [
    {
     "data": {
      "text/plain": [
       "{'a': 0, 'b': 1, 18: 'josecito'}"
      ]
     },
     "execution_count": 46,
     "metadata": {},
     "output_type": "execute_result"
    }
   ],
   "source": [
    "dict([('a', 0), ('b', 1), (18, 'josecito')]    )"
   ]
  },
  {
   "cell_type": "code",
   "execution_count": null,
   "id": "55be5818-7bd9-4110-8821-3480c3c28eea",
   "metadata": {},
   "outputs": [
    {
     "name": "stdout",
     "output_type": "stream",
     "text": [
      "a 1\n",
      "b 2\n"
     ]
    }
   ],
   "source": []
  },
  {
   "cell_type": "code",
   "execution_count": 49,
   "id": "0fa037e9-ffc2-4374-a9bf-fbc87ff4d27c",
   "metadata": {},
   "outputs": [
    {
     "name": "stdout",
     "output_type": "stream",
     "text": [
      "(('a', 1), ('b', 2))\n",
      "{'a': 1, 'b': 2}\n"
     ]
    }
   ],
   "source": [
    "nuevo_dic = dict()\n",
    "for i in tupla_dic:\n",
    "    nuevo_dic[i[0]] = i[1]\n",
    "print(tupla_dic)\n",
    "print(nuevo_dic)"
   ]
  },
  {
   "cell_type": "code",
   "execution_count": 50,
   "id": "075ed552-4f57-41f6-a7e6-b7d815a3d333",
   "metadata": {},
   "outputs": [
    {
     "data": {
      "text/plain": [
       "{'a': 1, 'b': 2}"
      ]
     },
     "execution_count": 50,
     "metadata": {},
     "output_type": "execute_result"
    }
   ],
   "source": [
    "dict(tupla_dic)"
   ]
  },
  {
   "cell_type": "code",
   "execution_count": 53,
   "id": "47e1861b-34b0-4b4a-8353-bfeaff4579c7",
   "metadata": {},
   "outputs": [],
   "source": [
    "# despempaquetando iterables para pasar argumentos\n",
    "\n",
    "def funcion(a, b):\n",
    "    print(a, b)"
   ]
  },
  {
   "cell_type": "code",
   "execution_count": 54,
   "id": "196b3345-5f2d-4fd9-8a4a-5ef2890deb0b",
   "metadata": {},
   "outputs": [
    {
     "name": "stdout",
     "output_type": "stream",
     "text": [
      "1 2\n"
     ]
    }
   ],
   "source": [
    "funcion(1, 2)"
   ]
  },
  {
   "cell_type": "code",
   "execution_count": 55,
   "id": "a137d93a-afd4-4a51-9724-bd5409c815fc",
   "metadata": {},
   "outputs": [],
   "source": [
    "tupla = (3, 4)"
   ]
  },
  {
   "cell_type": "code",
   "execution_count": 57,
   "id": "1d990cf5-7f63-43ea-be4e-3f12a110c461",
   "metadata": {},
   "outputs": [
    {
     "name": "stdout",
     "output_type": "stream",
     "text": [
      "3 4\n"
     ]
    }
   ],
   "source": [
    "funcion(*tupla)"
   ]
  },
  {
   "cell_type": "code",
   "execution_count": 58,
   "id": "7a0143c1-0bc2-4a30-abdf-b07253930e4e",
   "metadata": {},
   "outputs": [
    {
     "name": "stdout",
     "output_type": "stream",
     "text": [
      "4 5\n"
     ]
    }
   ],
   "source": [
    "lista = [4, 5]\n",
    "funcion(*lista)"
   ]
  },
  {
   "cell_type": "code",
   "execution_count": 60,
   "id": "cac36dc7-bbad-40cd-a641-8596fcdf91aa",
   "metadata": {},
   "outputs": [],
   "source": [
    "dic = {'a':10, 'b':20}"
   ]
  },
  {
   "cell_type": "code",
   "execution_count": 61,
   "id": "8f815994-c47e-4fd8-a259-f17a5decfcee",
   "metadata": {},
   "outputs": [
    {
     "name": "stdout",
     "output_type": "stream",
     "text": [
      "10 20\n"
     ]
    }
   ],
   "source": [
    "funcion(**dic)"
   ]
  },
  {
   "cell_type": "code",
   "execution_count": 75,
   "id": "a74cc071-5d0c-46d4-97d3-8b2b0a7909bc",
   "metadata": {},
   "outputs": [],
   "source": [
    "# ejercicio temperaturas tp 4\n",
    "# usando palabras clave arbitrarias (con doble asterisco)\n",
    "\n",
    "def convierte_temp(**ricards):\n",
    "    if not len(ricards) == 1:\n",
    "        print('pasar un solo argumento nombrado')\n",
    "        return\n",
    "    if not ('celsius' in ricards.keys() or 'farenheit' in ricards.keys() ):\n",
    "        print('debe ingresar farenheit o celsius')\n",
    "        return\n",
    "    if 'celsius' in ricards.keys():\n",
    "        f = ricards['celsius']*2\n",
    "        print('temp en farenheit', f)\n",
    "    else:\n",
    "        c = ricards['farenheit']/2\n",
    "        print('temp en celsius', c)\n",
    "        \n",
    "        \n",
    "\n"
   ]
  },
  {
   "cell_type": "code",
   "execution_count": 79,
   "id": "54ea7828-dbca-47a3-a92e-e7640c504f22",
   "metadata": {},
   "outputs": [
    {
     "name": "stdout",
     "output_type": "stream",
     "text": [
      "debe ingresar farenheit o celsius\n"
     ]
    }
   ],
   "source": [
    "convierte_temp(ricardo = 10)"
   ]
  },
  {
   "cell_type": "code",
   "execution_count": null,
   "id": "5665340b-c399-40c9-9b6e-fd7f47077c22",
   "metadata": {},
   "outputs": [],
   "source": []
  }
 ],
 "metadata": {
  "kernelspec": {
   "display_name": "Python 3 (ipykernel)",
   "language": "python",
   "name": "python3"
  },
  "language_info": {
   "codemirror_mode": {
    "name": "ipython",
    "version": 3
   },
   "file_extension": ".py",
   "mimetype": "text/x-python",
   "name": "python",
   "nbconvert_exporter": "python",
   "pygments_lexer": "ipython3",
   "version": "3.12.3"
  }
 },
 "nbformat": 4,
 "nbformat_minor": 5
}
