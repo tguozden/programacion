{
 "cells": [
  {
   "cell_type": "code",
   "execution_count": null,
   "id": "109e0dcd",
   "metadata": {},
   "outputs": [
    {
     "name": "stdout",
     "output_type": "stream",
     "text": [
      "[(0, 0), (1, 0), (1, -1), (1, -2), (2, -2), (2, -1), (1, -1), (1, 0)]\n"
     ]
    }
   ],
   "source": [
    "# Escriba una función que dada una lista de movimientos ‘ad’ (adelante), \n",
    "# ‘at' (atras), 'iz' (izquierda) y 'de' (derecha) retorne una lista de coordenadas en dos dimensiones comenzando desde la posición (0, 0).  \n",
    "# Por ejemplo: ['ad', 'iz', 'iz', 'ad', 'de', 'at', ‘de'] —> [(0, 0), (1, 0), (1, -1), (1, -2), (2, -2), (2, -1), (1, -1), (1, 0)] \n",
    "# Ayuda: Escriba una función que cada una coordenada de origen y un movimiento retorne una coordenada de destino.\n",
    "\n",
    "def eje_cartesiano(movimiento: list, origen: list):\n",
    "    cordenadas = []\n",
    "    cordenadas.append(tuple(origen))\n",
    "    for i in movimiento:\n",
    "        if i == \"adelante\":\n",
    "            origen[0] += 1\n",
    "            historial = tuple(origen)\n",
    "            cordenadas.append(historial)\n",
    "            \n",
    "        elif i == \"atras\":\n",
    "            origen[0] -= 1\n",
    "            historial = tuple(origen)\n",
    "            cordenadas.append(historial)\n",
    "        elif i == \"izquierda\":\n",
    "            origen[1] -= 1\n",
    "            historial = tuple(origen)\n",
    "            cordenadas.append(historial)\n",
    "        elif i == \"derecha\":\n",
    "            origen[1] += 1\n",
    "            historial = tuple(origen)\n",
    "            cordenadas.append(historial)\n",
    "    return cordenadas\n",
    "\n",
    "verificar = eje_cartesiano([\"adelante\", 'izquierda', 'izquierda', 'adelante', 'derecha', 'atras', 'derecha'], [0, 0])\n",
    "print(verificar)"
   ]
  },
  {
   "cell_type": "code",
   "execution_count": 31,
   "id": "397be4c3",
   "metadata": {},
   "outputs": [
    {
     "data": {
      "text/plain": [
       "[3, 6, -2]"
      ]
     },
     "execution_count": 31,
     "metadata": {},
     "output_type": "execute_result"
    }
   ],
   "source": [
    "# Dado un diccionario cuyas claves son coordenadas y sus significados números enteros \n",
    "# y una lista de movimientos retorne la lista de números de las coordenadas por las que se pasó: \n",
    "# Por ejemplo: {(1, 0): 3, (1, -1): 6, (1, -2): -2, (2, -3): 1, (1, 1): 2}\n",
    "# [‘ad’, 'iz', 'iz', 'ad', 'de', 'at', ‘de'] —> [3, 6, -2] \n",
    "\n",
    "def dicc_posicion(historial: dict):\n",
    "        posiciones = []\n",
    "        for i, j in historial.items():\n",
    "            if i in verificar:\n",
    "                posiciones.append(j)\n",
    "        return posiciones\n",
    "\n",
    "dicc_posicion({(1, 0): 3, (1, -1): 6, (1, -2): -2, (2, -3): 1, (1, 1): 2})"
   ]
  },
  {
   "cell_type": "code",
   "execution_count": null,
   "id": "9bc9dadb",
   "metadata": {},
   "outputs": [
    {
     "data": {
      "text/plain": [
       "[3, 6, -2]"
      ]
     },
     "execution_count": 34,
     "metadata": {},
     "output_type": "execute_result"
    },
    {
     "ename": "",
     "evalue": "",
     "output_type": "error",
     "traceback": [
      "\u001b[1;31mEl kernel se bloqueó al ejecutar código en la celda actual o en una celda anterior. \n",
      "\u001b[1;31mRevise el código de las celdas para identificar una posible causa del error. \n",
      "\u001b[1;31mHaga clic <a href='https://aka.ms/vscodeJupyterKernelCrash'>aquí</a> para obtener más información. \n",
      "\u001b[1;31mVea Jupyter <a href='command:jupyter.viewOutput'>log</a> para obtener más detalles."
     ]
    }
   ],
   "source": [
    "# Realizar el ejercicio B. usando estructuras por comprensión\n",
    "\n",
    "def dicc_posicion2(historial: dict):\n",
    "    posiciones = [j for i, j in historial.items() if i in verificar]\n",
    "\n",
    "    return posiciones\n",
    "\n",
    "dicc_posicion2({(1, 0): 3, (1, -1): 6, (1, -2): -2, (2, -3): 1, (1, 1): 2})"
   ]
  }
 ],
 "metadata": {
  "kernelspec": {
   "display_name": "Python 3",
   "language": "python",
   "name": "python3"
  },
  "language_info": {
   "codemirror_mode": {
    "name": "ipython",
    "version": 3
   },
   "file_extension": ".py",
   "mimetype": "text/x-python",
   "name": "python",
   "nbconvert_exporter": "python",
   "pygments_lexer": "ipython3",
   "version": "3.12.10"
  }
 },
 "nbformat": 4,
 "nbformat_minor": 5
}
