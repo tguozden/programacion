{
 "cells": [
  {
   "cell_type": "markdown",
   "id": "e4b0e88e-1728-43ff-b023-de8446268a1d",
   "metadata": {},
   "source": [
    "1. Suponga que la variable `var` es una cadena de caracteres con una oración, por ejemplo\n",
    "\n",
    "   ```python\n",
    "   var = 'El sol se refleja en el lago'\n",
    "   ```\n",
    "\n",
    "   Sin usar métodos de strings, cree un programa que:  \n",
    "   a. cuente cuántas palabras hay en la oración. Suponga que las palabras están separadas por espacios, y que no hay espacios al principio ni al final de la cadena.  "
   ]
  },
  {
   "cell_type": "code",
   "execution_count": 4,
   "id": "f384a9b4-d3d3-496e-8fcc-4e50f862fbc8",
   "metadata": {},
   "outputs": [
    {
     "name": "stdout",
     "output_type": "stream",
     "text": [
      "hay 7 palabras\n",
      "(s2) hay 7 palabras\n"
     ]
    }
   ],
   "source": [
    "#solucion 1\n",
    "var = 'El sol se refleja en el lago'\n",
    "nroespacios = 0\n",
    "for caracter in var:\n",
    "    if caracter == ' ':\n",
    "        nroespacios +=1\n",
    "print('hay', nroespacios + 1, 'palabras')\n",
    "#solucion 2: los iterables como strings listas y tuplas tienen el método count() \n",
    "npalabras = var.count(' ')  \n",
    "print('(s2) hay', nroespacios + 1, 'palabras')\n"
   ]
  },
  {
   "cell_type": "markdown",
   "id": "b344f497-a302-4cae-9511-3057dd9ba19b",
   "metadata": {},
   "source": [
    "b. cree una lista de enteros en donde cada entero indique la cantidad de letras que tiene cada palabra. En el caso ejemplo la lista sería:  \n",
    "      ```python\n",
    "      lista = [2, 3, 2, 7, 2, 2, 4]\n",
    "      ```"
   ]
  },
  {
   "cell_type": "code",
   "execution_count": 13,
   "id": "92cd4821-3909-4287-ada7-94cb5a4aba3a",
   "metadata": {},
   "outputs": [
    {
     "name": "stdout",
     "output_type": "stream",
     "text": [
      "[2, 3, 2, 7, 2, 2, 4]\n"
     ]
    }
   ],
   "source": [
    "lista = [] #creo una lista vacía\n",
    "n = 0;\n",
    "for i in var:\n",
    "    if i == ' ':\n",
    "        lista.append(n);  #otra opción: lista += [n]\n",
    "        n = 0\n",
    "    else:\n",
    "        n += 1\n",
    "        \n",
    "lista.append(n)  # me faltaba la última palabra\n",
    "print(lista)"
   ]
  },
  {
   "cell_type": "markdown",
   "id": "a1505ea7-74c6-4df8-bc6f-775e27ebb788",
   "metadata": {},
   "source": [
    "2. Suponga una lista cuyos elementos son todos números enteros. Cree una nueva lista con los mismos elementos pero que no estén repetidos."
   ]
  },
  {
   "cell_type": "code",
   "execution_count": 17,
   "id": "dcf9b1ec-4749-454a-9507-5ffff50e86b8",
   "metadata": {},
   "outputs": [
    {
     "name": "stdout",
     "output_type": "stream",
     "text": [
      "[2, 3, 8, 9, 2, 8, 1, 5, 2, 1, 4, 9, 6, 8, 0, 4, 9, 5, 9, 1]\n",
      "[2, 3, 8, 9, 1, 5, 4, 6, 0]\n"
     ]
    }
   ],
   "source": [
    "import random  # para tener números aleatorios!\n",
    "#random.randint(0, 9)  #sortea números entre 0 y 9 ambos incluídos\n",
    "lista = []\n",
    "for i in range(20):\n",
    "    lista.append( random.randint(0,9) )\n",
    "print(lista)\n",
    "\n",
    "list2 = []\n",
    "for i in lista:\n",
    "    if i not in list2:\n",
    "        list2.append(i)\n",
    "\n",
    "print(list2)"
   ]
  },
  {
   "cell_type": "markdown",
   "id": "2b2117c6-f319-4150-bf94-beecba15d820",
   "metadata": {},
   "source": [
    "3. Cree un programa que pida al usuario una cadena de caracteres. Mientras el usuario ingresa números enteros, añádalos a una lista. Caso contrario imprima “gracias” y termine el ciclo. Luego imprima cuántos números sin repetir se ingresaron."
   ]
  },
  {
   "cell_type": "code",
   "execution_count": 19,
   "id": "3975a9b0-ed85-4db3-8eeb-c6bd39d17dd0",
   "metadata": {},
   "outputs": [
    {
     "name": "stdin",
     "output_type": "stream",
     "text": [
      " 4\n",
      " 3\n",
      " 6\n",
      " 3\n",
      " 3\n",
      " 5\n",
      " t\n"
     ]
    },
    {
     "name": "stdout",
     "output_type": "stream",
     "text": [
      "[4, 3, 6, 5]\n"
     ]
    }
   ],
   "source": [
    "n = '0'\n",
    "lista = []\n",
    "while(n.isdecimal()):\n",
    "    n = input()\n",
    "    if n.isdecimal():\n",
    "        lista.append(int(n))\n",
    "\n",
    "list2 = []\n",
    "for i in lista:\n",
    "    if i not in list2:\n",
    "        list2.append(i)\n",
    "\n",
    "print(list2)"
   ]
  },
  {
   "cell_type": "code",
   "execution_count": null,
   "id": "edd2306d-5b37-4ab8-adad-6f630ac35f52",
   "metadata": {},
   "outputs": [],
   "source": []
  }
 ],
 "metadata": {
  "kernelspec": {
   "display_name": "Python 3 (ipykernel)",
   "language": "python",
   "name": "python3"
  },
  "language_info": {
   "codemirror_mode": {
    "name": "ipython",
    "version": 3
   },
   "file_extension": ".py",
   "mimetype": "text/x-python",
   "name": "python",
   "nbconvert_exporter": "python",
   "pygments_lexer": "ipython3",
   "version": "3.12.3"
  }
 },
 "nbformat": 4,
 "nbformat_minor": 5
}
