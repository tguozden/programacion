{
 "cells": [
  {
   "cell_type": "code",
   "execution_count": 9,
   "id": "382a1fbc-1689-4203-b918-6167d83c278e",
   "metadata": {},
   "outputs": [],
   "source": [
    "import primer_modulo\n"
   ]
  },
  {
   "cell_type": "code",
   "execution_count": 12,
   "id": "e8374f14-0b06-4622-8736-208435d468db",
   "metadata": {},
   "outputs": [
    {
     "name": "stdout",
     "output_type": "stream",
     "text": [
      "3\n"
     ]
    }
   ],
   "source": [
    "print(primer_modulo.suma(1, 2))"
   ]
  },
  {
   "cell_type": "code",
   "execution_count": 13,
   "id": "fdf6fed5-309d-4130-a721-329bcee9c452",
   "metadata": {},
   "outputs": [
    {
     "data": {
      "text/plain": [
       "12"
      ]
     },
     "execution_count": 13,
     "metadata": {},
     "output_type": "execute_result"
    }
   ],
   "source": [
    "primer_modulo.mult(3, 4)"
   ]
  },
  {
   "cell_type": "markdown",
   "id": "78787488-1a0d-41f4-b2e0-4f2f4ac554dd",
   "metadata": {
    "jp-MarkdownHeadingCollapsed": true
   },
   "source": [
    "# Instalamos Matplotlib\n",
    "# Graficamos concentración CO2\n",
    "    https://gml.noaa.gov/webdata/ccgg/trends/co2/co2_mm_gl.csv\"\n",
    "# variable `__name__` "
   ]
  }
 ],
 "metadata": {
  "kernelspec": {
   "display_name": "Python 3 (ipykernel)",
   "language": "python",
   "name": "python3"
  },
  "language_info": {
   "codemirror_mode": {
    "name": "ipython",
    "version": 3
   },
   "file_extension": ".py",
   "mimetype": "text/x-python",
   "name": "python",
   "nbconvert_exporter": "python",
   "pygments_lexer": "ipython3",
   "version": "3.12.3"
  }
 },
 "nbformat": 4,
 "nbformat_minor": 5
}
