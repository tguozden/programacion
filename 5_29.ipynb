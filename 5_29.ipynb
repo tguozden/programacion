{
 "cells": [
  {
   "cell_type": "code",
   "execution_count": 3,
   "id": "2f647ca2-9b3a-4b8c-9aa8-ead043bb3728",
   "metadata": {},
   "outputs": [
    {
     "name": "stdout",
     "output_type": "stream",
     "text": [
      "9\n",
      "8\n",
      "7\n",
      "6\n",
      "5\n",
      "4\n",
      "3\n",
      "2\n",
      "1\n",
      "0\n"
     ]
    }
   ],
   "source": [
    "def cuenta_regresiva(n:int):\n",
    "    while(n > 0):\n",
    "        n = n - 1\n",
    "        print(n)\n",
    "\n",
    "# algoritmo de orden n\n",
    "# realiza n instrucciones\n",
    "# O(n)\n",
    "\n",
    "cuenta_regresiva(10)"
   ]
  },
  {
   "cell_type": "code",
   "execution_count": 7,
   "id": "103e72ba-c13f-4bd2-a1e5-7a68152d7ce5",
   "metadata": {},
   "outputs": [
    {
     "name": "stdout",
     "output_type": "stream",
     "text": [
      "[45, 2, 21, 14, 20, 29, 83, 3, 87, 25, 90, 25, 97, 85, 7, 37, 62, 9, 76, 49]\n"
     ]
    }
   ],
   "source": [
    "from random import randint\n",
    "lista = [randint(0, 99) for i in range(20)]\n",
    "print(lista)"
   ]
  },
  {
   "cell_type": "code",
   "execution_count": 10,
   "id": "4ffd1595-a44b-4829-bc3f-84396925dcc6",
   "metadata": {},
   "outputs": [
    {
     "name": "stdout",
     "output_type": "stream",
     "text": [
      "[2, 45, 21, 14, 20, 29, 83, 3, 87, 25, 90, 25, 97, 85, 7, 37, 62, 9, 76, 49]\n"
     ]
    }
   ],
   "source": [
    "lista = [45, 2, 21, 14, 20, 29, 83, 3, 87, 25, 90, 25, 97, 85, 7, 37, 62, 9, 76, 49]\n",
    "\n",
    "aux = lista[0]\n",
    "lista[0] = lista[1]\n",
    "lista[1] = aux\n",
    "\n",
    "print(lista)\n"
   ]
  },
  {
   "cell_type": "code",
   "execution_count": 15,
   "id": "f6848db7-4032-4526-bb5a-f2985f6bb27b",
   "metadata": {},
   "outputs": [
    {
     "name": "stdout",
     "output_type": "stream",
     "text": [
      "[2, 45, 21, 14, 20, 29, 83, 3, 87, 25, 90, 25, 97, 85, 7, 37, 62, 9, 76, 49]\n"
     ]
    }
   ],
   "source": [
    "def swap(lista, i , j):\n",
    "    aux = lista[i]\n",
    "    lista[i] = lista[j]\n",
    "    lista[j] = aux\n",
    "\n",
    "def imin(lista) ->int:\n",
    "    ''' algoritmo de orden O(n),\n",
    "    n = len(lista)'''\n",
    "    \n",
    "    vmin = lista[0]\n",
    "    imin = 0\n",
    "    for i, elem in enumerate(lista):\n",
    "        if elem < vmin:\n",
    "            vmin = elem\n",
    "            imin = i\n",
    "    return imin\n",
    "\n",
    "def ordena(lista:list) ->None:\n",
    "    nmin = imin(lista)\n",
    "    swap(lista, nmin, 0)\n",
    "\n",
    "lista = [45, 2, 21, 14, 20, 29, 83, 3, 87, 25, 90, 25, 97, 85, 7, 37, 62, 9, 76, 49]\n",
    "ordena(lista)\n",
    "print(lista)"
   ]
  },
  {
   "cell_type": "code",
   "execution_count": 19,
   "id": "593e1d31-abe3-4164-8cff-42962d4f6cd7",
   "metadata": {},
   "outputs": [
    {
     "name": "stdout",
     "output_type": "stream",
     "text": [
      "190\n",
      "[2, 3, 7, 9, 14, 20, 21, 25, 25, 29, 37, 45, 49, 62, 76, 83, 85, 87, 90, 97]\n"
     ]
    }
   ],
   "source": [
    "def swap(lista, i , j):\n",
    "    aux = lista[i]\n",
    "    lista[i] = lista[j]\n",
    "    lista[j] = aux\n",
    "\n",
    "def benja(lista):\n",
    "    cont = 0\n",
    "    n = len(lista)\n",
    "    for i in range(n):       # range(n): 0, 1, 2, .., n-1  \n",
    "        #repito n veces\n",
    "        for j in range(i+1,n):\n",
    "            # n-1\n",
    "            # n-2\n",
    "            # n-3\n",
    "            #...\n",
    "            # 1\n",
    "            # n/2\n",
    "            if (lista[i]) > lista[j]:\n",
    "                swap(lista, i, j)\n",
    "            cont += 1\n",
    "            # print(lista)\n",
    "    print(cont)\n",
    "# algoritmo es de orden n* n /2 : O(n²)\n",
    "            \n",
    "lista = [45, 2, 21, 14, 20, 29, 83, 3, 87, 25, 90, 25, 97, 85, 7, 37, 62, 9, 76, 49]\n",
    "benja(lista)\n",
    "print(lista)"
   ]
  },
  {
   "cell_type": "code",
   "execution_count": 27,
   "id": "2b9d9b5e-1bd3-45f1-8f8d-8ca6b675d2d7",
   "metadata": {},
   "outputs": [
    {
     "name": "stdout",
     "output_type": "stream",
     "text": [
      "iter =  380\n",
      "[2, 3, 7, 9, 14, 20, 21, 25, 25, 29, 37, 45, 49, 62, 76, 83, 85, 87, 90, 97]\n"
     ]
    }
   ],
   "source": [
    "def swap(lista, i , j):\n",
    "    aux = lista[i]\n",
    "    lista[i] = lista[j]\n",
    "    lista[j] = aux\n",
    "def burbuja(lista):\n",
    "    n = len(lista)\n",
    "    cont = 0\n",
    "    niter = 0\n",
    "    while cont < n:\n",
    "        cont += 1\n",
    "        for i in range(n-1):\n",
    "            if lista[i] > lista[i+1]:\n",
    "                swap(lista, i, i + 1)\n",
    "            niter += 1\n",
    "        \n",
    "    print('iter = ',niter)\n",
    "            # print(lista)\n",
    "            # input()\n",
    "\n",
    "lista = [45, 2, 21, 14, 20, 29, 83, 3, 87, 25, 90, 25, 97, 85, 7, 37, 62, 9, 76, 49]\n",
    "burbuja(lista)\n",
    "print(lista)"
   ]
  },
  {
   "cell_type": "code",
   "execution_count": 31,
   "id": "cbd1e7a5-cd67-40c6-98a0-f2ea59cab0e7",
   "metadata": {},
   "outputs": [
    {
     "name": "stdout",
     "output_type": "stream",
     "text": [
      "iter =  190\n",
      "[2, 3, 7, 9, 14, 20, 21, 25, 25, 29, 37, 45, 49, 62, 76, 83, 85, 87, 90, 97]\n"
     ]
    }
   ],
   "source": [
    "def burbuja2(lista):\n",
    "    n = len(lista)\n",
    "    cont = 0\n",
    "    niter = 0\n",
    "    for j in range(n-1,0,-1):\n",
    "        for i in range(j):\n",
    "            if lista[i] > lista[i+1]:\n",
    "                swap(lista, i, i + 1)\n",
    "            niter += 1\n",
    "        \n",
    "    print('iter = ',niter)\n",
    "            # print(lista)\n",
    "            # input()\n",
    "\n",
    "\n",
    "lista = [45, 2, 21, 14, 20, 29, 83, 3, 87, 25, 90, 25, 97, 85, 7, 37, 62, 9, 76, 49]\n",
    "burbuja2(lista) # tarda la mitad pero sigue siendo orden n^2\n",
    "print(lista)"
   ]
  },
  {
   "cell_type": "code",
   "execution_count": 7,
   "id": "60651abf-e3a8-4186-af2a-4b80d9921c46",
   "metadata": {},
   "outputs": [
    {
     "data": {
      "text/plain": [
       "-1"
      ]
     },
     "execution_count": 7,
     "metadata": {},
     "output_type": "execute_result"
    }
   ],
   "source": [
    "def busca_indice(lista, elem)->int:\n",
    "    for i in range(len(lista)):\n",
    "        if lista[i] == elem:\n",
    "            return i\n",
    "\n",
    "def busqueda_binaria(lista_ordenada, elem):\n",
    "    n = len(lista_ordenada)\n",
    "    il = 0\n",
    "    ir = len(lista_ordenada)\n",
    "    while ir-il > 1:\n",
    "        imedio = il + (ir-il)//2\n",
    "        if lista_ordenada[imedio] == elem: return imedio\n",
    "        if lista_ordenada[imedio] < elem:  # me quedo con la mitad de la derecha\n",
    "            #si esto ocurre tengo que buscar elem en lista_ordenada[n/2+1:]\n",
    "            il = imedio\n",
    "        else:\n",
    "            ir = imedio\n",
    "    return -1\n",
    "        \n",
    "lista = [2, 3, 7, 9, 14, 20, 21, 25, 25, 29, 37, 45, 49, 62, 76, 83, 85, 87, 90, 97]\n",
    "busqueda_binaria(lista, 22)\n"
   ]
  },
  {
   "cell_type": "code",
   "execution_count": null,
   "id": "bc823e39-113f-4380-991c-82c24f8d1a80",
   "metadata": {},
   "outputs": [],
   "source": []
  }
 ],
 "metadata": {
  "kernelspec": {
   "display_name": "Python 3 (ipykernel)",
   "language": "python",
   "name": "python3"
  },
  "language_info": {
   "codemirror_mode": {
    "name": "ipython",
    "version": 3
   },
   "file_extension": ".py",
   "mimetype": "text/x-python",
   "name": "python",
   "nbconvert_exporter": "python",
   "pygments_lexer": "ipython3",
   "version": "3.12.3"
  }
 },
 "nbformat": 4,
 "nbformat_minor": 5
}
