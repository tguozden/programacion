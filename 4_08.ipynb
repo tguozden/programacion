{
 "cells": [
  {
   "cell_type": "code",
   "execution_count": 18,
   "id": "98d471f3-6151-40c6-9e34-2463def8fd6f",
   "metadata": {},
   "outputs": [],
   "source": [
    "listita = list()"
   ]
  },
  {
   "cell_type": "code",
   "execution_count": 19,
   "id": "73386799-c959-4fe1-b0cc-8cf121e4cd29",
   "metadata": {},
   "outputs": [],
   "source": [
    "listita.extend([1, 2, 3])"
   ]
  },
  {
   "cell_type": "code",
   "execution_count": 20,
   "id": "fe587f9c-ff2f-4c69-9a95-dc9ebe0cdd96",
   "metadata": {},
   "outputs": [
    {
     "name": "stdout",
     "output_type": "stream",
     "text": [
      "[1, 2, 3]\n"
     ]
    }
   ],
   "source": [
    "print(listita)"
   ]
  },
  {
   "cell_type": "code",
   "execution_count": 21,
   "id": "4562e6d4-1432-49c5-8c57-9f17b1ae5ac1",
   "metadata": {},
   "outputs": [
    {
     "data": {
      "text/plain": [
       "[1, 2, 3, 4]"
      ]
     },
     "execution_count": 21,
     "metadata": {},
     "output_type": "execute_result"
    }
   ],
   "source": [
    "[1, 2] + [3, 4]\n"
   ]
  },
  {
   "cell_type": "code",
   "execution_count": 22,
   "id": "fff2b2f5-e336-4a79-826b-7563c4884e30",
   "metadata": {},
   "outputs": [],
   "source": [
    "cadenita = 'hola mundo!'"
   ]
  },
  {
   "cell_type": "code",
   "execution_count": 23,
   "id": "de2adeff-a305-470d-a8e2-2c70736c8d8e",
   "metadata": {},
   "outputs": [
    {
     "data": {
      "text/plain": [
       "str"
      ]
     },
     "execution_count": 23,
     "metadata": {},
     "output_type": "execute_result"
    }
   ],
   "source": [
    "type(cadenita)"
   ]
  },
  {
   "cell_type": "code",
   "execution_count": 24,
   "id": "754756b5-c0e8-449b-97b5-4e007de92324",
   "metadata": {},
   "outputs": [
    {
     "data": {
      "text/plain": [
       "'h'"
      ]
     },
     "execution_count": 24,
     "metadata": {},
     "output_type": "execute_result"
    }
   ],
   "source": [
    "cadenita[0]"
   ]
  },
  {
   "cell_type": "code",
   "execution_count": 25,
   "id": "8a6ec6ac-e0de-46d3-83ae-d666d9205fde",
   "metadata": {},
   "outputs": [
    {
     "data": {
      "text/plain": [
       "True"
      ]
     },
     "execution_count": 25,
     "metadata": {},
     "output_type": "execute_result"
    }
   ],
   "source": [
    "'unrn'.isalpha()"
   ]
  },
  {
   "cell_type": "code",
   "execution_count": 26,
   "id": "b812d0dc-f733-4ac1-8e99-903092b75b13",
   "metadata": {},
   "outputs": [
    {
     "data": {
      "text/plain": [
       "False"
      ]
     },
     "execution_count": 26,
     "metadata": {},
     "output_type": "execute_result"
    }
   ],
   "source": [
    "'unrn123'.isalpha()"
   ]
  },
  {
   "cell_type": "code",
   "execution_count": 27,
   "id": "b1190f30-7055-438d-a98d-ee3baa9f9279",
   "metadata": {},
   "outputs": [
    {
     "data": {
      "text/plain": [
       "True"
      ]
     },
     "execution_count": 27,
     "metadata": {},
     "output_type": "execute_result"
    }
   ],
   "source": [
    "'123'.isdecimal()"
   ]
  },
  {
   "cell_type": "code",
   "execution_count": 28,
   "id": "6fd91cf8-26f9-44b2-8c97-019011ca691c",
   "metadata": {},
   "outputs": [
    {
     "data": {
      "text/plain": [
       "False"
      ]
     },
     "execution_count": 28,
     "metadata": {},
     "output_type": "execute_result"
    }
   ],
   "source": [
    "'a123'.isdecimal()"
   ]
  },
  {
   "cell_type": "code",
   "execution_count": 30,
   "id": "20dec7e5-574c-434f-bfaf-2ed0b296d141",
   "metadata": {},
   "outputs": [
    {
     "name": "stdin",
     "output_type": "stream",
     "text": [
      " 123\n"
     ]
    },
    {
     "name": "stdout",
     "output_type": "stream",
     "text": [
      "bien hecho\n"
     ]
    }
   ],
   "source": [
    "if input().isdecimal():\n",
    "    print('bien hecho')\n",
    "else:\n",
    "    print('solo números')"
   ]
  },
  {
   "cell_type": "code",
   "execution_count": 34,
   "id": "bb5dd213-4d5b-4acc-a45e-71237d49ac23",
   "metadata": {},
   "outputs": [
    {
     "name": "stdin",
     "output_type": "stream",
     "text": [
      " 1\n"
     ]
    },
    {
     "name": "stdout",
     "output_type": "stream",
     "text": [
      "vamos bien, ud ingresó 1\n"
     ]
    },
    {
     "name": "stdin",
     "output_type": "stream",
     "text": [
      " 4\n"
     ]
    },
    {
     "name": "stdout",
     "output_type": "stream",
     "text": [
      "vamos bien, ud ingresó 4\n"
     ]
    },
    {
     "name": "stdin",
     "output_type": "stream",
     "text": [
      " 6\n"
     ]
    },
    {
     "name": "stdout",
     "output_type": "stream",
     "text": [
      "vamos bien, ud ingresó 6\n"
     ]
    },
    {
     "name": "stdin",
     "output_type": "stream",
     "text": [
      " a\n"
     ]
    }
   ],
   "source": [
    "while((c:=input()).isdecimal()):\n",
    "    print('vamos bien, ud ingresó', c)"
   ]
  },
  {
   "cell_type": "code",
   "execution_count": 35,
   "id": "fb04f31b-f47c-4eab-af3e-ea0057e50f84",
   "metadata": {},
   "outputs": [
    {
     "name": "stdin",
     "output_type": "stream",
     "text": [
      " 12\n"
     ]
    },
    {
     "name": "stdout",
     "output_type": "stream",
     "text": [
      "ud ingresó 12\n"
     ]
    },
    {
     "name": "stdin",
     "output_type": "stream",
     "text": [
      " 45\n"
     ]
    },
    {
     "name": "stdout",
     "output_type": "stream",
     "text": [
      "ud ingresó 45\n"
     ]
    },
    {
     "name": "stdin",
     "output_type": "stream",
     "text": [
      " damian\n"
     ]
    },
    {
     "name": "stdout",
     "output_type": "stream",
     "text": [
      "ud ingresó damian\n"
     ]
    }
   ],
   "source": [
    "while(True):\n",
    "    c = input()\n",
    "    print('ud ingresó', c)\n",
    "    if c.isdecimal() == False:\n",
    "        break"
   ]
  },
  {
   "cell_type": "code",
   "execution_count": 41,
   "id": "4bb7c078-97db-442b-8d91-3764ba16cd89",
   "metadata": {},
   "outputs": [
    {
     "name": "stdout",
     "output_type": "stream",
     "text": [
      "True False\n",
      "False True\n"
     ]
    }
   ],
   "source": [
    "print('m'.islower(), 'M'.islower())\n",
    "print('m'.isupper(), 'M'.isupper())"
   ]
  },
  {
   "cell_type": "code",
   "execution_count": 44,
   "id": "f19061cd-79a9-4d1a-863f-40840b4b4bc0",
   "metadata": {},
   "outputs": [
    {
     "name": "stdout",
     "output_type": "stream",
     "text": [
      "HOLA MUNDO! hola mundo!\n",
      "abc\n"
     ]
    }
   ],
   "source": [
    "cadenita = 'hola mundo!'\n",
    "print(cadenita.upper(), cadenita)\n",
    "print('ABC'.lower())"
   ]
  },
  {
   "cell_type": "code",
   "execution_count": 47,
   "id": "fa3a3965-0ff1-49fb-878a-6d4da9a2214d",
   "metadata": {},
   "outputs": [],
   "source": [
    "frase = 'Hoy sopla viento del este'"
   ]
  },
  {
   "cell_type": "code",
   "execution_count": 51,
   "id": "61a9f4ce-410b-42c6-9520-e7bc3bb7be1b",
   "metadata": {},
   "outputs": [
    {
     "name": "stdout",
     "output_type": "stream",
     "text": [
      "['u', 'n', 'r', 'n']\n"
     ]
    }
   ],
   "source": [
    "lista_letras = list('unrn')\n",
    "print(lista_letras)"
   ]
  },
  {
   "cell_type": "code",
   "execution_count": 52,
   "id": "41d6e0d2-2914-4e9e-b041-3dca8f52a107",
   "metadata": {},
   "outputs": [
    {
     "data": {
      "text/plain": [
       "'u n r n'"
      ]
     },
     "execution_count": 52,
     "metadata": {},
     "output_type": "execute_result"
    }
   ],
   "source": [
    "' '.join(lista_letras)"
   ]
  },
  {
   "cell_type": "code",
   "execution_count": 53,
   "id": "020fbe32-72d6-497d-85b7-a0faef6f79b3",
   "metadata": {},
   "outputs": [
    {
     "data": {
      "text/plain": [
       "'cualquier cosa'"
      ]
     },
     "execution_count": 53,
     "metadata": {},
     "output_type": "execute_result"
    }
   ],
   "source": [
    "''.join(list('cualquier cosa'))"
   ]
  },
  {
   "cell_type": "code",
   "execution_count": 55,
   "id": "be6ec575-6dcd-4b49-8448-e9ecd84eafc1",
   "metadata": {},
   "outputs": [
    {
     "data": {
      "text/plain": [
       "'c#u#a#l#q#u#i#e#r# #c#o#s#a'"
      ]
     },
     "execution_count": 55,
     "metadata": {},
     "output_type": "execute_result"
    }
   ],
   "source": [
    "'#'.join(list('cualquier cosa'))"
   ]
  },
  {
   "cell_type": "code",
   "execution_count": 58,
   "id": "4a529daa-602b-4a4b-825c-2b502a14af0f",
   "metadata": {},
   "outputs": [
    {
     "name": "stdout",
     "output_type": "stream",
     "text": [
      "Hoy sopla viento del este\n"
     ]
    },
    {
     "data": {
      "text/plain": [
       "['Hoy', 'sopla', 'viento', 'del', 'este']"
      ]
     },
     "execution_count": 58,
     "metadata": {},
     "output_type": "execute_result"
    }
   ],
   "source": [
    "print(frase)\n",
    "frase.split(' ')"
   ]
  },
  {
   "cell_type": "code",
   "execution_count": 59,
   "id": "f9834358-2a08-46a3-9b74-4506b00dd65f",
   "metadata": {},
   "outputs": [
    {
     "data": {
      "text/plain": [
       "'Hoy_sopla_viento_del_este'"
      ]
     },
     "execution_count": 59,
     "metadata": {},
     "output_type": "execute_result"
    }
   ],
   "source": [
    "'_'.join( frase.split(' ') )"
   ]
  },
  {
   "cell_type": "code",
   "execution_count": 62,
   "id": "4fe7bb91-e5e7-46eb-8162-1876b7608864",
   "metadata": {},
   "outputs": [
    {
     "name": "stdout",
     "output_type": "stream",
     "text": [
      "la frase tiene 5 palabras\n"
     ]
    }
   ],
   "source": [
    "#cuente cuantas palabras hay en frase\n",
    "n = 0\n",
    "for i in frase:\n",
    "    if i == ' ':\n",
    "        n = n + 1\n",
    "\n",
    "print('la frase tiene', n+1, 'palabras')\n",
    "\n"
   ]
  },
  {
   "cell_type": "code",
   "execution_count": 64,
   "id": "42362743-4120-4a2e-84d6-47b6a6d6493c",
   "metadata": {},
   "outputs": [
    {
     "name": "stdout",
     "output_type": "stream",
     "text": [
      "la frase tiene 5 palabras\n"
     ]
    }
   ],
   "source": [
    "print('la frase tiene', len(frase.split(' ')), 'palabras')\n"
   ]
  },
  {
   "cell_type": "code",
   "execution_count": 67,
   "id": "350c70b4-eb7f-4332-b80f-3896d87ff2c3",
   "metadata": {},
   "outputs": [
    {
     "data": {
      "text/plain": [
       "True"
      ]
     },
     "execution_count": 67,
     "metadata": {},
     "output_type": "execute_result"
    }
   ],
   "source": [
    "'abc' in 'abcdario'"
   ]
  },
  {
   "cell_type": "code",
   "execution_count": 68,
   "id": "36a1a865-f974-4abd-a08b-044c13deb385",
   "metadata": {},
   "outputs": [
    {
     "data": {
      "text/plain": [
       "False"
      ]
     },
     "execution_count": 68,
     "metadata": {},
     "output_type": "execute_result"
    }
   ],
   "source": [
    "'a1' in 'abcdario'"
   ]
  },
  {
   "cell_type": "code",
   "execution_count": 69,
   "id": "bbea1726-0bd3-413b-bd09-bb9717bfed08",
   "metadata": {},
   "outputs": [],
   "source": [
    "#pedir al usuario que ingrese una contraseña\n",
    "#chequear que tenga al menos 8 caraterese\n",
    "#chequear que no tenga espacios\n",
    "#chequear que tenga al menos una mayuscula y una minuscla\n",
    "#chequear que tenga al menos un número\n",
    "#pedir al usuario que vuelva a ingresar la contraseña y chequear compatibilidad\n"
   ]
  },
  {
   "cell_type": "code",
   "execution_count": 3,
   "id": "da79efa6-0669-4b2d-9962-fb2ee5b9bdc6",
   "metadata": {},
   "outputs": [
    {
     "name": "stdin",
     "output_type": "stream",
     "text": [
      " HOLAMUNDOOo\n"
     ]
    },
    {
     "name": "stdout",
     "output_type": "stream",
     "text": [
      "repita la contraseña\n"
     ]
    },
    {
     "name": "stdin",
     "output_type": "stream",
     "text": [
      " HOLAMUNDOOo\n"
     ]
    }
   ],
   "source": [
    "c = input()\n",
    "er= False \n",
    "if len(c) < 8:\n",
    "    print('debe ingresar al menos 8 caracteres')\n",
    "    er = True\n",
    "if ' ' in c:\n",
    "    print('no debe tener espacios')\n",
    "    er = True\n",
    "\n",
    "nmin = 0\n",
    "for i in list(c):\n",
    "    if i.islower():\n",
    "        nmin = nmin + 1\n",
    "if nmin == 0:\n",
    "    print('la contraseña tiene que tener al menos una minúscula')\n",
    "    er = True\n",
    "    \n",
    "if er == False:\n",
    "    print('repita la contraseña')\n",
    "    c2 = input()\n",
    "    if c2 != c:\n",
    "        print('contraseña incorrecta')\n",
    "        er = True\n",
    "if er:\n",
    "    print('error')\n",
    "else:\n",
    "    print('ud ha ingresado correctamente la contraseña')"
   ]
  },
  {
   "cell_type": "code",
   "execution_count": 8,
   "id": "f4cb9e15-1d58-4522-be9c-371ca8cdd56b",
   "metadata": {},
   "outputs": [
    {
     "name": "stdout",
     "output_type": "stream",
     "text": [
      "ingrese una contraseña\n"
     ]
    },
    {
     "name": "stdin",
     "output_type": "stream",
     "text": [
      " asd\n"
     ]
    },
    {
     "name": "stdout",
     "output_type": "stream",
     "text": [
      "debe ingresar al menos 8 caracteres\n",
      "ingrese una contraseña\n"
     ]
    },
    {
     "name": "stdin",
     "output_type": "stream",
     "text": [
      " asd\n"
     ]
    },
    {
     "name": "stdout",
     "output_type": "stream",
     "text": [
      "debe ingresar al menos 8 caracteres\n",
      "ingrese una contraseña\n"
     ]
    },
    {
     "name": "stdin",
     "output_type": "stream",
     "text": [
      " asd\n"
     ]
    },
    {
     "name": "stdout",
     "output_type": "stream",
     "text": [
      "debe ingresar al menos 8 caracteres\n",
      "error, se superaró la cantidad de intentos\n"
     ]
    }
   ],
   "source": [
    "#que le dé tres oportunidades al usuario, caso contrario imprima \"excede límite posibilidades\"\n",
    "#er= False no precisamos más este acumulador\n",
    "intento = 0\n",
    "while True:\n",
    "    \n",
    "    if intento == 3:\n",
    "        print('error, se superaró la cantidad de intentos')\n",
    "        break\n",
    "    intento = intento + 1\n",
    "    \n",
    "    print('ingrese una contraseña')\n",
    "    c = input()\n",
    "    if len(c) < 8:\n",
    "        print('debe ingresar al menos 8 caracteres')\n",
    "        continue\n",
    "    if ' ' in c:\n",
    "        print('no debe tener espacios')\n",
    "        continue\n",
    "    nmin = 0\n",
    "    for i in list(c):\n",
    "        if i.islower():\n",
    "            nmin = nmin + 1\n",
    "    if nmin == 0:\n",
    "        print('la contraseña tiene que tener al menos una minúscula')\n",
    "        continue        \n",
    "\n",
    "    print('repita la contraseña')\n",
    "    c2 = input()\n",
    "    if c2 == c:\n",
    "        print('ud ha ingresado correctamente la contraseña')\n",
    "        break\n",
    "    else:\n",
    "        print('contraseña incorrecta')\n",
    "        continue\n",
    "    \n",
    "    \n",
    "    \n",
    "    \n"
   ]
  },
  {
   "cell_type": "code",
   "execution_count": null,
   "id": "5fb68c4d-251a-4922-bbff-7ebcc9fdc3e6",
   "metadata": {},
   "outputs": [],
   "source": [
    "# dada una lista en la variable listita\n",
    "# contar cuántos elementos de la lista son enteros   isintance()\n",
    "# cuántos son string\n",
    "# y cuántos son listas\n",
    "\n",
    "# armar listas de un solo tipo con los elementos de listita\n",
    "\n",
    "listita = ['hola', 1, 1.0, [], 'hola', 2]"
   ]
  },
  {
   "cell_type": "code",
   "execution_count": null,
   "id": "9f495e47-6f8a-405a-b4af-c9833411f29f",
   "metadata": {},
   "outputs": [],
   "source": []
  },
  {
   "cell_type": "code",
   "execution_count": null,
   "id": "c07f7804-f0bf-4114-a046-f5e273e04260",
   "metadata": {},
   "outputs": [],
   "source": []
  }
 ],
 "metadata": {
  "kernelspec": {
   "display_name": "Python 3 (ipykernel)",
   "language": "python",
   "name": "python3"
  },
  "language_info": {
   "codemirror_mode": {
    "name": "ipython",
    "version": 3
   },
   "file_extension": ".py",
   "mimetype": "text/x-python",
   "name": "python",
   "nbconvert_exporter": "python",
   "pygments_lexer": "ipython3",
   "version": "3.12.3"
  }
 },
 "nbformat": 4,
 "nbformat_minor": 5
}
