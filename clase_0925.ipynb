{
 "cells": [
  {
   "cell_type": "code",
   "execution_count": 13,
   "id": "66f3a1d4-909b-4237-ace0-668322824c8f",
   "metadata": {},
   "outputs": [],
   "source": [
    "import pandas as pd\n",
    "import numpy as np\n",
    "from matplotlib import pyplot as plt\n",
    "import os"
   ]
  },
  {
   "cell_type": "code",
   "execution_count": 12,
   "id": "95df3134-d8dc-49d0-9294-36f310f01b66",
   "metadata": {},
   "outputs": [],
   "source": [
    "os.listdir() # para listar archivos en el directorio"
   ]
  },
  {
   "cell_type": "code",
   "execution_count": 14,
   "id": "9ace19d7-d156-4d5b-b706-c5a45548c745",
   "metadata": {},
   "outputs": [
    {
     "data": {
      "text/html": [
       "<div>\n",
       "<style scoped>\n",
       "    .dataframe tbody tr th:only-of-type {\n",
       "        vertical-align: middle;\n",
       "    }\n",
       "\n",
       "    .dataframe tbody tr th {\n",
       "        vertical-align: top;\n",
       "    }\n",
       "\n",
       "    .dataframe thead th {\n",
       "        text-align: right;\n",
       "    }\n",
       "</style>\n",
       "<table border=\"1\" class=\"dataframe\">\n",
       "  <thead>\n",
       "    <tr style=\"text-align: right;\">\n",
       "      <th></th>\n",
       "      <th>Potencia posible</th>\n",
       "      <th>Potencia real</th>\n",
       "      <th>Temperatura ambiente</th>\n",
       "      <th>Irradiancia panel [kWh/m2]</th>\n",
       "      <th>Irradiancia horizontal [kWh/m2]</th>\n",
       "    </tr>\n",
       "  </thead>\n",
       "  <tbody>\n",
       "    <tr>\n",
       "      <th>count</th>\n",
       "      <td>16135.000000</td>\n",
       "      <td>16135.000000</td>\n",
       "      <td>16135.000000</td>\n",
       "      <td>16135.000000</td>\n",
       "      <td>16135.000000</td>\n",
       "    </tr>\n",
       "    <tr>\n",
       "      <th>mean</th>\n",
       "      <td>24.767906</td>\n",
       "      <td>21.804508</td>\n",
       "      <td>13.653796</td>\n",
       "      <td>302.809854</td>\n",
       "      <td>245.342175</td>\n",
       "    </tr>\n",
       "    <tr>\n",
       "      <th>std</th>\n",
       "      <td>43.636281</td>\n",
       "      <td>38.471152</td>\n",
       "      <td>8.435715</td>\n",
       "      <td>372.866417</td>\n",
       "      <td>326.713955</td>\n",
       "    </tr>\n",
       "    <tr>\n",
       "      <th>min</th>\n",
       "      <td>0.000000</td>\n",
       "      <td>0.000000</td>\n",
       "      <td>-4.000000</td>\n",
       "      <td>-2.000000</td>\n",
       "      <td>-7.000000</td>\n",
       "    </tr>\n",
       "    <tr>\n",
       "      <th>25%</th>\n",
       "      <td>0.000000</td>\n",
       "      <td>0.000000</td>\n",
       "      <td>8.000000</td>\n",
       "      <td>4.000000</td>\n",
       "      <td>0.000000</td>\n",
       "    </tr>\n",
       "    <tr>\n",
       "      <th>50%</th>\n",
       "      <td>0.061000</td>\n",
       "      <td>0.012000</td>\n",
       "      <td>13.000000</td>\n",
       "      <td>8.000000</td>\n",
       "      <td>2.000000</td>\n",
       "    </tr>\n",
       "    <tr>\n",
       "      <th>75%</th>\n",
       "      <td>25.035000</td>\n",
       "      <td>25.500000</td>\n",
       "      <td>18.000000</td>\n",
       "      <td>756.000000</td>\n",
       "      <td>538.000000</td>\n",
       "    </tr>\n",
       "    <tr>\n",
       "      <th>max</th>\n",
       "      <td>191.741000</td>\n",
       "      <td>179.301000</td>\n",
       "      <td>45.000000</td>\n",
       "      <td>1027.000000</td>\n",
       "      <td>985.000000</td>\n",
       "    </tr>\n",
       "  </tbody>\n",
       "</table>\n",
       "</div>"
      ],
      "text/plain": [
       "       Potencia posible  Potencia real  Temperatura ambiente  \\\n",
       "count      16135.000000   16135.000000          16135.000000   \n",
       "mean          24.767906      21.804508             13.653796   \n",
       "std           43.636281      38.471152              8.435715   \n",
       "min            0.000000       0.000000             -4.000000   \n",
       "25%            0.000000       0.000000              8.000000   \n",
       "50%            0.061000       0.012000             13.000000   \n",
       "75%           25.035000      25.500000             18.000000   \n",
       "max          191.741000     179.301000             45.000000   \n",
       "\n",
       "       Irradiancia panel [kWh/m2]  Irradiancia horizontal [kWh/m2]  \n",
       "count                16135.000000                     16135.000000  \n",
       "mean                   302.809854                       245.342175  \n",
       "std                    372.866417                       326.713955  \n",
       "min                     -2.000000                        -7.000000  \n",
       "25%                      4.000000                         0.000000  \n",
       "50%                      8.000000                         2.000000  \n",
       "75%                    756.000000                       538.000000  \n",
       "max                   1027.000000                       985.000000  "
      ]
     },
     "execution_count": 14,
     "metadata": {},
     "output_type": "execute_result"
    }
   ],
   "source": [
    "# vamos a trabajar con los datos en datos_solares.csv\n",
    "df = pd.read_csv('datos_solares.csv')\n",
    "df.describe()"
   ]
  },
  {
   "cell_type": "code",
   "execution_count": 15,
   "id": "ca139ff5-352b-4d3c-a96c-f77ffe1e9521",
   "metadata": {},
   "outputs": [
    {
     "data": {
      "text/plain": [
       "Index(['Fecha-hora', 'PARQUE', 'Potencia posible', 'Potencia real',\n",
       "       'Temperatura ambiente', 'Irradiancia panel [kWh/m2]',\n",
       "       'Irradiancia horizontal [kWh/m2]'],\n",
       "      dtype='object')"
      ]
     },
     "execution_count": 15,
     "metadata": {},
     "output_type": "execute_result"
    }
   ],
   "source": [
    "df.columns"
   ]
  },
  {
   "cell_type": "code",
   "execution_count": 16,
   "id": "0c2fa2fa-7f39-4342-a43a-4d565494e556",
   "metadata": {},
   "outputs": [
    {
     "data": {
      "text/plain": [
       "0           MALARGUE\n",
       "1           MALARGUE\n",
       "2           MALARGUE\n",
       "3           MALARGUE\n",
       "4           MALARGUE\n",
       "            ...     \n",
       "16130    SIERRAS ULL\n",
       "16131    SIERRAS ULL\n",
       "16132    SIERRAS ULL\n",
       "16133    SIERRAS ULL\n",
       "16134    SIERRAS ULL\n",
       "Name: PARQUE, Length: 16135, dtype: object"
      ]
     },
     "execution_count": 16,
     "metadata": {},
     "output_type": "execute_result"
    }
   ],
   "source": [
    "# se puede acceder a cada una de las columnas del dataframe\n",
    "# al igual que a los valores de un diccionario: los nombres\n",
    "# de las columnas actúan como claves (keys) de cada columna\n",
    "\n",
    "df['PARQUE']"
   ]
  },
  {
   "cell_type": "code",
   "execution_count": 17,
   "id": "1179f30b-7ead-47cd-a34d-4587c6a886b6",
   "metadata": {},
   "outputs": [
    {
     "data": {
      "text/plain": [
       "pandas.core.series.Series"
      ]
     },
     "execution_count": 17,
     "metadata": {},
     "output_type": "execute_result"
    }
   ],
   "source": [
    "ds_parques = df['PARQUE']\n",
    "type(ds_parques)"
   ]
  },
  {
   "cell_type": "code",
   "execution_count": 24,
   "id": "d7b064a1-d975-4b4d-a864-dfea5182594e",
   "metadata": {},
   "outputs": [
    {
     "data": {
      "text/plain": [
       "list"
      ]
     },
     "execution_count": 24,
     "metadata": {},
     "output_type": "execute_result"
    }
   ],
   "source": [
    "lista_parques = ds_parques.to_list()\n",
    "type(lista_parques)"
   ]
  },
  {
   "cell_type": "code",
   "execution_count": 25,
   "id": "164d9968-1f42-4adb-9f86-5291d054e3a3",
   "metadata": {},
   "outputs": [
    {
     "data": {
      "text/plain": [
       "16135"
      ]
     },
     "execution_count": 25,
     "metadata": {},
     "output_type": "execute_result"
    }
   ],
   "source": [
    "len(lista_parques)"
   ]
  },
  {
   "cell_type": "code",
   "execution_count": 27,
   "id": "792aec18-3860-497c-8f38-8154027faa04",
   "metadata": {},
   "outputs": [
    {
     "data": {
      "text/plain": [
       "['MALARGUE',\n",
       " 'MALARGUE',\n",
       " 'MALARGUE',\n",
       " 'MALARGUE',\n",
       " 'MALARGUE',\n",
       " 'MALARGUE',\n",
       " 'MALARGUE',\n",
       " 'MALARGUE',\n",
       " 'MALARGUE',\n",
       " 'MALARGUE']"
      ]
     },
     "execution_count": 27,
     "metadata": {},
     "output_type": "execute_result"
    }
   ],
   "source": [
    "lista_parques[0:10]"
   ]
  },
  {
   "cell_type": "code",
   "execution_count": 33,
   "id": "dc125089-d115-4180-b61e-1e88e8ed3370",
   "metadata": {},
   "outputs": [
    {
     "name": "stdout",
     "output_type": "stream",
     "text": [
      "MALARGUE\n",
      "PSANCH\n",
      "PSTOC III\n",
      "PSULLUM I\n",
      "PSULLUM II\n",
      "PSULLUM III\n",
      "SIERRAS ULL\n"
     ]
    }
   ],
   "source": [
    "\n",
    "aux = lista_parques[0]\n",
    "print(aux)\n",
    "lista_no_repetidos = [aux]\n",
    "for i in lista_parques:\n",
    "    if i is not aux:\n",
    "        print(i)\n",
    "        aux = i\n",
    "        lista_no_repetidos += [aux]\n",
    "        "
   ]
  },
  {
   "cell_type": "code",
   "execution_count": null,
   "id": "561a14fd-0a43-40df-a882-811c7e88fcc4",
   "metadata": {},
   "outputs": [],
   "source": [
    "[1,2,3] + [4, 5, 6]\n",
    "# [1, 2, 3] + 'damian'  # no se puede sumar (obsjetos distintos)"
   ]
  },
  {
   "cell_type": "code",
   "execution_count": 34,
   "id": "a68311c8-e91c-4734-a395-396d93295968",
   "metadata": {},
   "outputs": [
    {
     "data": {
      "text/plain": [
       "['MALARGUE',\n",
       " 'PSANCH',\n",
       " 'PSTOC III',\n",
       " 'PSULLUM I',\n",
       " 'PSULLUM II',\n",
       " 'PSULLUM III',\n",
       " 'SIERRAS ULL']"
      ]
     },
     "execution_count": 34,
     "metadata": {},
     "output_type": "execute_result"
    }
   ],
   "source": [
    "lista_no_repetidos"
   ]
  },
  {
   "cell_type": "code",
   "execution_count": 35,
   "id": "42eb7723-987a-4153-a39c-fb16088c1934",
   "metadata": {},
   "outputs": [
    {
     "data": {
      "text/plain": [
       "array(['MALARGUE', 'PSANCH', 'PSTOC III', 'PSULLUM I', 'PSULLUM II',\n",
       "       'PSULLUM III', 'SIERRAS ULL'], dtype=object)"
      ]
     },
     "execution_count": 35,
     "metadata": {},
     "output_type": "execute_result"
    }
   ],
   "source": [
    "ds_parques.unique()"
   ]
  },
  {
   "cell_type": "code",
   "execution_count": 36,
   "id": "6ad04e07-e3a9-4158-968e-99f109eb93b6",
   "metadata": {},
   "outputs": [],
   "source": [
    "# crear un nuevo dataframe con el resto de las columnas y solamente las\n",
    "# filas que corresponden a, por ejemplo, Malargüe"
   ]
  },
  {
   "cell_type": "code",
   "execution_count": 41,
   "id": "b7aedc10-ce58-47a3-a527-d02ac8293c55",
   "metadata": {},
   "outputs": [
    {
     "name": "stdout",
     "output_type": "stream",
     "text": [
      "[[2 3 1 2]\n",
      " [2 3 1 2]\n",
      " [1 3 3 1]\n",
      " [1 3 1 1]]\n"
     ]
    },
    {
     "data": {
      "text/plain": [
       "array([[False,  True, False, False],\n",
       "       [False,  True, False, False],\n",
       "       [False,  True,  True, False],\n",
       "       [False,  True, False, False]])"
      ]
     },
     "execution_count": 41,
     "metadata": {},
     "output_type": "execute_result"
    }
   ],
   "source": [
    "# repaso\n",
    "# buscar valores en numpy\n",
    "mat = np.random.randint(1, 4, (4, 4))\n",
    "print(mat)\n",
    "mat == 3  # devuelve una matriz de dimensión igual a mat con true o false según corresponda"
   ]
  },
  {
   "cell_type": "code",
   "execution_count": 42,
   "id": "2d3c5b9f-007f-4fc5-b4bf-62631429cca4",
   "metadata": {},
   "outputs": [
    {
     "data": {
      "text/plain": [
       "array([3, 3, 3, 3, 3])"
      ]
     },
     "execution_count": 42,
     "metadata": {},
     "output_type": "execute_result"
    }
   ],
   "source": [
    "mat[ mat==3 ]"
   ]
  },
  {
   "cell_type": "code",
   "execution_count": 46,
   "id": "cb62c471-2f20-498f-a3a3-bb3a0f57fca8",
   "metadata": {},
   "outputs": [
    {
     "data": {
      "text/plain": [
       "pandas.core.series.Series"
      ]
     },
     "execution_count": 46,
     "metadata": {},
     "output_type": "execute_result"
    }
   ],
   "source": [
    "array_binario_mala = (ds_parques == lista_no_repetidos[0])\n",
    "type(array_binario_mala)"
   ]
  },
  {
   "cell_type": "code",
   "execution_count": 81,
   "id": "68b9e195-0d20-4b8a-ab06-c92b25687e9d",
   "metadata": {},
   "outputs": [
    {
     "data": {
      "text/plain": [
       "Index([   0,    1,    2,    3,    4,    5,    6,    7,    8,    9,\n",
       "       ...\n",
       "       2295, 2296, 2297, 2298, 2299, 2300, 2301, 2302, 2303, 2304],\n",
       "      dtype='int64', length=2305)"
      ]
     },
     "execution_count": 81,
     "metadata": {},
     "output_type": "execute_result"
    }
   ],
   "source": [
    "df_mala = df[array_binario_mala]\n",
    "df_mala = df_mala.drop(columns='PARQUE') # saco columna '\n",
    "# df_mala.drop(columns='PARQUE', inplace = True)\n",
    "df_mala.index"
   ]
  },
  {
   "cell_type": "code",
   "execution_count": 83,
   "id": "6cb5cd3c-894d-4bc2-b1cc-c775af088abc",
   "metadata": {},
   "outputs": [],
   "source": [
    "# redefino el índice\n",
    "# df_mala.index = df_mala['Fecha-hora']   # una manera\n",
    "\n",
    "# df_mala = df_mala.set_index('Fecha-hora')\n",
    "# df_mala.index = pd.DatetimeIndex(df_mala.index)\n",
    "\n",
    "df_mala.set_index(pd.DatetimeIndex(df_mala['Fecha-hora']), inplace=True)"
   ]
  },
  {
   "cell_type": "code",
   "execution_count": 91,
   "id": "b634463b-06c9-4329-b11a-2229349286cc",
   "metadata": {},
   "outputs": [
    {
     "data": {
      "text/plain": [
       "<Axes: xlabel='Fecha-hora'>"
      ]
     },
     "execution_count": 91,
     "metadata": {},
     "output_type": "execute_result"
    },
    {
     "data": {
      "image/png": "[encoded data removed]",
      "text/plain": [
       "<Figure size 640x480 with 1 Axes>"
      ]
     },
     "metadata": {},
     "output_type": "display_data"
    }
   ],
   "source": [
    "df_mala['Temperatura ambiente'].plot()\n",
    "(df_mala['Irradiancia horizontal [kWh/m2]']/50).plot()"
   ]
  },
  {
   "cell_type": "code",
   "execution_count": 86,
   "id": "56bd2d10-a14e-44d8-ab4f-f5f0e03aacae",
   "metadata": {},
   "outputs": [
    {
     "data": {
      "text/plain": [
       "array([ 1,  1,  1, ..., 10, 11, 11], shape=(2305,))"
      ]
     },
     "execution_count": 86,
     "metadata": {},
     "output_type": "execute_result"
    }
   ],
   "source": [
    "df_mala['Temperatura ambiente'].to_numpy()"
   ]
  },
  {
   "cell_type": "code",
   "execution_count": 93,
   "id": "e8900633-bef0-4bfd-b975-bddf397a0063",
   "metadata": {},
   "outputs": [],
   "source": [
    "dias = df_mala.index.day.unique()   # me devuelve un array con cada día"
   ]
  },
  {
   "cell_type": "code",
   "execution_count": 116,
   "id": "63a1ad56-e217-41b7-bb7f-ba9147a98c50",
   "metadata": {},
   "outputs": [],
   "source": [
    "lista = []\n",
    "for dia in dias:\n",
    "    lista.append( df_mala['Temperatura ambiente'][ df_mala.index.day == dia].to_numpy() )"
   ]
  },
  {
   "cell_type": "code",
   "execution_count": 117,
   "id": "388abd1b-a844-4ba7-949d-d24b9ae5575a",
   "metadata": {},
   "outputs": [
    {
     "data": {
      "text/plain": [
       "(16, 144)"
      ]
     },
     "execution_count": 117,
     "metadata": {},
     "output_type": "execute_result"
    }
   ],
   "source": [
    "lista.pop()   # actúa inplace\n",
    "mat_temp = np.array(lista)  # saco el último día (no está completo)\n",
    "mat_temp.shape"
   ]
  },
  {
   "cell_type": "code",
   "execution_count": 118,
   "id": "056c3095-0e03-4887-b962-e69ec795aea0",
   "metadata": {},
   "outputs": [
    {
     "data": {
      "text/plain": [
       "<matplotlib.image.AxesImage at 0x7f8cc3a71160>"
      ]
     },
     "execution_count": 118,
     "metadata": {},
     "output_type": "execute_result"
    },
    {
     "data": {
      "image/png": "[encoded data removed]",
      "text/plain": [
       "<Figure size 640x480 with 1 Axes>"
      ]
     },
     "metadata": {},
     "output_type": "display_data"
    }
   ],
   "source": [
    "plt.imshow(mat_temp)"
   ]
  },
  {
   "cell_type": "code",
   "execution_count": null,
   "id": "7207e23c-b60a-43b1-90f1-213bebbfde3d",
   "metadata": {},
   "outputs": [],
   "source": []
  }
 ],
 "metadata": {
  "kernelspec": {
   "display_name": "Python 3 (ipykernel)",
   "language": "python",
   "name": "python3"
  },
  "language_info": {
   "codemirror_mode": {
    "name": "ipython",
    "version": 3
   },
   "file_extension": ".py",
   "mimetype": "text/x-python",
   "name": "python",
   "nbconvert_exporter": "python",
   "pygments_lexer": "ipython3",
   "version": "3.12.3"
  }
 },
 "nbformat": 4,
 "nbformat_minor": 5
}
