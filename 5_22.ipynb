{
 "cells": [
  {
   "cell_type": "code",
   "execution_count": null,
   "id": "f47070ab-bbf5-47a2-8166-5af78cfbac35",
   "metadata": {},
   "outputs": [],
   "source": [
    "def codifica(cadena:str, n:int) -> str:\n",
    "    ''' dada una cadena de caracteres la función \n",
    "    cambia las letras minúsculas corriéndolas una\n",
    "    distancia n en el códico ascii, de manera periódica'''"
   ]
  },
  {
   "cell_type": "code",
   "execution_count": null,
   "id": "6173e5c0-96cd-49d8-8e1b-6d7554edc8b4",
   "metadata": {},
   "outputs": [],
   "source": [
    "chr( ord('a') + 5) # codifica a f\n",
    "\n",
    "chr( ord('f') - 5) # decodifica devuelta en 'a'\n",
    "\n",
    "# periódico: a -> f, z -> e\n",
    "ord('a'), ord('z') # -> 97, 122\n",
    "\n",
    "12%10  # la función módulo me puede servir"
   ]
  },
  {
   "cell_type": "code",
   "execution_count": 8,
   "id": "52e134d4-7ebc-405c-9393-e86523724f75",
   "metadata": {},
   "outputs": [
    {
     "data": {
      "text/plain": [
       "'Hlv mlo prboqb kl iirbsb!! :)'"
      ]
     },
     "execution_count": 8,
     "metadata": {},
     "output_type": "execute_result"
    }
   ],
   "source": [
    "codigo('Hoy por suerte no llueve!! :)', 23)"
   ]
  },
  {
   "cell_type": "code",
   "execution_count": 12,
   "id": "28f88e40-962c-48ed-b8ba-5f52fcd5fb60",
   "metadata": {},
   "outputs": [
    {
     "data": {
      "text/plain": [
       "'Hoy por suerte no llueve!! :)'"
      ]
     },
     "execution_count": 12,
     "metadata": {},
     "output_type": "execute_result"
    }
   ],
   "source": [
    "codigo('Hlv mlo prboqb kl iirbsb!! :)', -23)"
   ]
  },
  {
   "cell_type": "code",
   "execution_count": null,
   "id": "bc0dc97d-98f2-41f1-a52e-6dc94de60b49",
   "metadata": {},
   "outputs": [],
   "source": [
    "def analiza_string(cadena:str) -> dict:\n",
    "    ''' la función analiza la cadena de caracteres dada\n",
    "    y devuelve un diccionario en donde se cuenta el número\n",
    "    de mayúsculas, minúsculas, números, espacios, otros;\n",
    "    por ejemplo\n",
    "    {'mayúsculas':3, 'minúsculas':5, ..... 'otros':0}\n",
    "    '''\n",
    "    "
   ]
  },
  {
   "cell_type": "code",
   "execution_count": 14,
   "id": "886179f7-6a4a-45f8-b40c-6e4ee9ab7803",
   "metadata": {},
   "outputs": [
    {
     "data": {
      "text/plain": [
       "'Hz pdezj py lyldlrldet 146'"
      ]
     },
     "execution_count": 14,
     "metadata": {},
     "output_type": "execute_result"
    }
   ],
   "source": [
    "codigo( n =11, cadena = 'Ho estoy en anasagasti 146')"
   ]
  },
  {
   "cell_type": "code",
   "execution_count": 15,
   "id": "80918f2e-fff0-46a7-95be-58688f0357b4",
   "metadata": {},
   "outputs": [
    {
     "name": "stdout",
     "output_type": "stream",
     "text": [
      "1\n",
      "2\n",
      "tomas\n",
      "5\n"
     ]
    }
   ],
   "source": [
    "def argumen_pos_comodin(*arg_pos):\n",
    "    for i in arg_pos:\n",
    "        print(i)\n",
    "argumen_pos_comodin(1, 2, 'tomas', 5)\n",
    "    "
   ]
  },
  {
   "cell_type": "code",
   "execution_count": 16,
   "id": "e584e476-6275-473a-bf07-f5de83487c88",
   "metadata": {},
   "outputs": [
    {
     "name": "stdout",
     "output_type": "stream",
     "text": [
      "zoe 10\n",
      "anasagasti 1463\n"
     ]
    }
   ],
   "source": [
    "def arg_nombrador_comodin(**arg_nom):\n",
    "    for i, j in arg_nom.items():\n",
    "        print(i, j)\n",
    "arg_nombrador_comodin(zoe = 10, anasagasti = 1463)"
   ]
  },
  {
   "cell_type": "code",
   "execution_count": 23,
   "id": "0ac9c4db-6782-40c8-93d4-124bf241a7ee",
   "metadata": {},
   "outputs": [
    {
     "name": "stdout",
     "output_type": "stream",
     "text": [
      "['es', 'trabajando', 'hoy', 'un', 'alumnos', 'especial', 'porque', 'están', 'los', 'todos', 'día']\n"
     ]
    }
   ],
   "source": [
    "#import random esta o esta otra\n",
    "from random import randint\n",
    "def mezcla_palabras(cadena:str) -> str:\n",
    "    ''' la función va  a desordenar las\n",
    "    palabras de la cadena de caracteres ingresada.\n",
    "    se entiende que las palabras están separadas por espacios'''\n",
    "    lista_palabras = cadena.split(' ')\n",
    "    for i in range(len(lista_palabras)):\n",
    "        aux = lista_palabras[i]\n",
    "        j = randint(0, len(lista_palabras)-1)\n",
    "        lista_palabras[i] = lista_palabras[j]\n",
    "        lista_palabras[j] = aux\n",
    "    return lista_palabras\n",
    "print(mezcla_palabras('hoy es un día especial porque todos los alumnos están trabajando'))"
   ]
  },
  {
   "cell_type": "code",
   "execution_count": 17,
   "id": "e11fb849-4989-4631-b36f-c2d61c64a596",
   "metadata": {},
   "outputs": [],
   "source": [
    "lista = ['a', 'b', 'c']"
   ]
  },
  {
   "cell_type": "code",
   "execution_count": 18,
   "id": "9b244040-9697-41ef-ba07-b53d93720884",
   "metadata": {},
   "outputs": [
    {
     "data": {
      "text/plain": [
       "'a'"
      ]
     },
     "execution_count": 18,
     "metadata": {},
     "output_type": "execute_result"
    }
   ],
   "source": [
    "lista[0]"
   ]
  },
  {
   "cell_type": "code",
   "execution_count": 19,
   "id": "7614c295-99eb-4040-a0a0-5893d4ea337c",
   "metadata": {},
   "outputs": [
    {
     "data": {
      "text/plain": [
       "['b', 'a', 'c']"
      ]
     },
     "execution_count": 19,
     "metadata": {},
     "output_type": "execute_result"
    }
   ],
   "source": [
    "# swap o intercambio de elementos en un array\n",
    "\n",
    "aux = lista[0] # aux = 'a'\n",
    "lista[0] = lista[1] #[b, b, c]\n",
    "lista[1] = aux  #[b a c]    \n",
    "lista"
   ]
  },
  {
   "cell_type": "code",
   "execution_count": 22,
   "id": "96b289a7-348f-4104-a84b-aa34fa41cb82",
   "metadata": {},
   "outputs": [
    {
     "name": "stdout",
     "output_type": "stream",
     "text": [
      "0\n",
      "4\n",
      "2\n",
      "3\n",
      "2\n",
      "1\n",
      "3\n",
      "4\n",
      "4\n",
      "1\n"
     ]
    }
   ],
   "source": [
    "from random import randint\n",
    "for i in range(10):\n",
    "    print(randint(0,4))"
   ]
  },
  {
   "cell_type": "code",
   "execution_count": null,
   "id": "92098c3d-f871-4fab-9772-41c3abf35280",
   "metadata": {},
   "outputs": [],
   "source": []
  }
 ],
 "metadata": {
  "kernelspec": {
   "display_name": "Python 3 (ipykernel)",
   "language": "python",
   "name": "python3"
  },
  "language_info": {
   "codemirror_mode": {
    "name": "ipython",
    "version": 3
   },
   "file_extension": ".py",
   "mimetype": "text/x-python",
   "name": "python",
   "nbconvert_exporter": "python",
   "pygments_lexer": "ipython3",
   "version": "3.12.3"
  }
 },
 "nbformat": 4,
 "nbformat_minor": 5
}
