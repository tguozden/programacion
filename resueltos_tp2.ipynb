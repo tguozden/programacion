{
 "cells": [
  {
   "cell_type": "code",
   "execution_count": 22,
   "id": "ef101172-c118-4df2-9357-8f0b90e1c0a2",
   "metadata": {},
   "outputs": [
    {
     "name": "stdin",
     "output_type": "stream",
     "text": [
      " .4\n"
     ]
    },
    {
     "name": "stdout",
     "output_type": "stream",
     "text": [
      "se ingresó el float 0.4\n"
     ]
    }
   ],
   "source": [
    "#20. Detecte si se ingresó un entero o un flotante.\n",
    "cadena = input()\n",
    "if cadena.isdecimal():   #si se ingresó un entero entonces\n",
    "    print('se ingresó el entero', int(cadena))\n",
    "# si hay un punto y el resto son dígitos entonces es float\n",
    "elif cadena.count('.') == 1 and cadena.replace('.', '').isdecimal():\n",
    "        print('se ingresó el float', float(cadena))\n",
    "else:\n",
    "    print('no ingresó ni un entero ni un flotante')\n",
    "\n",
    "# este ejercicio puede resolverse intentando la conversión directa\n",
    "# a int o a float y chequeando errores, como veremos más adelante"
   ]
  },
  {
   "cell_type": "code",
   "execution_count": 26,
   "id": "606e7f41-4aba-4e0e-b853-d3cfbe2b1e27",
   "metadata": {},
   "outputs": [
    {
     "name": "stdout",
     "output_type": "stream",
     "text": [
      "así se formatean flotantes1.230\n"
     ]
    }
   ],
   "source": [
    "# 21. Si ingresó un número flotante imprímalo con 3 decimales \n",
    "x = 1.23\n",
    "print(f'así se formatean flotantes{x:0.3f}')"
   ]
  },
  {
   "cell_type": "code",
   "execution_count": 29,
   "id": "12d9ec40-4985-4d77-a425-502a73ce72b2",
   "metadata": {},
   "outputs": [
    {
     "name": "stdout",
     "output_type": "stream",
     "text": [
      "completo con hola mundo !\n",
      "nro:      0.010\n",
      "nro:      1.230\n",
      "nro:      0.000\n",
      "nro:    -43.000\n"
     ]
    }
   ],
   "source": [
    "#esto no lo dimos aún. para formatear enteros\n",
    "#o flotantes usamos la manera de llenar strings con \n",
    "# variables de este tipo\n",
    "cadena = 'hola mundo !'\n",
    "print(f'completo con {cadena}')\n",
    "# si la variable es numérica entonces :0.3f significa 3 decimales\n",
    "# : 10.3f significa lo mismo pero que guarde 10 espacios en total para el número\n",
    "\n",
    "print(f'nro: {1/100:10.3f}')\n",
    "print(f'nro: {1.23:10.3f}')\n",
    "print(f'nro: {0:10.3f}')\n",
    "print(f'nro: {-43:10.3f}')"
   ]
  },
  {
   "cell_type": "code",
   "execution_count": null,
   "id": "f4d349cd-3dc1-4b69-9e8c-644da4454810",
   "metadata": {},
   "outputs": [],
   "source": []
  }
 ],
 "metadata": {
  "kernelspec": {
   "display_name": "Python 3 (ipykernel)",
   "language": "python",
   "name": "python3"
  },
  "language_info": {
   "codemirror_mode": {
    "name": "ipython",
    "version": 3
   },
   "file_extension": ".py",
   "mimetype": "text/x-python",
   "name": "python",
   "nbconvert_exporter": "python",
   "pygments_lexer": "ipython3",
   "version": "3.12.3"
  }
 },
 "nbformat": 4,
 "nbformat_minor": 5
}
