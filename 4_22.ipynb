{
 "cells": [
  {
   "cell_type": "code",
   "execution_count": 2,
   "id": "7ded466e-91f8-4842-9a6d-78173045562b",
   "metadata": {},
   "outputs": [
    {
     "name": "stdout",
     "output_type": "stream",
     "text": [
      "[1, 2, 3, 4, 4, 4, 4]\n"
     ]
    }
   ],
   "source": [
    "listita = [1, 2, 3, 4, 4, 4, 4]\n",
    "print(listita)"
   ]
  },
  {
   "cell_type": "code",
   "execution_count": 3,
   "id": "3900c592-b586-4f49-b67f-cd041487b74e",
   "metadata": {},
   "outputs": [
    {
     "name": "stdout",
     "output_type": "stream",
     "text": [
      "1 4 7\n"
     ]
    }
   ],
   "source": [
    "print(listita[0], listita[-1], len(listita))"
   ]
  },
  {
   "cell_type": "code",
   "execution_count": 4,
   "id": "4e680488-25be-4ee6-afac-c35331857554",
   "metadata": {},
   "outputs": [
    {
     "name": "stdout",
     "output_type": "stream",
     "text": [
      "['hola mundo!', 2, 3, 4, 4, 4, 4]\n"
     ]
    }
   ],
   "source": [
    "listita[0] = 'hola mundo!'\n",
    "print(listita)"
   ]
  },
  {
   "cell_type": "code",
   "execution_count": 6,
   "id": "61b4a574-92cd-4f89-8d1c-f1958c5032f7",
   "metadata": {},
   "outputs": [
    {
     "name": "stdout",
     "output_type": "stream",
     "text": [
      "(1, 2, 2, 3, 4)\n"
     ]
    }
   ],
   "source": [
    "miprimeratupla = (1, 2, 2, 3, 4)\n",
    "print(miprimeratupla)"
   ]
  },
  {
   "cell_type": "code",
   "execution_count": 9,
   "id": "2bd92585-26c2-4ac4-b62f-362147f1c7ef",
   "metadata": {},
   "outputs": [
    {
     "data": {
      "text/plain": [
       "['h', 'o', 'l', 'a']"
      ]
     },
     "execution_count": 9,
     "metadata": {},
     "output_type": "execute_result"
    }
   ],
   "source": [
    "list('hola')"
   ]
  },
  {
   "cell_type": "code",
   "execution_count": 12,
   "id": "a45fa47b-f651-4c6a-b282-9180e6702d48",
   "metadata": {},
   "outputs": [
    {
     "name": "stdout",
     "output_type": "stream",
     "text": [
      "h a\n"
     ]
    }
   ],
   "source": [
    "x = tuple('hola')\n",
    "print(x[0], x[-1])"
   ]
  },
  {
   "cell_type": "code",
   "execution_count": 13,
   "id": "c1975b79-e19a-45d4-82d3-b71fa5419ddd",
   "metadata": {},
   "outputs": [
    {
     "ename": "TypeError",
     "evalue": "'tuple' object does not support item assignment",
     "output_type": "error",
     "traceback": [
      "\u001b[0;31m---------------------------------------------------------------------------\u001b[0m",
      "\u001b[0;31mTypeError\u001b[0m                                 Traceback (most recent call last)",
      "Cell \u001b[0;32mIn[13], line 1\u001b[0m\n\u001b[0;32m----> 1\u001b[0m \u001b[43mx\u001b[49m\u001b[43m[\u001b[49m\u001b[38;5;241;43m0\u001b[39;49m\u001b[43m]\u001b[49m \u001b[38;5;241m=\u001b[39m \u001b[38;5;241m1\u001b[39m\n",
      "\u001b[0;31mTypeError\u001b[0m: 'tuple' object does not support item assignment"
     ]
    }
   ],
   "source": [
    "x[0] = 1"
   ]
  },
  {
   "cell_type": "code",
   "execution_count": 14,
   "id": "01d08287-f9eb-4666-8a5a-60190d900df7",
   "metadata": {},
   "outputs": [
    {
     "ename": "AttributeError",
     "evalue": "'tuple' object has no attribute 'append'",
     "output_type": "error",
     "traceback": [
      "\u001b[0;31m---------------------------------------------------------------------------\u001b[0m",
      "\u001b[0;31mAttributeError\u001b[0m                            Traceback (most recent call last)",
      "Cell \u001b[0;32mIn[14], line 1\u001b[0m\n\u001b[0;32m----> 1\u001b[0m \u001b[43mx\u001b[49m\u001b[38;5;241;43m.\u001b[39;49m\u001b[43mappend\u001b[49m(\u001b[38;5;241m1\u001b[39m)\n",
      "\u001b[0;31mAttributeError\u001b[0m: 'tuple' object has no attribute 'append'"
     ]
    }
   ],
   "source": [
    "x.append(1)"
   ]
  },
  {
   "cell_type": "code",
   "execution_count": 15,
   "id": "e5893b43-9e9b-4219-943d-74c609533bc1",
   "metadata": {},
   "outputs": [
    {
     "data": {
      "text/plain": [
       "('h', 'o', 'l', 'a')"
      ]
     },
     "execution_count": 15,
     "metadata": {},
     "output_type": "execute_result"
    }
   ],
   "source": [
    "x"
   ]
  },
  {
   "cell_type": "code",
   "execution_count": 16,
   "id": "339f8858-3371-4ee5-964e-8ec6068f46c5",
   "metadata": {},
   "outputs": [
    {
     "data": {
      "text/plain": [
       "(1, 2, 2, 3, 4)"
      ]
     },
     "execution_count": 16,
     "metadata": {},
     "output_type": "execute_result"
    }
   ],
   "source": [
    "miprimeratupla"
   ]
  },
  {
   "cell_type": "code",
   "execution_count": 18,
   "id": "7e37ac58-9d5b-484f-8be2-1060c99466a0",
   "metadata": {},
   "outputs": [],
   "source": [
    "y = x + miprimeratupla"
   ]
  },
  {
   "cell_type": "code",
   "execution_count": 19,
   "id": "4289fc0e-19c7-4d99-af3a-e0fb57bf6a0e",
   "metadata": {},
   "outputs": [
    {
     "data": {
      "text/plain": [
       "3"
      ]
     },
     "execution_count": 19,
     "metadata": {},
     "output_type": "execute_result"
    }
   ],
   "source": [
    "1 + 2"
   ]
  },
  {
   "cell_type": "code",
   "execution_count": 20,
   "id": "18d7ba16-024c-4553-8d70-cbc979b6f6a0",
   "metadata": {},
   "outputs": [
    {
     "data": {
      "text/plain": [
       "('h', 'o', 'l', 'a')"
      ]
     },
     "execution_count": 20,
     "metadata": {},
     "output_type": "execute_result"
    }
   ],
   "source": [
    "x"
   ]
  },
  {
   "cell_type": "code",
   "execution_count": 21,
   "id": "4b096a8e-7234-4d40-8f58-8ef8ec0d1e7a",
   "metadata": {},
   "outputs": [
    {
     "data": {
      "text/plain": [
       "True"
      ]
     },
     "execution_count": 21,
     "metadata": {},
     "output_type": "execute_result"
    }
   ],
   "source": [
    "'h' in x"
   ]
  },
  {
   "cell_type": "code",
   "execution_count": 22,
   "id": "3483437e-1488-4b02-8360-1ada82049997",
   "metadata": {},
   "outputs": [
    {
     "data": {
      "text/plain": [
       "0"
      ]
     },
     "execution_count": 22,
     "metadata": {},
     "output_type": "execute_result"
    }
   ],
   "source": [
    "x.index('h')"
   ]
  },
  {
   "cell_type": "code",
   "execution_count": null,
   "id": "2cc72773-3805-4eae-9438-8ce44d8782a4",
   "metadata": {},
   "outputs": [],
   "source": [
    "miprimeratupla.index(2)"
   ]
  },
  {
   "cell_type": "code",
   "execution_count": 25,
   "id": "7fdba266-58b1-4fa8-8c2c-7a673ec480d5",
   "metadata": {},
   "outputs": [],
   "source": [
    "miprimerconjunto = {1, 2, 3, 'a'}"
   ]
  },
  {
   "cell_type": "code",
   "execution_count": 26,
   "id": "9a9e945e-6778-4429-abea-8159786724c3",
   "metadata": {},
   "outputs": [
    {
     "name": "stdout",
     "output_type": "stream",
     "text": [
      "{1, 2, 3, 'a'}\n"
     ]
    }
   ],
   "source": [
    "print(miprimerconjunto)"
   ]
  },
  {
   "cell_type": "code",
   "execution_count": 27,
   "id": "2a6f5a32-8196-46d7-b8ee-cdb91f95ef8b",
   "metadata": {},
   "outputs": [
    {
     "data": {
      "text/plain": [
       "4"
      ]
     },
     "execution_count": 27,
     "metadata": {},
     "output_type": "execute_result"
    }
   ],
   "source": [
    "len(miprimerconjunto)"
   ]
  },
  {
   "cell_type": "code",
   "execution_count": 28,
   "id": "26cb4ef1-c02d-44c8-b0cb-427514e4f886",
   "metadata": {},
   "outputs": [
    {
     "data": {
      "text/plain": [
       "tuple"
      ]
     },
     "execution_count": 28,
     "metadata": {},
     "output_type": "execute_result"
    }
   ],
   "source": [
    "type(x)"
   ]
  },
  {
   "cell_type": "code",
   "execution_count": 29,
   "id": "232ee067-db2f-40ea-bb3f-b6778c27e568",
   "metadata": {},
   "outputs": [
    {
     "data": {
      "text/plain": [
       "set"
      ]
     },
     "execution_count": 29,
     "metadata": {},
     "output_type": "execute_result"
    }
   ],
   "source": [
    "type(miprimerconjunto)"
   ]
  },
  {
   "cell_type": "code",
   "execution_count": 30,
   "id": "e9f18af2-e5e1-47e2-a962-952b047afa38",
   "metadata": {},
   "outputs": [
    {
     "ename": "TypeError",
     "evalue": "'set' object is not subscriptable",
     "output_type": "error",
     "traceback": [
      "\u001b[0;31m---------------------------------------------------------------------------\u001b[0m",
      "\u001b[0;31mTypeError\u001b[0m                                 Traceback (most recent call last)",
      "Cell \u001b[0;32mIn[30], line 1\u001b[0m\n\u001b[0;32m----> 1\u001b[0m \u001b[43mmiprimerconjunto\u001b[49m\u001b[43m[\u001b[49m\u001b[38;5;241;43m0\u001b[39;49m\u001b[43m]\u001b[49m\n",
      "\u001b[0;31mTypeError\u001b[0m: 'set' object is not subscriptable"
     ]
    }
   ],
   "source": [
    "miprimerconjunto[0]"
   ]
  },
  {
   "cell_type": "code",
   "execution_count": 31,
   "id": "e9777842-6887-4b33-9586-5cb3ea03149a",
   "metadata": {},
   "outputs": [
    {
     "name": "stdout",
     "output_type": "stream",
     "text": [
      "1\n",
      "2\n",
      "3\n",
      "a\n"
     ]
    }
   ],
   "source": [
    "for i in miprimerconjunto:\n",
    "    print(i)"
   ]
  },
  {
   "cell_type": "code",
   "execution_count": 36,
   "id": "745f40c6-adef-447c-a0b9-6cfb0d1ca221",
   "metadata": {},
   "outputs": [
    {
     "data": {
      "text/plain": [
       "{1, 2, 3, 'a'}"
      ]
     },
     "execution_count": 36,
     "metadata": {},
     "output_type": "execute_result"
    }
   ],
   "source": [
    "miprimerconjunto"
   ]
  },
  {
   "cell_type": "code",
   "execution_count": 37,
   "id": "662b517b-406d-40e2-9cf2-29b08b7e1954",
   "metadata": {},
   "outputs": [
    {
     "name": "stdout",
     "output_type": "stream",
     "text": [
      "{1, 2, 3}\n"
     ]
    }
   ],
   "source": [
    "otroset = {1, 1, 2, 3}\n",
    "print(otroset)"
   ]
  },
  {
   "cell_type": "code",
   "execution_count": 39,
   "id": "34017b4a-0074-4425-af59-bf762d59cccb",
   "metadata": {},
   "outputs": [
    {
     "name": "stdout",
     "output_type": "stream",
     "text": [
      "{1, 2, 3, 4}\n"
     ]
    }
   ],
   "source": [
    "otroset.add(4)\n",
    "print(otroset)"
   ]
  },
  {
   "cell_type": "code",
   "execution_count": 41,
   "id": "f773c6d2-01ad-4ed2-9eb2-7da62381d5f6",
   "metadata": {},
   "outputs": [
    {
     "data": {
      "text/plain": [
       "{1, 2, 3, 'a'}"
      ]
     },
     "execution_count": 41,
     "metadata": {},
     "output_type": "execute_result"
    }
   ],
   "source": [
    "miprimerconjunto"
   ]
  },
  {
   "cell_type": "code",
   "execution_count": 42,
   "id": "e28183d0-32fc-4cfd-bd08-94e94dfcee35",
   "metadata": {},
   "outputs": [
    {
     "data": {
      "text/plain": [
       "{1, 2, 3, 4}"
      ]
     },
     "execution_count": 42,
     "metadata": {},
     "output_type": "execute_result"
    }
   ],
   "source": [
    "otroset"
   ]
  },
  {
   "cell_type": "code",
   "execution_count": 43,
   "id": "bd362037-53a5-4571-aa45-2811b079433b",
   "metadata": {},
   "outputs": [
    {
     "data": {
      "text/plain": [
       "{1, 2, 3}"
      ]
     },
     "execution_count": 43,
     "metadata": {},
     "output_type": "execute_result"
    }
   ],
   "source": [
    "otroset.intersection(miprimerconjunto)"
   ]
  },
  {
   "cell_type": "code",
   "execution_count": 44,
   "id": "93173614-665a-4856-b9bb-3a903e850ef2",
   "metadata": {},
   "outputs": [
    {
     "name": "stdout",
     "output_type": "stream",
     "text": [
      "i\t listita\t miprimeratupla\t miprimerconjunto\t otroset\t x\t y\t \n"
     ]
    }
   ],
   "source": [
    "who"
   ]
  },
  {
   "cell_type": "code",
   "execution_count": 45,
   "id": "0576f2aa-cd4b-4200-87b3-d48ebd9bcc38",
   "metadata": {},
   "outputs": [
    {
     "data": {
      "text/plain": [
       "['hola mundo!', 2, 3, 4, 4, 4, 4]"
      ]
     },
     "execution_count": 45,
     "metadata": {},
     "output_type": "execute_result"
    }
   ],
   "source": [
    "listita"
   ]
  },
  {
   "cell_type": "code",
   "execution_count": 46,
   "id": "6f465373-faf0-45b0-bfdb-9cd062283d69",
   "metadata": {},
   "outputs": [
    {
     "data": {
      "text/plain": [
       "{2, 3, 4, 'hola mundo!'}"
      ]
     },
     "execution_count": 46,
     "metadata": {},
     "output_type": "execute_result"
    }
   ],
   "source": [
    "set(listita)"
   ]
  },
  {
   "cell_type": "code",
   "execution_count": 47,
   "id": "9747cc94-4944-403f-91ea-27a389887a37",
   "metadata": {},
   "outputs": [
    {
     "data": {
      "text/plain": [
       "['hola mundo!', 2, 3, 4]"
      ]
     },
     "execution_count": 47,
     "metadata": {},
     "output_type": "execute_result"
    }
   ],
   "source": [
    "list(set(listita))"
   ]
  },
  {
   "cell_type": "code",
   "execution_count": 50,
   "id": "7b19d5ce-5762-4c54-9213-d5a3f43a03eb",
   "metadata": {},
   "outputs": [
    {
     "name": "stdout",
     "output_type": "stream",
     "text": [
      "{'a': 123, 'juan': 25, 0: 'nosemeocurre'}\n"
     ]
    }
   ],
   "source": [
    "miprimerdict = {'a':'manzana', 'juan':25, 0:'nosemeocurre', 'a':123}\n",
    "print(miprimerdict)"
   ]
  },
  {
   "cell_type": "code",
   "execution_count": 51,
   "id": "fb3e9b76-73ef-487d-a6a2-2afeb7adc7a6",
   "metadata": {},
   "outputs": [
    {
     "data": {
      "text/plain": [
       "123"
      ]
     },
     "execution_count": 51,
     "metadata": {},
     "output_type": "execute_result"
    }
   ],
   "source": [
    "miprimerdict['a']"
   ]
  },
  {
   "cell_type": "code",
   "execution_count": 54,
   "id": "316c86f2-80f2-419c-90dc-7d6a82c19733",
   "metadata": {},
   "outputs": [
    {
     "name": "stdout",
     "output_type": "stream",
     "text": [
      "{'a': 123, 'juan': 24, 0: 'nosemeocurre'}\n"
     ]
    }
   ],
   "source": [
    "miprimerdict['juan'] = 24\n",
    "print(miprimerdict)"
   ]
  },
  {
   "cell_type": "code",
   "execution_count": 57,
   "id": "5e0fc868-b4ef-4d0f-96e4-f41e37f56ec3",
   "metadata": {},
   "outputs": [
    {
     "name": "stdout",
     "output_type": "stream",
     "text": [
      "a\n",
      "juan\n",
      "0\n"
     ]
    }
   ],
   "source": [
    "for i in miprimerdict:\n",
    "    print(i)"
   ]
  },
  {
   "cell_type": "code",
   "execution_count": 58,
   "id": "4ef8fbef-5b28-40b9-8276-fd24d5cc17c4",
   "metadata": {},
   "outputs": [
    {
     "name": "stdout",
     "output_type": "stream",
     "text": [
      "hola quétal\n"
     ]
    }
   ],
   "source": [
    "a, b = ('hola', 'quétal') # desempaquetado\n",
    "print(a, b)"
   ]
  },
  {
   "cell_type": "code",
   "execution_count": 66,
   "id": "a70935a8-101d-4aaf-b7fa-a7927a94dc79",
   "metadata": {},
   "outputs": [
    {
     "name": "stdout",
     "output_type": "stream",
     "text": [
      "hola quétal\n"
     ]
    }
   ],
   "source": [
    "(a, b) = ['hola', 'quétal'] # desempaquetado\n",
    "print(a, b)"
   ]
  },
  {
   "cell_type": "code",
   "execution_count": 60,
   "id": "0e292d32-436a-4b1b-a41d-3b367aa12aa1",
   "metadata": {},
   "outputs": [
    {
     "data": {
      "text/plain": [
       "(0, 1, 2, 3)"
      ]
     },
     "execution_count": 60,
     "metadata": {},
     "output_type": "execute_result"
    }
   ],
   "source": [
    "tuple(range(4))"
   ]
  },
  {
   "cell_type": "code",
   "execution_count": 61,
   "id": "bc61247b-8937-4e9e-a27b-15a40708a2af",
   "metadata": {},
   "outputs": [
    {
     "data": {
      "text/plain": [
       "('h', 'o', 'l', 'a', ' ', 'm', 'u', 'n', 'd', 'o', '!')"
      ]
     },
     "execution_count": 61,
     "metadata": {},
     "output_type": "execute_result"
    }
   ],
   "source": [
    "tuple('hola mundo!')"
   ]
  },
  {
   "cell_type": "code",
   "execution_count": 62,
   "id": "3ba2af93-f36b-4e06-9da6-32557c173ec9",
   "metadata": {},
   "outputs": [
    {
     "data": {
      "text/plain": [
       "{0, 1, 2}"
      ]
     },
     "execution_count": 62,
     "metadata": {},
     "output_type": "execute_result"
    }
   ],
   "source": [
    "set(range(3))"
   ]
  },
  {
   "cell_type": "code",
   "execution_count": 63,
   "id": "6d8b9ad9-433d-44d9-9c83-641dd6aa8fd0",
   "metadata": {},
   "outputs": [
    {
     "data": {
      "text/plain": [
       "{' ', 'a', 'e', 'l', 'm', 'o', 's', 't'}"
      ]
     },
     "execution_count": 63,
     "metadata": {},
     "output_type": "execute_result"
    }
   ],
   "source": [
    "set('me llamo tomas')"
   ]
  },
  {
   "cell_type": "code",
   "execution_count": 65,
   "id": "32464124-40dc-4dc3-a2c7-39bef5d5bc6a",
   "metadata": {},
   "outputs": [
    {
     "name": "stdout",
     "output_type": "stream",
     "text": [
      "(1, 2, 3)\n"
     ]
    }
   ],
   "source": [
    "otramanera = 1, 2, 3\n",
    "print(otramanera)"
   ]
  },
  {
   "cell_type": "code",
   "execution_count": 70,
   "id": "45f3ac2a-9fe5-42ac-972c-6f13c1e1a24e",
   "metadata": {},
   "outputs": [
    {
     "data": {
      "text/plain": [
       "{'a': 123, 'juan': 24, 0: 'nosemeocurre'}"
      ]
     },
     "execution_count": 70,
     "metadata": {},
     "output_type": "execute_result"
    }
   ],
   "source": [
    "miprimerdict"
   ]
  },
  {
   "cell_type": "code",
   "execution_count": 71,
   "id": "179ec5ad-2b06-41b3-b692-170fc0be4946",
   "metadata": {},
   "outputs": [
    {
     "data": {
      "text/plain": [
       "'nosemeocurre'"
      ]
     },
     "execution_count": 71,
     "metadata": {},
     "output_type": "execute_result"
    }
   ],
   "source": [
    "miprimerdict[0]"
   ]
  },
  {
   "cell_type": "code",
   "execution_count": 72,
   "id": "cf172101-d746-4b9e-ab43-7b5fc3790e4e",
   "metadata": {},
   "outputs": [
    {
     "data": {
      "text/plain": [
       "dict_items([('a', 123), ('juan', 24), (0, 'nosemeocurre')])"
      ]
     },
     "execution_count": 72,
     "metadata": {},
     "output_type": "execute_result"
    }
   ],
   "source": [
    "miprimerdict.items()"
   ]
  },
  {
   "cell_type": "code",
   "execution_count": 73,
   "id": "613fd0e9-e103-4eb4-9ce7-58c67a5e7622",
   "metadata": {},
   "outputs": [
    {
     "name": "stdout",
     "output_type": "stream",
     "text": [
      "a\n",
      "juan\n",
      "0\n"
     ]
    }
   ],
   "source": [
    "for i in miprimerdict:\n",
    "    print(i)"
   ]
  },
  {
   "cell_type": "code",
   "execution_count": 74,
   "id": "491a391c-d425-4e81-b559-67b5eefa95fc",
   "metadata": {},
   "outputs": [
    {
     "name": "stdout",
     "output_type": "stream",
     "text": [
      "('a', 123)\n",
      "('juan', 24)\n",
      "(0, 'nosemeocurre')\n"
     ]
    }
   ],
   "source": [
    "for i  in miprimerdict.items():\n",
    "    print(i)"
   ]
  },
  {
   "cell_type": "code",
   "execution_count": 76,
   "id": "bfa57144-f387-47c2-b8f2-f563458d3d53",
   "metadata": {},
   "outputs": [
    {
     "name": "stdout",
     "output_type": "stream",
     "text": [
      "clave: a ; valor: 123\n",
      "clave: juan ; valor: 24\n",
      "clave: 0 ; valor: nosemeocurre\n"
     ]
    }
   ],
   "source": [
    "for i, j in miprimerdict.items():\n",
    "    print('clave:', i, '; valor:', j)"
   ]
  },
  {
   "cell_type": "code",
   "execution_count": 77,
   "id": "61cfe146-5c71-4d59-ae39-c2b62e4f9595",
   "metadata": {},
   "outputs": [
    {
     "data": {
      "text/plain": [
       "dict_values([123, 24, 'nosemeocurre'])"
      ]
     },
     "execution_count": 77,
     "metadata": {},
     "output_type": "execute_result"
    }
   ],
   "source": [
    "miprimerdict.values()"
   ]
  },
  {
   "cell_type": "code",
   "execution_count": 78,
   "id": "182c2bea-c30a-45b3-bde9-486aa9506b53",
   "metadata": {},
   "outputs": [
    {
     "name": "stdout",
     "output_type": "stream",
     "text": [
      "123\n",
      "24\n",
      "nosemeocurre\n"
     ]
    }
   ],
   "source": [
    "for i in miprimerdict.values():\n",
    "    print(i)"
   ]
  },
  {
   "cell_type": "code",
   "execution_count": 79,
   "id": "85594fa1-e56e-4b09-a8cc-f6b826762293",
   "metadata": {},
   "outputs": [
    {
     "name": "stdout",
     "output_type": "stream",
     "text": [
      "a\n",
      "juan\n",
      "0\n"
     ]
    }
   ],
   "source": [
    "for i in miprimerdict.keys():\n",
    "    print(i)"
   ]
  },
  {
   "cell_type": "code",
   "execution_count": 80,
   "id": "d9037fc9-24cf-463d-93c0-34025d78f4ca",
   "metadata": {},
   "outputs": [
    {
     "name": "stdout",
     "output_type": "stream",
     "text": [
      "etiqueta:  a valor:  123\n",
      "etiqueta:  juan valor:  24\n",
      "etiqueta:  0 valor:  nosemeocurre\n"
     ]
    }
   ],
   "source": [
    "for i in miprimerdict.keys():\n",
    "    print(\"etiqueta: \", i, \"valor: \", miprimerdict[i])"
   ]
  },
  {
   "cell_type": "code",
   "execution_count": 81,
   "id": "03f63a66-a5f4-4670-a782-d1779a61708c",
   "metadata": {},
   "outputs": [],
   "source": [
    "texto = ''' el bosque encantado por la lluvia que caía\n",
    "            los pájaros volando\n",
    "            las hojas se mecían'''"
   ]
  },
  {
   "cell_type": "code",
   "execution_count": 84,
   "id": "509abecd-b63b-4170-8098-689fdd84e311",
   "metadata": {},
   "outputs": [
    {
     "name": "stdout",
     "output_type": "stream",
     "text": [
      " el bosque encantado por la lluvia que caía\n",
      "            los pájaros volando\n",
      "            las hojas se mecían\n"
     ]
    }
   ],
   "source": [
    "print(texto)"
   ]
  },
  {
   "cell_type": "code",
   "execution_count": 90,
   "id": "6f6728ec-7783-410d-b2a9-a9a9dea72656",
   "metadata": {},
   "outputs": [],
   "source": [
    "frec = {}\n",
    "for i in texto:\n",
    "    if i not in frec:\n",
    "        frec[i] = 1\n",
    "    else:\n",
    "        frec[i] += 1"
   ]
  },
  {
   "cell_type": "code",
   "execution_count": 91,
   "id": "2a66a488-30b8-439f-8afe-467b1690abe9",
   "metadata": {},
   "outputs": [
    {
     "name": "stdout",
     "output_type": "stream",
     "text": [
      "{' ': 37, 'e': 6, 'l': 7, 'b': 1, 'o': 8, 's': 6, 'q': 2, 'u': 3, 'n': 4, 'c': 3, 'a': 11, 't': 1, 'd': 2, 'p': 2, 'r': 2, 'v': 2, 'i': 1, 'í': 2, '\\n': 2, 'á': 1, 'j': 2, 'h': 1, 'm': 1}\n"
     ]
    }
   ],
   "source": [
    "print(frec)"
   ]
  },
  {
   "cell_type": "code",
   "execution_count": 89,
   "id": "51acdf56-18d9-4bc4-b606-499538b6c297",
   "metadata": {},
   "outputs": [
    {
     "data": {
      "text/plain": [
       "True"
      ]
     },
     "execution_count": 89,
     "metadata": {},
     "output_type": "execute_result"
    }
   ],
   "source": [
    "'b' in frec"
   ]
  },
  {
   "cell_type": "code",
   "execution_count": 93,
   "id": "ddc75517-a553-484e-8c52-4e4adaf65521",
   "metadata": {},
   "outputs": [
    {
     "data": {
      "text/plain": [
       "{'h': 1, 'o': 1, 'l': 1, 'a': 1}"
      ]
     },
     "execution_count": 93,
     "metadata": {},
     "output_type": "execute_result"
    }
   ],
   "source": [
    "dict.fromkeys('hola', 1)"
   ]
  },
  {
   "cell_type": "code",
   "execution_count": null,
   "id": "7190561e-f591-496d-8d19-e32bc18dddd6",
   "metadata": {},
   "outputs": [],
   "source": []
  }
 ],
 "metadata": {
  "kernelspec": {
   "display_name": "Python 3 (ipykernel)",
   "language": "python",
   "name": "python3"
  },
  "language_info": {
   "codemirror_mode": {
    "name": "ipython",
    "version": 3
   },
   "file_extension": ".py",
   "mimetype": "text/x-python",
   "name": "python",
   "nbconvert_exporter": "python",
   "pygments_lexer": "ipython3",
   "version": "3.12.3"
  }
 },
 "nbformat": 4,
 "nbformat_minor": 5
}
