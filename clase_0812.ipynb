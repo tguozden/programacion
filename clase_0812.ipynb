{
 "cells": [
  {
   "cell_type": "code",
   "execution_count": 4,
   "id": "02a500e0-9abf-431f-b571-2da7586a2a2f",
   "metadata": {},
   "outputs": [],
   "source": [
    "file = open('hola.txt', 'r')\n",
    "file.close()"
   ]
  },
  {
   "cell_type": "code",
   "execution_count": 9,
   "id": "8d543fdf-4513-4702-886e-f4fc8fbff54c",
   "metadata": {},
   "outputs": [
    {
     "name": "stdout",
     "output_type": "stream",
     "text": [
      "TextIOWrapper\n"
     ]
    }
   ],
   "source": [
    "# para asegurarse de cerrarlo\n",
    "with open('hola.txt', 'r') as archivo:\n",
    "    print(type(archivo).__name__)\n",
    "    # print(archivo.read())"
   ]
  },
  {
   "cell_type": "code",
   "execution_count": 11,
   "id": "0326b188-1343-47d3-aca2-fe7f5825725c",
   "metadata": {},
   "outputs": [
    {
     "ename": "ValueError",
     "evalue": "I/O operation on closed file.",
     "output_type": "error",
     "traceback": [
      "\u001b[0;31m---------------------------------------------------------------------------\u001b[0m",
      "\u001b[0;31mValueError\u001b[0m                                Traceback (most recent call last)",
      "Cell \u001b[0;32mIn[11], line 1\u001b[0m\n\u001b[0;32m----> 1\u001b[0m \u001b[38;5;28mprint\u001b[39m(\u001b[43marchivo\u001b[49m\u001b[38;5;241;43m.\u001b[39;49m\u001b[43mread\u001b[49m\u001b[43m(\u001b[49m\u001b[43m)\u001b[49m)\n",
      "\u001b[0;31mValueError\u001b[0m: I/O operation on closed file."
     ]
    }
   ],
   "source": [
    "print(archivo.read())"
   ]
  },
  {
   "cell_type": "code",
   "execution_count": 19,
   "id": "01933b9d-a21c-4515-856f-f1c0ef9c8201",
   "metadata": {},
   "outputs": [
    {
     "name": "stdout",
     "output_type": "stream",
     "text": [
      "renglon nro 0: 0.3363987698063705,0.6852718739136967,0.12069622780057965,0.6500669371711265\n",
      "renglon nro 1: 0.5053115917719011,0.4441872706931569,0.34515406018866956,0.5207391744062274\n",
      "renglon nro 2: 0.5611358434890664,0.7699099924162104,0.9725653865856695,0.9070515339027116\n",
      "renglon nro 3: 0.8494675165981255,0.9106766898548267,0.31089967769731797,0.9057752352412339\n"
     ]
    }
   ],
   "source": [
    "with open('hola.txt', 'r') as archivo:\n",
    "    for i,renglon in enumerate(archivo):\n",
    "        print(f'renglon nro {i}:', renglon, end = '')"
   ]
  },
  {
   "cell_type": "code",
   "execution_count": 21,
   "id": "002aea34-f39a-49d5-b936-ae37e2ebf880",
   "metadata": {},
   "outputs": [
    {
     "name": "stdout",
     "output_type": "stream",
     "text": [
      "['0.3363987698063705,0.6852718739136967,0.12069622780057965,0.6500669371711265\\n', '0.5053115917719011,0.4441872706931569,0.34515406018866956,0.5207391744062274\\n', '0.5611358434890664,0.7699099924162104,0.9725653865856695,0.9070515339027116\\n', '0.8494675165981255,0.9106766898548267,0.31089967769731797,0.9057752352412339\\n']\n"
     ]
    }
   ],
   "source": [
    "with open('hola.txt', 'r') as archivo:\n",
    "    lista = []\n",
    "    for i,renglon in enumerate(archivo):\n",
    "        lista.append(renglon)\n",
    "print(lista)"
   ]
  },
  {
   "cell_type": "code",
   "execution_count": 22,
   "id": "9520f6c6-310d-4c74-8dad-859169a0ec22",
   "metadata": {},
   "outputs": [],
   "source": [
    "cad = lista[0]"
   ]
  },
  {
   "cell_type": "code",
   "execution_count": 23,
   "id": "81298b29-1f45-4fe6-a355-db2104ad4f6a",
   "metadata": {},
   "outputs": [
    {
     "data": {
      "text/plain": [
       "'0.3363987698063705,0.6852718739136967,0.12069622780057965,0.6500669371711265\\n'"
      ]
     },
     "execution_count": 23,
     "metadata": {},
     "output_type": "execute_result"
    }
   ],
   "source": [
    "cad"
   ]
  },
  {
   "cell_type": "code",
   "execution_count": 25,
   "id": "dddc43b6-155a-4ebb-ab95-e40ba7f07275",
   "metadata": {},
   "outputs": [
    {
     "data": {
      "text/plain": [
       "['0.3363987698063705',\n",
       " '0.6852718739136967',\n",
       " '0.12069622780057965',\n",
       " '0.6500669371711265']"
      ]
     },
     "execution_count": 25,
     "metadata": {},
     "output_type": "execute_result"
    }
   ],
   "source": [
    "cad[:-1].split(',')"
   ]
  },
  {
   "cell_type": "code",
   "execution_count": 26,
   "id": "c1c49f4f-af87-49cb-a810-cc28e134d0fd",
   "metadata": {},
   "outputs": [],
   "source": [
    "import random\n",
    "lista2 = []\n",
    "for i in range(10):\n",
    "    lista2.append([i, random.random()])\n",
    "    "
   ]
  },
  {
   "cell_type": "code",
   "execution_count": 27,
   "id": "9c0d8a7e-3bcc-4d5e-9d82-3d33b2b1e72c",
   "metadata": {},
   "outputs": [
    {
     "data": {
      "text/plain": [
       "[[0, 0.707925181755833],\n",
       " [1, 0.5207342901035626],\n",
       " [2, 0.1027676612448154],\n",
       " [3, 0.09153416962280014],\n",
       " [4, 0.30653213686303404],\n",
       " [5, 0.27654158253617145],\n",
       " [6, 0.30816166802963063],\n",
       " [7, 0.2940801014226161],\n",
       " [8, 0.05864060662497328],\n",
       " [9, 0.9414235934498135]]"
      ]
     },
     "execution_count": 27,
     "metadata": {},
     "output_type": "execute_result"
    }
   ],
   "source": [
    "lista2"
   ]
  },
  {
   "cell_type": "code",
   "execution_count": 75,
   "id": "835ca26a-e257-456b-8e82-a0f95c6ef7c0",
   "metadata": {},
   "outputs": [],
   "source": [
    "import csv\n",
    "with open('m2.csv', 'w') as archivo:\n",
    "    objeto_csv = csv.writer(archivo)\n",
    "    for i in lista2:\n",
    "        objeto_csv.writerow(i)\n",
    "    "
   ]
  },
  {
   "cell_type": "code",
   "execution_count": 78,
   "id": "3b31e033-5900-400a-ae56-a3f326151501",
   "metadata": {},
   "outputs": [
    {
     "name": "stdout",
     "output_type": "stream",
     "text": [
      "[['0', '0.707925181755833'], ['1', '0.5207342901035626'], ['2', '0.1027676612448154'], ['3', '0.09153416962280014'], ['4', '0.30653213686303404'], ['5', '0.27654158253617145'], ['6', '0.30816166802963063'], ['7', '0.2940801014226161'], ['8', '0.05864060662497328'], ['9', '0.9414235934498135']]\n"
     ]
    }
   ],
   "source": [
    "with open('m2.csv', 'r') as archivo:\n",
    "    objeto_csv = csv.reader(archivo)\n",
    "    lista3 = []\n",
    "    for i in objeto_csv:\n",
    "        lista3.append(i)\n",
    "print(lista3)"
   ]
  },
  {
   "cell_type": "code",
   "execution_count": 73,
   "id": "923caf0a-40be-4920-8ffc-4d2d4773d5f1",
   "metadata": {},
   "outputs": [
    {
     "name": "stdout",
     "output_type": "stream",
     "text": [
      "['0', '1', '2', '3', '4', '5', '6', '7', '8', '9']\n",
      "['0.707925181755833', '0.5207342901035626', '0.1027676612448154', '0.09153416962280014', '0.30653213686303404', '0.27654158253617145', '0.30816166802963063', '0.2940801014226161', '0.05864060662497328', '0.9414235934498135']\n",
      "[('0', '1', '2', '3', '4', '5', '6', '7', '8', '9'), ('0.707925181755833', '0.5207342901035626', '0.1027676612448154', '0.09153416962280014', '0.30653213686303404', '0.27654158253617145', '0.30816166802963063', '0.2940801014226161', '0.05864060662497328', '0.9414235934498135')]\n"
     ]
    }
   ],
   "source": [
    "lista3_t = []\n",
    "for i in zip(*lista3):\n",
    "    print(list(i))\n",
    "    lista3_t.append(i)\n",
    "\n",
    "print(lista3_)"
   ]
  },
  {
   "cell_type": "code",
   "execution_count": 68,
   "id": "dab7b2fb-4fe7-4130-8b5c-ee245c8e8165",
   "metadata": {},
   "outputs": [
    {
     "data": {
      "text/plain": [
       "[['0', '1', '2', '3', '4', '5', '6', '7', '8', '9'],\n",
       " ['0.707925181755833',\n",
       "  '0.5207342901035626',\n",
       "  '0.1027676612448154',\n",
       "  '0.09153416962280014',\n",
       "  '0.30653213686303404',\n",
       "  '0.27654158253617145',\n",
       "  '0.30816166802963063',\n",
       "  '0.2940801014226161',\n",
       "  '0.05864060662497328',\n",
       "  '0.9414235934498135']]"
      ]
     },
     "execution_count": 68,
     "metadata": {},
     "output_type": "execute_result"
    }
   ],
   "source": [
    "lista3_t"
   ]
  },
  {
   "cell_type": "code",
   "execution_count": 69,
   "id": "2b06122e-9685-4349-9103-3cd5e08c1d13",
   "metadata": {},
   "outputs": [
    {
     "data": {
      "text/plain": [
       "[['0', '0.707925181755833'],\n",
       " ['1', '0.5207342901035626'],\n",
       " ['2', '0.1027676612448154'],\n",
       " ['3', '0.09153416962280014'],\n",
       " ['4', '0.30653213686303404'],\n",
       " ['5', '0.27654158253617145'],\n",
       " ['6', '0.30816166802963063'],\n",
       " ['7', '0.2940801014226161'],\n",
       " ['8', '0.05864060662497328'],\n",
       " ['9', '0.9414235934498135']]"
      ]
     },
     "execution_count": 69,
     "metadata": {},
     "output_type": "execute_result"
    }
   ],
   "source": [
    "lista3"
   ]
  },
  {
   "cell_type": "code",
   "execution_count": 70,
   "id": "ee8c1003-9dbb-4672-9c67-491360b2b1e5",
   "metadata": {},
   "outputs": [
    {
     "data": {
      "text/plain": [
       "[['0', '1', '2', '3', '4', '5', '6', '7', '8', '9'],\n",
       " ['0.707925181755833',\n",
       "  '0.5207342901035626',\n",
       "  '0.1027676612448154',\n",
       "  '0.09153416962280014',\n",
       "  '0.30653213686303404',\n",
       "  '0.27654158253617145',\n",
       "  '0.30816166802963063',\n",
       "  '0.2940801014226161',\n",
       "  '0.05864060662497328',\n",
       "  '0.9414235934498135']]"
      ]
     },
     "execution_count": 70,
     "metadata": {},
     "output_type": "execute_result"
    }
   ],
   "source": [
    "lista3_t"
   ]
  },
  {
   "cell_type": "code",
   "execution_count": 112,
   "id": "9f1486e5-e982-47f8-98ab-ec6cfa261560",
   "metadata": {},
   "outputs": [],
   "source": [
    "import turtle\n",
    "t=turtle.Turtle()"
   ]
  },
  {
   "cell_type": "code",
   "execution_count": 113,
   "id": "0e078681-ea21-434c-ad2d-62b6df6f25f1",
   "metadata": {},
   "outputs": [],
   "source": [
    "t.home()"
   ]
  },
  {
   "cell_type": "code",
   "execution_count": 114,
   "id": "e7cdc278-982e-428e-a424-d5c7c891c14c",
   "metadata": {},
   "outputs": [],
   "source": [
    "t.forward(90)"
   ]
  },
  {
   "cell_type": "code",
   "execution_count": 115,
   "id": "dbeb0bd5-8a32-4784-8601-4203c0f31d90",
   "metadata": {},
   "outputs": [],
   "source": [
    "t.right(90)"
   ]
  },
  {
   "cell_type": "code",
   "execution_count": 122,
   "id": "06cfa2d1-f904-4c70-be6a-05535f96b72c",
   "metadata": {},
   "outputs": [],
   "source": [
    "t.home()"
   ]
  },
  {
   "cell_type": "code",
   "execution_count": 123,
   "id": "dcb148f7-f792-4cc0-9509-b92e6a633242",
   "metadata": {},
   "outputs": [],
   "source": [
    "t.clear()"
   ]
  },
  {
   "cell_type": "code",
   "execution_count": 124,
   "id": "8a5543c2-c3fd-4171-a938-e418f67636a4",
   "metadata": {},
   "outputs": [],
   "source": [
    "for i in range(36):\n",
    "    t.forward(100)\n",
    "    t.right(180 - 5)\n",
    "    t.forward(100)\n",
    "    "
   ]
  },
  {
   "cell_type": "code",
   "execution_count": null,
   "id": "ef09f2e0-6807-42f3-84ce-896fd7c8f38b",
   "metadata": {},
   "outputs": [],
   "source": []
  }
 ],
 "metadata": {
  "kernelspec": {
   "display_name": "Python 3 (ipykernel)",
   "language": "python",
   "name": "python3"
  },
  "language_info": {
   "codemirror_mode": {
    "name": "ipython",
    "version": 3
   },
   "file_extension": ".py",
   "mimetype": "text/x-python",
   "name": "python",
   "nbconvert_exporter": "python",
   "pygments_lexer": "ipython3",
   "version": "3.12.3"
  }
 },
 "nbformat": 4,
 "nbformat_minor": 5
}
