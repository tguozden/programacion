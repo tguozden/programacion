{
 "cells": [
  {
   "cell_type": "markdown",
   "id": "4d128dba-a34b-43e9-9bf4-373faa440479",
   "metadata": {},
   "source": [
    "links útiles:\n",
    "documentación de *class* (también está en español)\n",
    "https://docs.python.org/3/tutorial/classes.html \n",
    "\n",
    "tutorial de pyqt: \n",
    "https://www.pythonguis.com/tutorials/creating-your-first-pyqt-window/\n",
    "\n",
    "otra herramienta posible para los juegos es tkinter (sugerencia de Damián)"
   ]
  },
  {
   "cell_type": "code",
   "execution_count": null,
   "id": "c8752d67-c411-4ab4-ac87-7b897e3c9a56",
   "metadata": {},
   "outputs": [],
   "source": [
    "class miprimerclase:\n",
    "    atributo1 = 'manzanas'\n",
    "    atributo2 = 34\n",
    "    def metodo1(self):\n",
    "        print('hola')\n",
    "        "
   ]
  },
  {
   "cell_type": "code",
   "execution_count": 2,
   "id": "7351e64e-7b5c-4a08-aa9d-2fa58992cae2",
   "metadata": {},
   "outputs": [
    {
     "name": "stdout",
     "output_type": "stream",
     "text": [
      "Variable        Type    Data/Info\n",
      "---------------------------------\n",
      "miprimerclase   type    <class '__main__.miprimerclase'>\n"
     ]
    }
   ],
   "source": [
    "whos"
   ]
  },
  {
   "cell_type": "code",
   "execution_count": 7,
   "id": "ad9e175b-a010-4c3c-8fde-f5a4c64ecf19",
   "metadata": {},
   "outputs": [],
   "source": [
    "x = miprimerclase()\n",
    "y = miprimerclase()"
   ]
  },
  {
   "cell_type": "code",
   "execution_count": 8,
   "id": "7cda49b9-3ea8-4421-9829-34888c390923",
   "metadata": {},
   "outputs": [
    {
     "name": "stdout",
     "output_type": "stream",
     "text": [
      "hola\n"
     ]
    }
   ],
   "source": [
    "x.metodo1()"
   ]
  },
  {
   "cell_type": "code",
   "execution_count": 9,
   "id": "db69b243-b16a-47a0-a87d-922bd5e42a4d",
   "metadata": {},
   "outputs": [
    {
     "data": {
      "text/plain": [
       "'manzanas'"
      ]
     },
     "execution_count": 9,
     "metadata": {},
     "output_type": "execute_result"
    }
   ],
   "source": [
    "x.atributo1"
   ]
  },
  {
   "cell_type": "code",
   "execution_count": 10,
   "id": "4ffca410-421c-4c45-9e43-1ae89dca11b1",
   "metadata": {},
   "outputs": [],
   "source": [
    "class mi2daclase:\n",
    "    def __init__(self, var1):  #inicializador\n",
    "        self.nombre = var1\n",
    "        print('acabo de instanciar un objeto de la clase')\n",
    "\n",
    "    atributo1 = 'manzanas'\n",
    "    atributo2 = 34\n",
    "    def metodo1(self):\n",
    "        print('hola')"
   ]
  },
  {
   "cell_type": "code",
   "execution_count": 13,
   "id": "72a6ece9-6331-445c-bd05-b0f5abcd5df2",
   "metadata": {},
   "outputs": [
    {
     "name": "stdout",
     "output_type": "stream",
     "text": [
      "acabo de instanciar un objeto de la clase\n"
     ]
    }
   ],
   "source": [
    "x = mi2daclase('damian')"
   ]
  },
  {
   "cell_type": "code",
   "execution_count": 14,
   "id": "92908bee-f0d9-400e-8390-3190c90f63bf",
   "metadata": {},
   "outputs": [
    {
     "name": "stdout",
     "output_type": "stream",
     "text": [
      "hola\n"
     ]
    },
    {
     "data": {
      "text/plain": [
       "'damian'"
      ]
     },
     "execution_count": 14,
     "metadata": {},
     "output_type": "execute_result"
    }
   ],
   "source": [
    "x.metodo1()\n",
    "x.nombre"
   ]
  },
  {
   "cell_type": "code",
   "execution_count": 17,
   "id": "f9deff7c-e846-41b5-bdf6-dfcd16d5ba05",
   "metadata": {},
   "outputs": [
    {
     "name": "stdout",
     "output_type": "stream",
     "text": [
      "acabo de instanciar un objeto de la clase\n"
     ]
    },
    {
     "data": {
      "text/plain": [
       "'alfredo'"
      ]
     },
     "execution_count": 17,
     "metadata": {},
     "output_type": "execute_result"
    }
   ],
   "source": [
    "class miprimerhijo(mi2daclase):\n",
    "    atributo3 = 'membrillo'\n",
    "\n",
    "x=miprimerhijo('alfredo')\n",
    "x.nombre"
   ]
  },
  {
   "cell_type": "code",
   "execution_count": 18,
   "id": "aa0e38c3-a016-4ae3-85aa-433877e92122",
   "metadata": {},
   "outputs": [
    {
     "name": "stdout",
     "output_type": "stream",
     "text": [
      "acá empieza todo!\n"
     ]
    }
   ],
   "source": [
    "class unhermano(mi2daclase):\n",
    "    def __init__(self):\n",
    "        print('acá empieza todo!')\n",
    "\n",
    "x = unhermano()"
   ]
  },
  {
   "cell_type": "code",
   "execution_count": 19,
   "id": "8327b4da-9e2e-4f13-bcc8-b719010d75f2",
   "metadata": {},
   "outputs": [
    {
     "name": "stdout",
     "output_type": "stream",
     "text": [
      "acabo de instanciar un objeto de la clase\n",
      "y ahora?\n"
     ]
    },
    {
     "data": {
      "text/plain": [
       "'juanperez'"
      ]
     },
     "execution_count": 19,
     "metadata": {},
     "output_type": "execute_result"
    }
   ],
   "source": [
    "class otrohermano(mi2daclase):\n",
    "    def __init__(self):\n",
    "        super().__init__('juanperez')\n",
    "        print('y ahora?')\n",
    "x = otrohermano()\n",
    "x.nombre"
   ]
  },
  {
   "cell_type": "code",
   "execution_count": 21,
   "id": "19ebda04-78e8-4cc9-b927-835ca20462b9",
   "metadata": {},
   "outputs": [],
   "source": [
    "class mientero(int):\n",
    "    def paridad(self):\n",
    "        return self%2"
   ]
  },
  {
   "cell_type": "code",
   "execution_count": 23,
   "id": "491dbc78-b446-465a-b343-8d56ffbacb94",
   "metadata": {},
   "outputs": [
    {
     "data": {
      "text/plain": [
       "0"
      ]
     },
     "execution_count": 23,
     "metadata": {},
     "output_type": "execute_result"
    }
   ],
   "source": [
    "x=mientero(36)\n",
    "x.paridad()"
   ]
  },
  {
   "cell_type": "code",
   "execution_count": 4,
   "id": "3f6cedc1-acec-494e-9433-e5d99cec76fb",
   "metadata": {},
   "outputs": [],
   "source": [
    "from PyQt5.QtWidgets import QApplication, QPushButton\n",
    "app = QApplication([])\n",
    "window = QPushButton('botón')\n",
    "window.show()"
   ]
  },
  {
   "cell_type": "code",
   "execution_count": 5,
   "id": "24d1619d-18ac-4ee6-bbf3-74ceb55aeadb",
   "metadata": {},
   "outputs": [
    {
     "data": {
      "text/plain": [
       "0"
      ]
     },
     "execution_count": 5,
     "metadata": {},
     "output_type": "execute_result"
    }
   ],
   "source": [
    "\n",
    "app.exec()"
   ]
  },
  {
   "cell_type": "code",
   "execution_count": 6,
   "id": "c11f0297-acbd-4902-93d4-b020e11fb2ec",
   "metadata": {},
   "outputs": [],
   "source": [
    "# necesito esto en jupyter, para borrar las variables que usó Qt\n",
    "del(app) "
   ]
  },
  {
   "cell_type": "code",
   "execution_count": 7,
   "id": "baebe9ad-71b0-43d2-8022-0a2ba0580b60",
   "metadata": {},
   "outputs": [],
   "source": [
    "#Otra ventana vacía\n",
    "from PyQt5.QtWidgets import  QMainWindow\n",
    "app = QApplication([])\n",
    "\n",
    "window = QMainWindow()\n",
    "\n",
    "window.show()\n",
    "app.exec()\n",
    "del(app)"
   ]
  },
  {
   "cell_type": "code",
   "execution_count": 8,
   "id": "33396f5c-bbe7-4aa2-abb5-ad7aac2ad1b5",
   "metadata": {},
   "outputs": [],
   "source": [
    "# creamos una subclase de QMainWindow (una clase hija!) con accesorios\n",
    "class miventanita(QMainWindow):\n",
    "    def __init__(self):\n",
    "        # precisamos inicializador de la clase madre:\n",
    "        super().__init__()  \n",
    "        # titulito en la barra de la ventana\n",
    "        self.setWindowTitle(\"mi ventanita\")\n",
    "        button = QPushButton(\"apretame\")\n",
    "        \n",
    "        self.setCentralWidget(button)\n",
    "\n",
    "app = QApplication([])\n",
    "\n",
    "window = miventanita()\n",
    "window.show()\n",
    "\n",
    "app.exec()\n",
    "del(app)"
   ]
  },
  {
   "cell_type": "code",
   "execution_count": 13,
   "id": "5e875bd7-d750-41d8-8c44-80de6ebb636a",
   "metadata": {},
   "outputs": [],
   "source": [
    "# ventanita hija:\n",
    "from PyQt5.QtWidgets import QWidget, QVBoxLayout, QButtonGroup\n",
    "class cambiabotones(QMainWindow):\n",
    "    def __init__(self):\n",
    "        super().__init__()\n",
    "        self.setWindowTitle(\"Botones Exclusivos\")\n",
    "        self.setGeometry(100, 100, 300, 200)\n",
    "        \n",
    "        \n",
    "        \n",
    "        # Crear los botones\n",
    "        self.button1 = QPushButton(\"Botón 1\")\n",
    "        self.button2 = QPushButton(\"Botón 2\")\n",
    "        \n",
    "        # Configurar los botones para que sean checkeables\n",
    "        self.button1.setCheckable(True)\n",
    "        self.button2.setCheckable(True)\n",
    "        # \"Widget\" central\n",
    "        widget_1 = QWidget()\n",
    "        self.setCentralWidget(widget_1)\n",
    "        # Layout principal\n",
    "        layout = QVBoxLayout(widget_1)\n",
    "        # Agregar los botones al layout\n",
    "        layout.addWidget(self.button1)\n",
    "        layout.addWidget(self.button2)\n",
    "        \n",
    "        # # Crear un grupo de botones para hacerlos exclusivos\n",
    "        # self.button_group = QButtonGroup(self)\n",
    "        # self.button_group.addButton(self.button1)\n",
    "        # self.button_group.addButton(self.button2)\n",
    "        \n",
    "        # # Hacer que el grupo sea exclusivo (solo uno puede estar seleccionado)\n",
    "        # self.button_group.setExclusive(True)\n",
    "        \n",
    "        # Conectar señales para mostrar cambios de estado\n",
    "        self.button1.toggled.connect(self.si_me_tocaron)\n",
    "        self.button2.toggled.connect(self.si_me_tocaron)\n",
    "    \n",
    "    def si_me_tocaron(self, checked):\n",
    "        \"\"\"Maneja los eventos \\\"apretar botones\\\" \"\"\"\n",
    "        sender = self.sender()\n",
    "        if checked:\n",
    "            print(f\"Botón '{sender.text()}' presionado\")\n",
    "        else:\n",
    "            print(f\"Botón '{sender.text()}' liberado\")\n"
   ]
  },
  {
   "cell_type": "code",
   "execution_count": 14,
   "id": "a834b617-dd01-4249-ab2b-a44d0e411e31",
   "metadata": {},
   "outputs": [
    {
     "name": "stdout",
     "output_type": "stream",
     "text": [
      "Botón 'Botón 1' presionado\n",
      "Botón 'Botón 1' liberado\n"
     ]
    }
   ],
   "source": [
    "\n",
    "app = QApplication([])\n",
    "\n",
    "window = cambiabotones()\n",
    "window.show()\n",
    "\n",
    "app.exec()\n",
    "del(app)"
   ]
  },
  {
   "cell_type": "code",
   "execution_count": null,
   "id": "d2296ecf-1e4d-4fc3-b6aa-5e4241137b0e",
   "metadata": {},
   "outputs": [],
   "source": []
  }
 ],
 "metadata": {
  "kernelspec": {
   "display_name": "Python 3 (ipykernel)",
   "language": "python",
   "name": "python3"
  },
  "language_info": {
   "codemirror_mode": {
    "name": "ipython",
    "version": 3
   },
   "file_extension": ".py",
   "mimetype": "text/x-python",
   "name": "python",
   "nbconvert_exporter": "python",
   "pygments_lexer": "ipython3",
   "version": "3.12.3"
  }
 },
 "nbformat": 4,
 "nbformat_minor": 5
}
