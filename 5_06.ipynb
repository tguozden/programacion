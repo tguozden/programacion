{
 "cells": [
  {
   "cell_type": "markdown",
   "id": "431963e3-6a26-4f65-856c-a1d53aa8f281",
   "metadata": {},
   "source": [
    "### Función contraseña\n",
    "Crear una función que tome un argumento string y chequee que cumpla con\n",
    "los requisitos de contraseña:\n",
    "- chequear que se ingresó una variable de tipo string\n",
    "- chequear que tenga al menos 8 carateres\n",
    "- chequear que no tenga espacios\n",
    "- chequear que tenga al menos una mayúscula y una minúscula\n",
    "- chequear que tenga al menos un número\n",
    "- pedir al usuario que vuelva a ingresar la contraseña y chequear compatibilidad\n"
   ]
  },
  {
   "cell_type": "code",
   "execution_count": null,
   "id": "4e84e451-05a3-4106-adb0-b6be4b10c087",
   "metadata": {},
   "outputs": [],
   "source": [
    "# ejemplo de cómo chequear \n",
    "# que se ingresó una \n",
    "# cadena de caracteres (string)\n",
    "\n",
    "def ingrese_cadena(cadena):\n",
    "    if not isinstance(cadena, str):\n",
    "        print('ud ingresó una variable de tipo', type(cadena))\n",
    "        print('debe ingresar una cadena de caracteres')\n",
    "    else:\n",
    "        print('ingresó', cadena)\n",
    "# sin usar isinstance()\n",
    "def ingrese_cadena2(cadena):\n",
    "    if type(cadena) != type('cadena'): \n",
    "        print('ud ingresó una variable de tipo', type(cadena))\n",
    "        print('debe ingresar una cadena de caracteres')\n",
    "    else:\n",
    "        print('ingresó', cadena)\n",
    "        \n",
    "# comparen ambas versiones, cuál les parece más fácil de entender?"
   ]
  },
  {
   "cell_type": "code",
   "execution_count": null,
   "id": "f3662459-be51-4772-8047-d68763afc983",
   "metadata": {},
   "outputs": [],
   "source": [
    "def pruebamayuminu(cadena):\n",
    "    mayu = False\n",
    "    minu = False\n",
    "    for letra in cadena:\n",
    "        if letra.isupper():\n",
    "            mayu = True\n",
    "        if letra.islower():\n",
    "            minu = True\n",
    "    return mayu and minu\n",
    "        \n",
    "def ingrese_cadena2(cadena):\n",
    "    if type(cadena) != type('cadena'): \n",
    "        print('ud ingresó una variable de tipo', type(cadena))\n",
    "        print('debe ingresar una cadena de caracteres')\n",
    "        return 'todo mal'\n",
    "    if len(cadena)<8:\n",
    "        return 'pocas letras'\n",
    "    if ' ' in cadena:\n",
    "        return 'hay espacios'\n",
    "    if not pruebamayuminu(cadena):\n",
    "        return 'una minu y una mayu'\n",
    "    \n",
    "    print('ingresó', cadena)\n",
    "    return 'todo bien'"
   ]
  },
  {
   "cell_type": "code",
   "execution_count": 28,
   "id": "494e5b1d-943a-4380-b3af-e21fdaef302f",
   "metadata": {},
   "outputs": [],
   "source": [
    "#otra manera que permite identificar todas las características\n",
    "\n",
    "def pruebamayuminu(cadena):\n",
    "    mayu = False\n",
    "    minu = False\n",
    "    for letra in cadena:\n",
    "        if letra.isupper():\n",
    "            mayu = True\n",
    "        if letra.islower():\n",
    "            minu = True\n",
    "    return mayu and minu\n",
    "        \n",
    "def ingrese_cadena2(cadena):\n",
    "    cond = 4  #lista_cond = 4*[True]\n",
    "    list_falta = []\n",
    "    if type(cadena) != type('cadena'): \n",
    "        print('ud ingresó una variable de tipo', type(cadena))\n",
    "        print('debe ingresar una cadena de caracteres')\n",
    "        cond = False\n",
    "        list_falta.append('debe ingresar una cadena de caracteres')\n",
    "    if len(cadena)<8:\n",
    "        cond = False\n",
    "        list_falta.append('debe ingresar al menos 8 caracteres')\n",
    "    if ' ' in cadena:\n",
    "        cond = False\n",
    "        list_falta.append('no usar espacios')\n",
    "    if not pruebamayuminu(cadena):\n",
    "        cond = False\n",
    "        list_falta.append('usar al menos una mayu y una minu')\n",
    "    if cond == False:\n",
    "        print('faltó:', '\\n\\t-'+'\\n\\t-'.join(list_falta),'\\n\\n')\n",
    "        return 'no cumple condiciones'\n",
    "    \n",
    "    print('ingresó', cadena)\n",
    "    return 'todo bien'"
   ]
  },
  {
   "cell_type": "code",
   "execution_count": 29,
   "id": "422d49be-f545-4b1e-852f-b67497732b37",
   "metadata": {},
   "outputs": [
    {
     "name": "stdout",
     "output_type": "stream",
     "text": [
      "faltó: \n",
      "\t-debe ingresar al menos 8 caracteres\n",
      "\t-no usar espacios\n",
      "\t-usar al menos una mayu y una minu \n",
      "\n",
      "\n",
      "la función devuelve:  no cumple condiciones\n"
     ]
    }
   ],
   "source": [
    "print('la función devuelve: ',ingrese_cadena2('DARIO '))"
   ]
  },
  {
   "cell_type": "code",
   "execution_count": 27,
   "id": "47b8aba6-3dc6-4899-b2f0-b506ecd225ae",
   "metadata": {},
   "outputs": [
    {
     "name": "stdout",
     "output_type": "stream",
     "text": [
      "hola que tal\n"
     ]
    }
   ],
   "source": [
    "variable = ['hola', 'que', 'tal']\n",
    "print(' '.join(variable))"
   ]
  },
  {
   "cell_type": "code",
   "execution_count": null,
   "id": "a58b59f4-be3e-430c-835b-ca7e2fc8efd3",
   "metadata": {},
   "outputs": [],
   "source": []
  }
 ],
 "metadata": {
  "kernelspec": {
   "display_name": "Python 3 (ipykernel)",
   "language": "python",
   "name": "python3"
  },
  "language_info": {
   "codemirror_mode": {
    "name": "ipython",
    "version": 3
   },
   "file_extension": ".py",
   "mimetype": "text/x-python",
   "name": "python",
   "nbconvert_exporter": "python",
   "pygments_lexer": "ipython3",
   "version": "3.12.3"
  }
 },
 "nbformat": 4,
 "nbformat_minor": 5
}
