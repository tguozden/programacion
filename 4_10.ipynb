{
 "cells": [
  {
   "cell_type": "code",
   "execution_count": 4,
   "id": "2308374d-d24c-4bc8-93f8-158e851415bf",
   "metadata": {},
   "outputs": [],
   "source": [
    "# dada una lista cualquier crea nuevas listas que contengan\n",
    "# solamente los elementos int, str y float"
   ]
  },
  {
   "cell_type": "code",
   "execution_count": 14,
   "id": "0feb4dbb-7196-4607-9c0f-db75560155ea",
   "metadata": {},
   "outputs": [
    {
     "name": "stdout",
     "output_type": "stream",
     "text": [
      "['cadenita', 'holamundo', 'hoy llueve']\n",
      "[1, 3, 4]\n",
      "[1.0]\n"
     ]
    }
   ],
   "source": [
    "lista = [1, 1.0, 'cadenita', [1, 2, 3], 3, 4, 'holamundo', 'hoy llueve']\n",
    "\n",
    "lista_str = []\n",
    "lista_float = []\n",
    "lista_int = []\n",
    "\n",
    "for elemento in lista:\n",
    "    if isinstance(elemento, str):\n",
    "        lista_str.append(elemento)   # también se puede lista_str + [elemento]\n",
    "    elif isinstance(elemento, int):\n",
    "        lista_int.append(elemento)\n",
    "    elif isinstance(elemento, float):\n",
    "        lista_float.append(elemento)\n",
    "\n",
    "print(lista_str)\n",
    "print(lista_int)\n",
    "print(lista_float)"
   ]
  },
  {
   "cell_type": "code",
   "execution_count": 9,
   "id": "c74b1f5a-c0c9-448c-94d7-67390857fe6d",
   "metadata": {},
   "outputs": [
    {
     "data": {
      "text/plain": [
       "False"
      ]
     },
     "execution_count": 9,
     "metadata": {},
     "output_type": "execute_result"
    }
   ],
   "source": [
    "isinstance(lista[0], str)"
   ]
  },
  {
   "cell_type": "code",
   "execution_count": 15,
   "id": "9bc9094c-ff4a-4882-b76d-1ecdda29aa24",
   "metadata": {},
   "outputs": [
    {
     "name": "stdout",
     "output_type": "stream",
     "text": [
      "39\n",
      "39\n"
     ]
    }
   ],
   "source": [
    "var = 'hola mundo soy una cadena de caracteres'\n",
    "Contador = 0\n",
    "for i in var:\n",
    "    Contador = Contador + 1\n",
    "\n",
    "print(Contador)\n",
    "print(len(var))\n",
    "    "
   ]
  },
  {
   "cell_type": "code",
   "execution_count": 19,
   "id": "5e94e61f-149e-4072-8fcf-73dcd0f00654",
   "metadata": {},
   "outputs": [
    {
     "name": "stdout",
     "output_type": "stream",
     "text": [
      "33\n"
     ]
    }
   ],
   "source": [
    "# cuente cuántos caracteres son letras del abecedario\n",
    "Contador = 0\n",
    "for i in var:\n",
    "    if i.isalpha():\n",
    "        Contador += 1\n",
    "\n",
    "print(Contador)"
   ]
  },
  {
   "cell_type": "code",
   "execution_count": 27,
   "id": "325db220-6d87-4e0a-9a40-6ffb7c05c79d",
   "metadata": {},
   "outputs": [
    {
     "name": "stdout",
     "output_type": "stream",
     "text": [
      "['h', 'o', 'l', 'a', ' ', 'm', 'u', 'n', 'd', 's', 'y', 'c', 'e', 'r', 't']\n",
      "[1, 3, 1, 6, 6, 1, 2, 3, 3, 2, 1, 3, 4, 2, 1]\n"
     ]
    }
   ],
   "source": [
    "# la cadena de caracteres es var\n",
    "# ejercicio del tp2 \n",
    "#Cree una lista l_1 que contenga los caracteres ingresados sin repetir.\n",
    "\n",
    "l_1 = []\n",
    "\n",
    "for i in var:\n",
    "    if i not in l_1: #si el elemento i no está en l_1 lo agrego\n",
    "        l_1.append(i)\n",
    "\n",
    "print(l_1)\n",
    "\n",
    "# Cree otra lista l_2 que contenga la cantidad de veces que se repite cada caracter. Por ejemplo si se\n",
    "# ingresó \"papa frita” l1 = ['p', 'a', ' ', 'f', 'r', 'i', 't'] y l2 = [2, 3, 1, 1, 1, 1, 1]\n",
    "\n",
    "l_2 = []\n",
    "for i in l_1:\n",
    "    contador = 0\n",
    "    for j in var:\n",
    "        if i == j:\n",
    "            contador += 1\n",
    "    l_2.append(contador)\n",
    "\n",
    "print(l_2)"
   ]
  },
  {
   "cell_type": "code",
   "execution_count": 23,
   "id": "dc586ec8-b919-4642-b337-0dfab62add79",
   "metadata": {},
   "outputs": [
    {
     "data": {
      "text/plain": [
       "False"
      ]
     },
     "execution_count": 23,
     "metadata": {},
     "output_type": "execute_result"
    }
   ],
   "source": [
    "'a' not in 'abc'"
   ]
  },
  {
   "cell_type": "code",
   "execution_count": 41,
   "id": "22821042-bb1d-41c4-9e2d-acb133be8a1f",
   "metadata": {},
   "outputs": [
    {
     "name": "stdout",
     "output_type": "stream",
     "text": [
      "    *\n",
      "   ***\n",
      "  *****\n",
      " *******\n"
     ]
    }
   ],
   "source": [
    "# eje 32 tp1: pirámide de asteriscos\n",
    "\n",
    "#1      *\n",
    "#2     ***\n",
    "#3    *****\n",
    "#4   *******\n",
    "#5  *********\n",
    "#6 ***********\n",
    "\n",
    "n=4\n",
    "for i in range(n):   #niveles o pisos de la pirámide\n",
    "    for j in range(n - i):\n",
    "        print(' ', end='')\n",
    "    print('*', end='')\n",
    "    for j in range(2*i):\n",
    "        print('*', end='')\n",
    "    print()\n"
   ]
  },
  {
   "cell_type": "code",
   "execution_count": 42,
   "id": "74f0fbad-dfd5-407a-9d87-72f52784a19f",
   "metadata": {},
   "outputs": [
    {
     "name": "stdout",
     "output_type": "stream",
     "text": [
      "[[1, 2, 3], [4, 5, 6], [7, 8, 9]]\n"
     ]
    }
   ],
   "source": [
    "mat = [[1, 2, 3],[4, 5, 6],[7, 8, 9]]\n",
    "print(mat)"
   ]
  },
  {
   "cell_type": "code",
   "execution_count": 50,
   "id": "efff3a67-5e7a-4823-aeba-3730c4b7a573",
   "metadata": {},
   "outputs": [
    {
     "name": "stdout",
     "output_type": "stream",
     "text": [
      "1 2 3 \n",
      "4 5 6 \n",
      "7 8 9 \n"
     ]
    }
   ],
   "source": [
    "#impresión de una matriz\n",
    "for fila in mat:\n",
    "    for elem in fila:\n",
    "        print(elem, end=' ')\n",
    "    print()"
   ]
  },
  {
   "cell_type": "code",
   "execution_count": 52,
   "id": "1136c1b3-3583-48f2-be5e-f19facc6b4f3",
   "metadata": {},
   "outputs": [
    {
     "name": "stdout",
     "output_type": "stream",
     "text": [
      "1   2   3   \n",
      "4   5   6   \n",
      "7   8   9   \n"
     ]
    }
   ],
   "source": [
    "# otra manera más intuitiva\n",
    "for i in range(3):\n",
    "    for j in range(3):\n",
    "        print(mat[i][j], end='   ')\n",
    "    print()"
   ]
  },
  {
   "cell_type": "code",
   "execution_count": 69,
   "id": "10481144-e388-4a81-a042-e7d652ce0360",
   "metadata": {},
   "outputs": [
    {
     "name": "stdout",
     "output_type": "stream",
     "text": [
      "el número más repetido es el 39\n",
      "se repite desde la opsición 8\n",
      "y la última aparición es en el índice 10\n"
     ]
    }
   ],
   "source": [
    "#Escriba un programa que compute el índice de comienzo y final de la meseta más\n",
    "#larga de una lista de números. Una meseta es una sublista de números iguales.\n",
    "#Ejemplo: entrada: [1,3,3,1,1,7,7,7,7,4,5,5,4,4,4] - salida: [5, 9] (recordar que siempre\n",
    "#consideramos los rangos con el límite superior no inclusive)\n",
    "\n",
    "lista = [1, 2, 6, 2, 4, 4, 7, 12, 39, 39, 39, 38, 39]\n",
    "\n",
    "aux = -1  # tengo que arrancar con alguna, preferentemente una que no pertenezca a la lista\n",
    "cont = 0\n",
    "max_cont = 0\n",
    "elemento_rep = -1\n",
    "for i in lista:\n",
    "    if i == aux:# i es igual a aux??\n",
    "        cont += 1\n",
    "    else:\n",
    "        cont = 0\n",
    "    if cont > max_cont:\n",
    "        max_cont = cont\n",
    "        elemento_rep = i\n",
    "      \n",
    "    aux = i   # me la acuerdo para la próxima\n",
    "#    print(i, 'contador = ', cont, 'max_cont', max_cont, 'más repetido',elemento_rep)\n",
    "print('el número más repetido es el', elemento_rep)\n",
    "print('se repite desde la opsición', lista.index(elemento_rep))\n",
    "print('y la última aparición es en el índice', lista.index(elemento_rep) + max_cont)\n"
   ]
  },
  {
   "cell_type": "code",
   "execution_count": null,
   "id": "e32561a0-cb63-4702-aa86-1e010bf5236d",
   "metadata": {},
   "outputs": [],
   "source": []
  },
  {
   "cell_type": "code",
   "execution_count": null,
   "id": "31bf655b-9f3c-4ab9-a764-3a876d01219b",
   "metadata": {},
   "outputs": [],
   "source": []
  }
 ],
 "metadata": {
  "kernelspec": {
   "display_name": "Python 3 (ipykernel)",
   "language": "python",
   "name": "python3"
  },
  "language_info": {
   "codemirror_mode": {
    "name": "ipython",
    "version": 3
   },
   "file_extension": ".py",
   "mimetype": "text/x-python",
   "name": "python",
   "nbconvert_exporter": "python",
   "pygments_lexer": "ipython3",
   "version": "3.12.3"
  }
 },
 "nbformat": 4,
 "nbformat_minor": 5
}
