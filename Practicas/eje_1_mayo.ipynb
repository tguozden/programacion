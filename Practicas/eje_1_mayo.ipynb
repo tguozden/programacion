{
 "cells": [
  {
   "cell_type": "markdown",
   "id": "fd27f771-7641-4bcf-836b-4d3aabf48084",
   "metadata": {},
   "source": [
    "### Función contraseña\n",
    "Crear una función que tome un argumento string y chequee que cumpla con\n",
    "los requisitos de contraseña:\n",
    "- chequear que se ingresó una variable de tipo string\n",
    "- chequear que tenga al menos 8 carateres\n",
    "- chequear que no tenga espacios\n",
    "- chequear que tenga al menos una mayúscula y una minúscula\n",
    "- chequear que tenga al menos un número\n",
    "- pedir al usuario que vuelva a ingresar la contraseña y chequear compatibilidad\n"
   ]
  },
  {
   "cell_type": "code",
   "execution_count": 4,
   "id": "4cbd6295-72a6-4581-aa89-d4914e260fcd",
   "metadata": {},
   "outputs": [],
   "source": [
    "# ejemplo de cómo chequear \n",
    "# que se ingresó una \n",
    "# cadena de caracteres (string)\n",
    "\n",
    "def ingrese_cadena(cadena):\n",
    "    if not isinstance(cadena, str):\n",
    "        print('ud ingresó una variable de tipo', type(cadena))\n",
    "        print('debe ingresar una cadena de caracteres')\n",
    "    else:\n",
    "        print('ingresó', cadena)\n",
    "# sin usar isinstance()\n",
    "def ingrese_cadena2(cadena):\n",
    "    if type(cadena) != type('cadena'): \n",
    "        print('ud ingresó una variable de tipo', type(cadena))\n",
    "        print('debe ingresar una cadena de caracteres')\n",
    "    else:\n",
    "        print('ingresó', cadena)\n",
    "        \n",
    "# comparen ambas versiones, cuál les parece más fácil de entender?"
   ]
  },
  {
   "cell_type": "code",
   "execution_count": 6,
   "id": "1399f83a-7a5e-4b1a-b34e-bb3b3c72c73b",
   "metadata": {},
   "outputs": [
    {
     "name": "stdout",
     "output_type": "stream",
     "text": [
      "ud ingresó una variable de tipo <class 'int'>\n",
      "debe ingresar una cadena de caracteres\n",
      "-------------\n",
      "ud ingresó una variable de tipo <class 'float'>\n",
      "debe ingresar una cadena de caracteres\n",
      "-------------\n",
      "ud ingresó una variable de tipo <class 'list'>\n",
      "debe ingresar una cadena de caracteres\n",
      "-------------\n",
      "ud ingresó una variable de tipo <class 'tuple'>\n",
      "debe ingresar una cadena de caracteres\n",
      "-------------\n",
      "ud ingresó una variable de tipo <class 'dict'>\n",
      "debe ingresar una cadena de caracteres\n",
      "-------------\n",
      "ud ingresó una variable de tipo <class 'set'>\n",
      "debe ingresar una cadena de caracteres\n",
      "-------------\n",
      "ingresó hola mundo!\n"
     ]
    }
   ],
   "source": [
    "# pruebo:\n",
    "ingrese_cadena( 1 )\n",
    "print('-------------')\n",
    "ingrese_cadena( 1.0 )\n",
    "print('-------------')\n",
    "ingrese_cadena( [] )\n",
    "print('-------------')\n",
    "ingrese_cadena( () )\n",
    "print('-------------')\n",
    "ingrese_cadena( dict() )\n",
    "print('-------------')\n",
    "ingrese_cadena( set() )\n",
    "print('-------------')\n",
    "ingrese_cadena( 'hola mundo!' )"
   ]
  },
  {
   "cell_type": "code",
   "execution_count": null,
   "id": "fa909acc-213b-46f5-aab8-a066e1d95515",
   "metadata": {},
   "outputs": [],
   "source": []
  }
 ],
 "metadata": {
  "kernelspec": {
   "display_name": "Python 3 (ipykernel)",
   "language": "python",
   "name": "python3"
  },
  "language_info": {
   "codemirror_mode": {
    "name": "ipython",
    "version": 3
   },
   "file_extension": ".py",
   "mimetype": "text/x-python",
   "name": "python",
   "nbconvert_exporter": "python",
   "pygments_lexer": "ipython3",
   "version": "3.12.3"
  }
 },
 "nbformat": 4,
 "nbformat_minor": 5
}
