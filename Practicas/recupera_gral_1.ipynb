{
 "cells": [
  {
   "cell_type": "code",
   "execution_count": 9,
   "id": "250d355c-84f9-46ab-8654-e746e44f2e8b",
   "metadata": {},
   "outputs": [],
   "source": [
    "def juli(cadena: str) -> dict:\n",
    "    '''esta es una ayudita\n",
    "       de la función'''\n",
    "    dicc = dict()\n",
    "    # cont = 0\n",
    "    for cont, letra in enumerate(cadena):\n",
    "        dicc[cont] = letra\n",
    "        # cont += 1\n",
    "    return dicc\n",
    "      \n",
    "    "
   ]
  },
  {
   "cell_type": "code",
   "execution_count": 10,
   "id": "2a6de5d5-63d9-4ffd-852d-0db1fcd4b663",
   "metadata": {},
   "outputs": [
    {
     "data": {
      "text/plain": [
       "{0: 'm', 1: 'a', 2: 'r', 3: 't', 4: 'e', 5: 's'}"
      ]
     },
     "execution_count": 10,
     "metadata": {},
     "output_type": "execute_result"
    }
   ],
   "source": [
    "juli('martes')"
   ]
  },
  {
   "cell_type": "code",
   "execution_count": 28,
   "id": "363d61ec-593a-46f0-bdff-727270026b6e",
   "metadata": {},
   "outputs": [
    {
     "data": {
      "text/plain": [
       "'hola'"
      ]
     },
     "execution_count": 28,
     "metadata": {},
     "output_type": "execute_result"
    }
   ],
   "source": [
    "def rami(diccio: dict) -> str:\n",
    "    # palabra = ''\n",
    "    n = len(diccio)\n",
    "    lista = list(range(4))\n",
    "    for clave in diccio:\n",
    "        # palabra = palabra + diccio[clave]\n",
    "        lista[clave] = diccio[clave]\n",
    "    return ''.join(lista)\n",
    "    \n",
    "rami( juli('hola') )\n",
    "\n",
    "    "
   ]
  },
  {
   "cell_type": "code",
   "execution_count": 27,
   "id": "a3ad5d82-ee18-407e-ac49-b86301eec111",
   "metadata": {},
   "outputs": [
    {
     "data": {
      "text/plain": [
       "['h', 'o', 'l', 'a']"
      ]
     },
     "execution_count": 27,
     "metadata": {},
     "output_type": "execute_result"
    }
   ],
   "source": [
    "falla = {1:'o', 2: 'l', 3: 'a', 0:'h'}\n",
    "rami(falla)"
   ]
  },
  {
   "cell_type": "code",
   "execution_count": 20,
   "id": "9db4a46d-ee5e-499d-8601-a5e0e8ade27b",
   "metadata": {},
   "outputs": [
    {
     "data": {
      "text/plain": [
       "4"
      ]
     },
     "execution_count": 20,
     "metadata": {},
     "output_type": "execute_result"
    }
   ],
   "source": [
    "len(falla)"
   ]
  },
  {
   "cell_type": "code",
   "execution_count": 23,
   "id": "a5eb1bf8-bc58-4d13-bf11-d87534384810",
   "metadata": {},
   "outputs": [
    {
     "data": {
      "text/plain": [
       "[0, 1]"
      ]
     },
     "execution_count": 23,
     "metadata": {},
     "output_type": "execute_result"
    }
   ],
   "source": [
    "list(range(2))"
   ]
  },
  {
   "cell_type": "code",
   "execution_count": null,
   "id": "fbfb41ba-5ea9-4d2f-8b5d-986cbcc35023",
   "metadata": {},
   "outputs": [],
   "source": []
  }
 ],
 "metadata": {
  "kernelspec": {
   "display_name": "Python 3 (ipykernel)",
   "language": "python",
   "name": "python3"
  },
  "language_info": {
   "codemirror_mode": {
    "name": "ipython",
    "version": 3
   },
   "file_extension": ".py",
   "mimetype": "text/x-python",
   "name": "python",
   "nbconvert_exporter": "python",
   "pygments_lexer": "ipython3",
   "version": "3.12.3"
  }
 },
 "nbformat": 4,
 "nbformat_minor": 5
}
