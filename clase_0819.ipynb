{
 "cells": [
  {
   "cell_type": "code",
   "execution_count": 1,
   "id": "945eecc4-8635-4c37-ac74-5c73c6a50e33",
   "metadata": {},
   "outputs": [],
   "source": [
    "import datetime\n",
    "# otra opcion es from datetime import datetime (si uso fecha y hora)"
   ]
  },
  {
   "cell_type": "code",
   "execution_count": 2,
   "id": "c5475c9f-0494-4f20-b7d2-dd5c3340920a",
   "metadata": {},
   "outputs": [
    {
     "data": {
      "text/plain": [
       "datetime.date(2025, 8, 19)"
      ]
     },
     "execution_count": 2,
     "metadata": {},
     "output_type": "execute_result"
    }
   ],
   "source": [
    "datetime.date.today()"
   ]
  },
  {
   "cell_type": "code",
   "execution_count": 8,
   "id": "e69b9f0b-c2be-412a-9064-80e9c1d4cdcb",
   "metadata": {},
   "outputs": [],
   "source": [
    "diayhora = datetime.datetime.now()"
   ]
  },
  {
   "cell_type": "code",
   "execution_count": 9,
   "id": "746a6d55-d78f-46f8-ac23-d7e9885d205f",
   "metadata": {},
   "outputs": [
    {
     "data": {
      "text/plain": [
       "'Hoy es 19 de 08 de 2025'"
      ]
     },
     "execution_count": 9,
     "metadata": {},
     "output_type": "execute_result"
    }
   ],
   "source": [
    "diayhora.strftime(\"Hoy es %d de %m de %Y\")"
   ]
  },
  {
   "cell_type": "code",
   "execution_count": 10,
   "id": "1a12f290-2e9f-4a69-9711-627b890d151c",
   "metadata": {},
   "outputs": [
    {
     "data": {
      "text/plain": [
       "19"
      ]
     },
     "execution_count": 10,
     "metadata": {},
     "output_type": "execute_result"
    }
   ],
   "source": [
    "diayhora.day"
   ]
  },
  {
   "cell_type": "code",
   "execution_count": 11,
   "id": "5f1835ec-f506-4161-9f10-7587a0029976",
   "metadata": {},
   "outputs": [
    {
     "data": {
      "text/plain": [
       "2025"
      ]
     },
     "execution_count": 11,
     "metadata": {},
     "output_type": "execute_result"
    }
   ],
   "source": [
    "diayhora.year"
   ]
  },
  {
   "cell_type": "code",
   "execution_count": 13,
   "id": "b5f82188-1c26-4887-a6ee-2b1d674dbace",
   "metadata": {},
   "outputs": [],
   "source": [
    "pandemia = datetime.datetime.strptime(\"2020/03/01\",\"%Y/%m/%d\")"
   ]
  },
  {
   "cell_type": "code",
   "execution_count": 14,
   "id": "a3012f5e-991f-423c-80a4-57189b76a378",
   "metadata": {},
   "outputs": [
    {
     "name": "stdout",
     "output_type": "stream",
     "text": [
      "2020-03-01 00:00:00\n"
     ]
    }
   ],
   "source": [
    "print(pandemia)"
   ]
  },
  {
   "cell_type": "code",
   "execution_count": 16,
   "id": "13c1a1bb-ca51-421e-8ecc-a24953099794",
   "metadata": {},
   "outputs": [],
   "source": [
    "nsegundos = pandemia.timestamp()"
   ]
  },
  {
   "cell_type": "code",
   "execution_count": 17,
   "id": "820ba168-212e-4d00-9dc6-b7997642d203",
   "metadata": {},
   "outputs": [
    {
     "data": {
      "text/plain": [
       "float"
      ]
     },
     "execution_count": 17,
     "metadata": {},
     "output_type": "execute_result"
    }
   ],
   "source": [
    "type(nsegundos)"
   ]
  },
  {
   "cell_type": "code",
   "execution_count": 21,
   "id": "d1eff736-f2ac-4648-a42b-f631485358ec",
   "metadata": {},
   "outputs": [
    {
     "data": {
      "text/plain": [
       "50.17011226725082"
      ]
     },
     "execution_count": 21,
     "metadata": {},
     "output_type": "execute_result"
    }
   ],
   "source": [
    "nsegundos/60/60/24/365.2"
   ]
  },
  {
   "cell_type": "code",
   "execution_count": 22,
   "id": "f1a5f944-ef94-4e3d-b83e-43eae347a518",
   "metadata": {},
   "outputs": [
    {
     "name": "stdout",
     "output_type": "stream",
     "text": [
      "2025-08-19 13:25:44.665753\n"
     ]
    }
   ],
   "source": [
    "ahora = datetime.datetime.now()\n",
    "print(ahora)"
   ]
  },
  {
   "cell_type": "code",
   "execution_count": 24,
   "id": "436748d2-e3e6-4243-b65b-e003e57356e9",
   "metadata": {},
   "outputs": [
    {
     "name": "stdout",
     "output_type": "stream",
     "text": [
      "2025-08-19 13:26:06.877255\n"
     ]
    }
   ],
   "source": [
    "alrato = datetime.datetime.now()\n",
    "print(alrato)"
   ]
  },
  {
   "cell_type": "code",
   "execution_count": 27,
   "id": "9c31a33c-8e1c-4894-b3ef-122857ee11cf",
   "metadata": {},
   "outputs": [
    {
     "name": "stdout",
     "output_type": "stream",
     "text": [
      "False\n"
     ]
    }
   ],
   "source": [
    "print(alrato == ahora)"
   ]
  },
  {
   "cell_type": "code",
   "execution_count": 28,
   "id": "95d6e0e3-c923-4e2a-8c69-cb2806605b07",
   "metadata": {},
   "outputs": [
    {
     "ename": "TypeError",
     "evalue": "unsupported operand type(s) for +: 'datetime.datetime' and 'datetime.datetime'",
     "output_type": "error",
     "traceback": [
      "\u001b[0;31m---------------------------------------------------------------------------\u001b[0m",
      "\u001b[0;31mTypeError\u001b[0m                                 Traceback (most recent call last)",
      "Cell \u001b[0;32mIn[28], line 1\u001b[0m\n\u001b[0;32m----> 1\u001b[0m \u001b[43malrato\u001b[49m\u001b[43m \u001b[49m\u001b[38;5;241;43m+\u001b[39;49m\u001b[43m \u001b[49m\u001b[43mahora\u001b[49m\n",
      "\u001b[0;31mTypeError\u001b[0m: unsupported operand type(s) for +: 'datetime.datetime' and 'datetime.datetime'"
     ]
    }
   ],
   "source": [
    "alrato + ahora  # no tiene sentido y por eso falla"
   ]
  },
  {
   "cell_type": "code",
   "execution_count": 31,
   "id": "74893a8e-3389-4079-a0de-06eb29624967",
   "metadata": {},
   "outputs": [
    {
     "name": "stdout",
     "output_type": "stream",
     "text": [
      "0:00:22.211502\n"
     ]
    }
   ],
   "source": [
    "intervalo = alrato - ahora\n",
    "print(intervalo)"
   ]
  },
  {
   "cell_type": "code",
   "execution_count": 33,
   "id": "a5d24b8b-30c6-426d-8630-aa7e5a730502",
   "metadata": {},
   "outputs": [
    {
     "data": {
      "text/plain": [
       "True"
      ]
     },
     "execution_count": 33,
     "metadata": {},
     "output_type": "execute_result"
    }
   ],
   "source": [
    "ahora + intervalo == alrato"
   ]
  },
  {
   "cell_type": "code",
   "execution_count": 40,
   "id": "c488eeaf-7ef4-4972-9407-d6de5bb40652",
   "metadata": {},
   "outputs": [
    {
     "data": {
      "text/plain": [
       "0"
      ]
     },
     "execution_count": 40,
     "metadata": {},
     "output_type": "execute_result"
    }
   ],
   "source": [
    "datetime.datetime(2026,1,5).weekday()"
   ]
  },
  {
   "cell_type": "code",
   "execution_count": 48,
   "id": "46094e28-6d70-40ed-9f92-30368b537909",
   "metadata": {},
   "outputs": [],
   "source": [
    "int_semana = datetime.timedelta(weeks=1)"
   ]
  },
  {
   "cell_type": "code",
   "execution_count": 47,
   "id": "ef00e11f-1750-4cb9-b5fd-0f5dd9dde4ef",
   "metadata": {},
   "outputs": [
    {
     "data": {
      "text/plain": [
       "0"
      ]
     },
     "execution_count": 47,
     "metadata": {},
     "output_type": "execute_result"
    }
   ],
   "source": [
    "primerdomingo = datetime.datetime(2026,1,5)\n",
    "primerdomingo.weekday()"
   ]
  },
  {
   "cell_type": "code",
   "execution_count": 49,
   "id": "7358913c-43c4-4123-a9b9-1ea463345a93",
   "metadata": {},
   "outputs": [
    {
     "data": {
      "text/plain": [
       "datetime.datetime(2026, 1, 12, 0, 0)"
      ]
     },
     "execution_count": 49,
     "metadata": {},
     "output_type": "execute_result"
    }
   ],
   "source": [
    "primerdomingo + int_semana"
   ]
  },
  {
   "cell_type": "code",
   "execution_count": 50,
   "id": "658f4025-baf7-47f8-b545-9163998f0371",
   "metadata": {},
   "outputs": [],
   "source": [
    "lista_domingos=[primerdomingo]\n",
    "while(1):\n",
    "    siguientedomingo = lista_domingos[-1] + int_semana\n",
    "    if siguientedomingo.year ==2026:\n",
    "        lista_domingos.append(siguientedomingo)\n",
    "    else:\n",
    "        break\n",
    "    "
   ]
  },
  {
   "cell_type": "code",
   "execution_count": 52,
   "id": "0f2fb9ab-af0b-496f-9e28-a7449befd762",
   "metadata": {},
   "outputs": [
    {
     "data": {
      "text/plain": [
       "52"
      ]
     },
     "execution_count": 52,
     "metadata": {},
     "output_type": "execute_result"
    }
   ],
   "source": [
    "len(lista_domingos)"
   ]
  },
  {
   "cell_type": "code",
   "execution_count": 53,
   "id": "e943ebb9-2b9e-490e-b107-ca2cba3cdea8",
   "metadata": {},
   "outputs": [
    {
     "data": {
      "text/plain": [
       "364"
      ]
     },
     "execution_count": 53,
     "metadata": {},
     "output_type": "execute_result"
    }
   ],
   "source": [
    "52*7"
   ]
  },
  {
   "cell_type": "code",
   "execution_count": 57,
   "id": "6d689641-eabd-4a79-8aed-7e263a56ca1a",
   "metadata": {},
   "outputs": [
    {
     "name": "stdout",
     "output_type": "stream",
     "text": [
      "Help on built-in function strptime:\n",
      "\n",
      "strptime(...) class method of datetime.datetime\n",
      "    string, format -> new datetime parsed from a string (like time.strptime()).\n",
      "\n"
     ]
    }
   ],
   "source": [
    "help(datetime.datetime.strptime)"
   ]
  },
  {
   "cell_type": "code",
   "execution_count": 59,
   "id": "359972e2-5f70-4651-898b-7bf50df37019",
   "metadata": {},
   "outputs": [
    {
     "ename": "NameError",
     "evalue": "name 'strftime' is not defined",
     "output_type": "error",
     "traceback": [
      "\u001b[0;31m---------------------------------------------------------------------------\u001b[0m",
      "\u001b[0;31mNameError\u001b[0m                                 Traceback (most recent call last)",
      "Cell \u001b[0;32mIn[59], line 1\u001b[0m\n\u001b[0;32m----> 1\u001b[0m help(\u001b[43mstrftime\u001b[49m)\n",
      "\u001b[0;31mNameError\u001b[0m: name 'strftime' is not defined"
     ]
    }
   ],
   "source": []
  },
  {
   "cell_type": "code",
   "execution_count": null,
   "id": "a00baba7-cdda-4e94-bd27-8c28e6c10c61",
   "metadata": {},
   "outputs": [],
   "source": []
  }
 ],
 "metadata": {
  "kernelspec": {
   "display_name": "Python 3 (ipykernel)",
   "language": "python",
   "name": "python3"
  },
  "language_info": {
   "codemirror_mode": {
    "name": "ipython",
    "version": 3
   },
   "file_extension": ".py",
   "mimetype": "text/x-python",
   "name": "python",
   "nbconvert_exporter": "python",
   "pygments_lexer": "ipython3",
   "version": "3.12.3"
  }
 },
 "nbformat": 4,
 "nbformat_minor": 5
}
