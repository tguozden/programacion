{
 "cells": [
  {
   "cell_type": "code",
   "execution_count": 1,
   "id": "dc8091ac-1c0a-4fa5-9dda-d72365626810",
   "metadata": {},
   "outputs": [
    {
     "name": "stdout",
     "output_type": "stream",
     "text": [
      "antes [1, 2, 3]\n",
      "despues [1, 2, 3, 4, 5]\n"
     ]
    }
   ],
   "source": [
    "lista = [1, 2, 3]\n",
    "print(\"antes\", lista)\n",
    "lista.extend([4, 5])\n",
    "print(\"despues\", lista)"
   ]
  },
  {
   "cell_type": "code",
   "execution_count": 2,
   "id": "025b7068-7989-4572-8e96-2548683c519b",
   "metadata": {},
   "outputs": [
    {
     "data": {
      "text/plain": [
       "[1, 2, 3, 4, 5]"
      ]
     },
     "execution_count": 2,
     "metadata": {},
     "output_type": "execute_result"
    }
   ],
   "source": [
    "[1, 2, 3] + [4, 5]"
   ]
  },
  {
   "cell_type": "code",
   "execution_count": 3,
   "id": "28d235b0-5f48-469d-9449-698241b786c4",
   "metadata": {},
   "outputs": [
    {
     "data": {
      "text/plain": [
       "'abcdef'"
      ]
     },
     "execution_count": 3,
     "metadata": {},
     "output_type": "execute_result"
    }
   ],
   "source": [
    "'abc' + 'def'"
   ]
  },
  {
   "cell_type": "code",
   "execution_count": 5,
   "id": "dc932104-c25e-4df1-8d29-c6c7a47d9392",
   "metadata": {},
   "outputs": [
    {
     "name": "stdout",
     "output_type": "stream",
     "text": [
      "ingrese una temperatura: "
     ]
    },
    {
     "name": "stdin",
     "output_type": "stream",
     "text": [
      " 10\n"
     ]
    },
    {
     "name": "stdout",
     "output_type": "stream",
     "text": [
      "t media es:  10.0 ⁰C\n",
      "ingrese una temperatura: "
     ]
    },
    {
     "name": "stdin",
     "output_type": "stream",
     "text": [
      " 12\n"
     ]
    },
    {
     "name": "stdout",
     "output_type": "stream",
     "text": [
      "t media es:  11.0 ⁰C\n",
      "ingrese una temperatura: "
     ]
    },
    {
     "name": "stdin",
     "output_type": "stream",
     "text": [
      " 20\n"
     ]
    },
    {
     "name": "stdout",
     "output_type": "stream",
     "text": [
      "t media es:  14.0 ⁰C\n",
      "ingrese una temperatura: "
     ]
    },
    {
     "name": "stdin",
     "output_type": "stream",
     "text": [
      " 20\n"
     ]
    },
    {
     "name": "stdout",
     "output_type": "stream",
     "text": [
      "t media es:  15.5 ⁰C\n",
      "ingrese una temperatura: "
     ]
    },
    {
     "name": "stdin",
     "output_type": "stream",
     "text": [
      " 20\n"
     ]
    },
    {
     "name": "stdout",
     "output_type": "stream",
     "text": [
      "t media es:  16.4 ⁰C\n",
      "ingrese una temperatura: "
     ]
    },
    {
     "name": "stdin",
     "output_type": "stream",
     "text": [
      " 20\n"
     ]
    },
    {
     "name": "stdout",
     "output_type": "stream",
     "text": [
      "t media es:  17.0 ⁰C\n",
      "ingrese una temperatura: "
     ]
    },
    {
     "name": "stdin",
     "output_type": "stream",
     "text": [
      " 25\n"
     ]
    },
    {
     "name": "stdout",
     "output_type": "stream",
     "text": [
      "t media es:  18.142857142857142 ⁰C\n",
      "ingrese una temperatura: "
     ]
    },
    {
     "name": "stdin",
     "output_type": "stream",
     "text": [
      " 19\n"
     ]
    },
    {
     "name": "stdout",
     "output_type": "stream",
     "text": [
      "t media es:  18.25 ⁰C\n",
      "ingrese una temperatura: "
     ]
    },
    {
     "name": "stdin",
     "output_type": "stream",
     "text": [
      " 22\n"
     ]
    },
    {
     "name": "stdout",
     "output_type": "stream",
     "text": [
      "t media es:  18.666666666666668 ⁰C\n",
      "ingrese una temperatura: "
     ]
    },
    {
     "name": "stdin",
     "output_type": "stream",
     "text": [
      " 22\n"
     ]
    },
    {
     "name": "stdout",
     "output_type": "stream",
     "text": [
      "t media es:  19.0 ⁰C\n",
      "ingrese una temperatura: "
     ]
    },
    {
     "name": "stdin",
     "output_type": "stream",
     "text": [
      " 22\n"
     ]
    },
    {
     "name": "stdout",
     "output_type": "stream",
     "text": [
      "t media es:  19.272727272727273 ⁰C\n",
      "ingrese una temperatura: "
     ]
    },
    {
     "name": "stdin",
     "output_type": "stream",
     "text": [
      " 22\n"
     ]
    },
    {
     "name": "stdout",
     "output_type": "stream",
     "text": [
      "t media es:  19.5 ⁰C\n",
      "ingrese una temperatura: "
     ]
    },
    {
     "name": "stdin",
     "output_type": "stream",
     "text": [
      " 22\n"
     ]
    },
    {
     "name": "stdout",
     "output_type": "stream",
     "text": [
      "t media es:  19.692307692307693 ⁰C\n",
      "ingrese una temperatura: "
     ]
    },
    {
     "name": "stdin",
     "output_type": "stream",
     "text": [
      " 25\n"
     ]
    },
    {
     "name": "stdout",
     "output_type": "stream",
     "text": [
      "t media es:  20.071428571428573 ⁰C\n",
      "gracias por usar el programa\n"
     ]
    }
   ],
   "source": [
    "# ejercicio 37 tp1\n",
    "t_prom = 0\n",
    "suma_temp = 0\n",
    "n_ingresos = 0\n",
    "while(t_prom < 20):    \n",
    "    print(\"ingrese una temperatura: \", end = \"\")\n",
    "    T = float(input())\n",
    "    suma_temp = suma_temp + T\n",
    "    n_ingresos = n_ingresos + 1\n",
    "    t_prom = suma_temp/n_ingresos\n",
    "    print(\"t media es: \", t_prom, \"⁰C\")\n",
    "print(\"gracias por usar el programa\")\n",
    "\n",
    "\n",
    "\n",
    "\n",
    "\n"
   ]
  },
  {
   "cell_type": "code",
   "execution_count": 4,
   "id": "045151dd-d93f-4aaf-a05f-617dd7fb4b7f",
   "metadata": {},
   "outputs": [
    {
     "name": "stdout",
     "output_type": "stream",
     "text": [
      "ingrese una temperatura: "
     ]
    },
    {
     "name": "stdin",
     "output_type": "stream",
     "text": [
      " 1.0\n"
     ]
    },
    {
     "name": "stdout",
     "output_type": "stream",
     "text": [
      "usted ingresó: 1.0\n",
      "ingrese una temperatura: "
     ]
    },
    {
     "name": "stdin",
     "output_type": "stream",
     "text": [
      " 5.0\n"
     ]
    },
    {
     "name": "stdout",
     "output_type": "stream",
     "text": [
      "usted ingresó: 5.0\n",
      "ingrese una temperatura: "
     ]
    },
    {
     "name": "stdin",
     "output_type": "stream",
     "text": [
      " 6.0\n"
     ]
    },
    {
     "name": "stdout",
     "output_type": "stream",
     "text": [
      "usted ingresó: 6.0\n",
      "ingrese una temperatura: "
     ]
    },
    {
     "name": "stdin",
     "output_type": "stream",
     "text": [
      " 11\n"
     ]
    },
    {
     "name": "stdout",
     "output_type": "stream",
     "text": [
      "usted ingresó: 11.0\n",
      "ingrese una temperatura: "
     ]
    },
    {
     "name": "stdin",
     "output_type": "stream",
     "text": [
      " 18\n"
     ]
    },
    {
     "name": "stdout",
     "output_type": "stream",
     "text": [
      "usted ingresó: 18.0\n",
      "ingrese una temperatura: "
     ]
    },
    {
     "name": "stdin",
     "output_type": "stream",
     "text": [
      " 19.9\n"
     ]
    },
    {
     "name": "stdout",
     "output_type": "stream",
     "text": [
      "usted ingresó: 19.9\n",
      "ingrese una temperatura: "
     ]
    },
    {
     "name": "stdin",
     "output_type": "stream",
     "text": [
      " 20\n"
     ]
    },
    {
     "name": "stdout",
     "output_type": "stream",
     "text": [
      "usted ingresó: 20.0\n"
     ]
    }
   ],
   "source": [
    "# problema pertinente más fácil \n",
    "# escriba un programa que pida al usuario temperaturas y las imprima\n",
    "# el programa seguirá funcionando mientras las temperaturas sean menor a 20⁰C\n",
    "\n",
    "T = 0\n",
    "while(T<20):\n",
    "    print(\"ingrese una temperatura: \", end = \"\")\n",
    "    T = float(input())\n",
    "    print(\"usted ingresó:\",T)\n",
    "print(\"gracias por usar este programa\")"
   ]
  },
  {
   "cell_type": "code",
   "execution_count": null,
   "id": "cc6552ca-36a6-4349-aaa6-83197000a0b3",
   "metadata": {},
   "outputs": [],
   "source": [
    "# ejercicio 26 tp1\n",
    "# Docena de la Ruleta: Escribe un programa que, dado un número entre 1 y 36, \n",
    "# indique a qué docenapertenece (1–12, 13–24 o 25–36).\n",
    "# usando solamente comparadores y condionales\n",
    "\n",
    "\n",
    "print(\"ingrese un número del 1 al 36 ambos inclusive\")\n",
    "n = int(input())\n",
    "if n >= 1 and n <= 12:\n",
    "    print(n, \"está en la primera docena\")\n",
    "elif n >= 13 and n <= 24:\n",
    "    print(n, \"está en la segunda docena\")\n",
    "elif n >= 25 and n <= 36:\n",
    "    print(n, \"está en la tercera docena\")\n",
    "else:\n",
    "    print(n, \"no poertenece al intervalo [1, 36]\")"
   ]
  },
  {
   "cell_type": "code",
   "execution_count": 2,
   "id": "114c1cc6-2d59-4808-a984-bd55ece3d97a",
   "metadata": {},
   "outputs": [
    {
     "name": "stdout",
     "output_type": "stream",
     "text": [
      "ingrese un número del 1 al 36 ambos inclusive\n"
     ]
    },
    {
     "name": "stdin",
     "output_type": "stream",
     "text": [
      " 1\n"
     ]
    },
    {
     "name": "stdout",
     "output_type": "stream",
     "text": [
      "1 está en la primera docena\n",
      "ingrese un número del 1 al 36 ambos inclusive\n"
     ]
    },
    {
     "name": "stdin",
     "output_type": "stream",
     "text": [
      " 4\n"
     ]
    },
    {
     "name": "stdout",
     "output_type": "stream",
     "text": [
      "4 está en la primera docena\n",
      "ingrese un número del 1 al 36 ambos inclusive\n"
     ]
    },
    {
     "name": "stdin",
     "output_type": "stream",
     "text": [
      " 23\n"
     ]
    },
    {
     "name": "stdout",
     "output_type": "stream",
     "text": [
      "23 está en la segunda docena\n",
      "ingrese un número del 1 al 36 ambos inclusive\n"
     ]
    },
    {
     "name": "stdin",
     "output_type": "stream",
     "text": [
      " 30\n"
     ]
    },
    {
     "name": "stdout",
     "output_type": "stream",
     "text": [
      "30 está en la tercera docena\n",
      "ingrese un número del 1 al 36 ambos inclusive\n"
     ]
    },
    {
     "name": "stdin",
     "output_type": "stream",
     "text": [
      " 30\n"
     ]
    },
    {
     "name": "stdout",
     "output_type": "stream",
     "text": [
      "30 está en la tercera docena\n",
      "ingrese un número del 1 al 36 ambos inclusive\n"
     ]
    },
    {
     "name": "stdin",
     "output_type": "stream",
     "text": [
      " 36\n"
     ]
    },
    {
     "name": "stdout",
     "output_type": "stream",
     "text": [
      "36 está en la tercera docena\n",
      "ingrese un número del 1 al 36 ambos inclusive\n"
     ]
    },
    {
     "name": "stdin",
     "output_type": "stream",
     "text": [
      " 37\n"
     ]
    },
    {
     "name": "stdout",
     "output_type": "stream",
     "text": [
      "gracias por usar el programa\n"
     ]
    }
   ],
   "source": [
    "#extender el programa para que repita el pedido mientras el número sea una de las tres docenas\n",
    "n = 1\n",
    "while(n >= 1 and n <=36):\n",
    "    print(\"ingrese un número del 1 al 36 ambos inclusive\")\n",
    "    n = int(input())\n",
    "    if n >= 1 and n <= 12:\n",
    "        print(n, \"está en la primera docena\")\n",
    "    elif n >= 13 and n <= 24:\n",
    "        print(n, \"está en la segunda docena\")\n",
    "    elif n >= 25 and n <= 36:\n",
    "        print(n, \"está en la tercera docena\")\n",
    "    \n",
    "print(\"gracias por usar el programa\")"
   ]
  },
  {
   "cell_type": "markdown",
   "id": "3d05268c-d3c5-4638-87c8-32d0b133d7cd",
   "metadata": {},
   "source": [
    "# función para chequear variables y sus tipos"
   ]
  },
  {
   "cell_type": "code",
   "execution_count": 10,
   "id": "40419d65-e295-4a95-9dad-343517396adb",
   "metadata": {},
   "outputs": [
    {
     "ename": "NameError",
     "evalue": "name 'unaquenocree' is not defined",
     "output_type": "error",
     "traceback": [
      "\u001b[0;31m---------------------------------------------------------------------------\u001b[0m",
      "\u001b[0;31mNameError\u001b[0m                                 Traceback (most recent call last)",
      "Cell \u001b[0;32mIn[10], line 2\u001b[0m\n\u001b[1;32m      1\u001b[0m n \u001b[38;5;241m=\u001b[39m \u001b[38;5;241m1.0\u001b[39m\n\u001b[0;32m----> 2\u001b[0m \u001b[38;5;28misinstance\u001b[39m(\u001b[43munaquenocree\u001b[49m, \u001b[38;5;28mfloat\u001b[39m)\n",
      "\u001b[0;31mNameError\u001b[0m: name 'unaquenocree' is not defined"
     ]
    }
   ],
   "source": [
    "n = 1.0\n",
    "isinstance(unaquenocree, float)"
   ]
  },
  {
   "cell_type": "code",
   "execution_count": 12,
   "id": "e36b6252-d7a1-42a0-acb9-0f6f4b558bdc",
   "metadata": {},
   "outputs": [
    {
     "name": "stdout",
     "output_type": "stream",
     "text": [
      "[1.0, 1.3, 0.67]\n"
     ]
    }
   ],
   "source": [
    "lista = [1, 1.0, 1.3, 'hola mundo', 0.67, [1, 2, 3]]\n",
    "# # ejercicio crear una nueva lista que contenga solo los elementos flotantes de esta lista\n",
    "nuevalista = []\n",
    "for i in lista:\n",
    "    if isinstance(i, float):\n",
    "        nuevalista.append(i)\n",
    "\n",
    "print(nuevalista)"
   ]
  },
  {
   "cell_type": "code",
   "execution_count": 13,
   "id": "78d178ad-8820-4b40-89f6-42223294b0be",
   "metadata": {},
   "outputs": [
    {
     "name": "stdout",
     "output_type": "stream",
     "text": [
      "0 i%2 es:  0\n",
      "1 i%2 es:  1\n",
      "2 i%2 es:  0\n",
      "3 i%2 es:  1\n",
      "4 i%2 es:  0\n",
      "5 i%2 es:  1\n",
      "6 i%2 es:  0\n",
      "7 i%2 es:  1\n",
      "8 i%2 es:  0\n",
      "9 i%2 es:  1\n"
     ]
    }
   ],
   "source": [
    "for i in range(10):\n",
    "    print(i, \"i%2 es: \", i%2)"
   ]
  },
  {
   "cell_type": "code",
   "execution_count": 15,
   "id": "e70d4bd8-68d9-486b-a11c-55628a56e8bb",
   "metadata": {},
   "outputs": [
    {
     "name": "stdout",
     "output_type": "stream",
     "text": [
      "[0, 2, 4, 6, 8, 10, 12, 14, 16, 18, 20]\n"
     ]
    }
   ],
   "source": [
    "# problema 1b TP2\n",
    "n = 0\n",
    "lista = []\n",
    "while(n <= 20):\n",
    "    lista.append(n)\n",
    "    n = n + 2\n",
    "print(lista)"
   ]
  },
  {
   "cell_type": "code",
   "execution_count": 17,
   "id": "6a30c7b8-8bec-44f1-9976-c3e240f9a8c6",
   "metadata": {},
   "outputs": [
    {
     "name": "stdout",
     "output_type": "stream",
     "text": [
      "[0, 2, 4, 6, 8, 10, 12, 14, 16, 18, 20]\n"
     ]
    }
   ],
   "source": [
    "lista = [0]\n",
    "while(len(lista) < 11):\n",
    "    lista.append( lista[-1] + 2)\n",
    "\n",
    "print(lista)\n",
    "    "
   ]
  },
  {
   "cell_type": "markdown",
   "id": "48ac7de8-723b-4935-9afa-afa55395f15b",
   "metadata": {},
   "source": [
    "# examencito online\n",
    "[while y for](https://www.w3schools.com/python/exercise.asp?x=xrcise_while_loops1)"
   ]
  },
  {
   "cell_type": "code",
   "execution_count": 18,
   "id": "2af46448-4e06-4e62-bce0-e50addf103c7",
   "metadata": {},
   "outputs": [
    {
     "name": "stdin",
     "output_type": "stream",
     "text": [
      " 1\n",
      " 2\n",
      " 5\n",
      " -2\n",
      " 0\n"
     ]
    }
   ],
   "source": [
    "# sentencias break y continue\n",
    "while(True):\n",
    "    n = int(input())\n",
    "    if n == 0:\n",
    "        break\n",
    "    else:\n",
    "        continue\n",
    "\n",
    "\n",
    "\n",
    "    "
   ]
  },
  {
   "cell_type": "code",
   "execution_count": null,
   "id": "e327fc0a-c31e-4b70-a6fd-631b198c7301",
   "metadata": {},
   "outputs": [],
   "source": []
  }
 ],
 "metadata": {
  "kernelspec": {
   "display_name": "Python 3 (ipykernel)",
   "language": "python",
   "name": "python3"
  },
  "language_info": {
   "codemirror_mode": {
    "name": "ipython",
    "version": 3
   },
   "file_extension": ".py",
   "mimetype": "text/x-python",
   "name": "python",
   "nbconvert_exporter": "python",
   "pygments_lexer": "ipython3",
   "version": "3.12.3"
  }
 },
 "nbformat": 4,
 "nbformat_minor": 5
}
