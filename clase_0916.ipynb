{
 "cells": [
  {
   "cell_type": "code",
   "execution_count": 1,
   "id": "63033478-776c-4458-8344-0da1602b4cf9",
   "metadata": {},
   "outputs": [
    {
     "name": "stdout",
     "output_type": "stream",
     "text": [
      "50F en grados es  10.0\n"
     ]
    }
   ],
   "source": [
    "def FAR2DEG(tfar):\n",
    "    tdeg = (tfar-32)/1.8\n",
    "    return tdeg\n",
    "\n",
    "print(\"50F en grados es \", FAR2DEG(50))"
   ]
  },
  {
   "cell_type": "code",
   "execution_count": 3,
   "id": "4ac7a5a1-eb31-42a0-982a-313791440cd0",
   "metadata": {},
   "outputs": [
    {
     "name": "stdout",
     "output_type": "stream",
     "text": [
      "92F en grados es  33.333333333333336\n"
     ]
    }
   ],
   "source": [
    "f2d = lambda x: (x-32)/1.8\n",
    "\n",
    "print(\"92F en grados es \", f2d(92))"
   ]
  },
  {
   "cell_type": "code",
   "execution_count": 4,
   "id": "a8872945-3439-4ea8-babb-86d6ba3d6024",
   "metadata": {},
   "outputs": [
    {
     "data": {
      "text/plain": [
       "function"
      ]
     },
     "execution_count": 4,
     "metadata": {},
     "output_type": "execute_result"
    }
   ],
   "source": [
    "type(f2d)"
   ]
  },
  {
   "cell_type": "code",
   "execution_count": 5,
   "id": "50922ded-72e1-4cd5-abb0-9fc6072d1372",
   "metadata": {},
   "outputs": [
    {
     "data": {
      "text/plain": [
       "function"
      ]
     },
     "execution_count": 5,
     "metadata": {},
     "output_type": "execute_result"
    }
   ],
   "source": [
    "type(FAR2DEG)"
   ]
  },
  {
   "cell_type": "code",
   "execution_count": 7,
   "id": "f89c1dc2-7204-499b-b724-e4a0c77efc49",
   "metadata": {},
   "outputs": [
    {
     "data": {
      "text/plain": [
       "[-1.1111111111111112,\n",
       " 4.444444444444445,\n",
       " 10.0,\n",
       " 15.555555555555555,\n",
       " 21.11111111111111,\n",
       " 26.666666666666664]"
      ]
     },
     "execution_count": 7,
     "metadata": {},
     "output_type": "execute_result"
    }
   ],
   "source": [
    "list(map(f2d, range(30,90,10) )) # map es un iterador"
   ]
  },
  {
   "cell_type": "code",
   "execution_count": 8,
   "id": "a4262669-1327-46af-9036-69b44388a5b5",
   "metadata": {},
   "outputs": [
    {
     "data": {
      "text/plain": [
       "[-1.1111111111111112,\n",
       " 4.444444444444445,\n",
       " 10.0,\n",
       " 15.555555555555555,\n",
       " 21.11111111111111,\n",
       " 26.666666666666664]"
      ]
     },
     "execution_count": 8,
     "metadata": {},
     "output_type": "execute_result"
    }
   ],
   "source": [
    "[(i-32)/1.8  for i in range(30,90,10)]"
   ]
  },
  {
   "cell_type": "code",
   "execution_count": null,
   "id": "b0ad652d-8407-4445-afbb-a35c70899cf1",
   "metadata": {},
   "outputs": [],
   "source": [
    "# diferencia entre un iterador y una lista\n",
    "# concreta: una tiene su espacio en memoria\n",
    "# la otra no\n",
    "# x ej: range(10) y [0,1,2,3,4,5,6,7,8,9]\n",
    "# (ambas expresiones son iterables)"
   ]
  },
  {
   "cell_type": "code",
   "execution_count": 11,
   "id": "eb09b969-51f6-4362-ad0e-bfab0a9f1130",
   "metadata": {},
   "outputs": [
    {
     "data": {
      "text/plain": [
       "[6, 7, 8, 9]"
      ]
     },
     "execution_count": 11,
     "metadata": {},
     "output_type": "execute_result"
    }
   ],
   "source": [
    "#filter( función , iterable )\n",
    "#help(filter)\n",
    "\n",
    "list(filter(lambda x: x>5   ,range(10)))"
   ]
  },
  {
   "cell_type": "code",
   "execution_count": 21,
   "id": "4f6df8dd-d11d-415c-81af-ad760b346907",
   "metadata": {},
   "outputs": [
    {
     "name": "stdout",
     "output_type": "stream",
     "text": [
      "6\n",
      "7\n"
     ]
    }
   ],
   "source": [
    "range_filtrado = filter(lambda x: x>5   ,range(10))\n",
    "print(next(range_filtrado))\n",
    "print(next(range_filtrado))"
   ]
  },
  {
   "cell_type": "code",
   "execution_count": 27,
   "id": "5c0b5b31-17c1-418a-9c0c-141b1fffec2f",
   "metadata": {},
   "outputs": [
    {
     "data": {
      "text/plain": [
       "[1, 2, 3, 4, 5, 6]"
      ]
     },
     "execution_count": 27,
     "metadata": {},
     "output_type": "execute_result"
    }
   ],
   "source": [
    "listita = [0,1,2,0,3,0,4,5,0,6]\n",
    "list(filter(None,listita))"
   ]
  },
  {
   "cell_type": "code",
   "execution_count": 34,
   "id": "d1ebdfb4-4358-457b-978d-474dfb3211b8",
   "metadata": {},
   "outputs": [],
   "source": [
    "# otras situaciones donde puede ser útil filtrar\n",
    "import numpy as np\n",
    "mat = np.random.random(size=(2,3))"
   ]
  },
  {
   "cell_type": "code",
   "execution_count": 35,
   "id": "5444479f-55ef-4af0-a823-7a5e6ada03b3",
   "metadata": {},
   "outputs": [
    {
     "data": {
      "text/plain": [
       "array([[False,  True, False],\n",
       "       [False, False, False]])"
      ]
     },
     "execution_count": 35,
     "metadata": {},
     "output_type": "execute_result"
    }
   ],
   "source": [
    "mat < 0.1"
   ]
  },
  {
   "cell_type": "code",
   "execution_count": 36,
   "id": "42e8be13-154c-4e42-98fc-14ff06db0879",
   "metadata": {},
   "outputs": [
    {
     "data": {
      "text/plain": [
       "array([0.00876858])"
      ]
     },
     "execution_count": 36,
     "metadata": {},
     "output_type": "execute_result"
    }
   ],
   "source": [
    "mat[ mat < 0.1 ]"
   ]
  },
  {
   "cell_type": "code",
   "execution_count": 45,
   "id": "c68fa464-b7fe-4d48-954f-46a8fad3c766",
   "metadata": {},
   "outputs": [],
   "source": [
    "# list(filter(lambda x:x.any()>0,mat))  (esto no va)"
   ]
  },
  {
   "cell_type": "code",
   "execution_count": 69,
   "id": "a7527484-5e43-43ef-92f7-83e533912403",
   "metadata": {},
   "outputs": [
    {
     "data": {
      "text/plain": [
       "[<matplotlib.lines.Line2D at 0x7f3f0a8708f0>]"
      ]
     },
     "execution_count": 69,
     "metadata": {},
     "output_type": "execute_result"
    },
    {
     "data": {
      "image/png": "[encoded data removed]",
      "text/plain": [
       "<Figure size 400x200 with 1 Axes>"
      ]
     },
     "metadata": {},
     "output_type": "display_data"
    }
   ],
   "source": [
    "import matplotlib.pyplot as plt\n",
    "x = np.linspace(-10,10,200)\n",
    "y = np.tan(x)\n",
    "plt.figure(figsize=(4,2))\n",
    "plt.plot(x,y)"
   ]
  },
  {
   "cell_type": "code",
   "execution_count": 92,
   "id": "5c80f3b9-94cf-44d7-ac40-6c4820cb670f",
   "metadata": {},
   "outputs": [
    {
     "data": {
      "image/png": "[encoded data removed]",
      "text/plain": [
       "<Figure size 640x480 with 1 Axes>"
      ]
     },
     "metadata": {},
     "output_type": "display_data"
    }
   ],
   "source": [
    "# dos maneras de filtrar valores\n",
    "# None o nan son útil en matplotlib para cortar líneas continuas\n",
    "yfiltered = [i if abs(i)<10 else None for i in y]\n",
    "yfiltered1 = list( map(lambda z:z if abs(z)<10 else np.nan, y) )\n",
    "plt.plot(x,yfiltered)\n",
    "plt.ylim(-5,5)\n",
    "plt.grid()"
   ]
  },
  {
   "cell_type": "code",
   "execution_count": 94,
   "id": "d6c10f68-1ad7-47d6-a352-70b440b005dd",
   "metadata": {},
   "outputs": [
    {
     "data": {
      "text/plain": [
       "'hola'"
      ]
     },
     "execution_count": 94,
     "metadata": {},
     "output_type": "execute_result"
    }
   ],
   "source": [
    "# estructura if en línea\n",
    "'hola' if 3 > 2 else 'chau'"
   ]
  },
  {
   "cell_type": "code",
   "execution_count": 95,
   "id": "5c6b1e86-653a-4929-9139-89547737ba0e",
   "metadata": {},
   "outputs": [
    {
     "data": {
      "text/plain": [
       "'chau'"
      ]
     },
     "execution_count": 95,
     "metadata": {},
     "output_type": "execute_result"
    }
   ],
   "source": [
    "'hola' if 3 < 2 else 'chau'"
   ]
  },
  {
   "cell_type": "code",
   "execution_count": null,
   "id": "69cb09f9-f537-49b4-a98f-896a5e6e0622",
   "metadata": {},
   "outputs": [],
   "source": []
  }
 ],
 "metadata": {
  "kernelspec": {
   "display_name": "Python 3 (ipykernel)",
   "language": "python",
   "name": "python3"
  },
  "language_info": {
   "codemirror_mode": {
    "name": "ipython",
    "version": 3
   },
   "file_extension": ".py",
   "mimetype": "text/x-python",
   "name": "python",
   "nbconvert_exporter": "python",
   "pygments_lexer": "ipython3",
   "version": "3.12.3"
  }
 },
 "nbformat": 4,
 "nbformat_minor": 5
}
