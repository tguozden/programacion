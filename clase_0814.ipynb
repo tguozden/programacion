{
 "cells": [
  {
   "cell_type": "code",
   "execution_count": 4,
   "id": "f0d58454-0aca-4ac9-aacc-cf800a12756c",
   "metadata": {},
   "outputs": [
    {
     "name": "stdout",
     "output_type": "stream",
     "text": [
      "no anduvo che fijate\n",
      "[Errno 2] No such file or directory: 'damian.txt'\n",
      "<class 'FileNotFoundError'>\n"
     ]
    }
   ],
   "source": [
    "try:\n",
    "    with open('damian.txt') as file:\n",
    "        for i in file:\n",
    "            print(i)\n",
    "except Exception as varquepaso:\n",
    "    print('no anduvo che fijate')\n",
    "    print(varquepaso)\n",
    "    print(type(varquepaso))"
   ]
  },
  {
   "cell_type": "code",
   "execution_count": 10,
   "id": "3b6f89a2-8ff5-40d1-8355-9697fa8949b5",
   "metadata": {},
   "outputs": [
    {
     "name": "stdout",
     "output_type": "stream",
     "text": [
      "invalid literal for int() with base 10: '3.56'\n",
      "ValueError\n"
     ]
    }
   ],
   "source": [
    "cadena = '3.56'\n",
    "try:\n",
    "    valor = int(cadena)\n",
    "    print(valor)\n",
    "except Exception as e:\n",
    "    print(e)\n",
    "    print(type(e).__name__)\n"
   ]
  },
  {
   "cell_type": "code",
   "execution_count": 13,
   "id": "d1ee1151-e587-4a92-9903-afa32f984756",
   "metadata": {},
   "outputs": [
    {
     "name": "stdout",
     "output_type": "stream",
     "text": [
      "list index out of range\n",
      "error de tipo  IndexError\n"
     ]
    }
   ],
   "source": [
    "lista = [1, 2, 3]\n",
    "try:\n",
    "    valor = lista[4]\n",
    "except Exception as eze:\n",
    "    print(eze)\n",
    "    print('error de tipo ',type(eze).__name__)"
   ]
  },
  {
   "cell_type": "code",
   "execution_count": 18,
   "id": "b1fb24ce-3c02-4013-a0e4-866658a356a0",
   "metadata": {},
   "outputs": [
    {
     "name": "stdout",
     "output_type": "stream",
     "text": [
      "nosabemos por qué pero salió\n"
     ]
    }
   ],
   "source": [
    "string = '1.23gramos'\n",
    "try:\n",
    "    peso = float(string)\n",
    "    print('anduvo!!', peso)\n",
    "except FileNotFoundError as e:\n",
    "    print('algo de archivos ', e)\n",
    "except IndexError as e:\n",
    "    print('algo de indices', e)\n",
    "except ValueError as e:\n",
    "    print('error de valor ', e)\n",
    "except:\n",
    "    print('nosabemos por qué pero salió')\n"
   ]
  },
  {
   "cell_type": "code",
   "execution_count": 26,
   "id": "8099ff5a-ba20-4be3-a5b4-adb944222648",
   "metadata": {},
   "outputs": [
    {
     "name": "stdout",
     "output_type": "stream",
     "text": [
      "algo de archivos \n"
     ]
    }
   ],
   "source": [
    "string = '1.23ksadjhfalksjdf'\n",
    "try:\n",
    "    peso = float(string)\n",
    "    print('anduvo!!', peso)\n",
    "except:\n",
    "    print('algo de archivos ')\n",
    "else:\n",
    "    print('entramos en el else')\n"
   ]
  },
  {
   "cell_type": "code",
   "execution_count": 25,
   "id": "860846ca-db3d-4b76-8fec-2e25ec857ccc",
   "metadata": {},
   "outputs": [
    {
     "name": "stdout",
     "output_type": "stream",
     "text": [
      "algo de archivos  could not convert string to float: '1.23gramos'\n",
      "esto se ejecuta siempre\n"
     ]
    }
   ],
   "source": [
    "string = '1.23gramos'\n",
    "try:\n",
    "    peso = float(string)\n",
    "    print('anduvo!!', peso)\n",
    "except ValueError as e:\n",
    "    print('algo de archivos ', e)\n",
    "finally:\n",
    "    print('esto se ejecuta siempre')\n",
    "    "
   ]
  },
  {
   "cell_type": "code",
   "execution_count": 29,
   "id": "69b4760a-30bf-45a9-a56b-c47367231ef3",
   "metadata": {},
   "outputs": [],
   "source": [
    "lista = [\n",
    "    [1, 'forward', 10],\n",
    "    [1, 'left', 90],\n",
    "    [1, 'forward', 10],\n",
    "    [1, 'left', 90],\n",
    "    [1, 'forward', 10],\n",
    "    [1, 'left', 90],\n",
    "    [1, 'forward', 10],\n",
    "    [1, 'left', 90]]"
   ]
  },
  {
   "cell_type": "code",
   "execution_count": 1,
   "id": "44a70bd5-6820-483e-a752-93d829eda60c",
   "metadata": {},
   "outputs": [],
   "source": [
    "import turtle\n",
    "\n",
    "def ejecuta_turtle(t, do:str, valor:int)->None:\n",
    "    match do:\n",
    "        case 'forward':\n",
    "            t.forward(valor)\n",
    "        case 'left':\n",
    "            t.left(valor)\n",
    "        case 'right':\n",
    "            t.right(valor)"
   ]
  },
  {
   "cell_type": "code",
   "execution_count": 2,
   "id": "11accd0b-b916-4b13-99be-97a4cb3aa09c",
   "metadata": {},
   "outputs": [],
   "source": [
    "t = turtle.Turtle()"
   ]
  },
  {
   "cell_type": "code",
   "execution_count": null,
   "id": "24c97ce6-eed9-4255-b2da-120c9e547a55",
   "metadata": {},
   "outputs": [],
   "source": [
    "ejecuta_turtle(t, 'forward', 100)"
   ]
  },
  {
   "cell_type": "code",
   "execution_count": null,
   "id": "2b03af96-00cb-45a0-bf0e-0aaefa433690",
   "metadata": {},
   "outputs": [],
   "source": [
    "ejecuta_turtl"
   ]
  },
  {
   "cell_type": "code",
   "execution_count": 41,
   "id": "e18f6c2d-64a3-478c-b733-570f2f6eaff3",
   "metadata": {},
   "outputs": [
    {
     "ename": "TclError",
     "evalue": "invalid command name \".!canvas\"",
     "output_type": "error",
     "traceback": [
      "\u001b[0;31m---------------------------------------------------------------------------\u001b[0m",
      "\u001b[0;31mTclError\u001b[0m                                  Traceback (most recent call last)",
      "Cell \u001b[0;32mIn[41], line 1\u001b[0m\n\u001b[0;32m----> 1\u001b[0m \u001b[43mt\u001b[49m\u001b[38;5;241;43m.\u001b[39;49m\u001b[43mclear\u001b[49m\u001b[43m(\u001b[49m\u001b[43m)\u001b[49m\n",
      "File \u001b[0;32m/usr/lib/python3.12/turtle.py:2650\u001b[0m, in \u001b[0;36mRawTurtle.clear\u001b[0;34m(self)\u001b[0m\n\u001b[1;32m   2638\u001b[0m \u001b[38;5;28;01mdef\u001b[39;00m \u001b[38;5;21mclear\u001b[39m(\u001b[38;5;28mself\u001b[39m):\n\u001b[1;32m   2639\u001b[0m \u001b[38;5;250m    \u001b[39m\u001b[38;5;124;03m\"\"\"Delete the turtle's drawings from the screen. Do not move turtle.\u001b[39;00m\n\u001b[1;32m   2640\u001b[0m \n\u001b[1;32m   2641\u001b[0m \u001b[38;5;124;03m    No arguments.\u001b[39;00m\n\u001b[0;32m   (...)\u001b[0m\n\u001b[1;32m   2648\u001b[0m \u001b[38;5;124;03m    >>> turtle.clear()\u001b[39;00m\n\u001b[1;32m   2649\u001b[0m \u001b[38;5;124;03m    \"\"\"\u001b[39;00m\n\u001b[0;32m-> 2650\u001b[0m     \u001b[38;5;28;43mself\u001b[39;49m\u001b[38;5;241;43m.\u001b[39;49m\u001b[43m_clear\u001b[49m\u001b[43m(\u001b[49m\u001b[43m)\u001b[49m\n\u001b[1;32m   2651\u001b[0m     \u001b[38;5;28mself\u001b[39m\u001b[38;5;241m.\u001b[39m_update()\n",
      "File \u001b[0;32m/usr/lib/python3.12/turtle.py:2628\u001b[0m, in \u001b[0;36mRawTurtle._clear\u001b[0;34m(self)\u001b[0m\n\u001b[1;32m   2626\u001b[0m \u001b[38;5;28mself\u001b[39m\u001b[38;5;241m.\u001b[39m_fillitem \u001b[38;5;241m=\u001b[39m \u001b[38;5;28mself\u001b[39m\u001b[38;5;241m.\u001b[39m_fillpath \u001b[38;5;241m=\u001b[39m \u001b[38;5;28;01mNone\u001b[39;00m\n\u001b[1;32m   2627\u001b[0m \u001b[38;5;28;01mfor\u001b[39;00m item \u001b[38;5;129;01min\u001b[39;00m \u001b[38;5;28mself\u001b[39m\u001b[38;5;241m.\u001b[39mitems:\n\u001b[0;32m-> 2628\u001b[0m     \u001b[38;5;28;43mself\u001b[39;49m\u001b[38;5;241;43m.\u001b[39;49m\u001b[43mscreen\u001b[49m\u001b[38;5;241;43m.\u001b[39;49m\u001b[43m_delete\u001b[49m\u001b[43m(\u001b[49m\u001b[43mitem\u001b[49m\u001b[43m)\u001b[49m\n\u001b[1;32m   2629\u001b[0m \u001b[38;5;28mself\u001b[39m\u001b[38;5;241m.\u001b[39mcurrentLineItem \u001b[38;5;241m=\u001b[39m \u001b[38;5;28mself\u001b[39m\u001b[38;5;241m.\u001b[39mscreen\u001b[38;5;241m.\u001b[39m_createline()\n\u001b[1;32m   2630\u001b[0m \u001b[38;5;28mself\u001b[39m\u001b[38;5;241m.\u001b[39mcurrentLine \u001b[38;5;241m=\u001b[39m []\n",
      "File \u001b[0;32m/usr/lib/python3.12/turtle.py:551\u001b[0m, in \u001b[0;36mTurtleScreenBase._delete\u001b[0;34m(self, item)\u001b[0m\n\u001b[1;32m    547\u001b[0m \u001b[38;5;28;01mdef\u001b[39;00m \u001b[38;5;21m_delete\u001b[39m(\u001b[38;5;28mself\u001b[39m, item):\n\u001b[1;32m    548\u001b[0m \u001b[38;5;250m    \u001b[39m\u001b[38;5;124;03m\"\"\"Delete graphics item from canvas.\u001b[39;00m\n\u001b[1;32m    549\u001b[0m \u001b[38;5;124;03m    If item is\"all\" delete all graphics items.\u001b[39;00m\n\u001b[1;32m    550\u001b[0m \u001b[38;5;124;03m    \"\"\"\u001b[39;00m\n\u001b[0;32m--> 551\u001b[0m     \u001b[38;5;28;43mself\u001b[39;49m\u001b[38;5;241;43m.\u001b[39;49m\u001b[43mcv\u001b[49m\u001b[38;5;241;43m.\u001b[39;49m\u001b[43mdelete\u001b[49m\u001b[43m(\u001b[49m\u001b[43mitem\u001b[49m\u001b[43m)\u001b[49m\n",
      "File \u001b[0;32m<string>:1\u001b[0m, in \u001b[0;36mdelete\u001b[0;34m(self, *args, **kw)\u001b[0m\n",
      "File \u001b[0;32m/usr/lib/python3.12/tkinter/__init__.py:2897\u001b[0m, in \u001b[0;36mCanvas.delete\u001b[0;34m(self, *args)\u001b[0m\n\u001b[1;32m   2895\u001b[0m \u001b[38;5;28;01mdef\u001b[39;00m \u001b[38;5;21mdelete\u001b[39m(\u001b[38;5;28mself\u001b[39m, \u001b[38;5;241m*\u001b[39margs):\n\u001b[1;32m   2896\u001b[0m \u001b[38;5;250m    \u001b[39m\u001b[38;5;124;03m\"\"\"Delete items identified by all tag or ids contained in ARGS.\"\"\"\u001b[39;00m\n\u001b[0;32m-> 2897\u001b[0m     \u001b[38;5;28;43mself\u001b[39;49m\u001b[38;5;241;43m.\u001b[39;49m\u001b[43mtk\u001b[49m\u001b[38;5;241;43m.\u001b[39;49m\u001b[43mcall\u001b[49m\u001b[43m(\u001b[49m\u001b[43m(\u001b[49m\u001b[38;5;28;43mself\u001b[39;49m\u001b[38;5;241;43m.\u001b[39;49m\u001b[43m_w\u001b[49m\u001b[43m,\u001b[49m\u001b[43m \u001b[49m\u001b[38;5;124;43m'\u001b[39;49m\u001b[38;5;124;43mdelete\u001b[39;49m\u001b[38;5;124;43m'\u001b[39;49m\u001b[43m)\u001b[49m\u001b[43m \u001b[49m\u001b[38;5;241;43m+\u001b[39;49m\u001b[43m \u001b[49m\u001b[43margs\u001b[49m\u001b[43m)\u001b[49m\n",
      "\u001b[0;31mTclError\u001b[0m: invalid command name \".!canvas\""
     ]
    }
   ],
   "source": [
    "t.clear()"
   ]
  },
  {
   "cell_type": "code",
   "execution_count": 42,
   "id": "1528d7cb-c59e-43a6-a94f-30186c20244b",
   "metadata": {},
   "outputs": [],
   "source": [
    "    \n",
    "def dibuja_lista(lista:list)->None:\n",
    "    for sublista in lista:\n",
    "        n = sublista[0]\n",
    "        do = sublista[1]\n",
    "        valor = sublista[2]\n",
    "        print(n, do, valor)"
   ]
  },
  {
   "cell_type": "code",
   "execution_count": 43,
   "id": "6dcbd7fd-ad21-4aaf-ad71-2ad80da5ad9a",
   "metadata": {},
   "outputs": [
    {
     "name": "stdout",
     "output_type": "stream",
     "text": [
      "1 forward 10\n",
      "1 left 90\n",
      "1 forward 10\n",
      "1 left 90\n",
      "1 forward 10\n",
      "1 left 90\n",
      "1 forward 10\n",
      "1 left 90\n"
     ]
    }
   ],
   "source": [
    "dibuja_lista(lista)"
   ]
  },
  {
   "cell_type": "code",
   "execution_count": null,
   "id": "7be04820-c3d9-404e-869f-a6c896954fda",
   "metadata": {},
   "outputs": [],
   "source": []
  },
  {
   "cell_type": "code",
   "execution_count": null,
   "id": "a7e9c3df-1fe2-42f3-825a-0d1911d84e03",
   "metadata": {},
   "outputs": [],
   "source": []
  }
 ],
 "metadata": {
  "kernelspec": {
   "display_name": "Python 3 (ipykernel)",
   "language": "python",
   "name": "python3"
  },
  "language_info": {
   "codemirror_mode": {
    "name": "ipython",
    "version": 3
   },
   "file_extension": ".py",
   "mimetype": "text/x-python",
   "name": "python",
   "nbconvert_exporter": "python",
   "pygments_lexer": "ipython3",
   "version": "3.12.3"
  }
 },
 "nbformat": 4,
 "nbformat_minor": 5
}
