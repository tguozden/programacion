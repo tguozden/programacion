{
 "cells": [
  {
   "cell_type": "code",
   "execution_count": 1,
   "id": "6921fa2c-d26b-47e7-bc53-cd858d34eb12",
   "metadata": {},
   "outputs": [],
   "source": [
    "def misterio2(texto:str)->str:\n",
    "    if len(texto)%2: \n",
    "        print(\"\\\"texto\\\" debe tener 2*N caracteres\");\n",
    "        return -1\n",
    "    lista = list(texto)\n",
    "    lista_par = lista[ ::2]  # me quedo con los elementos en 0, 2, 4..\n",
    "    lista_imp = lista[1::2]  #                               1, 3, 5..\n",
    "    salida = ''\n",
    "    for i, j in zip(lista_par, lista_imp):\n",
    "        salida += j + i\n",
    "    return salida"
   ]
  },
  {
   "cell_type": "code",
   "execution_count": 2,
   "id": "312fd3fb-97e1-4389-adc0-ad877528187c",
   "metadata": {},
   "outputs": [
    {
     "name": "stdout",
     "output_type": "stream",
     "text": [
      "\"texto\" debe tener 2*N caracteres\n"
     ]
    },
    {
     "data": {
      "text/plain": [
       "-1"
      ]
     },
     "execution_count": 2,
     "metadata": {},
     "output_type": "execute_result"
    }
   ],
   "source": [
    "misterio2(\"abc\")"
   ]
  },
  {
   "cell_type": "code",
   "execution_count": 4,
   "id": "62e6d9b8-2cda-4ad1-86d7-2b0ed234cae1",
   "metadata": {},
   "outputs": [],
   "source": [
    "texto = \"abecedario\"\n",
    "lista = list(texto)\n",
    "lista_par = lista[ ::2]  # me quedo con los elementos en 0, 2, 4..\n",
    "lista_imp = lista[1::2]  #   "
   ]
  },
  {
   "cell_type": "code",
   "execution_count": 8,
   "id": "8a86b455-3293-4941-bfec-cf9f683e3360",
   "metadata": {},
   "outputs": [
    {
     "name": "stdout",
     "output_type": "stream",
     "text": [
      "['a', 'e', 'e', 'a', 'i']\n",
      "['b', 'c', 'd', 'r', 'o']\n"
     ]
    }
   ],
   "source": [
    "print(lista_par)\n",
    "print(lista_imp)"
   ]
  },
  {
   "cell_type": "code",
   "execution_count": 9,
   "id": "a9130d0e-f7ca-4036-b0cc-8340d968a046",
   "metadata": {},
   "outputs": [
    {
     "data": {
      "text/plain": [
       "'bacederaoi'"
      ]
     },
     "execution_count": 9,
     "metadata": {},
     "output_type": "execute_result"
    }
   ],
   "source": [
    "misterio2(texto)"
   ]
  },
  {
   "cell_type": "code",
   "execution_count": 10,
   "id": "9a5eb1a9-fcd4-4523-88b4-2ba44f6116da",
   "metadata": {},
   "outputs": [
    {
     "name": "stdout",
     "output_type": "stream",
     "text": [
      "HOLA MUNDO\n",
      "[72, 79, 76, 65, 32, 77, 85, 78, 68, 79]\n",
      "['72', '79', '76', '65', '32', '77', '85', '78', '68', '79']\n",
      "72797665327785786879\n"
     ]
    }
   ],
   "source": [
    "texto = \"HOLA MUNDO\"\n",
    "print(texto)\n",
    "lista = [ord(i) for i in list(texto)]\n",
    "print(lista)\n",
    "letras = [str(i) for i in lista]\n",
    "print(letras)\n",
    "palabra =  ''.join(letras)\n",
    "print(palabra)"
   ]
  },
  {
   "cell_type": "code",
   "execution_count": 14,
   "id": "6254b43b-5f4b-4cf0-adbb-360502fb744f",
   "metadata": {},
   "outputs": [
    {
     "name": "stdout",
     "output_type": "stream",
     "text": [
      "7776378767\n",
      "2965275889\n"
     ]
    }
   ],
   "source": [
    "lp = palabra[::2]\n",
    "li = palabra[1::2]\n",
    "print(lp)\n",
    "print(li)"
   ]
  },
  {
   "cell_type": "code",
   "execution_count": 17,
   "id": "13a2e513-20c8-490a-998b-7f50c90a2fd7",
   "metadata": {},
   "outputs": [
    {
     "name": "stdout",
     "output_type": "stream",
     "text": [
      "HOLA MUNDO\n"
     ]
    }
   ],
   "source": [
    "aux = ''\n",
    "for i,j in zip(lp,li):\n",
    "    # print(i+j)\n",
    "    # print(chr(int(i+j)))\n",
    "    aux +=chr(int(i+j))\n",
    "print(aux)"
   ]
  },
  {
   "cell_type": "code",
   "execution_count": 19,
   "id": "af4d9ad2-8b37-4ed6-95bc-60b2f8518e47",
   "metadata": {},
   "outputs": [
    {
     "data": {
      "text/plain": [
       "'HOLA MUNDO'"
      ]
     },
     "execution_count": 19,
     "metadata": {},
     "output_type": "execute_result"
    }
   ],
   "source": [
    "letra = \"\"\n",
    "lista = []\n",
    "cont = 0\n",
    "for i in palabra:\n",
    "    cont += 1\n",
    "    letra += i\n",
    "    if cont == 2:\n",
    "        lista.append(int(letra))\n",
    "        cont = 0\n",
    "        letra = ''\n",
    "\n",
    "lista\n",
    "''.join([chr(i) for i in lista])"
   ]
  },
  {
   "cell_type": "code",
   "execution_count": 21,
   "id": "1427a7ce-5f10-46a9-8cb5-db15fed551d0",
   "metadata": {},
   "outputs": [
    {
     "data": {
      "text/plain": [
       "['72', '79', '76', '65', '32', '77', '85', '78', '68', '79']"
      ]
     },
     "execution_count": 21,
     "metadata": {},
     "output_type": "execute_result"
    }
   ],
   "source": [
    "lista = []\n",
    "for i in range(len(palabra)//2):\n",
    "    letra = palabra[2*i] + palabra[2*i+1]\n",
    "    lista.append(letra)\n",
    "lista"
   ]
  },
  {
   "cell_type": "code",
   "execution_count": null,
   "id": "ad4a1dbd-fdf4-4157-ab13-7b8e7cbad21a",
   "metadata": {},
   "outputs": [],
   "source": []
  }
 ],
 "metadata": {
  "kernelspec": {
   "display_name": "Python 3 (ipykernel)",
   "language": "python",
   "name": "python3"
  },
  "language_info": {
   "codemirror_mode": {
    "name": "ipython",
    "version": 3
   },
   "file_extension": ".py",
   "mimetype": "text/x-python",
   "name": "python",
   "nbconvert_exporter": "python",
   "pygments_lexer": "ipython3",
   "version": "3.12.3"
  }
 },
 "nbformat": 4,
 "nbformat_minor": 5
}
