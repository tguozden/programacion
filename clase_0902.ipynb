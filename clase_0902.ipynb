{
 "cells": [
  {
   "cell_type": "code",
   "execution_count": 1,
   "id": "b341a28e-c3ad-4855-b261-c18f1a646ffa",
   "metadata": {},
   "outputs": [],
   "source": [
    "import numpy as np"
   ]
  },
  {
   "cell_type": "code",
   "execution_count": 2,
   "id": "c8f0a101-7b10-4403-b0a9-e4d01a1de124",
   "metadata": {},
   "outputs": [],
   "source": [
    "listita = [1, 2, 3, 7]"
   ]
  },
  {
   "cell_type": "code",
   "execution_count": 3,
   "id": "4c6303da-f7b1-42a5-aedf-70b9d790bc52",
   "metadata": {},
   "outputs": [
    {
     "data": {
      "text/plain": [
       "[1, 2, 3, 7]"
      ]
     },
     "execution_count": 3,
     "metadata": {},
     "output_type": "execute_result"
    }
   ],
   "source": [
    "listita"
   ]
  },
  {
   "cell_type": "code",
   "execution_count": 5,
   "id": "9a0a83d6-7ad3-47e7-a3e9-8bf94de9b98e",
   "metadata": {},
   "outputs": [
    {
     "name": "stdout",
     "output_type": "stream",
     "text": [
      "(5, 6, 7, 8, 9)\n"
     ]
    }
   ],
   "source": [
    "mitupla = tuple(range(5, 10))\n",
    "print(mitupla)"
   ]
  },
  {
   "cell_type": "code",
   "execution_count": 7,
   "id": "3a4449e3-2bec-42f7-a3a7-750323a531f7",
   "metadata": {},
   "outputs": [
    {
     "name": "stdout",
     "output_type": "stream",
     "text": [
      "['otracosa', 2, 3, 7]\n"
     ]
    }
   ],
   "source": [
    "listita[0] = 'otracosa'\n",
    "print(listita)"
   ]
  },
  {
   "cell_type": "code",
   "execution_count": 8,
   "id": "8e488a77-7e20-433d-b177-647ead5e98c8",
   "metadata": {},
   "outputs": [
    {
     "name": "stdout",
     "output_type": "stream",
     "text": [
      "'tuple' object does not support item assignment\n"
     ]
    }
   ],
   "source": [
    "try:\n",
    "    mitupla[0] = -10\n",
    "except Exception as e:\n",
    "    print(e)"
   ]
  },
  {
   "cell_type": "code",
   "execution_count": 9,
   "id": "c100164a-81b7-4bf1-8539-7191eda71421",
   "metadata": {},
   "outputs": [
    {
     "name": "stdout",
     "output_type": "stream",
     "text": [
      "[1 2 3 4]\n"
     ]
    }
   ],
   "source": [
    "# arrays:\n",
    "miprimerarray = np.array([1, 2, 3, 4])\n",
    "print(miprimerarray)"
   ]
  },
  {
   "cell_type": "code",
   "execution_count": 10,
   "id": "cdb550f7-bfb4-4ee3-b8ad-0c67716b645d",
   "metadata": {},
   "outputs": [
    {
     "name": "stdout",
     "output_type": "stream",
     "text": [
      "<class 'numpy.ndarray'>\n"
     ]
    }
   ],
   "source": [
    "print(type(miprimerarray))"
   ]
  },
  {
   "cell_type": "code",
   "execution_count": 11,
   "id": "efe1c8a6-7397-4cca-89c0-973b8101abb1",
   "metadata": {},
   "outputs": [
    {
     "data": {
      "text/plain": [
       "array([1, 2, 3, 4])"
      ]
     },
     "execution_count": 11,
     "metadata": {},
     "output_type": "execute_result"
    }
   ],
   "source": [
    "miprimerarray"
   ]
  },
  {
   "cell_type": "code",
   "execution_count": 12,
   "id": "1c48db93-c780-4b8c-814c-597e09d13493",
   "metadata": {},
   "outputs": [
    {
     "data": {
      "text/plain": [
       "dtype('int64')"
      ]
     },
     "execution_count": 12,
     "metadata": {},
     "output_type": "execute_result"
    }
   ],
   "source": [
    "miprimerarray.dtype"
   ]
  },
  {
   "cell_type": "code",
   "execution_count": 13,
   "id": "b09ced2c-2ff9-4d0f-a9fd-a2bc062fb6e7",
   "metadata": {},
   "outputs": [
    {
     "data": {
      "text/plain": [
       "np.int64(1)"
      ]
     },
     "execution_count": 13,
     "metadata": {},
     "output_type": "execute_result"
    }
   ],
   "source": [
    "miprimerarray[0]"
   ]
  },
  {
   "cell_type": "code",
   "execution_count": 14,
   "id": "d1bc9709-2d2c-4986-b935-da1c59a8246b",
   "metadata": {},
   "outputs": [
    {
     "data": {
      "text/plain": [
       "1"
      ]
     },
     "execution_count": 14,
     "metadata": {},
     "output_type": "execute_result"
    }
   ],
   "source": [
    "miprimerarray.ndim"
   ]
  },
  {
   "cell_type": "code",
   "execution_count": 15,
   "id": "3fc198fa-b705-41b8-8940-a651456ec701",
   "metadata": {},
   "outputs": [
    {
     "data": {
      "text/plain": [
       "0"
      ]
     },
     "execution_count": 15,
     "metadata": {},
     "output_type": "execute_result"
    }
   ],
   "source": [
    "miprimerarray[0].ndim"
   ]
  },
  {
   "cell_type": "code",
   "execution_count": 16,
   "id": "743c5777-53f2-41cd-9aaf-88802f7c8ff9",
   "metadata": {},
   "outputs": [
    {
     "name": "stdout",
     "output_type": "stream",
     "text": [
      "[[1 2 3]\n",
      " [4 5 6]\n",
      " [7 8 9]]\n"
     ]
    }
   ],
   "source": [
    "mimat = np.array([[1, 2, 3], [4, 5, 6], [7, 8, 9]])\n",
    "print(mimat)"
   ]
  },
  {
   "cell_type": "code",
   "execution_count": 17,
   "id": "51cddbe8-f4d9-4bc9-8553-52e40665d0db",
   "metadata": {},
   "outputs": [
    {
     "data": {
      "text/plain": [
       "2"
      ]
     },
     "execution_count": 17,
     "metadata": {},
     "output_type": "execute_result"
    }
   ],
   "source": [
    "mimat.ndim"
   ]
  },
  {
   "cell_type": "code",
   "execution_count": 19,
   "id": "af7f8c99-89e1-4808-b7de-5e6ae41ef334",
   "metadata": {},
   "outputs": [
    {
     "data": {
      "text/plain": [
       "np.int64(6)"
      ]
     },
     "execution_count": 19,
     "metadata": {},
     "output_type": "execute_result"
    }
   ],
   "source": [
    "# accedo al elemento de la segunda fila tercera columna\n",
    "mimat[1][2]"
   ]
  },
  {
   "cell_type": "code",
   "execution_count": 20,
   "id": "8744809a-143c-4307-89d6-447d84a8b4f9",
   "metadata": {},
   "outputs": [
    {
     "data": {
      "text/plain": [
       "np.int64(6)"
      ]
     },
     "execution_count": 20,
     "metadata": {},
     "output_type": "execute_result"
    }
   ],
   "source": [
    "mimat[1, 2]"
   ]
  },
  {
   "cell_type": "code",
   "execution_count": 21,
   "id": "a99320be-2f83-49f5-896b-da6170d325eb",
   "metadata": {},
   "outputs": [
    {
     "data": {
      "text/plain": [
       "array([2, 5, 8])"
      ]
     },
     "execution_count": 21,
     "metadata": {},
     "output_type": "execute_result"
    }
   ],
   "source": [
    "# slicing (recorte)\n",
    "mimat[:, 1]"
   ]
  },
  {
   "cell_type": "code",
   "execution_count": 23,
   "id": "07cfc37d-b39d-438c-a102-d0b66a90c7fc",
   "metadata": {},
   "outputs": [
    {
     "data": {
      "text/plain": [
       "dtype('float64')"
      ]
     },
     "execution_count": 23,
     "metadata": {},
     "output_type": "execute_result"
    }
   ],
   "source": [
    "np.zeros(3).dtype"
   ]
  },
  {
   "cell_type": "code",
   "execution_count": 24,
   "id": "672a90d3-b5e3-4d06-a33f-9b266f3f3333",
   "metadata": {},
   "outputs": [
    {
     "data": {
      "text/plain": [
       "array([1., 1., 1., 1., 1.])"
      ]
     },
     "execution_count": 24,
     "metadata": {},
     "output_type": "execute_result"
    }
   ],
   "source": [
    "np.ones(5)"
   ]
  },
  {
   "cell_type": "code",
   "execution_count": 27,
   "id": "69524105-4070-4175-a0e9-a2a71a4e1d98",
   "metadata": {},
   "outputs": [
    {
     "data": {
      "text/plain": [
       "array([[1., 1., 1., 1.],\n",
       "       [1., 1., 1., 1.]])"
      ]
     },
     "execution_count": 27,
     "metadata": {},
     "output_type": "execute_result"
    }
   ],
   "source": [
    "np.ones((2, 4))"
   ]
  },
  {
   "cell_type": "code",
   "execution_count": 30,
   "id": "c16b37a4-bd4f-4781-9a3d-2827347f5e44",
   "metadata": {},
   "outputs": [
    {
     "data": {
      "text/plain": [
       "array([1.28983856e-316, 0.00000000e+000, 0.00000000e+000, 0.00000000e+000,\n",
       "       6.95017281e-310, 1.34657006e+165, 1.74248615e-076, 5.20093562e-090,\n",
       "       5.64437393e-062, 6.95025670e-310])"
      ]
     },
     "execution_count": 30,
     "metadata": {},
     "output_type": "execute_result"
    }
   ],
   "source": [
    "# no inicializa el array, \n",
    "# dependerá del estado de la memoria\n",
    "np.empty(10)"
   ]
  },
  {
   "cell_type": "code",
   "execution_count": 31,
   "id": "4ea15160-3d8f-4f72-9455-5e6492bb8949",
   "metadata": {},
   "outputs": [
    {
     "data": {
      "text/plain": [
       "[0, 1, 2, 3, 4]"
      ]
     },
     "execution_count": 31,
     "metadata": {},
     "output_type": "execute_result"
    }
   ],
   "source": [
    "list(range(5))"
   ]
  },
  {
   "cell_type": "code",
   "execution_count": 32,
   "id": "55d7ce9a-924d-402b-8c00-0913eb681d80",
   "metadata": {},
   "outputs": [
    {
     "data": {
      "text/plain": [
       "array([0, 1, 2, 3, 4])"
      ]
     },
     "execution_count": 32,
     "metadata": {},
     "output_type": "execute_result"
    }
   ],
   "source": [
    "np.arange(5)"
   ]
  },
  {
   "cell_type": "code",
   "execution_count": 33,
   "id": "d6510214-f1bd-47f0-89fa-bda257713c16",
   "metadata": {},
   "outputs": [
    {
     "data": {
      "text/plain": [
       "array([0, 1, 2, 3, 4])"
      ]
     },
     "execution_count": 33,
     "metadata": {},
     "output_type": "execute_result"
    }
   ],
   "source": [
    "np.array(range(5))"
   ]
  },
  {
   "cell_type": "code",
   "execution_count": 34,
   "id": "81cc26d3-975c-4faa-b501-e54e135b10dc",
   "metadata": {},
   "outputs": [
    {
     "data": {
      "text/plain": [
       "array([0.        , 0.05263158, 0.10526316, 0.15789474, 0.21052632,\n",
       "       0.26315789, 0.31578947, 0.36842105, 0.42105263, 0.47368421,\n",
       "       0.52631579, 0.57894737, 0.63157895, 0.68421053, 0.73684211,\n",
       "       0.78947368, 0.84210526, 0.89473684, 0.94736842, 1.        ])"
      ]
     },
     "execution_count": 34,
     "metadata": {},
     "output_type": "execute_result"
    }
   ],
   "source": [
    "np.linspace(0,1,20)"
   ]
  },
  {
   "cell_type": "code",
   "execution_count": 35,
   "id": "6e75e98e-2812-411b-a929-d34da87cdbb0",
   "metadata": {},
   "outputs": [],
   "source": [
    "x = np.linspace(-1, 1, 20)\n",
    "y = np.pow(x, 2)"
   ]
  },
  {
   "cell_type": "code",
   "execution_count": 39,
   "id": "f3b4c290-1fea-4ccf-b58b-244cc50f18d8",
   "metadata": {},
   "outputs": [],
   "source": [
    "from matplotlib import pyplot as plt"
   ]
  },
  {
   "cell_type": "code",
   "execution_count": 40,
   "id": "0685aad9-ba97-4b16-9874-4c6cc8834db4",
   "metadata": {},
   "outputs": [
    {
     "data": {
      "text/plain": [
       "[<matplotlib.lines.Line2D at 0x7ff12927f590>]"
      ]
     },
     "execution_count": 40,
     "metadata": {},
     "output_type": "execute_result"
    },
    {
     "data": {
      "image/png": "[encoded data removed]",
      "text/plain": [
       "<Figure size 640x480 with 1 Axes>"
      ]
     },
     "metadata": {},
     "output_type": "display_data"
    }
   ],
   "source": [
    "plt.plot(x,y)"
   ]
  },
  {
   "cell_type": "code",
   "execution_count": 44,
   "id": "386cfddd-52f6-4a82-8f44-917c911a3cab",
   "metadata": {},
   "outputs": [
    {
     "name": "stdout",
     "output_type": "stream",
     "text": [
      "dimensión:  1\n",
      "cantidad de elementos en cada dimensión (20,)\n",
      "cantidad de elementos totales 20\n"
     ]
    }
   ],
   "source": [
    "print('dimensión: ', x.ndim)\n",
    "print('cantidad de elementos en cada dimensión', x.shape)\n",
    "print('cantidad de elementos totales', x.size)"
   ]
  },
  {
   "cell_type": "code",
   "execution_count": 46,
   "id": "87a36e43-b3b0-48b2-a65b-76ef49795231",
   "metadata": {},
   "outputs": [],
   "source": [
    "mat_xy = np.empty((x.size, 2))\n",
    "for i, j in enumerate(zip(x, y)):\n",
    "    mat_xy[i, :] = np.array(j)"
   ]
  },
  {
   "cell_type": "code",
   "execution_count": 47,
   "id": "070b514d-7396-4778-b29d-fbd5ae73937e",
   "metadata": {},
   "outputs": [
    {
     "data": {
      "text/plain": [
       "array([[-1.        ,  1.        ],\n",
       "       [-0.89473684,  0.80055402],\n",
       "       [-0.78947368,  0.6232687 ],\n",
       "       [-0.68421053,  0.46814404],\n",
       "       [-0.57894737,  0.33518006],\n",
       "       [-0.47368421,  0.22437673],\n",
       "       [-0.36842105,  0.13573407],\n",
       "       [-0.26315789,  0.06925208],\n",
       "       [-0.15789474,  0.02493075],\n",
       "       [-0.05263158,  0.00277008],\n",
       "       [ 0.05263158,  0.00277008],\n",
       "       [ 0.15789474,  0.02493075],\n",
       "       [ 0.26315789,  0.06925208],\n",
       "       [ 0.36842105,  0.13573407],\n",
       "       [ 0.47368421,  0.22437673],\n",
       "       [ 0.57894737,  0.33518006],\n",
       "       [ 0.68421053,  0.46814404],\n",
       "       [ 0.78947368,  0.6232687 ],\n",
       "       [ 0.89473684,  0.80055402],\n",
       "       [ 1.        ,  1.        ]])"
      ]
     },
     "execution_count": 47,
     "metadata": {},
     "output_type": "execute_result"
    }
   ],
   "source": [
    "mat_xy"
   ]
  },
  {
   "cell_type": "code",
   "execution_count": 48,
   "id": "a7ce68f5-c6f5-4d9a-a85d-6b885068bdc5",
   "metadata": {},
   "outputs": [
    {
     "data": {
      "text/plain": [
       "[<matplotlib.lines.Line2D at 0x7ff1292d0740>]"
      ]
     },
     "execution_count": 48,
     "metadata": {},
     "output_type": "execute_result"
    },
    {
     "data": {
      "image/png": "[encoded data removed]",
      "text/plain": [
       "<Figure size 640x480 with 1 Axes>"
      ]
     },
     "metadata": {},
     "output_type": "display_data"
    }
   ],
   "source": [
    "plt.plot(mat_xy[:,0], mat_xy[:,1])"
   ]
  },
  {
   "cell_type": "code",
   "execution_count": 57,
   "id": "44392775-fe4e-411e-a660-da0624cbdc97",
   "metadata": {},
   "outputs": [
    {
     "ename": "TypeError",
     "evalue": "'list' object cannot be interpreted as an integer",
     "output_type": "error",
     "traceback": [
      "\u001b[0;31m---------------------------------------------------------------------------\u001b[0m",
      "\u001b[0;31mTypeError\u001b[0m                                 Traceback (most recent call last)",
      "Cell \u001b[0;32mIn[57], line 1\u001b[0m\n\u001b[0;32m----> 1\u001b[0m \u001b[43mnp\u001b[49m\u001b[38;5;241;43m.\u001b[39;49m\u001b[43mconcatenate\u001b[49m\u001b[43m(\u001b[49m\u001b[43m[\u001b[49m\u001b[43mx\u001b[49m\u001b[43m]\u001b[49m\u001b[43m,\u001b[49m\u001b[43m \u001b[49m\u001b[43m[\u001b[49m\u001b[43my\u001b[49m\u001b[43m]\u001b[49m\u001b[43m)\u001b[49m\n",
      "\u001b[0;31mTypeError\u001b[0m: 'list' object cannot be interpreted as an integer"
     ]
    }
   ],
   "source": [
    "np.concatenate([x], [y])"
   ]
  },
  {
   "cell_type": "code",
   "execution_count": 69,
   "id": "7bb5906e-0a0c-4442-a1f9-51604724ea6e",
   "metadata": {},
   "outputs": [
    {
     "data": {
      "text/plain": [
       "(20, 1)"
      ]
     },
     "execution_count": 69,
     "metadata": {},
     "output_type": "execute_result"
    }
   ],
   "source": [
    "np.array([x]).T.shape"
   ]
  },
  {
   "cell_type": "code",
   "execution_count": 74,
   "id": "ec688807-ef1a-4f84-a25e-e9219ac3b6dd",
   "metadata": {},
   "outputs": [
    {
     "data": {
      "text/plain": [
       "array([[-1.        ,  1.        ],\n",
       "       [-0.89473684,  0.80055402],\n",
       "       [-0.78947368,  0.6232687 ],\n",
       "       [-0.68421053,  0.46814404],\n",
       "       [-0.57894737,  0.33518006],\n",
       "       [-0.47368421,  0.22437673],\n",
       "       [-0.36842105,  0.13573407],\n",
       "       [-0.26315789,  0.06925208],\n",
       "       [-0.15789474,  0.02493075],\n",
       "       [-0.05263158,  0.00277008],\n",
       "       [ 0.05263158,  0.00277008],\n",
       "       [ 0.15789474,  0.02493075],\n",
       "       [ 0.26315789,  0.06925208],\n",
       "       [ 0.36842105,  0.13573407],\n",
       "       [ 0.47368421,  0.22437673],\n",
       "       [ 0.57894737,  0.33518006],\n",
       "       [ 0.68421053,  0.46814404],\n",
       "       [ 0.78947368,  0.6232687 ],\n",
       "       [ 0.89473684,  0.80055402],\n",
       "       [ 1.        ,  1.        ]])"
      ]
     },
     "execution_count": 74,
     "metadata": {},
     "output_type": "execute_result"
    }
   ],
   "source": [
    "np.concatenate([np.array([x]).T, np.array([y]).T], axis = 1)"
   ]
  },
  {
   "cell_type": "code",
   "execution_count": 76,
   "id": "d533ca46-8592-474d-9c01-a84f8f3422b6",
   "metadata": {},
   "outputs": [
    {
     "data": {
      "text/plain": [
       "array([[-1.        ,  1.        ],\n",
       "       [-0.89473684,  0.80055402],\n",
       "       [-0.78947368,  0.6232687 ],\n",
       "       [-0.68421053,  0.46814404],\n",
       "       [-0.57894737,  0.33518006],\n",
       "       [-0.47368421,  0.22437673],\n",
       "       [-0.36842105,  0.13573407],\n",
       "       [-0.26315789,  0.06925208],\n",
       "       [-0.15789474,  0.02493075],\n",
       "       [-0.05263158,  0.00277008],\n",
       "       [ 0.05263158,  0.00277008],\n",
       "       [ 0.15789474,  0.02493075],\n",
       "       [ 0.26315789,  0.06925208],\n",
       "       [ 0.36842105,  0.13573407],\n",
       "       [ 0.47368421,  0.22437673],\n",
       "       [ 0.57894737,  0.33518006],\n",
       "       [ 0.68421053,  0.46814404],\n",
       "       [ 0.78947368,  0.6232687 ],\n",
       "       [ 0.89473684,  0.80055402],\n",
       "       [ 1.        ,  1.        ]])"
      ]
     },
     "execution_count": 76,
     "metadata": {},
     "output_type": "execute_result"
    }
   ],
   "source": [
    "np.concatenate([np.array([x]), np.array([y])], axis = 0).T"
   ]
  },
  {
   "cell_type": "code",
   "execution_count": 77,
   "id": "15b246b7-28e7-4248-a894-b33c2f41c890",
   "metadata": {},
   "outputs": [
    {
     "data": {
      "text/plain": [
       "(20,)"
      ]
     },
     "execution_count": 77,
     "metadata": {},
     "output_type": "execute_result"
    }
   ],
   "source": [
    "x.shape"
   ]
  },
  {
   "cell_type": "code",
   "execution_count": 78,
   "id": "13615bab-fe3b-4683-8831-740cf87b6799",
   "metadata": {},
   "outputs": [
    {
     "data": {
      "text/plain": [
       "1"
      ]
     },
     "execution_count": 78,
     "metadata": {},
     "output_type": "execute_result"
    }
   ],
   "source": [
    "x.ndim"
   ]
  },
  {
   "cell_type": "code",
   "execution_count": 80,
   "id": "c9dd1826-cbc8-4fe4-b418-8f8778946654",
   "metadata": {},
   "outputs": [
    {
     "data": {
      "text/plain": [
       "(1, 20)"
      ]
     },
     "execution_count": 80,
     "metadata": {},
     "output_type": "execute_result"
    }
   ],
   "source": [
    "np.array([x]).shape"
   ]
  },
  {
   "cell_type": "code",
   "execution_count": 81,
   "id": "3ffcc0e3-a17b-4cdd-9ad6-7d5fbe1e36b3",
   "metadata": {},
   "outputs": [
    {
     "data": {
      "text/plain": [
       "array([-0.84147098, -0.78004444, -0.70998273, -0.63206143, -0.54714315,\n",
       "       -0.45616793, -0.36014289, -0.26013102, -0.15723948, -0.05260728,\n",
       "        0.05260728,  0.15723948,  0.26013102,  0.36014289,  0.45616793,\n",
       "        0.54714315,  0.63206143,  0.70998273,  0.78004444,  0.84147098])"
      ]
     },
     "execution_count": 81,
     "metadata": {},
     "output_type": "execute_result"
    }
   ],
   "source": [
    "np.sin(x)"
   ]
  },
  {
   "cell_type": "code",
   "execution_count": 82,
   "id": "0689bc3b-9c8d-44e0-9f30-e0638c11416a",
   "metadata": {},
   "outputs": [
    {
     "data": {
      "text/plain": [
       "[<matplotlib.lines.Line2D at 0x7ff126b52540>]"
      ]
     },
     "execution_count": 82,
     "metadata": {},
     "output_type": "execute_result"
    },
    {
     "data": {
      "image/png": "[encoded data removed]",
      "text/plain": [
       "<Figure size 640x480 with 1 Axes>"
      ]
     },
     "metadata": {},
     "output_type": "display_data"
    }
   ],
   "source": [
    "plt.plot(x, np.sin(x))"
   ]
  },
  {
   "cell_type": "code",
   "execution_count": 87,
   "id": "3d8cc407-240a-4dad-8317-5891c45fd876",
   "metadata": {},
   "outputs": [
    {
     "data": {
      "text/plain": [
       "array([[1., 1., 1., 1., 1., 1.],\n",
       "       [1., 1., 1., 1., 1., 1.],\n",
       "       [1., 1., 1., 1., 1., 1.],\n",
       "       [1., 1., 1., 1., 1., 1.]])"
      ]
     },
     "execution_count": 87,
     "metadata": {},
     "output_type": "execute_result"
    }
   ],
   "source": [
    "np.ones((4, 6))"
   ]
  },
  {
   "cell_type": "code",
   "execution_count": 89,
   "id": "779cf551-cf00-4b7e-8bc8-e0452bb98ff1",
   "metadata": {},
   "outputs": [
    {
     "data": {
      "text/plain": [
       "(4, 6)"
      ]
     },
     "execution_count": 89,
     "metadata": {},
     "output_type": "execute_result"
    }
   ],
   "source": [
    "np.ones((4, 6)).shape"
   ]
  },
  {
   "cell_type": "code",
   "execution_count": 91,
   "id": "a06fbd39-3144-4500-8561-05df1098b78c",
   "metadata": {},
   "outputs": [
    {
     "data": {
      "text/plain": [
       "(6, 4)"
      ]
     },
     "execution_count": 91,
     "metadata": {},
     "output_type": "execute_result"
    }
   ],
   "source": [
    "np.ones((4, 6)).T.shape"
   ]
  },
  {
   "cell_type": "code",
   "execution_count": 94,
   "id": "250c1871-b2e9-4fe6-9fd8-40d579d125be",
   "metadata": {},
   "outputs": [
    {
     "name": "stdout",
     "output_type": "stream",
     "text": [
      "[[1 2]\n",
      " [3 4]]\n",
      "[[1 3]\n",
      " [2 4]]\n"
     ]
    }
   ],
   "source": [
    "A = np.array([[1, 2], [3, 4]])\n",
    "print(A)\n",
    "print(A.T)"
   ]
  },
  {
   "cell_type": "code",
   "execution_count": 96,
   "id": "b74a83f2-4a5d-4c2b-b242-088937ef976e",
   "metadata": {},
   "outputs": [
    {
     "data": {
      "text/plain": [
       "array([[1, 2, 3, 4]])"
      ]
     },
     "execution_count": 96,
     "metadata": {},
     "output_type": "execute_result"
    }
   ],
   "source": [
    "np.reshape(A, (1, 4))"
   ]
  },
  {
   "cell_type": "code",
   "execution_count": 98,
   "id": "9353c003-2804-4001-a1a8-61e7b891b8b0",
   "metadata": {},
   "outputs": [
    {
     "data": {
      "text/plain": [
       "array([1, 2, 3, 4])"
      ]
     },
     "execution_count": 98,
     "metadata": {},
     "output_type": "execute_result"
    }
   ],
   "source": [
    "np.reshape(A, 4)\n",
    "# desde una consola,\n",
    "# si python está instalado\n",
    "# pip install numpy"
   ]
  },
  {
   "cell_type": "code",
   "execution_count": 100,
   "id": "2592fadb-fe73-4c89-a08d-803fc5a29725",
   "metadata": {},
   "outputs": [],
   "source": [
    "B = A # es B un nuevo array?"
   ]
  },
  {
   "cell_type": "code",
   "execution_count": 101,
   "id": "e6ab981f-112b-4c9b-b09f-5136fbc2ad77",
   "metadata": {},
   "outputs": [],
   "source": [
    "B[0] = -123"
   ]
  },
  {
   "cell_type": "code",
   "execution_count": 102,
   "id": "42ac10d7-1438-4f8b-b8b9-59a928dd05d0",
   "metadata": {},
   "outputs": [
    {
     "data": {
      "text/plain": [
       "array([[-123, -123],\n",
       "       [   3,    4]])"
      ]
     },
     "execution_count": 102,
     "metadata": {},
     "output_type": "execute_result"
    }
   ],
   "source": [
    "A"
   ]
  },
  {
   "cell_type": "code",
   "execution_count": 103,
   "id": "1815ad4f-5f34-4bc9-a0f2-935865678346",
   "metadata": {},
   "outputs": [],
   "source": [
    "B[1, 0]= 23"
   ]
  },
  {
   "cell_type": "code",
   "execution_count": 104,
   "id": "246c048e-af71-4a34-9dc3-792fe43dfd70",
   "metadata": {},
   "outputs": [
    {
     "data": {
      "text/plain": [
       "array([[-123, -123],\n",
       "       [  23,    4]])"
      ]
     },
     "execution_count": 104,
     "metadata": {},
     "output_type": "execute_result"
    }
   ],
   "source": [
    "A"
   ]
  },
  {
   "cell_type": "code",
   "execution_count": 105,
   "id": "69441304-745c-40fa-8b11-2d0efe4cc6c3",
   "metadata": {},
   "outputs": [
    {
     "data": {
      "text/plain": [
       "array([[-123, -123],\n",
       "       [  23,    4]])"
      ]
     },
     "execution_count": 105,
     "metadata": {},
     "output_type": "execute_result"
    }
   ],
   "source": [
    "A"
   ]
  },
  {
   "cell_type": "code",
   "execution_count": 106,
   "id": "a3dc1ebf-c1b7-4195-b721-c32d94ee53d4",
   "metadata": {},
   "outputs": [
    {
     "data": {
      "text/plain": [
       "array([-123, -123])"
      ]
     },
     "execution_count": 106,
     "metadata": {},
     "output_type": "execute_result"
    }
   ],
   "source": [
    "A[0]"
   ]
  },
  {
   "cell_type": "code",
   "execution_count": 107,
   "id": "34173262-fc06-4ad0-9783-e0ff53bcbbdc",
   "metadata": {},
   "outputs": [],
   "source": [
    "A = A + 1000"
   ]
  },
  {
   "cell_type": "code",
   "execution_count": 108,
   "id": "feade317-58c5-40af-a2e4-acc73ef1831f",
   "metadata": {},
   "outputs": [
    {
     "data": {
      "text/plain": [
       "array([[ 877,  877],\n",
       "       [1023, 1004]])"
      ]
     },
     "execution_count": 108,
     "metadata": {},
     "output_type": "execute_result"
    }
   ],
   "source": [
    "A"
   ]
  },
  {
   "cell_type": "code",
   "execution_count": 109,
   "id": "eebdc0c9-7f62-429b-9bd2-4e6b22ca6389",
   "metadata": {},
   "outputs": [],
   "source": [
    "A = A * 0.0000000001"
   ]
  },
  {
   "cell_type": "code",
   "execution_count": 110,
   "id": "a9defb6b-0001-4ec1-9316-cebf5a44976c",
   "metadata": {},
   "outputs": [
    {
     "data": {
      "text/plain": [
       "array([[8.770e-08, 8.770e-08],\n",
       "       [1.023e-07, 1.004e-07]])"
      ]
     },
     "execution_count": 110,
     "metadata": {},
     "output_type": "execute_result"
    }
   ],
   "source": [
    "A"
   ]
  },
  {
   "cell_type": "code",
   "execution_count": 111,
   "id": "2ceadea6-4dd6-4a6b-90f6-1bdf9a4d30ec",
   "metadata": {},
   "outputs": [
    {
     "data": {
      "text/plain": [
       "array([[7.691290e-15, 7.691290e-15],\n",
       "       [1.046529e-14, 1.008016e-14]])"
      ]
     },
     "execution_count": 111,
     "metadata": {},
     "output_type": "execute_result"
    }
   ],
   "source": [
    "A * A"
   ]
  },
  {
   "cell_type": "code",
   "execution_count": 112,
   "id": "f94ec522-d950-4f75-a16a-087d5646b579",
   "metadata": {},
   "outputs": [
    {
     "data": {
      "text/plain": [
       "array([[1.666300e-14, 1.649637e-14],\n",
       "       [1.924263e-14, 1.905187e-14]])"
      ]
     },
     "execution_count": 112,
     "metadata": {},
     "output_type": "execute_result"
    }
   ],
   "source": [
    "A @ A"
   ]
  },
  {
   "cell_type": "code",
   "execution_count": 115,
   "id": "f99d4278-4cd3-4c7e-b4f6-edb25a2e294f",
   "metadata": {},
   "outputs": [],
   "source": [
    "var_dict = {'primero':10, 'segundo':20, 'matriz':A}"
   ]
  },
  {
   "cell_type": "code",
   "execution_count": 116,
   "id": "3173fa84-8447-40c5-becf-b5085b82c7ab",
   "metadata": {},
   "outputs": [
    {
     "data": {
      "text/plain": [
       "{'primero': 10,\n",
       " 'segundo': 20,\n",
       " 'matriz': array([[8.770e-08, 8.770e-08],\n",
       "        [1.023e-07, 1.004e-07]])}"
      ]
     },
     "execution_count": 116,
     "metadata": {},
     "output_type": "execute_result"
    }
   ],
   "source": [
    "var_dict"
   ]
  },
  {
   "cell_type": "code",
   "execution_count": 117,
   "id": "ad113451-661f-41fb-8d57-86385dfa6bcf",
   "metadata": {},
   "outputs": [],
   "source": [
    "np.save('archivonumpy.npy', var_dict)"
   ]
  },
  {
   "cell_type": "code",
   "execution_count": 119,
   "id": "e14d7413-f655-4e29-8c18-803dd0ce9360",
   "metadata": {},
   "outputs": [],
   "source": [
    "levato_var = np.load('archivonumpy.npy', allow_pickle=True)"
   ]
  },
  {
   "cell_type": "code",
   "execution_count": 120,
   "id": "2f4f6361-3803-4891-b605-74227822f5cd",
   "metadata": {},
   "outputs": [
    {
     "data": {
      "text/plain": [
       "array({'primero': 10, 'segundo': 20, 'matriz': array([[8.770e-08, 8.770e-08],\n",
       "       [1.023e-07, 1.004e-07]])}, dtype=object)"
      ]
     },
     "execution_count": 120,
     "metadata": {},
     "output_type": "execute_result"
    }
   ],
   "source": [
    "levato_var"
   ]
  },
  {
   "cell_type": "code",
   "execution_count": null,
   "id": "af058246-71ef-4e4f-85b9-b558db54a5c1",
   "metadata": {},
   "outputs": [],
   "source": [
    "sorteos = np.random.random(100)"
   ]
  },
  {
   "cell_type": "code",
   "execution_count": 143,
   "id": "4a2f46bc-f430-46dc-8601-8a6983f83c6b",
   "metadata": {},
   "outputs": [
    {
     "data": {
      "text/plain": [
       "array([[0.5879187 , 0.00982514],\n",
       "       [0.50889308, 0.5535069 ]])"
      ]
     },
     "execution_count": 143,
     "metadata": {},
     "output_type": "execute_result"
    }
   ],
   "source": [
    "np.random.random((2,2))"
   ]
  },
  {
   "cell_type": "code",
   "execution_count": 132,
   "id": "179bd24d-ae78-4374-87ef-2e2806ee211e",
   "metadata": {},
   "outputs": [],
   "source": [
    "freqs, bins = np.histogram(sorteos,10)"
   ]
  },
  {
   "cell_type": "code",
   "execution_count": 133,
   "id": "b0c76f1f-3bb1-4711-98f5-0552c5c664ad",
   "metadata": {},
   "outputs": [
    {
     "data": {
      "text/plain": [
       "array([ 7, 14,  8, 15, 12, 11,  4, 10, 13,  6])"
      ]
     },
     "execution_count": 133,
     "metadata": {},
     "output_type": "execute_result"
    }
   ],
   "source": [
    "freqs"
   ]
  },
  {
   "cell_type": "code",
   "execution_count": 134,
   "id": "e8855ef2-82d1-4775-be96-614f02f7daad",
   "metadata": {},
   "outputs": [
    {
     "data": {
      "text/plain": [
       "array([0.00529231, 0.10393743, 0.20258255, 0.30122767, 0.3998728 ,\n",
       "       0.49851792, 0.59716304, 0.69580816, 0.79445328, 0.89309841,\n",
       "       0.99174353])"
      ]
     },
     "execution_count": 134,
     "metadata": {},
     "output_type": "execute_result"
    }
   ],
   "source": [
    "bins"
   ]
  },
  {
   "cell_type": "code",
   "execution_count": null,
   "id": "05d0822f-6d7a-4239-9542-94ba191993db",
   "metadata": {},
   "outputs": [
    {
     "data": {
      "text/plain": [
       "(array([ 7., 14.,  8., 15., 12., 11.,  4., 10., 13.,  6.]),\n",
       " array([0.00529231, 0.10393743, 0.20258255, 0.30122767, 0.3998728 ,\n",
       "        0.49851792, 0.59716304, 0.69580816, 0.79445328, 0.89309841,\n",
       "        0.99174353]),\n",
       " <BarContainer object of 10 artists>)"
      ]
     },
     "execution_count": 139,
     "metadata": {},
     "output_type": "execute_result"
    },
    {
     "data": {
      "image/png": "[encoded data removed]",
      "text/plain": [
       "<Figure size 640x480 with 1 Axes>"
      ]
     },
     "metadata": {},
     "output_type": "display_data"
    }
   ],
   "source": [
    "plt.hist(sorteos)"
   ]
  },
  {
   "cell_type": "code",
   "execution_count": null,
   "id": "1a488bcf-6325-40af-8b63-1a92df7b32b3",
   "metadata": {},
   "outputs": [],
   "source": [
    "# https://numpy.org/doc/stable/user/absolute_beginners.html"
   ]
  },
  {
   "cell_type": "code",
   "execution_count": 144,
   "id": "2f31c67d-48c2-4e84-97b4-26f86e288c63",
   "metadata": {},
   "outputs": [
    {
     "name": "stdout",
     "output_type": "stream",
     "text": [
      "11 10\n"
     ]
    }
   ],
   "source": [
    "print(bins.size, freqs.size)"
   ]
  },
  {
   "cell_type": "code",
   "execution_count": null,
   "id": "e00ab013-9b1c-49a4-b90a-5132338f9592",
   "metadata": {},
   "outputs": [],
   "source": []
  }
 ],
 "metadata": {
  "kernelspec": {
   "display_name": "Python 3 (ipykernel)",
   "language": "python",
   "name": "python3"
  },
  "language_info": {
   "codemirror_mode": {
    "name": "ipython",
    "version": 3
   },
   "file_extension": ".py",
   "mimetype": "text/x-python",
   "name": "python",
   "nbconvert_exporter": "python",
   "pygments_lexer": "ipython3",
   "version": "3.12.3"
  }
 },
 "nbformat": 4,
 "nbformat_minor": 5
}
