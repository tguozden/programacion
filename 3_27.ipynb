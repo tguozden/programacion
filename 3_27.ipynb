{
 "cells": [
  {
   "cell_type": "markdown",
   "id": "b8fbb321-1e4f-4c57-8cc8-95766fff2618",
   "metadata": {
    "panel-layout": {
     "height": 80.26506042480469,
     "visible": true,
     "width": 100
    }
   },
   "source": [
    "# Programación 1\n",
    "\n",
    "## Apuntes de clase\n",
    "\n",
    "- Salida por pantalla\n",
    "- tipos de variables\n",
    "    - enteros (int), punto flotante (float), cadena de caracteres (str), listas (list)"
   ]
  },
  {
   "cell_type": "code",
   "execution_count": 1,
   "id": "91b07208-a49c-4c1c-b010-67741c3961fa",
   "metadata": {},
   "outputs": [
    {
     "name": "stdout",
     "output_type": "stream",
     "text": [
      "¡hola mundo!\n"
     ]
    }
   ],
   "source": [
    "print('¡hola mundo!')"
   ]
  },
  {
   "cell_type": "code",
   "execution_count": 8,
   "id": "860a5e10-abe6-4afa-9da7-f70ffab8b6b3",
   "metadata": {},
   "outputs": [
    {
     "data": {
      "text/plain": [
       "int"
      ]
     },
     "execution_count": 8,
     "metadata": {},
     "output_type": "execute_result"
    }
   ],
   "source": [
    "a = 1\n",
    "type(a)"
   ]
  },
  {
   "cell_type": "code",
   "execution_count": 14,
   "id": "2ac3963a-847b-4599-9d68-82337d30669f",
   "metadata": {},
   "outputs": [
    {
     "data": {
      "text/plain": [
       "str"
      ]
     },
     "execution_count": 14,
     "metadata": {},
     "output_type": "execute_result"
    }
   ],
   "source": [
    "b = 'hola mundo!'\n",
    "type(b)"
   ]
  },
  {
   "cell_type": "code",
   "execution_count": 15,
   "id": "8398bbf5-9756-4615-b4a4-cabf4b70ffb0",
   "metadata": {},
   "outputs": [
    {
     "data": {
      "text/plain": [
       "list"
      ]
     },
     "execution_count": 15,
     "metadata": {},
     "output_type": "execute_result"
    }
   ],
   "source": [
    "nueva_variable = []\n",
    "type(nueva_variable)"
   ]
  },
  {
   "cell_type": "markdown",
   "id": "2094e7c9-bc5c-4a97-81fc-094337093456",
   "metadata": {},
   "source": [
    "## Iterables\n",
    "Algunas varibles en python son iterables, esto quiere decir que se pueden contar!\n"
   ]
  },
  {
   "cell_type": "code",
   "execution_count": 17,
   "id": "f0c2fc95-9cef-4436-ac3a-81e93e7cc187",
   "metadata": {},
   "outputs": [
    {
     "name": "stdout",
     "output_type": "stream",
     "text": [
      "['zapallito', 'brócoli', 'espinaca']\n"
     ]
    }
   ],
   "source": [
    "verduras = ['zapallito', 'brócoli', 'espinaca']\n",
    "print(verduras)"
   ]
  },
  {
   "cell_type": "code",
   "execution_count": 18,
   "id": "890cdc0b-8d51-4225-a376-236aef01eb44",
   "metadata": {},
   "outputs": [
    {
     "data": {
      "text/plain": [
       "'zapallito'"
      ]
     },
     "execution_count": 18,
     "metadata": {},
     "output_type": "execute_result"
    }
   ],
   "source": [
    "verduras[0]"
   ]
  },
  {
   "cell_type": "markdown",
   "id": "c57329e8-c586-4545-b91b-520ac6e1a601",
   "metadata": {},
   "source": [
    "Las variables iterables tienen `len(var)` elementos\n",
    "el primer elemento de una variable es \n",
    "`var[0]`, el segundo `var[1]`, y el último `var[-1]`\n",
    "veamos\n"
   ]
  },
  {
   "cell_type": "code",
   "execution_count": 22,
   "id": "68380469-6c84-4357-9ae3-d1e59588cdd5",
   "metadata": {},
   "outputs": [
    {
     "name": "stdout",
     "output_type": "stream",
     "text": [
      "la lista verduras tiene 3 elementos\n",
      "el primero es zapallito \n",
      " y el último es espinaca\n"
     ]
    }
   ],
   "source": [
    "print('la lista verduras tiene',len(verduras), 'elementos'\\\n",
    "     '\\nel primero es',verduras[0], '\\n y el último es', verduras[-1])"
   ]
  },
  {
   "cell_type": "code",
   "execution_count": 12,
   "id": "3630be19-8656-4f7e-bfeb-855d04dbe8f4",
   "metadata": {},
   "outputs": [
    {
     "name": "stdout",
     "output_type": "stream",
     "text": [
      "1 \t es de tipo <class 'int'>\n",
      "1.0 \t es de tipo <class 'float'>\n",
      "0.5 \t es de tipo <class 'float'>\n",
      "1 \t es de tipo <class 'str'>\n"
     ]
    }
   ],
   "source": [
    "for i in [1, 1.0, 1/2, '1']:\n",
    "    print(i, '\\t es de tipo', type(i))"
   ]
  },
  {
   "cell_type": "code",
   "execution_count": null,
   "id": "3d136d06-9d0e-4100-aec5-e16beec92ba1",
   "metadata": {},
   "outputs": [],
   "source": []
  }
 ],
 "metadata": {
  "kernelspec": {
   "display_name": "Python 3 (ipykernel)",
   "language": "python",
   "name": "python3"
  },
  "language_info": {
   "codemirror_mode": {
    "name": "ipython",
    "version": 3
   },
   "file_extension": ".py",
   "mimetype": "text/x-python",
   "name": "python",
   "nbconvert_exporter": "python",
   "pygments_lexer": "ipython3",
   "version": "3.12.3"
  },
  "panel-cell-order": [
   "b8fbb321-1e4f-4c57-8cc8-95766fff2618"
  ]
 },
 "nbformat": 4,
 "nbformat_minor": 5
}
