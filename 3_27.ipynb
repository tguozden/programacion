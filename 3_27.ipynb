{
 "cells": [
  {
   "cell_type": "markdown",
   "id": "b8fbb321-1e4f-4c57-8cc8-95766fff2618",
   "metadata": {
    "panel-layout": {
     "height": 80.26506042480469,
     "visible": true,
     "width": 100
    }
   },
   "source": [
    "# Programación 1\n",
    "\n",
    "## Apuntes de clase\n",
    "\n",
    "- Salida por pantalla\n",
    "- tipos de variables\n",
    "    - enteros (int), punto flotante (float), cadena de caracteres (str), listas (list)"
   ]
  },
  {
   "cell_type": "code",
   "execution_count": 1,
   "id": "91b07208-a49c-4c1c-b010-67741c3961fa",
   "metadata": {},
   "outputs": [
    {
     "name": "stdout",
     "output_type": "stream",
     "text": [
      "¡hola mundo!\n"
     ]
    }
   ],
   "source": [
    "print('¡hola mundo!')"
   ]
  },
  {
   "cell_type": "code",
   "execution_count": 8,
   "id": "860a5e10-abe6-4afa-9da7-f70ffab8b6b3",
   "metadata": {},
   "outputs": [
    {
     "data": {
      "text/plain": [
       "int"
      ]
     },
     "execution_count": 8,
     "metadata": {},
     "output_type": "execute_result"
    }
   ],
   "source": [
    "a = 1\n",
    "type(a)"
   ]
  },
  {
   "cell_type": "code",
   "execution_count": 14,
   "id": "2ac3963a-847b-4599-9d68-82337d30669f",
   "metadata": {},
   "outputs": [
    {
     "data": {
      "text/plain": [
       "str"
      ]
     },
     "execution_count": 14,
     "metadata": {},
     "output_type": "execute_result"
    }
   ],
   "source": [
    "b = 'hola mundo!'\n",
    "type(b)"
   ]
  },
  {
   "cell_type": "code",
   "execution_count": 15,
   "id": "8398bbf5-9756-4615-b4a4-cabf4b70ffb0",
   "metadata": {},
   "outputs": [
    {
     "data": {
      "text/plain": [
       "list"
      ]
     },
     "execution_count": 15,
     "metadata": {},
     "output_type": "execute_result"
    }
   ],
   "source": [
    "nueva_variable = []\n",
    "type(nueva_variable)"
   ]
  },
  {
   "cell_type": "markdown",
   "id": "2094e7c9-bc5c-4a97-81fc-094337093456",
   "metadata": {},
   "source": [
    "## Iterables\n",
    "Algunas varibles en python son iterables, esto quiere decir que se pueden contar!\n"
   ]
  },
  {
   "cell_type": "code",
   "execution_count": 17,
   "id": "f0c2fc95-9cef-4436-ac3a-81e93e7cc187",
   "metadata": {},
   "outputs": [
    {
     "name": "stdout",
     "output_type": "stream",
     "text": [
      "['zapallito', 'brócoli', 'espinaca']\n"
     ]
    }
   ],
   "source": [
    "verduras = ['zapallito', 'brócoli', 'espinaca']\n",
    "print(verduras)"
   ]
  },
  {
   "cell_type": "code",
   "execution_count": 18,
   "id": "890cdc0b-8d51-4225-a376-236aef01eb44",
   "metadata": {},
   "outputs": [
    {
     "data": {
      "text/plain": [
       "'zapallito'"
      ]
     },
     "execution_count": 18,
     "metadata": {},
     "output_type": "execute_result"
    }
   ],
   "source": [
    "verduras[0]"
   ]
  },
  {
   "cell_type": "markdown",
   "id": "c57329e8-c586-4545-b91b-520ac6e1a601",
   "metadata": {},
   "source": [
    "Las variables iterables tienen `len(var)` elementos\n",
    "el primer elemento de una variable es \n",
    "`var[0]`, el segundo `var[1]`, y el último `var[-1]`\n",
    "veamos\n"
   ]
  },
  {
   "cell_type": "code",
   "execution_count": 22,
   "id": "68380469-6c84-4357-9ae3-d1e59588cdd5",
   "metadata": {},
   "outputs": [
    {
     "name": "stdout",
     "output_type": "stream",
     "text": [
      "la lista verduras tiene 3 elementos\n",
      "el primero es zapallito \n",
      " y el último es espinaca\n"
     ]
    }
   ],
   "source": [
    "print('la lista verduras tiene',len(verduras), 'elementos'\\\n",
    "     '\\nel primero es',verduras[0], '\\n y el último es', verduras[-1])"
   ]
  },
  {
   "cell_type": "code",
   "execution_count": 12,
   "id": "3630be19-8656-4f7e-bfeb-855d04dbe8f4",
   "metadata": {},
   "outputs": [
    {
     "name": "stdout",
     "output_type": "stream",
     "text": [
      "1 \t es de tipo <class 'int'>\n",
      "1.0 \t es de tipo <class 'float'>\n",
      "0.5 \t es de tipo <class 'float'>\n",
      "1 \t es de tipo <class 'str'>\n"
     ]
    }
   ],
   "source": [
    "for i in [1, 1.0, 1/2, '1']:\n",
    "    print(i, '\\t es de tipo', type(i))"
   ]
  },
  {
   "cell_type": "code",
   "execution_count": 2,
   "id": "3d136d06-9d0e-4100-aec5-e16beec92ba1",
   "metadata": {},
   "outputs": [],
   "source": [
    "milista = [1, 2, 3, 4, 5, 6, 7, 8, 9, 0]"
   ]
  },
  {
   "cell_type": "code",
   "execution_count": 3,
   "id": "048963e3-1d92-4e74-9520-2abd0099830d",
   "metadata": {},
   "outputs": [
    {
     "data": {
      "text/plain": [
       "10"
      ]
     },
     "execution_count": 3,
     "metadata": {},
     "output_type": "execute_result"
    }
   ],
   "source": [
    "len(milista)"
   ]
  },
  {
   "cell_type": "code",
   "execution_count": 4,
   "id": "f7c9476e-f2bd-4c0f-8be6-c84aa35624f5",
   "metadata": {},
   "outputs": [
    {
     "name": "stdout",
     "output_type": "stream",
     "text": [
      "0 ,1 ,2 ,3 ,4 ,5 ,6 ,7 ,8 ,9 ,"
     ]
    }
   ],
   "source": [
    "for i in range(10):\n",
    "    print(i, end = ' ,')"
   ]
  },
  {
   "cell_type": "code",
   "execution_count": 5,
   "id": "fa035953-60d1-482d-a434-6807e49dbfc6",
   "metadata": {},
   "outputs": [
    {
     "name": "stdout",
     "output_type": "stream",
     "text": [
      "h o o\n"
     ]
    }
   ],
   "source": [
    "cadena = 'hola mundo'\n",
    "print(cadena[0], cadena[1], cadena[-1])"
   ]
  },
  {
   "cell_type": "code",
   "execution_count": 6,
   "id": "959d2902-e84d-435c-8fc4-173dc40c5107",
   "metadata": {},
   "outputs": [
    {
     "data": {
      "text/plain": [
       "['h', 'o', 'l', 'a', ' ', 'm', 'u', 'n', 'd', 'o']"
      ]
     },
     "execution_count": 6,
     "metadata": {},
     "output_type": "execute_result"
    }
   ],
   "source": [
    "list(cadena)"
   ]
  },
  {
   "cell_type": "code",
   "execution_count": 13,
   "id": "48ad309e-6109-4f5e-8f0b-9ee67d4ee2b7",
   "metadata": {},
   "outputs": [
    {
     "name": "stdout",
     "output_type": "stream",
     "text": [
      "[5, 5, 9, 2, 3, 3, 3, 4, 3, 1]\n"
     ]
    }
   ],
   "source": [
    "import random\n",
    "\n",
    "lista_2 = list(range(10))\n",
    "for i in range(10):\n",
    "    lista_2[i] = random.randint(1, 10)\n",
    "\n",
    "print(lista_2)"
   ]
  },
  {
   "cell_type": "code",
   "execution_count": 14,
   "id": "30372654-63b3-4c82-a61a-5fac8610541b",
   "metadata": {},
   "outputs": [
    {
     "name": "stdout",
     "output_type": "stream",
     "text": [
      "['nuevo elemento']\n"
     ]
    }
   ],
   "source": [
    "lista_3 = []\n",
    "lista_3.append('nuevo elemento')\n",
    "print(lista_3)"
   ]
  },
  {
   "cell_type": "code",
   "execution_count": 30,
   "id": "483ba69a-dddb-4dd9-9c21-58137486eb29",
   "metadata": {},
   "outputs": [
    {
     "data": {
      "text/plain": [
       "4"
      ]
     },
     "execution_count": 30,
     "metadata": {},
     "output_type": "execute_result"
    }
   ],
   "source": [
    "mezcla = [1, 1.0, 'string', 1 + 1j]\n",
    "len(mezcla)"
   ]
  },
  {
   "cell_type": "code",
   "execution_count": 31,
   "id": "0997bed2-ed90-4c2c-a6cf-b33c9cd554e6",
   "metadata": {},
   "outputs": [
    {
     "name": "stdout",
     "output_type": "stream",
     "text": [
      "[(1+1j), 1, 'string', 1.0, 1, 'string', (1+1j), (1+1j), 'string', (1+1j), 'string', 1.0, (1+1j), 1.0, 'string', (1+1j), 1.0, (1+1j), 'string', 1]\n"
     ]
    }
   ],
   "source": [
    "lista_3 = []\n",
    "for i in range(20):\n",
    "    sorteo = random.randint(0,3)\n",
    "    lista_3.append(mezcla[sorteo])\n",
    "print(lista_3)"
   ]
  },
  {
   "cell_type": "code",
   "execution_count": 32,
   "id": "5d8ca7a6-c738-45b5-aa83-e90908835d85",
   "metadata": {},
   "outputs": [],
   "source": [
    "nuevalista = lista_3"
   ]
  },
  {
   "cell_type": "code",
   "execution_count": 33,
   "id": "fd42bc79-7bb1-4943-9e9f-fb4b455981ef",
   "metadata": {},
   "outputs": [],
   "source": [
    "nuevalista.append('algo nuevo que antes no estaba')"
   ]
  },
  {
   "cell_type": "code",
   "execution_count": 34,
   "id": "10eea101-bf8c-43fa-90c1-5faf69ff3e13",
   "metadata": {},
   "outputs": [
    {
     "name": "stdout",
     "output_type": "stream",
     "text": [
      "[(1+1j), 1, 'string', 1.0, 1, 'string', (1+1j), (1+1j), 'string', (1+1j), 'string', 1.0, (1+1j), 1.0, 'string', (1+1j), 1.0, (1+1j), 'string', 1, 'algo nuevo que antes no estaba']\n"
     ]
    }
   ],
   "source": [
    "print(lista_3)"
   ]
  },
  {
   "cell_type": "code",
   "execution_count": 35,
   "id": "c1f33a9d-c7e9-4744-b57a-b58d56331e1b",
   "metadata": {},
   "outputs": [
    {
     "name": "stdout",
     "output_type": "stream",
     "text": [
      "[0, 1, 'string', 1.0, 1, 'string', (1+1j), (1+1j), 'string', (1+1j), 'string', 1.0, (1+1j), 1.0, 'string', (1+1j), 1.0, (1+1j), 'string', 1, 'algo nuevo que antes no estaba']\n"
     ]
    }
   ],
   "source": [
    "lista_3[0] = 0\n",
    "print(lista_3)"
   ]
  },
  {
   "cell_type": "code",
   "execution_count": 37,
   "id": "15ecab89-1367-439b-9621-1c452372cfcc",
   "metadata": {},
   "outputs": [
    {
     "ename": "TypeError",
     "evalue": "'str' object does not support item assignment",
     "output_type": "error",
     "traceback": [
      "\u001b[0;31m---------------------------------------------------------------------------\u001b[0m",
      "\u001b[0;31mTypeError\u001b[0m                                 Traceback (most recent call last)",
      "Cell \u001b[0;32mIn[37], line 1\u001b[0m\n\u001b[0;32m----> 1\u001b[0m \u001b[43mcadena\u001b[49m\u001b[43m[\u001b[49m\u001b[38;5;241;43m0\u001b[39;49m\u001b[43m]\u001b[49m \u001b[38;5;241m=\u001b[39m \u001b[38;5;124m'\u001b[39m\u001b[38;5;124m_\u001b[39m\u001b[38;5;124m'\u001b[39m\n",
      "\u001b[0;31mTypeError\u001b[0m: 'str' object does not support item assignment"
     ]
    }
   ],
   "source": [
    "cadena[0] = '_'"
   ]
  },
  {
   "cell_type": "markdown",
   "id": "568998d7-32c8-4d97-a2d3-7a39e2f07e8d",
   "metadata": {},
   "source": [
    "## Ejercicio\n",
    "Creen una lista con 20 enteros sorteados al azar entre 1 y 10 y den el máximo, ,el mínimo y el promedio"
   ]
  },
  {
   "cell_type": "code",
   "execution_count": null,
   "id": "093e6b89-ad19-40af-9779-165d741804bf",
   "metadata": {},
   "outputs": [],
   "source": []
  }
 ],
 "metadata": {
  "kernelspec": {
   "display_name": "Python 3 (ipykernel)",
   "language": "python",
   "name": "python3"
  },
  "language_info": {
   "codemirror_mode": {
    "name": "ipython",
    "version": 3
   },
   "file_extension": ".py",
   "mimetype": "text/x-python",
   "name": "python",
   "nbconvert_exporter": "python",
   "pygments_lexer": "ipython3",
   "version": "3.12.3"
  },
  "panel-cell-order": [
   "b8fbb321-1e4f-4c57-8cc8-95766fff2618"
  ]
 },
 "nbformat": 4,
 "nbformat_minor": 5
}
