{
 "cells": [
  {
   "cell_type": "code",
   "execution_count": 16,
   "id": "736bfff2-1509-409a-aa71-c74b44b297da",
   "metadata": {},
   "outputs": [],
   "source": [
    "import random\n"
   ]
  },
  {
   "cell_type": "code",
   "execution_count": 18,
   "id": "af156d4c-07f5-40ff-ab79-9a74dbebfc1c",
   "metadata": {},
   "outputs": [
    {
     "data": {
      "text/plain": [
       "0.04405638697208014"
      ]
     },
     "execution_count": 18,
     "metadata": {},
     "output_type": "execute_result"
    }
   ],
   "source": [
    "random.random()"
   ]
  },
  {
   "cell_type": "code",
   "execution_count": 20,
   "id": "fd5ab029-425d-4c46-985d-f80b6bbed1f3",
   "metadata": {},
   "outputs": [
    {
     "name": "stdout",
     "output_type": "stream",
     "text": [
      "84 57 17 92 30 28 90 99 6 95 "
     ]
    }
   ],
   "source": [
    "for i in range (10):\n",
    "    print(random.randint(1,100), end=' ')"
   ]
  },
  {
   "cell_type": "code",
   "execution_count": 1,
   "id": "d23426b0-af48-4bbb-ba8a-61c17ea726c4",
   "metadata": {},
   "outputs": [],
   "source": [
    "import primer_lib_com3"
   ]
  },
  {
   "cell_type": "code",
   "execution_count": 2,
   "id": "bff3b8e0-7e73-4155-bba5-b67196d2c024",
   "metadata": {},
   "outputs": [
    {
     "name": "stdout",
     "output_type": "stream",
     "text": [
      "hola\n"
     ]
    }
   ],
   "source": [
    "primer_lib_com3.holamundo()"
   ]
  },
  {
   "cell_type": "code",
   "execution_count": 4,
   "id": "ee25bf96-4d90-403d-9a10-a45cf6a81ecf",
   "metadata": {},
   "outputs": [
    {
     "name": "stdout",
     "output_type": "stream",
     "text": [
      "hola juan\n"
     ]
    }
   ],
   "source": [
    "primer_lib_com3.saludar('juan')"
   ]
  },
  {
   "cell_type": "code",
   "execution_count": 5,
   "id": "4f686736-1568-4949-a906-4b50e0ffc35b",
   "metadata": {},
   "outputs": [],
   "source": [
    "from primer_lib_com3 import convierte_temp"
   ]
  },
  {
   "cell_type": "code",
   "execution_count": 7,
   "id": "d6abc643-5b69-4c74-b6f1-ea5639434b7b",
   "metadata": {},
   "outputs": [
    {
     "name": "stdout",
     "output_type": "stream",
     "text": [
      "temp en farenheit 20\n"
     ]
    }
   ],
   "source": [
    "convierte_temp(celsius=10)"
   ]
  },
  {
   "cell_type": "code",
   "execution_count": 8,
   "id": "7df9a693-cdc5-4f17-b435-c2daad730f3e",
   "metadata": {},
   "outputs": [],
   "source": [
    "from primer_lib_com3 import convierte_temp as ricardo"
   ]
  },
  {
   "cell_type": "code",
   "execution_count": 12,
   "id": "817bdc63-71d4-4ccf-ba5b-171506234843",
   "metadata": {},
   "outputs": [
    {
     "name": "stdout",
     "output_type": "stream",
     "text": [
      "temp en celsius 0.0\n"
     ]
    }
   ],
   "source": [
    "ricardo(farenheit=0)"
   ]
  },
  {
   "cell_type": "code",
   "execution_count": 13,
   "id": "2b44fff3-b54a-4615-b3bc-237587135436",
   "metadata": {},
   "outputs": [],
   "source": [
    "archivo = open('pepe.txt', 'r') # 'r' para read 'w' para write"
   ]
  },
  {
   "cell_type": "code",
   "execution_count": 14,
   "id": "2dbbf184-ce08-417c-8528-de65e3bb7bcd",
   "metadata": {},
   "outputs": [
    {
     "data": {
      "text/plain": [
       "'hola mundo!\\nme llamo tomás\\nfin.'"
      ]
     },
     "execution_count": 14,
     "metadata": {},
     "output_type": "execute_result"
    }
   ],
   "source": [
    "archivo.read()"
   ]
  },
  {
   "cell_type": "code",
   "execution_count": 15,
   "id": "e72636b8-a6a4-4279-818e-62c871463dc5",
   "metadata": {},
   "outputs": [],
   "source": [
    "texto='''hoy es un jueves 15 de mayo, está un poco nublado y el día es más gris que soleado'''"
   ]
  },
  {
   "cell_type": "code",
   "execution_count": 16,
   "id": "4c205205-d51a-4bb8-a680-cad8896109ff",
   "metadata": {},
   "outputs": [],
   "source": [
    "archivo.close() # cierro el archivo anterior"
   ]
  },
  {
   "cell_type": "code",
   "execution_count": 18,
   "id": "b7737590-19f4-4273-bd5b-ef10d42eb99d",
   "metadata": {},
   "outputs": [],
   "source": [
    "archivo = open('hoy.txt', 'w')"
   ]
  },
  {
   "cell_type": "code",
   "execution_count": 19,
   "id": "7983498e-22f3-406c-bc9d-d90b2e637ab2",
   "metadata": {},
   "outputs": [
    {
     "data": {
      "text/plain": [
       "82"
      ]
     },
     "execution_count": 19,
     "metadata": {},
     "output_type": "execute_result"
    }
   ],
   "source": [
    "archivo.write(texto)"
   ]
  },
  {
   "cell_type": "code",
   "execution_count": 20,
   "id": "58674c6a-02eb-46a3-a3b0-84b8053718e8",
   "metadata": {},
   "outputs": [],
   "source": [
    "archivo.close()"
   ]
  },
  {
   "cell_type": "code",
   "execution_count": 22,
   "id": "c598e67d-e82a-4176-bab6-ac8af13021a8",
   "metadata": {},
   "outputs": [
    {
     "name": "stdout",
     "output_type": "stream",
     "text": [
      "hola mundo!\n",
      "me llamo tomás\n",
      "fin."
     ]
    }
   ],
   "source": [
    "archivo = open('pepe.txt', 'r') # 'r' para read 'w' para write\n",
    "for linea in archivo:\n",
    "    print(linea,end='')"
   ]
  },
  {
   "cell_type": "code",
   "execution_count": null,
   "id": "2b51e1b0-0996-4571-aa6a-53c6aa944535",
   "metadata": {},
   "outputs": [],
   "source": [
    "# String matching: dadas dos secuencias de caracteres, encontrar todas\n",
    "# aquellas posiciones de la primera en la que aparece la segunda.\n",
    "\n",
    "# Ejercicio 1: Implementar una función que resuelva el problema de string\n",
    "# matching. Ayuda: recorrer el primer string hasta encontrar la primera letra y\n",
    "# revisar a partir de ahí si toda la palabra está y retornar una lista con las\n",
    "# posiciones en las que la palabra aparezca\n",
    "\n",
    "por ejemplo la función: busqueda('h', 'hola mundo\\nhola qué tal')\n",
    "debería devolver:       [0, 11]"
   ]
  },
  {
   "cell_type": "code",
   "execution_count": 23,
   "id": "966a6af8-dfae-4a73-ad1c-8f30d9066e67",
   "metadata": {},
   "outputs": [
    {
     "name": "stdout",
     "output_type": "stream",
     "text": [
      "0\n",
      "11\n"
     ]
    }
   ],
   "source": [
    "for i, letra in enumerate('hola mundo\\nhola qué tal'):\n",
    "    if letra=='h': print(i)\n",
    "\n",
    "\n"
   ]
  },
  {
   "cell_type": "code",
   "execution_count": 54,
   "id": "f9286f32-ac8b-4d2b-95d2-253b3c0f83e0",
   "metadata": {},
   "outputs": [
    {
     "data": {
      "text/plain": [
       "[0, 11, 25]"
      ]
     },
     "execution_count": 54,
     "metadata": {},
     "output_type": "execute_result"
    }
   ],
   "source": [
    "clave = 'hola'\n",
    "texto = 'hola mundo,holaqueh tal, holah'\n",
    "lista = []\n",
    "for i, letra in enumerate(texto[0:-len(clave)+1]):\n",
    "    if letra == clave[0]:\n",
    "        # me tengo que fijar si el resto de las letras coincide\n",
    "        # clave[1], clave[2], etc\n",
    "        ncoinc = 0\n",
    "        for j,letra2 in enumerate(clave):\n",
    "            if letra2 == texto[i + j]:\n",
    "                ncoinc += 1\n",
    "            else:\n",
    "                break\n",
    "        if ncoinc == len(clave):\n",
    "            # print('la clave', 'clave, está en la posición', i, 'de', texto)\n",
    "            lista.append(i)\n",
    "            \n",
    "lista"
   ]
  },
  {
   "cell_type": "code",
   "execution_count": 44,
   "id": "e8dbaea5-42dd-47c7-baf0-a30f5b5e4667",
   "metadata": {},
   "outputs": [
    {
     "name": "stdout",
     "output_type": "stream",
     "text": [
      "0 h\n",
      "1 o\n",
      "2 l\n",
      "3 a\n"
     ]
    }
   ],
   "source": [
    "contador = 0\n",
    "for letra in 'hola':\n",
    "    print(contador , letra)\n",
    "    contador += 1\n",
    "    "
   ]
  },
  {
   "cell_type": "code",
   "execution_count": 45,
   "id": "6cafacc7-a630-493e-88b8-12bf44c63c7c",
   "metadata": {},
   "outputs": [
    {
     "name": "stdout",
     "output_type": "stream",
     "text": [
      "0 h\n",
      "1 o\n",
      "2 l\n",
      "3 a\n"
     ]
    }
   ],
   "source": [
    "for contador, letra in enumerate('hola'):\n",
    "    print(contador , letra)"
   ]
  },
  {
   "cell_type": "code",
   "execution_count": 55,
   "id": "fb7e6ae7-2dce-442e-b468-9560780cc1b6",
   "metadata": {},
   "outputs": [
    {
     "data": {
      "text/plain": [
       "[0, 11]"
      ]
     },
     "execution_count": 55,
     "metadata": {},
     "output_type": "execute_result"
    }
   ],
   "source": [
    "clave = 'hola'\n",
    "texto = 'hola mundo,holaqueh tal, holhh'\n",
    "lista = []\n",
    "for i, letra in enumerate(texto[0 : -len(clave) + 1]):\n",
    "    if letra == clave[0]:\n",
    "        # me tengo que fijar si el resto de las letras coincide\n",
    "        # clave[1], clave[2], etc\n",
    "        ncoinc = 0\n",
    "        for j,letra2 in enumerate(clave):\n",
    "            if letra2 == texto[i + j]:\n",
    "                ncoinc += 1\n",
    "            else:\n",
    "                break\n",
    "        if ncoinc == len(clave):\n",
    "            # print('la clave', 'clave, está en la posición', i, 'de', texto)\n",
    "            lista.append(i)\n",
    "            \n",
    "lista"
   ]
  },
  {
   "cell_type": "code",
   "execution_count": 60,
   "id": "8cbc57be-541e-442e-bf7b-1ed4a39e5a0a",
   "metadata": {},
   "outputs": [
    {
     "data": {
      "text/plain": [
       "-1"
      ]
     },
     "execution_count": 60,
     "metadata": {},
     "output_type": "execute_result"
    }
   ],
   "source": [
    "lista = []texto.find(clave,12)"
   ]
  },
  {
   "cell_type": "code",
   "execution_count": 61,
   "id": "18dc3a16-2132-4ffc-a3e5-aa8c5c6b8bbb",
   "metadata": {},
   "outputs": [
    {
     "data": {
      "text/plain": [
       "[0, 11]"
      ]
     },
     "execution_count": 61,
     "metadata": {},
     "output_type": "execute_result"
    }
   ],
   "source": [
    "lista = []\n",
    "p = -1\n",
    "while True:\n",
    "    p = texto.find(clave, p + 1)\n",
    "    if p > -1:\n",
    "        lista.append(p)\n",
    "    else:\n",
    "        break\n",
    "lista"
   ]
  },
  {
   "cell_type": "code",
   "execution_count": 64,
   "id": "17117e1b-96d3-4645-8985-709a73829ebd",
   "metadata": {},
   "outputs": [
    {
     "data": {
      "text/plain": [
       "[0, 11]"
      ]
     },
     "execution_count": 64,
     "metadata": {},
     "output_type": "execute_result"
    }
   ],
   "source": [
    "clave = 'hola'\n",
    "N = len(clave)\n",
    "texto = 'hola mundo,holaqueh tal, holhh'\n",
    "lista = []\n",
    "for i, letra in enumerate(texto[0 : -N + 1]):\n",
    "    if clave == texto[i:i + N]:\n",
    "        lista.append(i)\n",
    "            \n",
    "lista"
   ]
  },
  {
   "cell_type": "code",
   "execution_count": null,
   "id": "7d913a62-7a52-4879-b3b0-5219fbe53456",
   "metadata": {},
   "outputs": [],
   "source": []
  }
 ],
 "metadata": {
  "kernelspec": {
   "display_name": "Python 3 (ipykernel)",
   "language": "python",
   "name": "python3"
  },
  "language_info": {
   "codemirror_mode": {
    "name": "ipython",
    "version": 3
   },
   "file_extension": ".py",
   "mimetype": "text/x-python",
   "name": "python",
   "nbconvert_exporter": "python",
   "pygments_lexer": "ipython3",
   "version": "3.12.3"
  }
 },
 "nbformat": 4,
 "nbformat_minor": 5
}
