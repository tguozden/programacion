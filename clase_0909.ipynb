{
 "cells": [
  {
   "cell_type": "code",
   "execution_count": 7,
   "id": "d0a6f838-b315-4688-9ca2-386069ccea7f",
   "metadata": {},
   "outputs": [],
   "source": [
    "import numpy as np\n",
    "from matplotlib import pyplot as plt"
   ]
  },
  {
   "cell_type": "code",
   "execution_count": 2,
   "id": "5a1700c1-df36-41a7-9f45-0097f764a811",
   "metadata": {},
   "outputs": [],
   "source": [
    "x = np.linspace(-10, 10, 1000)"
   ]
  },
  {
   "cell_type": "code",
   "execution_count": 3,
   "id": "52e989fe-4562-43d0-b07c-9b44006281f9",
   "metadata": {},
   "outputs": [],
   "source": [
    "y = np.sin(x)"
   ]
  },
  {
   "cell_type": "code",
   "execution_count": 4,
   "id": "a96e28d9-a4af-4f8e-b36e-3489314556ab",
   "metadata": {},
   "outputs": [
    {
     "data": {
      "text/plain": [
       "array([ 0.84147098,  0.90929743,  0.14112001, -0.7568025 ])"
      ]
     },
     "execution_count": 4,
     "metadata": {},
     "output_type": "execute_result"
    }
   ],
   "source": [
    "# pregunta de damián: \n",
    "# np.sin() toma un iterable cualquiera\n",
    "# y devuelve un array\n",
    "np.sin([1, 2, 3, 4])"
   ]
  },
  {
   "cell_type": "code",
   "execution_count": 6,
   "id": "08e92185-838e-481b-85ac-8e17d000229c",
   "metadata": {},
   "outputs": [
    {
     "data": {
      "text/plain": [
       "array([ 0.        ,  0.84147098,  0.90929743,  0.14112001, -0.7568025 ,\n",
       "       -0.95892427, -0.2794155 ,  0.6569866 ,  0.98935825,  0.41211849])"
      ]
     },
     "execution_count": 6,
     "metadata": {},
     "output_type": "execute_result"
    }
   ],
   "source": [
    "np.sin(range(10))"
   ]
  },
  {
   "cell_type": "code",
   "execution_count": 12,
   "id": "7541c691-8ee5-4d4e-850d-5a0ea04ea991",
   "metadata": {},
   "outputs": [
    {
     "data": {
      "image/png": "[encoded data removed]",
      "text/plain": [
       "<Figure size 200x200 with 1 Axes>"
      ]
     },
     "metadata": {},
     "output_type": "display_data"
    }
   ],
   "source": [
    "fig = plt.figure(figsize=(2, 2))  # achicar la figura deja las fuentes\n",
    "                                  # más grandes en relación al gráfico\n",
    "plt.plot(x, y, '-')\n",
    "plt.show() # fuera de jupyter es necesario .show() para graficar "
   ]
  },
  {
   "cell_type": "code",
   "execution_count": 13,
   "id": "52e5947e-bd9f-4391-a620-f2a2eaf539ba",
   "metadata": {},
   "outputs": [
    {
     "data": {
      "text/plain": [
       "array([1., 1.])"
      ]
     },
     "execution_count": 13,
     "metadata": {},
     "output_type": "execute_result"
    }
   ],
   "source": [
    "# matrices:\n",
    "np.ones(2) # array de 1D"
   ]
  },
  {
   "cell_type": "code",
   "execution_count": 14,
   "id": "d62b49ff-5163-435c-81af-5d9e9a78e4c5",
   "metadata": {},
   "outputs": [
    {
     "data": {
      "text/plain": [
       "array([[1., 1., 1.],\n",
       "       [1., 1., 1.]])"
      ]
     },
     "execution_count": 14,
     "metadata": {},
     "output_type": "execute_result"
    }
   ],
   "source": [
    "np.ones( (2, 3) )# 2D "
   ]
  },
  {
   "cell_type": "code",
   "execution_count": 15,
   "id": "60511a4c-1f36-4511-922e-25d31e6907d7",
   "metadata": {},
   "outputs": [
    {
     "data": {
      "text/plain": [
       "array([[[1., 1., 1.],\n",
       "        [1., 1., 1.],\n",
       "        [1., 1., 1.]],\n",
       "\n",
       "       [[1., 1., 1.],\n",
       "        [1., 1., 1.],\n",
       "        [1., 1., 1.]],\n",
       "\n",
       "       [[1., 1., 1.],\n",
       "        [1., 1., 1.],\n",
       "        [1., 1., 1.]]])"
      ]
     },
     "execution_count": 15,
     "metadata": {},
     "output_type": "execute_result"
    }
   ],
   "source": [
    "np.ones( (3, 3, 3) ) # 3D: cubo de datos"
   ]
  },
  {
   "cell_type": "code",
   "execution_count": 16,
   "id": "b3bf6bfb-bb59-45e8-94b3-47c085dbebd3",
   "metadata": {},
   "outputs": [
    {
     "data": {
      "text/plain": [
       "array([[1., 0.],\n",
       "       [0., 1.]])"
      ]
     },
     "execution_count": 16,
     "metadata": {},
     "output_type": "execute_result"
    }
   ],
   "source": [
    "np.eye(2) #2D, shape cuadrado\n",
    "          # 1 si el número de fila\n",
    "          # coincide con el número de columna\n",
    "          # 0 si no coincide"
   ]
  },
  {
   "cell_type": "code",
   "execution_count": 17,
   "id": "d9616d5d-368f-4bbe-8c3e-570508b3b0e3",
   "metadata": {},
   "outputs": [
    {
     "data": {
      "text/plain": [
       "array([[1., 0., 0., 0., 0., 0., 0., 0., 0., 0.],\n",
       "       [0., 1., 0., 0., 0., 0., 0., 0., 0., 0.],\n",
       "       [0., 0., 1., 0., 0., 0., 0., 0., 0., 0.],\n",
       "       [0., 0., 0., 1., 0., 0., 0., 0., 0., 0.],\n",
       "       [0., 0., 0., 0., 1., 0., 0., 0., 0., 0.],\n",
       "       [0., 0., 0., 0., 0., 1., 0., 0., 0., 0.],\n",
       "       [0., 0., 0., 0., 0., 0., 1., 0., 0., 0.],\n",
       "       [0., 0., 0., 0., 0., 0., 0., 1., 0., 0.],\n",
       "       [0., 0., 0., 0., 0., 0., 0., 0., 1., 0.],\n",
       "       [0., 0., 0., 0., 0., 0., 0., 0., 0., 1.]])"
      ]
     },
     "execution_count": 17,
     "metadata": {},
     "output_type": "execute_result"
    }
   ],
   "source": [
    "np.eye(10)"
   ]
  },
  {
   "cell_type": "code",
   "execution_count": 18,
   "id": "75ffe16c-908a-4452-9427-5c063eeb78c9",
   "metadata": {},
   "outputs": [
    {
     "data": {
      "text/plain": [
       "array([[1, 0, 0],\n",
       "       [0, 1, 0],\n",
       "       [0, 0, 1]])"
      ]
     },
     "execution_count": 18,
     "metadata": {},
     "output_type": "execute_result"
    }
   ],
   "source": [
    "np.diag([1, 1, 1])"
   ]
  },
  {
   "cell_type": "code",
   "execution_count": 20,
   "id": "e504d590-f60b-471a-9681-86538b6f8156",
   "metadata": {},
   "outputs": [
    {
     "data": {
      "text/plain": [
       "array([[1, 0, 0, 0, 0, 0],\n",
       "       [0, 2, 0, 0, 0, 0],\n",
       "       [0, 0, 3, 0, 0, 0],\n",
       "       [0, 0, 0, 4, 0, 0],\n",
       "       [0, 0, 0, 0, 5, 0],\n",
       "       [0, 0, 0, 0, 0, 6]])"
      ]
     },
     "execution_count": 20,
     "metadata": {},
     "output_type": "execute_result"
    }
   ],
   "source": [
    "np.diag([1, 2, 3, 4, 5, 6])"
   ]
  },
  {
   "cell_type": "code",
   "execution_count": 21,
   "id": "ea82a727-f15f-4bbf-9462-cee4cd8944cb",
   "metadata": {},
   "outputs": [
    {
     "data": {
      "text/plain": [
       "array([[0, 1, 0, 0, 0, 0, 0],\n",
       "       [0, 0, 2, 0, 0, 0, 0],\n",
       "       [0, 0, 0, 3, 0, 0, 0],\n",
       "       [0, 0, 0, 0, 4, 0, 0],\n",
       "       [0, 0, 0, 0, 0, 5, 0],\n",
       "       [0, 0, 0, 0, 0, 0, 6],\n",
       "       [0, 0, 0, 0, 0, 0, 0]])"
      ]
     },
     "execution_count": 21,
     "metadata": {},
     "output_type": "execute_result"
    }
   ],
   "source": [
    "np.diag([1, 2, 3, 4, 5, 6], 1)\n"
   ]
  },
  {
   "cell_type": "code",
   "execution_count": 22,
   "id": "9d2bf07d-021b-4d0d-8282-3321e415f38d",
   "metadata": {},
   "outputs": [
    {
     "data": {
      "text/plain": [
       "array([[0, 0, 0, 0, 0, 0, 0],\n",
       "       [1, 0, 0, 0, 0, 0, 0],\n",
       "       [0, 2, 0, 0, 0, 0, 0],\n",
       "       [0, 0, 3, 0, 0, 0, 0],\n",
       "       [0, 0, 0, 4, 0, 0, 0],\n",
       "       [0, 0, 0, 0, 5, 0, 0],\n",
       "       [0, 0, 0, 0, 0, 6, 0]])"
      ]
     },
     "execution_count": 22,
     "metadata": {},
     "output_type": "execute_result"
    }
   ],
   "source": [
    "np.diag([1, 2, 3, 4, 5, 6], -1)\n"
   ]
  },
  {
   "cell_type": "code",
   "execution_count": 29,
   "id": "81ea6551-d19d-43eb-bec5-59e940bef3f3",
   "metadata": {},
   "outputs": [
    {
     "name": "stdout",
     "output_type": "stream",
     "text": [
      "(7, 7)\n"
     ]
    }
   ],
   "source": [
    "A = np.diag([1, 2, 3, 4, 5, 6], 1)\n",
    "print(A.shape)"
   ]
  },
  {
   "cell_type": "code",
   "execution_count": 30,
   "id": "b4284c8a-6557-4e51-888d-07bb9aaa4eb8",
   "metadata": {},
   "outputs": [
    {
     "name": "stdout",
     "output_type": "stream",
     "text": [
      "[[4 1 0 0 0 0 0]\n",
      " [4 0 2 0 0 0 0]\n",
      " [4 0 0 3 0 0 0]\n",
      " [4 0 0 0 4 0 0]\n",
      " [4 0 0 0 0 5 0]\n",
      " [4 0 0 0 0 0 6]\n",
      " [4 0 0 0 0 0 0]]\n",
      "[[5 5 5 5 5 5 5]\n",
      " [4 0 2 0 0 0 0]\n",
      " [4 0 0 3 0 0 0]\n",
      " [4 0 0 0 4 0 0]\n",
      " [4 0 0 0 0 5 0]\n",
      " [4 0 0 0 0 0 6]\n",
      " [4 0 0 0 0 0 0]]\n"
     ]
    }
   ],
   "source": [
    "A[:, 0] = 4 # -> primera columna\n",
    "print(A)\n",
    "A[0, :] = 5 # -> primera fila\n",
    "print(A)"
   ]
  },
  {
   "cell_type": "code",
   "execution_count": 31,
   "id": "df254717-f153-43b1-a2c0-0d40657ec35e",
   "metadata": {},
   "outputs": [
    {
     "name": "stdout",
     "output_type": "stream",
     "text": [
      "[[1 2]\n",
      " [3 4]]\n"
     ]
    }
   ],
   "source": [
    "B = np.array( [[1, 2],[3, 4]]  )\n",
    "print(B)"
   ]
  },
  {
   "cell_type": "code",
   "execution_count": 41,
   "id": "0de4aba7-5941-4bf5-a00e-efa46893e502",
   "metadata": {},
   "outputs": [
    {
     "data": {
      "text/plain": [
       "np.float64(-2.0000000000000004)"
      ]
     },
     "execution_count": 41,
     "metadata": {},
     "output_type": "execute_result"
    }
   ],
   "source": [
    "np.linalg.det(B)"
   ]
  },
  {
   "cell_type": "code",
   "execution_count": 42,
   "id": "cee6ee60-f9b0-40a3-8598-62a8e2f39023",
   "metadata": {},
   "outputs": [
    {
     "data": {
      "text/plain": [
       "np.float64(-4.440892098500626e-16)"
      ]
     },
     "execution_count": 42,
     "metadata": {},
     "output_type": "execute_result"
    }
   ],
   "source": [
    "np.linalg.det(B) + 2"
   ]
  },
  {
   "cell_type": "code",
   "execution_count": 34,
   "id": "cd4ea179-e6e3-4a7f-82f1-77206bd287d9",
   "metadata": {},
   "outputs": [
    {
     "data": {
      "text/plain": [
       "dtype('int64')"
      ]
     },
     "execution_count": 34,
     "metadata": {},
     "output_type": "execute_result"
    }
   ],
   "source": [
    "B.dtype"
   ]
  },
  {
   "cell_type": "code",
   "execution_count": 36,
   "id": "18ad2e15-41d8-43cc-a3af-71e627a9e922",
   "metadata": {},
   "outputs": [
    {
     "data": {
      "text/plain": [
       "True"
      ]
     },
     "execution_count": 36,
     "metadata": {},
     "output_type": "execute_result"
    }
   ],
   "source": [
    "4*0.25 == 1"
   ]
  },
  {
   "cell_type": "code",
   "execution_count": 37,
   "id": "a605536d-cb3f-48f2-a9fe-35175096a60f",
   "metadata": {},
   "outputs": [
    {
     "data": {
      "text/plain": [
       "True"
      ]
     },
     "execution_count": 37,
     "metadata": {},
     "output_type": "execute_result"
    }
   ],
   "source": [
    "4*0.025 == 0.1"
   ]
  },
  {
   "cell_type": "code",
   "execution_count": 38,
   "id": "a1e9da00-4382-4bf7-a540-5b3f3fb09f4f",
   "metadata": {},
   "outputs": [
    {
     "data": {
      "text/plain": [
       "False"
      ]
     },
     "execution_count": 38,
     "metadata": {},
     "output_type": "execute_result"
    }
   ],
   "source": [
    "3 * 0.1 == 0.3"
   ]
  },
  {
   "cell_type": "code",
   "execution_count": 40,
   "id": "e3df1bc4-0a33-45e5-8aca-e8bf32da3eb1",
   "metadata": {},
   "outputs": [
    {
     "data": {
      "text/plain": [
       "-5.551115123125783e-17"
      ]
     },
     "execution_count": 40,
     "metadata": {},
     "output_type": "execute_result"
    }
   ],
   "source": [
    "0.3 - (3 * 0.1)"
   ]
  },
  {
   "cell_type": "code",
   "execution_count": 43,
   "id": "eaa17480-7a88-4667-8cb4-da1a6ec99ae8",
   "metadata": {},
   "outputs": [
    {
     "data": {
      "text/plain": [
       "int"
      ]
     },
     "execution_count": 43,
     "metadata": {},
     "output_type": "execute_result"
    }
   ],
   "source": [
    "type(1)"
   ]
  },
  {
   "cell_type": "code",
   "execution_count": 44,
   "id": "2dee046a-88b8-4b5e-848b-4370daf64005",
   "metadata": {},
   "outputs": [
    {
     "data": {
      "text/plain": [
       "float"
      ]
     },
     "execution_count": 44,
     "metadata": {},
     "output_type": "execute_result"
    }
   ],
   "source": [
    "type(1.0)"
   ]
  },
  {
   "cell_type": "code",
   "execution_count": 48,
   "id": "875ae19d-0d3f-44c3-94d6-9ede28861a4d",
   "metadata": {},
   "outputs": [
    {
     "data": {
      "text/plain": [
       "dtype('float64')"
      ]
     },
     "execution_count": 48,
     "metadata": {},
     "output_type": "execute_result"
    }
   ],
   "source": [
    "(B-1.0).dtype"
   ]
  },
  {
   "cell_type": "code",
   "execution_count": 49,
   "id": "40660f80-f42a-45bf-874f-2e1e09ad03d0",
   "metadata": {},
   "outputs": [
    {
     "data": {
      "text/plain": [
       "numpy.ndarray"
      ]
     },
     "execution_count": 49,
     "metadata": {},
     "output_type": "execute_result"
    }
   ],
   "source": [
    "type(B)"
   ]
  },
  {
   "cell_type": "code",
   "execution_count": 50,
   "id": "fc2b81ac-9e53-454a-9ef7-8451cb38f153",
   "metadata": {},
   "outputs": [
    {
     "data": {
      "text/plain": [
       "str"
      ]
     },
     "execution_count": 50,
     "metadata": {},
     "output_type": "execute_result"
    }
   ],
   "source": [
    "type('hola mundo!')"
   ]
  },
  {
   "cell_type": "code",
   "execution_count": 53,
   "id": "ead6a30b-8d70-4d07-9d8a-5cf189f27d3b",
   "metadata": {},
   "outputs": [
    {
     "data": {
      "text/plain": [
       "array([[1., 2.],\n",
       "       [3., 4.]])"
      ]
     },
     "execution_count": 53,
     "metadata": {},
     "output_type": "execute_result"
    }
   ],
   "source": [
    "B.astype(float) # no es \"inplace\" entendiendose\n",
    "                # que cambia los valores del array"
   ]
  },
  {
   "cell_type": "code",
   "execution_count": 54,
   "id": "09b89c77-8397-4fa1-b577-282411a49373",
   "metadata": {},
   "outputs": [
    {
     "data": {
      "text/plain": [
       "array([[1, 2],\n",
       "       [3, 4]])"
      ]
     },
     "execution_count": 54,
     "metadata": {},
     "output_type": "execute_result"
    }
   ],
   "source": [
    "B"
   ]
  },
  {
   "cell_type": "code",
   "execution_count": 55,
   "id": "78f0cc4b-dcf3-47ae-af39-8bb5dcc45aba",
   "metadata": {},
   "outputs": [
    {
     "data": {
      "text/plain": [
       "1.5"
      ]
     },
     "execution_count": 55,
     "metadata": {},
     "output_type": "execute_result"
    }
   ],
   "source": [
    "3/2"
   ]
  },
  {
   "cell_type": "code",
   "execution_count": 56,
   "id": "b77bd90f-d84e-4279-a200-887eeb4ae5cb",
   "metadata": {},
   "outputs": [
    {
     "data": {
      "text/plain": [
       "1"
      ]
     },
     "execution_count": 56,
     "metadata": {},
     "output_type": "execute_result"
    }
   ],
   "source": [
    "3//2"
   ]
  },
  {
   "cell_type": "code",
   "execution_count": 57,
   "id": "3210d9fc-2f7d-4595-b4d3-850fb6b75b85",
   "metadata": {},
   "outputs": [
    {
     "data": {
      "text/plain": [
       "1"
      ]
     },
     "execution_count": 57,
     "metadata": {},
     "output_type": "execute_result"
    }
   ],
   "source": [
    "5//4"
   ]
  },
  {
   "cell_type": "code",
   "execution_count": 58,
   "id": "a40b006b-581b-445a-8e5c-cacd9bbdb99e",
   "metadata": {},
   "outputs": [
    {
     "data": {
      "text/plain": [
       "1"
      ]
     },
     "execution_count": 58,
     "metadata": {},
     "output_type": "execute_result"
    }
   ],
   "source": [
    "7//4"
   ]
  },
  {
   "cell_type": "code",
   "execution_count": 59,
   "id": "2c97c61e-53bd-4c40-aa63-27280114bb2b",
   "metadata": {},
   "outputs": [
    {
     "data": {
      "text/plain": [
       "1"
      ]
     },
     "execution_count": 59,
     "metadata": {},
     "output_type": "execute_result"
    }
   ],
   "source": [
    "3%2"
   ]
  },
  {
   "cell_type": "code",
   "execution_count": 60,
   "id": "67360146-68b2-4ec3-8e8d-9b55468ec468",
   "metadata": {},
   "outputs": [
    {
     "data": {
      "text/plain": [
       "3"
      ]
     },
     "execution_count": 60,
     "metadata": {},
     "output_type": "execute_result"
    }
   ],
   "source": [
    "7%4"
   ]
  },
  {
   "cell_type": "code",
   "execution_count": 61,
   "id": "51b8d409-fce1-4627-b5b6-4e0d5cd93f05",
   "metadata": {},
   "outputs": [
    {
     "ename": "ZeroDivisionError",
     "evalue": "division by zero",
     "output_type": "error",
     "traceback": [
      "\u001b[0;31m---------------------------------------------------------------------------\u001b[0m",
      "\u001b[0;31mZeroDivisionError\u001b[0m                         Traceback (most recent call last)",
      "Cell \u001b[0;32mIn[61], line 1\u001b[0m\n\u001b[0;32m----> 1\u001b[0m \u001b[38;5;241;43m1\u001b[39;49m\u001b[38;5;241;43m/\u001b[39;49m\u001b[38;5;241;43m0\u001b[39;49m\n",
      "\u001b[0;31mZeroDivisionError\u001b[0m: division by zero"
     ]
    }
   ],
   "source": [
    "1/0"
   ]
  },
  {
   "cell_type": "code",
   "execution_count": 63,
   "id": "75d6c44f-a26c-4069-aaa6-4128327b6809",
   "metadata": {},
   "outputs": [
    {
     "name": "stdout",
     "output_type": "stream",
     "text": [
      "inf\n"
     ]
    },
    {
     "name": "stderr",
     "output_type": "stream",
     "text": [
      "/tmp/ipykernel_5357/916917104.py:1: RuntimeWarning: divide by zero encountered in divide\n",
      "  print(np.array(1)/np.array(0))\n"
     ]
    }
   ],
   "source": [
    "print(np.array(1)/np.array(0))"
   ]
  },
  {
   "cell_type": "code",
   "execution_count": 64,
   "id": "c10866af-a093-4433-99b7-122e15f2226c",
   "metadata": {},
   "outputs": [
    {
     "data": {
      "text/plain": [
       "inf"
      ]
     },
     "execution_count": 64,
     "metadata": {},
     "output_type": "execute_result"
    }
   ],
   "source": [
    "np.inf "
   ]
  },
  {
   "cell_type": "code",
   "execution_count": 65,
   "id": "0237bc89-8c76-447f-a4f9-9614cbb46b8c",
   "metadata": {},
   "outputs": [
    {
     "data": {
      "text/plain": [
       "inf"
      ]
     },
     "execution_count": 65,
     "metadata": {},
     "output_type": "execute_result"
    }
   ],
   "source": [
    "3 * np.inf"
   ]
  },
  {
   "cell_type": "code",
   "execution_count": 66,
   "id": "0dbf51f7-1570-4d2f-b8a0-808ffdd50f01",
   "metadata": {},
   "outputs": [
    {
     "data": {
      "text/plain": [
       "-inf"
      ]
     },
     "execution_count": 66,
     "metadata": {},
     "output_type": "execute_result"
    }
   ],
   "source": [
    "-1 * np.inf"
   ]
  },
  {
   "cell_type": "code",
   "execution_count": 67,
   "id": "2dc70339-bb18-4112-b6e4-42a6b8643cae",
   "metadata": {},
   "outputs": [
    {
     "data": {
      "text/plain": [
       "inf"
      ]
     },
     "execution_count": 67,
     "metadata": {},
     "output_type": "execute_result"
    }
   ],
   "source": [
    "np.inf + np.inf"
   ]
  },
  {
   "cell_type": "code",
   "execution_count": 68,
   "id": "31c4a117-9eb9-4ac2-889c-0d5b6a4d0e71",
   "metadata": {},
   "outputs": [
    {
     "data": {
      "text/plain": [
       "nan"
      ]
     },
     "execution_count": 68,
     "metadata": {},
     "output_type": "execute_result"
    }
   ],
   "source": [
    "np.inf - np.inf"
   ]
  },
  {
   "cell_type": "code",
   "execution_count": 69,
   "id": "83eba9af-100b-4d68-9810-48f0b4a4d136",
   "metadata": {},
   "outputs": [
    {
     "data": {
      "text/plain": [
       "nan"
      ]
     },
     "execution_count": 69,
     "metadata": {},
     "output_type": "execute_result"
    }
   ],
   "source": [
    "np.nan"
   ]
  },
  {
   "cell_type": "code",
   "execution_count": 70,
   "id": "76bc34b5-b0fb-4efb-8785-41089666a809",
   "metadata": {},
   "outputs": [
    {
     "data": {
      "text/plain": [
       "nan"
      ]
     },
     "execution_count": 70,
     "metadata": {},
     "output_type": "execute_result"
    }
   ],
   "source": [
    "-1 * np.nan"
   ]
  },
  {
   "cell_type": "code",
   "execution_count": 71,
   "id": "7f643b2e-0768-41d4-b0bc-3b138b1162fa",
   "metadata": {},
   "outputs": [
    {
     "data": {
      "text/plain": [
       "0.0"
      ]
     },
     "execution_count": 71,
     "metadata": {},
     "output_type": "execute_result"
    }
   ],
   "source": [
    "1/np.inf"
   ]
  },
  {
   "cell_type": "code",
   "execution_count": 96,
   "id": "c7935921-504d-4012-9310-44027ecf4256",
   "metadata": {},
   "outputs": [
    {
     "data": {
      "text/plain": [
       "np.datetime64('2025-01-01T00:00')"
      ]
     },
     "execution_count": 96,
     "metadata": {},
     "output_type": "execute_result"
    }
   ],
   "source": [
    "np.datetime64('2025-01-01 00:00')"
   ]
  },
  {
   "cell_type": "code",
   "execution_count": 105,
   "id": "1844eef4-1532-4cef-8a63-e625fc8348b6",
   "metadata": {},
   "outputs": [
    {
     "name": "stdout",
     "output_type": "stream",
     "text": [
      "2025-01-01T00:01\n"
     ]
    }
   ],
   "source": [
    "a = np.datetime64('2025-01-01 00:00')\n",
    "print(np.datetime_as_string(a + 1))"
   ]
  },
  {
   "cell_type": "code",
   "execution_count": null,
   "id": "bc847161-835a-45e0-b734-1e29ac2552a3",
   "metadata": {},
   "outputs": [
    {
     "data": {
      "text/plain": [
       "array([[0.18491832, 0.17515182, 0.91891959, 0.25205032],\n",
       "       [0.62221035, 0.8330243 , 0.0083451 , 0.13213861],\n",
       "       [0.9069689 , 0.20211088, 0.36561732, 0.151903  ],\n",
       "       [0.81615305, 0.71488255, 0.23161933, 0.75339112]])"
      ]
     },
     "execution_count": 83,
     "metadata": {},
     "output_type": "execute_result"
    }
   ],
   "source": [
    "np.random.random((4,4))"
   ]
  },
  {
   "cell_type": "code",
   "execution_count": 91,
   "id": "2456c988-a37b-43de-b3df-f2fcfd609793",
   "metadata": {},
   "outputs": [
    {
     "name": "stdout",
     "output_type": "stream",
     "text": [
      "Variable   Type       Data/Info\n",
      "-------------------------------\n",
      "A          ndarray    7x7: 49 elems, type `int64`, 392 bytes\n",
      "B          ndarray    2x2: 4 elems, type `int64`, 32 bytes\n",
      "fig        Figure     Figure(200x200)\n",
      "np         module     <module 'numpy' from '/ho<...>kages/numpy/__init__.py'>\n",
      "plt        module     <module 'matplotlib.pyplo<...>es/matplotlib/pyplot.py'>\n",
      "x          ndarray    1000: 1000 elems, type `float64`, 8000 bytes\n",
      "y          ndarray    1000: 1000 elems, type `float64`, 8000 bytes\n"
     ]
    }
   ],
   "source": [
    "whos"
   ]
  },
  {
   "cell_type": "code",
   "execution_count": 95,
   "id": "85b219ca-1f1f-475b-b2fe-7d4b7b6bb2d5",
   "metadata": {},
   "outputs": [
    {
     "name": "stdout",
     "output_type": "stream",
     "text": [
      "A\t B\t fig\t np\t plt\t x\t y\t \n"
     ]
    }
   ],
   "source": [
    "who"
   ]
  },
  {
   "cell_type": "code",
   "execution_count": 106,
   "id": "d456a598-e04b-4f44-816b-05622f400671",
   "metadata": {},
   "outputs": [
    {
     "data": {
      "text/plain": [
       "array([[0.95255538, 0.48026463, 0.57575062, 0.75877463],\n",
       "       [0.60529851, 0.87285714, 0.06039506, 0.35211024],\n",
       "       [0.82116607, 0.11469499, 0.78670659, 0.72770237],\n",
       "       [0.79254299, 0.6456507 , 0.20897927, 0.44760455]])"
      ]
     },
     "execution_count": 106,
     "metadata": {},
     "output_type": "execute_result"
    }
   ],
   "source": [
    "np.random.random((4,4))  # idem np.ones, np.zeros, np.eye, np.empty"
   ]
  },
  {
   "cell_type": "code",
   "execution_count": 113,
   "id": "626b0c06-35fd-42e2-9fee-884efa15f890",
   "metadata": {},
   "outputs": [],
   "source": [
    "np.random.seed(0)"
   ]
  },
  {
   "cell_type": "code",
   "execution_count": 114,
   "id": "a4c83e06-64ec-4b7f-892c-32d0cf85f32d",
   "metadata": {},
   "outputs": [
    {
     "data": {
      "text/plain": [
       "array([[0.5488135 , 0.71518937, 0.60276338, 0.54488318],\n",
       "       [0.4236548 , 0.64589411, 0.43758721, 0.891773  ],\n",
       "       [0.96366276, 0.38344152, 0.79172504, 0.52889492],\n",
       "       [0.56804456, 0.92559664, 0.07103606, 0.0871293 ]])"
      ]
     },
     "execution_count": 114,
     "metadata": {},
     "output_type": "execute_result"
    }
   ],
   "source": [
    "np.random.random((4,4))"
   ]
  },
  {
   "cell_type": "code",
   "execution_count": 115,
   "id": "6ff57b44-c02e-4a84-8efe-38a2a78c9824",
   "metadata": {},
   "outputs": [
    {
     "data": {
      "text/plain": [
       "array([[0.0202184 , 0.83261985, 0.77815675, 0.87001215],\n",
       "       [0.97861834, 0.79915856, 0.46147936, 0.78052918],\n",
       "       [0.11827443, 0.63992102, 0.14335329, 0.94466892],\n",
       "       [0.52184832, 0.41466194, 0.26455561, 0.77423369]])"
      ]
     },
     "execution_count": 115,
     "metadata": {},
     "output_type": "execute_result"
    }
   ],
   "source": [
    "np.random.random((4,4))"
   ]
  },
  {
   "cell_type": "code",
   "execution_count": 116,
   "id": "f48eaa2e-e983-485a-880c-b794e7dc3464",
   "metadata": {},
   "outputs": [],
   "source": [
    "np.random.seed(0)"
   ]
  },
  {
   "cell_type": "code",
   "execution_count": 117,
   "id": "4cfad137-f168-4088-9abe-4e40d34a1ff7",
   "metadata": {},
   "outputs": [
    {
     "data": {
      "text/plain": [
       "array([[0.5488135 , 0.71518937, 0.60276338, 0.54488318],\n",
       "       [0.4236548 , 0.64589411, 0.43758721, 0.891773  ],\n",
       "       [0.96366276, 0.38344152, 0.79172504, 0.52889492],\n",
       "       [0.56804456, 0.92559664, 0.07103606, 0.0871293 ]])"
      ]
     },
     "execution_count": 117,
     "metadata": {},
     "output_type": "execute_result"
    }
   ],
   "source": [
    "np.random.random((4,4))"
   ]
  },
  {
   "cell_type": "code",
   "execution_count": 118,
   "id": "b260f184-ee8b-4785-8b8e-74ad6cac77d4",
   "metadata": {},
   "outputs": [
    {
     "data": {
      "text/plain": [
       "array([[4.17022005e-01, 7.20324493e-01, 1.14374817e-04, 3.02332573e-01],\n",
       "       [1.46755891e-01, 9.23385948e-02, 1.86260211e-01, 3.45560727e-01],\n",
       "       [3.96767474e-01, 5.38816734e-01, 4.19194514e-01, 6.85219500e-01],\n",
       "       [2.04452250e-01, 8.78117436e-01, 2.73875932e-02, 6.70467510e-01]])"
      ]
     },
     "execution_count": 118,
     "metadata": {},
     "output_type": "execute_result"
    }
   ],
   "source": [
    "np.random.seed(1)\n",
    "np.random.random((4,4))"
   ]
  },
  {
   "cell_type": "code",
   "execution_count": 119,
   "id": "c9b0a678-5037-4acc-9f95-8782335eb550",
   "metadata": {},
   "outputs": [],
   "source": [
    "import random  # función nativa de python\n",
    "               # para números pseudoaleatorios"
   ]
  },
  {
   "cell_type": "code",
   "execution_count": 120,
   "id": "ee4ab857-f4ba-49bd-936a-3018a2686572",
   "metadata": {},
   "outputs": [],
   "source": [
    "random.seed(0)"
   ]
  },
  {
   "cell_type": "code",
   "execution_count": 126,
   "id": "6ca1efea-ab2f-4d92-a0ac-b1ceed87caba",
   "metadata": {},
   "outputs": [],
   "source": [
    "pseudo = []\n",
    "for i in range(10):\n",
    "    pseudo.append(random.random())\n",
    "# desafío: cuántos valores arroja random.random()\n",
    "# hasta repetir el ciclo?"
   ]
  },
  {
   "cell_type": "code",
   "execution_count": 127,
   "id": "dbba4328-2419-42b9-a483-a9e8f61339b7",
   "metadata": {},
   "outputs": [
    {
     "data": {
      "text/plain": [
       "[0.5833820394550312,\n",
       " 0.9081128851953352,\n",
       " 0.5046868558173903,\n",
       " 0.28183784439970383,\n",
       " 0.7558042041572239,\n",
       " 0.6183689966753316,\n",
       " 0.25050634136244054,\n",
       " 0.9097462559682401,\n",
       " 0.9827854760376531,\n",
       " 0.8102172359965896]"
      ]
     },
     "execution_count": 127,
     "metadata": {},
     "output_type": "execute_result"
    }
   ],
   "source": [
    "pseudo"
   ]
  },
  {
   "cell_type": "code",
   "execution_count": 154,
   "id": "45ae0beb-ab5a-4007-9985-3eca1e29cbc2",
   "metadata": {},
   "outputs": [
    {
     "name": "stdout",
     "output_type": "stream",
     "text": [
      "10000002.0\n"
     ]
    }
   ],
   "source": [
    "random.seed(0)\n",
    "primerosdos = [random.random(), random.random()]\n",
    "cont = 1.0\n",
    "siguientes = []\n",
    "while not siguientes == primerosdos:\n",
    "    cont += 1\n",
    "    siguientes = [random.random(), random.random()]\n",
    "    if cont > 1e7: random.seed(0)\n",
    "print(cont)"
   ]
  },
  {
   "cell_type": "code",
   "execution_count": 159,
   "id": "2f40ea60-b5e5-47a8-b859-c09926ef0bb4",
   "metadata": {},
   "outputs": [
    {
     "data": {
      "text/plain": [
       "2"
      ]
     },
     "execution_count": 159,
     "metadata": {},
     "output_type": "execute_result"
    }
   ],
   "source": [
    "np.random.random((2, 2)).ndim"
   ]
  },
  {
   "cell_type": "code",
   "execution_count": 160,
   "id": "9df8bd65-f5c6-413a-8763-caf45b9cab33",
   "metadata": {},
   "outputs": [
    {
     "data": {
      "text/plain": [
       "1"
      ]
     },
     "execution_count": 160,
     "metadata": {},
     "output_type": "execute_result"
    }
   ],
   "source": [
    "np.random.random((2,)).ndim"
   ]
  },
  {
   "cell_type": "code",
   "execution_count": 161,
   "id": "bf6f1867-7478-4aeb-942f-2cab0456c167",
   "metadata": {},
   "outputs": [
    {
     "data": {
      "text/plain": [
       "3"
      ]
     },
     "execution_count": 161,
     "metadata": {},
     "output_type": "execute_result"
    }
   ],
   "source": [
    "np.random.random((2, 2, 3)).ndim"
   ]
  },
  {
   "cell_type": "code",
   "execution_count": 162,
   "id": "4923cf0e-9b04-4849-bd05-1e804d2c48c3",
   "metadata": {},
   "outputs": [
    {
     "data": {
      "text/plain": [
       "(2, 2, 3)"
      ]
     },
     "execution_count": 162,
     "metadata": {},
     "output_type": "execute_result"
    }
   ],
   "source": [
    "np.random.random((2, 2, 3)).shape"
   ]
  },
  {
   "cell_type": "code",
   "execution_count": null,
   "id": "acb71169-2860-483e-be2f-2b79edcbee2f",
   "metadata": {},
   "outputs": [],
   "source": []
  }
 ],
 "metadata": {
  "kernelspec": {
   "display_name": "Python 3 (ipykernel)",
   "language": "python",
   "name": "python3"
  },
  "language_info": {
   "codemirror_mode": {
    "name": "ipython",
    "version": 3
   },
   "file_extension": ".py",
   "mimetype": "text/x-python",
   "name": "python",
   "nbconvert_exporter": "python",
   "pygments_lexer": "ipython3",
   "version": "3.12.3"
  }
 },
 "nbformat": 4,
 "nbformat_minor": 5
}
