{
 "cells": [
  {
   "cell_type": "markdown",
   "id": "ee8a52d3-0e93-423c-b7e5-27bde8448d14",
   "metadata": {},
   "source": [
    "# Clase primero de abril"
   ]
  },
  {
   "cell_type": "code",
   "execution_count": 6,
   "id": "46e6357c-25e1-4ca8-82dc-0f5020946ef8",
   "metadata": {},
   "outputs": [
    {
     "name": "stdout",
     "output_type": "stream",
     "text": [
      "[1, 2, 3]\n"
     ]
    }
   ],
   "source": [
    "lista = [1, 2, 3]\n",
    "print(lista)"
   ]
  },
  {
   "cell_type": "code",
   "execution_count": 7,
   "id": "67eea0fa-4eaf-4d84-bda2-e7c323d86166",
   "metadata": {},
   "outputs": [],
   "source": [
    "cadena = 'hola mundo!'"
   ]
  },
  {
   "cell_type": "markdown",
   "id": "ec1113c1-fc93-4b78-8312-aab3e65761cd",
   "metadata": {},
   "source": [
    "# funciones sobre iterables \n",
    "- len(): cantidad de elementos\n",
    "- min()\n",
    "- max()\n",
    "- sorted()\n",
    "- sum() "
   ]
  },
  {
   "cell_type": "code",
   "execution_count": 12,
   "id": "efda341f-8736-4e6b-8b69-2267fdd3c19d",
   "metadata": {},
   "outputs": [
    {
     "name": "stdout",
     "output_type": "stream",
     "text": [
      "min() [1, 2, 3] 1\n",
      "max() [1, 2, 3] 3\n",
      "sum() [1, 2, 3] 6\n",
      "sorted() [1, 3, 2, 7, 0] [0, 1, 2, 3, 7]\n"
     ]
    }
   ],
   "source": [
    "print('min()', lista, min(lista))\n",
    "print('max()', lista, max(lista))\n",
    "print('sum()', lista, sum(lista))\n",
    "print('sorted()', [1, 3, 2, 7, 0], sorted([1, 3, 2, 7, 0]))"
   ]
  },
  {
   "cell_type": "code",
   "execution_count": 14,
   "id": "b5463397-1a18-4c3d-8b98-90b0adda2854",
   "metadata": {},
   "outputs": [
    {
     "data": {
      "text/plain": [
       "2"
      ]
     },
     "execution_count": 14,
     "metadata": {},
     "output_type": "execute_result"
    }
   ],
   "source": [
    "min(23, 2)"
   ]
  },
  {
   "cell_type": "code",
   "execution_count": 15,
   "id": "8dd32376-113b-4325-af3d-8607fc026bee",
   "metadata": {},
   "outputs": [
    {
     "data": {
      "text/plain": [
       "' '"
      ]
     },
     "execution_count": 15,
     "metadata": {},
     "output_type": "execute_result"
    }
   ],
   "source": [
    "min(cadena)"
   ]
  },
  {
   "cell_type": "code",
   "execution_count": 16,
   "id": "a8543b2a-098d-4073-b151-9eb1baf68020",
   "metadata": {},
   "outputs": [
    {
     "data": {
      "text/plain": [
       "True"
      ]
     },
     "execution_count": 16,
     "metadata": {},
     "output_type": "execute_result"
    }
   ],
   "source": [
    "# los caracteres están ordenados\n",
    "'a'  < 'b'"
   ]
  },
  {
   "cell_type": "code",
   "execution_count": 17,
   "id": "b515b198-f40d-4d61-9d15-44da02c1777f",
   "metadata": {},
   "outputs": [
    {
     "data": {
      "text/plain": [
       "False"
      ]
     },
     "execution_count": 17,
     "metadata": {},
     "output_type": "execute_result"
    }
   ],
   "source": [
    "'a' < 'A'"
   ]
  },
  {
   "cell_type": "code",
   "execution_count": 18,
   "id": "51ff3521-8f49-4178-9ccb-df15c6f0315e",
   "metadata": {},
   "outputs": [
    {
     "data": {
      "text/plain": [
       "[' ', '!', 'a', 'd', 'h', 'l', 'm', 'n', 'o', 'o', 'u']"
      ]
     },
     "execution_count": 18,
     "metadata": {},
     "output_type": "execute_result"
    }
   ],
   "source": [
    "sorted(cadena)"
   ]
  },
  {
   "cell_type": "code",
   "execution_count": 19,
   "id": "abd9095e-81df-454a-911d-f1b8d1db0734",
   "metadata": {},
   "outputs": [
    {
     "ename": "TypeError",
     "evalue": "unsupported operand type(s) for +: 'int' and 'str'",
     "output_type": "error",
     "traceback": [
      "\u001b[0;31m---------------------------------------------------------------------------\u001b[0m",
      "\u001b[0;31mTypeError\u001b[0m                                 Traceback (most recent call last)",
      "Cell \u001b[0;32mIn[19], line 1\u001b[0m\n\u001b[0;32m----> 1\u001b[0m \u001b[38;5;28;43msum\u001b[39;49m\u001b[43m(\u001b[49m\u001b[43mcadena\u001b[49m\u001b[43m)\u001b[49m\n",
      "\u001b[0;31mTypeError\u001b[0m: unsupported operand type(s) for +: 'int' and 'str'"
     ]
    }
   ],
   "source": [
    "sum(cadena)"
   ]
  },
  {
   "cell_type": "code",
   "execution_count": 20,
   "id": "15bb69c3-a94b-4b3c-9f77-14777d47523f",
   "metadata": {},
   "outputs": [
    {
     "data": {
      "text/plain": [
       "3.1"
      ]
     },
     "execution_count": 20,
     "metadata": {},
     "output_type": "execute_result"
    }
   ],
   "source": [
    "sum([1. , 2. , .1])"
   ]
  },
  {
   "cell_type": "code",
   "execution_count": 21,
   "id": "70ebc0dc-8261-4af5-9163-070d92cde4d2",
   "metadata": {},
   "outputs": [
    {
     "data": {
      "text/plain": [
       "range(0, 10)"
      ]
     },
     "execution_count": 21,
     "metadata": {},
     "output_type": "execute_result"
    }
   ],
   "source": [
    "range(10)"
   ]
  },
  {
   "cell_type": "code",
   "execution_count": 23,
   "id": "9f674586-00b7-4599-b6b8-8be3142f6e39",
   "metadata": {},
   "outputs": [
    {
     "name": "stdout",
     "output_type": "stream",
     "text": [
      "20\n",
      "21\n",
      "22\n",
      "23\n",
      "24\n"
     ]
    }
   ],
   "source": [
    "for i in range(20, 25):   # 20: comienzo, 25: stop\n",
    "    print(i)"
   ]
  },
  {
   "cell_type": "code",
   "execution_count": 25,
   "id": "30df9fd8-d51d-4334-821b-123635f2a149",
   "metadata": {},
   "outputs": [
    {
     "name": "stdout",
     "output_type": "stream",
     "text": [
      "20\n"
     ]
    }
   ],
   "source": [
    "for i in range(20, 25, 8):   # 20: comienzo, 25: stop, 2: intervalo\n",
    "    print(i)"
   ]
  },
  {
   "cell_type": "code",
   "execution_count": 28,
   "id": "9b9afa2d-12ef-4ce3-b5e2-22ca6e06d6ae",
   "metadata": {},
   "outputs": [
    {
     "name": "stdout",
     "output_type": "stream",
     "text": [
      "20\n",
      "19\n",
      "18\n",
      "17\n",
      "16\n",
      "15\n",
      "14\n",
      "13\n",
      "12\n",
      "11\n"
     ]
    }
   ],
   "source": [
    "for i in range(20, 10, -1):   # 20: comienzo, 25: stop, 2: intervalo\n",
    "    print(i)"
   ]
  },
  {
   "cell_type": "markdown",
   "id": "0304e755-9daa-46ae-8f42-ad8a2ac59293",
   "metadata": {},
   "source": [
    "# Algunos iterables son indexables\n",
    "ejemplo listas y cadenas"
   ]
  },
  {
   "cell_type": "code",
   "execution_count": 30,
   "id": "57edd3c5-20a6-4bc1-87e7-afcbb1c0c067",
   "metadata": {},
   "outputs": [
    {
     "data": {
      "text/plain": [
       "'h'"
      ]
     },
     "execution_count": 30,
     "metadata": {},
     "output_type": "execute_result"
    }
   ],
   "source": [
    "cadena[0]"
   ]
  },
  {
   "cell_type": "code",
   "execution_count": 31,
   "id": "5f2414e6-cb4f-416e-9f90-c0e1f082bd58",
   "metadata": {},
   "outputs": [
    {
     "data": {
      "text/plain": [
       "9"
      ]
     },
     "execution_count": 31,
     "metadata": {},
     "output_type": "execute_result"
    }
   ],
   "source": [
    "range(10)[-1]"
   ]
  },
  {
   "cell_type": "code",
   "execution_count": 34,
   "id": "dcb931cf-8b10-4bc2-b037-ee0d87a5fce6",
   "metadata": {},
   "outputs": [
    {
     "data": {
      "text/plain": [
       "[1, 2]"
      ]
     },
     "execution_count": 34,
     "metadata": {},
     "output_type": "execute_result"
    }
   ],
   "source": [
    "lista = list(range(10))\n",
    "lista[1:3]  # me muestra los primeros dos elementos de la lista"
   ]
  },
  {
   "cell_type": "code",
   "execution_count": 35,
   "id": "1f2e7c23-bce3-47f0-9b33-ac2158ac7d12",
   "metadata": {},
   "outputs": [
    {
     "data": {
      "text/plain": [
       "[6, 7, 8, 9]"
      ]
     },
     "execution_count": 35,
     "metadata": {},
     "output_type": "execute_result"
    }
   ],
   "source": [
    "lista[-4:]"
   ]
  },
  {
   "cell_type": "code",
   "execution_count": 81,
   "id": "ff853798-58a9-40d2-bdb5-afabf3c95eb8",
   "metadata": {},
   "outputs": [
    {
     "data": {
      "text/plain": [
       "['a', ' ']"
      ]
     },
     "execution_count": 81,
     "metadata": {},
     "output_type": "execute_result"
    }
   ],
   "source": [
    "lista[3:-2]"
   ]
  },
  {
   "cell_type": "markdown",
   "id": "0a6b8ef0-cbaf-42f5-ab4e-9cdff575f0eb",
   "metadata": {},
   "source": [
    "# métodos de listas\n",
    "append, pop, insert, copy, sort, etc..\n",
    "[documentación de python](https://docs.python.org/es/3.13/tutorial/datastructures.html#more-on-lists)"
   ]
  },
  {
   "cell_type": "code",
   "execution_count": 39,
   "id": "dd36e6c6-70d8-4d5e-bf47-48f0aaaf4782",
   "metadata": {},
   "outputs": [
    {
     "data": {
      "text/plain": [
       "[0, 1, 2, 3, 4, 5, 6, 7, 8, 9, '100', '100']"
      ]
     },
     "execution_count": 39,
     "metadata": {},
     "output_type": "execute_result"
    }
   ],
   "source": [
    "lista.append('100')\n",
    "lista"
   ]
  },
  {
   "cell_type": "code",
   "execution_count": 50,
   "id": "c81aa438-228e-4e29-9328-4c4327cd2856",
   "metadata": {},
   "outputs": [
    {
     "name": "stdout",
     "output_type": "stream",
     "text": [
      "[2, 3, 4, 5, 6, 7, 8, 9]\n",
      "9\n",
      "[2, 3, 4, 5, 6, 7, 8]\n"
     ]
    }
   ],
   "source": [
    "print(lista)\n",
    "print(lista.pop())\n",
    "print(lista)"
   ]
  },
  {
   "cell_type": "code",
   "execution_count": 53,
   "id": "982adf55-8424-45d9-8373-1a07ba656f11",
   "metadata": {},
   "outputs": [
    {
     "name": "stdout",
     "output_type": "stream",
     "text": [
      "[2, 3, 4, 5, 6, 7, 8]\n",
      "None\n",
      "[2, 3, 'letra', 4, 5, 6, 7, 8]\n"
     ]
    }
   ],
   "source": [
    "print(lista)\n",
    "print(lista.insert(2, 'letra'))\n",
    "print(lista)"
   ]
  },
  {
   "cell_type": "code",
   "execution_count": 61,
   "id": "47caf5ad-699c-4dc8-b463-8b95cf69e509",
   "metadata": {},
   "outputs": [
    {
     "name": "stdout",
     "output_type": "stream",
     "text": [
      "[2, 3, 'letra', 4, 5, 6, 7, 8] 2\n"
     ]
    }
   ],
   "source": [
    "print(lista, lista.index('letra'))  # lista.index(`elemento de la lista`)"
   ]
  },
  {
   "cell_type": "code",
   "execution_count": 62,
   "id": "53eb12b1-f545-4888-9301-79694d50606b",
   "metadata": {},
   "outputs": [
    {
     "name": "stdout",
     "output_type": "stream",
     "text": [
      "[2, 3, 'letra', 4, 5, 6, 7, 8]\n",
      "[2, 3, 4, 5, 6, 7, 8]\n"
     ]
    }
   ],
   "source": [
    "print(lista)\n",
    "lista.remove('letra')\n",
    "print(lista)"
   ]
  },
  {
   "cell_type": "code",
   "execution_count": 63,
   "id": "3ea20026-5f53-4500-a5dc-42ed28dcc7b1",
   "metadata": {},
   "outputs": [
    {
     "name": "stdout",
     "output_type": "stream",
     "text": [
      "[2, 3, 4, 5, 6, 7, 8]\n",
      "[8, 7, 6, 5, 4, 3, 2]\n"
     ]
    }
   ],
   "source": [
    "print(lista)\n",
    "lista.reverse()  # métodos inplace\n",
    "print(lista)"
   ]
  },
  {
   "cell_type": "code",
   "execution_count": 65,
   "id": "bde07a20-b94f-4cd7-9eef-27446379b56b",
   "metadata": {},
   "outputs": [
    {
     "name": "stdout",
     "output_type": "stream",
     "text": [
      "[8, 7, 6, 5, 4, 3, 2, 1, 1]\n",
      "[1, 1, 2, 3, 4, 5, 6, 7, 8]\n"
     ]
    }
   ],
   "source": [
    "lista.append(1)\n",
    "print(lista)\n",
    "lista.sort()  # métodos inplace\n",
    "print(lista)"
   ]
  },
  {
   "cell_type": "code",
   "execution_count": 71,
   "id": "0dcbbad9-c212-41f3-a698-c6b76d554c11",
   "metadata": {},
   "outputs": [
    {
     "name": "stdout",
     "output_type": "stream",
     "text": [
      "['h', 'o', 'l', 'a', ' ', 'm', 'u', 'n', 'd', 'o', '!']\n",
      "[' ', '!', 'a', 'd', 'h', 'l', 'm', 'n', 'o', 'o', 'u']\n"
     ]
    }
   ],
   "source": [
    "lista = list(cadena)\n",
    "print(lista)\n",
    "lista.sort()\n",
    "print(lista)"
   ]
  },
  {
   "cell_type": "code",
   "execution_count": 80,
   "id": "d56284a3-a4cb-4eac-967c-845c12806835",
   "metadata": {},
   "outputs": [
    {
     "name": "stdout",
     "output_type": "stream",
     "text": [
      "['h', 'o', 'l', 'a', ' ', 'm', 'u', 'n', 'd', 'o', '!']\n",
      "['h', 'o', 'l', 'a', ' ', 'm', 'u']\n"
     ]
    }
   ],
   "source": [
    "lista = list(cadena)\n",
    "otralista = lista\n",
    "print(lista)\n",
    "otralista.pop()\n",
    "otralista.pop()\n",
    "otralista.pop()\n",
    "otralista.pop()\n",
    "print(lista)"
   ]
  },
  {
   "cell_type": "code",
   "execution_count": null,
   "id": "723b4d8c-2c07-422a-b8a0-cc08af6334f1",
   "metadata": {},
   "outputs": [],
   "source": [
    "lista = list(cadena)\n",
    "otralista = lista.copy()\n",
    "print(lista)\n",
    "otralista.pop()\n",
    "otralista.pop()\n",
    "otralista.pop()\n",
    "otralista.pop()\n",
    "print(lista)"
   ]
  },
  {
   "cell_type": "code",
   "execution_count": null,
   "id": "be00e89d-d119-46a4-ad13-807c69da53be",
   "metadata": {},
   "outputs": [],
   "source": []
  },
  {
   "cell_type": "markdown",
   "id": "6b4ebc20-3874-468e-ae0c-30e0075cc408",
   "metadata": {},
   "source": [
    "# Listas por comprensión"
   ]
  },
  {
   "cell_type": "code",
   "execution_count": null,
   "id": "6e560c58-ffea-4575-8ad5-87ef2a5d66d3",
   "metadata": {},
   "outputs": [],
   "source": [
    "lista = [1, 2, 'pepe']\n",
    "lista = []\n",
    "lista.append('primer elemento')\n",
    "lista = list(range(10))"
   ]
  },
  {
   "cell_type": "code",
   "execution_count": 84,
   "id": "ad57c783-2b63-4cf2-af0f-71a2e224e9ba",
   "metadata": {},
   "outputs": [
    {
     "name": "stdout",
     "output_type": "stream",
     "text": [
      "[4, 7, 10, 13, 16, 19, 22, 25, 28, 31]\n"
     ]
    }
   ],
   "source": [
    "lista = [3*i + 4 for i in range(10)]\n",
    "print(lista)"
   ]
  },
  {
   "cell_type": "code",
   "execution_count": 86,
   "id": "a1b5d33b-c723-4d32-95ba-ca95f31632b7",
   "metadata": {},
   "outputs": [
    {
     "name": "stdout",
     "output_type": "stream",
     "text": [
      "['h', 'o', 'l', 'a', ' ', 'm', 'u', 'n', 'd', 'o', '!']\n"
     ]
    }
   ],
   "source": [
    "lista = [i for i in cadena]  # exactamente lo mismo que list(cadena)\n",
    "print(lista)"
   ]
  },
  {
   "cell_type": "code",
   "execution_count": null,
   "id": "166b0cc0-3245-4560-9344-9de8dbdf6fd8",
   "metadata": {},
   "outputs": [],
   "source": []
  },
  {
   "cell_type": "code",
   "execution_count": null,
   "id": "d29b130e-7672-4755-bed0-5da6d02cf5be",
   "metadata": {},
   "outputs": [],
   "source": []
  },
  {
   "cell_type": "code",
   "execution_count": null,
   "id": "0a71cc67-8222-4038-ad2b-545197c0c3bc",
   "metadata": {},
   "outputs": [],
   "source": []
  },
  {
   "cell_type": "markdown",
   "id": "3cfc371a-7626-4a23-b5bf-b8458f35b043",
   "metadata": {},
   "source": [
    "## Contenedores\n",
    "En python los contenedores son un tipo de datos que contienen cosas\n",
    "Tipos de contenedores:\n",
    "\n",
    "- listas\n",
    "- cadena de caracteres\n",
    "- diccionarios\n",
    "- tuplas\n",
    "- conjuntos\n",
    "\n",
    "Todos estos contenedores son iterables!\n",
    "\n",
    "```python\n",
    "for i in contenedor:\n",
    "    print(i)\n",
    "```\n",
    "\n",
    "casi todos estos contenedores están indexados"
   ]
  },
  {
   "cell_type": "code",
   "execution_count": 87,
   "id": "475bf463-32d1-4d1b-9e7a-5ebdc7aec204",
   "metadata": {},
   "outputs": [
    {
     "name": "stdout",
     "output_type": "stream",
     "text": [
      "(1, 2, 3)\n"
     ]
    }
   ],
   "source": [
    "# ejemplo de tuplas\n",
    "primera_tupla = (1, 2, 3)\n",
    "print(primera_tupla)"
   ]
  },
  {
   "cell_type": "code",
   "execution_count": 88,
   "id": "229e21e3-c0f7-4b42-b36d-d481b5e7d3b9",
   "metadata": {},
   "outputs": [
    {
     "data": {
      "text/plain": [
       "tuple"
      ]
     },
     "execution_count": 88,
     "metadata": {},
     "output_type": "execute_result"
    }
   ],
   "source": [
    "type(primera_tupla)"
   ]
  },
  {
   "cell_type": "code",
   "execution_count": 90,
   "id": "49ed64f4-0170-4b36-b88b-2887af4cd043",
   "metadata": {},
   "outputs": [
    {
     "ename": "TypeError",
     "evalue": "'tuple' object does not support item assignment",
     "output_type": "error",
     "traceback": [
      "\u001b[0;31m---------------------------------------------------------------------------\u001b[0m",
      "\u001b[0;31mTypeError\u001b[0m                                 Traceback (most recent call last)",
      "Cell \u001b[0;32mIn[90], line 1\u001b[0m\n\u001b[0;32m----> 1\u001b[0m \u001b[43mprimera_tupla\u001b[49m\u001b[43m[\u001b[49m\u001b[38;5;241;43m0\u001b[39;49m\u001b[43m]\u001b[49m \u001b[38;5;241m=\u001b[39m \u001b[38;5;241m2\u001b[39m\n",
      "\u001b[0;31mTypeError\u001b[0m: 'tuple' object does not support item assignment"
     ]
    }
   ],
   "source": [
    "primera_tupla[0] = 2"
   ]
  },
  {
   "cell_type": "code",
   "execution_count": 91,
   "id": "f77bc65f-1054-431a-bd7f-557e16e8e68e",
   "metadata": {
    "scrolled": true
   },
   "outputs": [
    {
     "ename": "TypeError",
     "evalue": "'str' object does not support item assignment",
     "output_type": "error",
     "traceback": [
      "\u001b[0;31m---------------------------------------------------------------------------\u001b[0m",
      "\u001b[0;31mTypeError\u001b[0m                                 Traceback (most recent call last)",
      "Cell \u001b[0;32mIn[91], line 1\u001b[0m\n\u001b[0;32m----> 1\u001b[0m \u001b[43mcadena\u001b[49m\u001b[43m[\u001b[49m\u001b[38;5;241;43m0\u001b[39;49m\u001b[43m]\u001b[49m \u001b[38;5;241m=\u001b[39m \u001b[38;5;124m'\u001b[39m\u001b[38;5;124mj\u001b[39m\u001b[38;5;124m'\u001b[39m\n",
      "\u001b[0;31mTypeError\u001b[0m: 'str' object does not support item assignment"
     ]
    }
   ],
   "source": [
    "cadena[0] = 'j'"
   ]
  },
  {
   "cell_type": "code",
   "execution_count": null,
   "id": "be4b97f6-370c-441b-ae8d-91e942466865",
   "metadata": {},
   "outputs": [],
   "source": []
  }
 ],
 "metadata": {
  "kernelspec": {
   "display_name": "Python 3 (ipykernel)",
   "language": "python",
   "name": "python3"
  },
  "language_info": {
   "codemirror_mode": {
    "name": "ipython",
    "version": 3
   },
   "file_extension": ".py",
   "mimetype": "text/x-python",
   "name": "python",
   "nbconvert_exporter": "python",
   "pygments_lexer": "ipython3",
   "version": "3.12.3"
  }
 },
 "nbformat": 4,
 "nbformat_minor": 5
}
